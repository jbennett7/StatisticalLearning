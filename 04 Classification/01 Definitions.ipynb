{
 "cells": [
  {
   "cell_type": "markdown",
   "id": "c7593573-9a7f-4fcf-b302-155082d187cb",
   "metadata": {},
   "source": [
    "# Definitions"
   ]
  }
 ],
 "metadata": {
  "kernelspec": {
   "display_name": "R",
   "language": "R",
   "name": "ir"
  },
  "language_info": {
   "codemirror_mode": "r",
   "file_extension": ".r",
   "mimetype": "text/x-r-source",
   "name": "R",
   "pygments_lexer": "r",
   "version": "4.3.1"
  }
 },
 "nbformat": 4,
 "nbformat_minor": 5
}
