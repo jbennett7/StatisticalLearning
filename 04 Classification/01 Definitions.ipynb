{
 "cells": [
  {
   "cell_type": "markdown",
   "id": "c7593573-9a7f-4fcf-b302-155082d187cb",
   "metadata": {},
   "source": [
    "# Definitions"
   ]
  },
  {
   "cell_type": "markdown",
   "id": "e6a8f480-312a-446c-b332-b03715d6352c",
   "metadata": {},
   "source": [
    "- qualitative\n",
    "- categorical\n",
    "- classification\n",
    "- classifying\n",
    "- classifier\n",
    "- logistic regression\n",
    "- K-nearest neighbors\n",
    "- generalized linear models\n",
    "- binary\n",
    "- logistic function\n",
    "- maximum likelihood\n",
    "- odds\n",
    "- log odds\n",
    "- logit\n",
    "- likelihood function\n",
    "- confounding\n",
    "- multinomial logistic regression\n",
    "- prior\n",
    "- density function\n",
    "- Bayes' theorem\n",
    "- posterior\n",
    "- normal Gaussian\n",
    "- linear discriminant analysis\n",
    "- discriminant function\n",
    "- multivariate Gaussian\n",
    "- overfitting\n",
    "- null\n",
    "- confusion matrix\n",
    "- sensitivity specificity\n",
    "- ROC curve\n",
    "- area under the (ROC) curve\n",
    "- sensitivity specificity\n",
    "- quadratic discriminant analysis\n",
    "- naive Bayes\n",
    "- marginal distribution\n",
    "- joint distribution\n",
    "- kernel density estimator\n",
    "- t-distribution\n",
    "- counts\n",
    "- Poisson regression\n",
    "- Poisson distribution\n",
    "- overdispersion"
   ]
  }
 ],
 "metadata": {
  "kernelspec": {
   "display_name": "R",
   "language": "R",
   "name": "ir"
  },
  "language_info": {
   "codemirror_mode": "r",
   "file_extension": ".r",
   "mimetype": "text/x-r-source",
   "name": "R",
   "pygments_lexer": "r",
   "version": "4.3.2"
  }
 },
 "nbformat": 4,
 "nbformat_minor": 5
}
