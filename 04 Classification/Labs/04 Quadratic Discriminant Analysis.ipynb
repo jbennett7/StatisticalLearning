{
 "cells": [
  {
   "cell_type": "markdown",
   "id": "e852a637-110c-44ac-a5ac-13f86a71b481",
   "metadata": {},
   "source": [
    "# 4.7.4 Quadratic Discriminant Analysis"
   ]
  },
  {
   "cell_type": "markdown",
   "id": "7568db82-ae3b-47ea-8251-9946dbb2c741",
   "metadata": {},
   "source": [
    "We will now fit a QDA model to the `Smarket` data. QDA is implemented in `R` using the `qda()` function, which is also part of the `MASS` library. The syntax is identical to that of `lda()`."
   ]
  },
  {
   "cell_type": "code",
   "execution_count": 1,
   "id": "bf47a6aa-d8ec-40b7-8ab4-11130e8076a3",
   "metadata": {},
   "outputs": [
    {
     "name": "stderr",
     "output_type": "stream",
     "text": [
      "\n",
      "Attaching package: ‘MASS’\n",
      "\n",
      "\n",
      "The following object is masked from ‘package:ISLR2’:\n",
      "\n",
      "    Boston\n",
      "\n",
      "\n"
     ]
    }
   ],
   "source": [
    "library(ISLR2)\n",
    "library(MASS)\n",
    "attach(Smarket)\n",
    "train <- (Year < 2005)\n",
    "Smarket.2005 <- Smarket[!train,]\n",
    "Direction.2005 <- Direction[!train]"
   ]
  },
  {
   "cell_type": "code",
   "execution_count": 2,
   "id": "7827f7ad-1a48-47e3-9e20-f431d973d708",
   "metadata": {},
   "outputs": [
    {
     "data": {
      "text/plain": [
       "Call:\n",
       "qda(Direction ~ Lag1 + Lag2, data = Smarket, subset = train)\n",
       "\n",
       "Prior probabilities of groups:\n",
       "    Down       Up \n",
       "0.491984 0.508016 \n",
       "\n",
       "Group means:\n",
       "            Lag1        Lag2\n",
       "Down  0.04279022  0.03389409\n",
       "Up   -0.03954635 -0.03132544"
      ]
     },
     "metadata": {},
     "output_type": "display_data"
    }
   ],
   "source": [
    "qda.fit <- qda(Direction ~ Lag1 + Lag2, data = Smarket, subset = train)\n",
    "qda.fit"
   ]
  },
  {
   "cell_type": "markdown",
   "id": "cae547de-7573-4ade-958f-76c78e529d68",
   "metadata": {},
   "source": [
    "The output contains the group means. But it does not contain the coefficients of the linear discriminants, because the QDA classifier involves a quadratic, rather than a linear, function of the predictors. The `predict()` function works in exactly the same fashion as for LDA."
   ]
  },
  {
   "cell_type": "code",
   "execution_count": 3,
   "id": "f91556c0-6dec-40cd-a3bb-8a7080615d14",
   "metadata": {},
   "outputs": [
    {
     "data": {
      "text/plain": [
       "         Direction.2005\n",
       "qda.class Down  Up\n",
       "     Down   30  20\n",
       "     Up     81 121"
      ]
     },
     "metadata": {},
     "output_type": "display_data"
    }
   ],
   "source": [
    "qda.class <- predict(qda.fit, Smarket.2005)$class\n",
    "table(qda.class, Direction.2005)"
   ]
  },
  {
   "cell_type": "code",
   "execution_count": 4,
   "id": "44dc0120-7cc2-41d8-b61c-e032781ce69b",
   "metadata": {},
   "outputs": [
    {
     "data": {
      "text/html": [
       "0.599206349206349"
      ],
      "text/latex": [
       "0.599206349206349"
      ],
      "text/markdown": [
       "0.599206349206349"
      ],
      "text/plain": [
       "[1] 0.5992063"
      ]
     },
     "metadata": {},
     "output_type": "display_data"
    }
   ],
   "source": [
    "mean(qda.class == Direction.2005)"
   ]
  },
  {
   "cell_type": "markdown",
   "id": "16a224a0-d39c-466d-a05d-dbf6d0d0f053",
   "metadata": {},
   "source": [
    "Interestingly, the QDA predictors are accurate almost $60%$ of the time, even though the 2005 data was not used to fit the model. This level of accuracy is quite impressive for stock market data, which is known to be quite hard to model accurately. This suggests that the quadratic form assumed by QDA may capture the true relationship more accurately than the linear forms assumed by LDA and logistic regression. However, we recommend evaluating this method's performance on a larger test set before betting that this approach will consistently beat the market!"
   ]
  }
 ],
 "metadata": {
  "kernelspec": {
   "display_name": "R",
   "language": "R",
   "name": "ir"
  },
  "language_info": {
   "codemirror_mode": "r",
   "file_extension": ".r",
   "mimetype": "text/x-r-source",
   "name": "R",
   "pygments_lexer": "r",
   "version": "4.3.1"
  }
 },
 "nbformat": 4,
 "nbformat_minor": 5
}
