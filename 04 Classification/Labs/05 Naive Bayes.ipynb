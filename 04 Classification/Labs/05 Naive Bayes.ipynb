{
 "cells": [
  {
   "cell_type": "markdown",
   "id": "69713589-db6b-47a9-bbd4-dfe037b928e6",
   "metadata": {},
   "source": [
    "# 4.7.5 Naive Bayes"
   ]
  },
  {
   "cell_type": "markdown",
   "id": "479a279d-6923-4ea0-890d-669024cbe3e5",
   "metadata": {},
   "source": [
    "Next, we fit a naive Bayes model to the `Smarket` data. Naive Bayes is implemented in `R` using the `naiveBayes()` function, which is part of the `e1071` library. The syntax is identical to that of `lda()` and `qda()`. By default, this implementation of the naive Bayes classifier models each quantitative feature using a Gaussian distribution. However, a kernel density method can also be used to estimate the distributions."
   ]
  },
  {
   "cell_type": "code",
   "execution_count": 1,
   "id": "8f81f69b-0f61-444d-807c-6dfa81a718d5",
   "metadata": {},
   "outputs": [],
   "source": [
    "library(ISLR2)\n",
    "library(e1071)\n",
    "attach(Smarket)\n",
    "train <- (Year < 2005)\n",
    "Smarket.2005 <- Smarket[!train,]\n",
    "Direction.2005 <- Direction[!train]"
   ]
  },
  {
   "cell_type": "code",
   "execution_count": 2,
   "id": "f7f85cec-9e01-477d-bae5-96273506b977",
   "metadata": {},
   "outputs": [
    {
     "data": {
      "text/plain": [
       "\n",
       "Naive Bayes Classifier for Discrete Predictors\n",
       "\n",
       "Call:\n",
       "naiveBayes.default(x = X, y = Y, laplace = laplace)\n",
       "\n",
       "A-priori probabilities:\n",
       "Y\n",
       "    Down       Up \n",
       "0.491984 0.508016 \n",
       "\n",
       "Conditional probabilities:\n",
       "      Lag1\n",
       "Y             [,1]     [,2]\n",
       "  Down  0.04279022 1.227446\n",
       "  Up   -0.03954635 1.231668\n",
       "\n",
       "      Lag2\n",
       "Y             [,1]     [,2]\n",
       "  Down  0.03389409 1.239191\n",
       "  Up   -0.03132544 1.220765\n"
      ]
     },
     "metadata": {},
     "output_type": "display_data"
    }
   ],
   "source": [
    "nb.fit <- naiveBayes(Direction ~ Lag1 + Lag2, data = Smarket, subset = train)\n",
    "nb.fit"
   ]
  },
  {
   "cell_type": "markdown",
   "id": "3ef9983e-1f40-42ae-a9fd-555822a6b86f",
   "metadata": {},
   "source": [
    "The output contains the estimated mean and standard deviation for each variable in each class. For example, the mean for `Lag1` is $0.0428$ for `Direction=Down`, and the standard deviation is $1.23$. We can easily verify this:"
   ]
  },
  {
   "cell_type": "code",
   "execution_count": 3,
   "id": "f351f3db-9241-4418-b47f-365a27e0f90c",
   "metadata": {},
   "outputs": [
    {
     "data": {
      "text/html": [
       "0.0427902240325866"
      ],
      "text/latex": [
       "0.0427902240325866"
      ],
      "text/markdown": [
       "0.0427902240325866"
      ],
      "text/plain": [
       "[1] 0.04279022"
      ]
     },
     "metadata": {},
     "output_type": "display_data"
    }
   ],
   "source": [
    "mean(Lag1[train][Direction[train] == \"Down\"])"
   ]
  },
  {
   "cell_type": "code",
   "execution_count": 4,
   "id": "83fb3a9a-a64f-4f6e-af84-73629f9fe7d8",
   "metadata": {},
   "outputs": [
    {
     "data": {
      "text/html": [
       "1.22744562820108"
      ],
      "text/latex": [
       "1.22744562820108"
      ],
      "text/markdown": [
       "1.22744562820108"
      ],
      "text/plain": [
       "[1] 1.227446"
      ]
     },
     "metadata": {},
     "output_type": "display_data"
    }
   ],
   "source": [
    "sd(Lag1[train][Direction[train] == \"Down\"])"
   ]
  },
  {
   "cell_type": "markdown",
   "id": "af4281dd-7d26-45eb-bc35-eb3f1513c54b",
   "metadata": {},
   "source": [
    "The `predict()` function is straightforward."
   ]
  },
  {
   "cell_type": "code",
   "execution_count": 5,
   "id": "93faa182-3ce2-4972-bfa4-ee8c8d8450ab",
   "metadata": {},
   "outputs": [
    {
     "data": {
      "text/plain": [
       "        Direction.2005\n",
       "nb.class Down  Up\n",
       "    Down   28  20\n",
       "    Up     83 121"
      ]
     },
     "metadata": {},
     "output_type": "display_data"
    }
   ],
   "source": [
    "nb.class <- predict(nb.fit, Smarket.2005)\n",
    "table(nb.class, Direction.2005)"
   ]
  },
  {
   "cell_type": "code",
   "execution_count": 6,
   "id": "4c5e2cf0-1973-4de6-ac0f-3122605481b1",
   "metadata": {},
   "outputs": [
    {
     "data": {
      "text/html": [
       "0.591269841269841"
      ],
      "text/latex": [
       "0.591269841269841"
      ],
      "text/markdown": [
       "0.591269841269841"
      ],
      "text/plain": [
       "[1] 0.5912698"
      ]
     },
     "metadata": {},
     "output_type": "display_data"
    }
   ],
   "source": [
    "mean(nb.class == Direction.2005)"
   ]
  },
  {
   "cell_type": "markdown",
   "id": "973162f0-7bb8-4e49-adf9-6bc43368074d",
   "metadata": {},
   "source": [
    "Naive Bayes performs very well on this data, which accurate predictions over $59%$ of the time. This is slightly worse than QDA, but much better than LDA.  \n",
    "\n",
    "The `predict()` function can also generate estimates of the probability that each observation belongs to a particular class."
   ]
  },
  {
   "cell_type": "code",
   "execution_count": 7,
   "id": "7c9664b9-08b3-4828-a599-e19fb189b820",
   "metadata": {},
   "outputs": [
    {
     "data": {
      "text/html": [
       "<table class=\"dataframe\">\n",
       "<caption>A matrix: 5 × 2 of type dbl</caption>\n",
       "<thead>\n",
       "\t<tr><th scope=col>Down</th><th scope=col>Up</th></tr>\n",
       "</thead>\n",
       "<tbody>\n",
       "\t<tr><td>0.4873164</td><td>0.5126836</td></tr>\n",
       "\t<tr><td>0.4762492</td><td>0.5237508</td></tr>\n",
       "\t<tr><td>0.4653377</td><td>0.5346623</td></tr>\n",
       "\t<tr><td>0.4748652</td><td>0.5251348</td></tr>\n",
       "\t<tr><td>0.4901890</td><td>0.5098110</td></tr>\n",
       "</tbody>\n",
       "</table>\n"
      ],
      "text/latex": [
       "A matrix: 5 × 2 of type dbl\n",
       "\\begin{tabular}{ll}\n",
       " Down & Up\\\\\n",
       "\\hline\n",
       "\t 0.4873164 & 0.5126836\\\\\n",
       "\t 0.4762492 & 0.5237508\\\\\n",
       "\t 0.4653377 & 0.5346623\\\\\n",
       "\t 0.4748652 & 0.5251348\\\\\n",
       "\t 0.4901890 & 0.5098110\\\\\n",
       "\\end{tabular}\n"
      ],
      "text/markdown": [
       "\n",
       "A matrix: 5 × 2 of type dbl\n",
       "\n",
       "| Down | Up |\n",
       "|---|---|\n",
       "| 0.4873164 | 0.5126836 |\n",
       "| 0.4762492 | 0.5237508 |\n",
       "| 0.4653377 | 0.5346623 |\n",
       "| 0.4748652 | 0.5251348 |\n",
       "| 0.4901890 | 0.5098110 |\n",
       "\n"
      ],
      "text/plain": [
       "     Down      Up       \n",
       "[1,] 0.4873164 0.5126836\n",
       "[2,] 0.4762492 0.5237508\n",
       "[3,] 0.4653377 0.5346623\n",
       "[4,] 0.4748652 0.5251348\n",
       "[5,] 0.4901890 0.5098110"
      ]
     },
     "metadata": {},
     "output_type": "display_data"
    }
   ],
   "source": [
    "nb.preds <- predict(nb.fit, Smarket.2005, type = \"raw\")\n",
    "nb.preds[1:5,]"
   ]
  }
 ],
 "metadata": {
  "kernelspec": {
   "display_name": "R",
   "language": "R",
   "name": "ir"
  },
  "language_info": {
   "codemirror_mode": "r",
   "file_extension": ".r",
   "mimetype": "text/x-r-source",
   "name": "R",
   "pygments_lexer": "r",
   "version": "4.3.1"
  }
 },
 "nbformat": 4,
 "nbformat_minor": 5
}
