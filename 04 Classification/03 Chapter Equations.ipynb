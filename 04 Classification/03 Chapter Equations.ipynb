{
 "cells": [
  {
   "cell_type": "markdown",
   "id": "8a7eec58-6457-4b61-a3b4-4a741b7ee84f",
   "metadata": {},
   "source": [
    "<a id=eq4_1>\n",
    "\\begin{align}\\tag{4.1}\n",
    "p(X) = \\beta_0 + \\beta_1 X\n",
    "\\end{align}</a>"
   ]
  },
  {
   "cell_type": "markdown",
   "id": "5b9fe30c-e24a-4dcf-8109-c3e535e3d487",
   "metadata": {},
   "source": [
    "<a id=eq4_2>\n",
    "\\begin{align}\\tag{4.2}\n",
    "p(X) = \\frac{e^{\\beta_0 + \\beta_1 X}}{1 + e^{\\beta_0 + \\beta_1 X}}\n",
    "\\end{align}</a>"
   ]
  },
  {
   "cell_type": "markdown",
   "id": "ba8ef304-d420-4905-91e6-7027d1f628f5",
   "metadata": {},
   "source": [
    "<a id=eq4_3>\n",
    "\\begin{align}\\tag{4.3}\n",
    "\\frac{p(X)}{1 - p(X)} = e^{\\beta_0 + \\beta_1 X}\n",
    "\\end{align}</a>"
   ]
  },
  {
   "cell_type": "markdown",
   "id": "103d9bba-4fc2-4ba8-8a64-499cea56a6dc",
   "metadata": {},
   "source": [
    "<a id=eq4_4>\n",
    "\\begin{align}\\tag{4.4}\n",
    "\\log \\left(\\frac{p(X)}{1 - p(X)}\\right) = \\beta_0 + \\beta_1 X\n",
    "\\end{align}</a>"
   ]
  },
  {
   "cell_type": "markdown",
   "id": "08566e16-e0f2-4e44-831a-b3ff8e6d38ab",
   "metadata": {},
   "source": [
    "<a id=eq4_5>\n",
    "\\begin{align}\\tag{4.5}\n",
    "\\ell (\\beta_0, \\beta_1) = \\Pi_{i:y_i=1}(1 - p(X_i)) \\Pi_{i':y_{i'=0}}(1-p(x_{i'}))\n",
    "\\end{align}</a>"
   ]
  },
  {
   "cell_type": "markdown",
   "id": "3d432c73-a303-4c1d-a7c0-f00db90540b5",
   "metadata": {},
   "source": [
    "<a id=eq4_6>\n",
    "\\begin{align}\\tag{4.6}\n",
    "\\log{\\left(\\frac{p(X)}{1 - p(X)}\\right)} = \\beta_0 + \\beta_1 X_1 + \\cdots + \\beta_p X_p\n",
    "\\end{align}</a>"
   ]
  },
  {
   "cell_type": "markdown",
   "id": "7191cec5-809a-4504-99f8-3657fc906cfc",
   "metadata": {},
   "source": [
    "<a id=eq4_7>\n",
    "\\begin{align}\\tag{4.7}\n",
    "p(X) = \\frac{e^{\\beta_0 + \\beta_1 X_1 + \\cdots + \\beta_p X_p}}{1 + e^{\\beta_0 + \\beta_1 X_1 + \\cdots + \\beta_p X_p}}\n",
    "\\end{align}</a>"
   ]
  },
  {
   "cell_type": "markdown",
   "id": "363ab815-ec58-471b-b32a-0a24eded9d07",
   "metadata": {},
   "source": [
    "<a id=eq4.10>\n",
    "\\begin{align}\\tag{4.10}\n",
    "\\text{Pr}(Y = k|X = x) = \\frac{ e^{\\beta_{k0} + \\beta_{k1} x_{1} + \\cdots + \\beta_{kp} x_{p}}}\n",
    "                              { 1 + \\sum^{K-1}_{l=1} e^{\\beta_{l0} + \\beta_{l1} x_{1} + \\cdots + \\beta_{lp} x_p}}\n",
    "\\end{align}</a>"
   ]
  },
  {
   "cell_type": "markdown",
   "id": "e6ceea82-1c7f-46b6-89c7-f55bd8025723",
   "metadata": {},
   "source": [
    "<a id=eq4_11>\n",
    "\\begin{align}\\tag{4.11}\n",
    "\\text{Pr}(Y = K|X = x) = \\frac{1}{1 + \\sum^{K-1}_{l=1}e^{\\beta_{l0} + \\beta_{l1} x_1 + \\cdots + \\beta_{lp} x_p}}\n",
    "\\end{align}</a>"
   ]
  },
  {
   "cell_type": "markdown",
   "id": "46b9cdee-dba0-459a-8f48-3f2da23a8320",
   "metadata": {},
   "source": [
    "<a id=eq4_12>\n",
    "\\begin{align}\\tag{4.12}\n",
    "\\log{\\left( \\frac{\\text{Pr}(Y = k|X=x)}{\\text{Pr}(Y = K|X = x)}\\right)} = \\beta_{k0} + \\beta_{k1} x_1 + \\cdots + \\beta_{kp} x_p\n",
    "\\end{align}</a>"
   ]
  },
  {
   "cell_type": "markdown",
   "id": "f9746668-af86-4f09-9731-e78bcfca6ea4",
   "metadata": {},
   "source": [
    "<a id=eq4_13>\n",
    "\\begin{align}\\tag{4.13}\n",
    "\\text{Pr}(Y = k|X = x) = \\frac{e^{\\beta_{k0} + \\beta_{k1} x_1 + \\cdots + \\beta_{kp} x_p}}{\\sum^K_{l=1}e^{\\beta_{l0} + \\beta_{l1} x_1 + \\cdots + \\beta_{lp} x_p}}\n",
    "\\end{align}</a>"
   ]
  },
  {
   "cell_type": "markdown",
   "id": "9547731e-12fb-42b9-b53c-ee7bc8ef7ec4",
   "metadata": {},
   "source": [
    "<a id=eq4_14>\n",
    "\\begin{align}\\tag{4.14}\n",
    "\\log{\\left( \\frac{ \\text{Pr}(Y = k|X = x) }{ \\text{Pr}(Y = k'|X = x) } \\right)} = \n",
    "    (\\beta_{k0} - \\beta_{k'0}) + (\\beta_{k1} - \\beta_{k'1})x_1 + \\cdots + (\\beta_{kp} - \\beta_{k'p})x_p\n",
    "\\end{align}</a>"
   ]
  },
  {
   "cell_type": "markdown",
   "id": "f1a9f354-9a74-497e-87ca-d419acb54ae7",
   "metadata": {},
   "source": [
    "<a id=eq4_15>\n",
    "\\begin{align}\\tag{4.15}\n",
    "\\text{Pr}(Y = k| X = x) = \\frac{ \\pi_k f_k(x) }{ \\sum^K_{l=1} \\pi_l f_l(x) }\n",
    "\\end{align}</a>"
   ]
  },
  {
   "cell_type": "markdown",
   "id": "f11ef61c-340f-4398-9c87-4887fd726e86",
   "metadata": {},
   "source": [
    "<a id=eq4_16>\n",
    "\\begin{align}\\tag{4.16}\n",
    "f_k(x) = \\frac{1}{\\sqrt{2\\pi}\\sigma_k}\\text{exp}\\left(-\\frac{1}{2\\sigma^2_k}(x - \\mu_k)^2\\right)\n",
    "\\end{align}</a>"
   ]
  },
  {
   "cell_type": "markdown",
   "id": "14727e87-f0bf-4641-9e3d-5d83bbaec2ff",
   "metadata": {},
   "source": [
    "<a id=eq4_17>\n",
    "\\begin{align}\\tag{4.17}\n",
    "p_k(x) = \\frac{\\pi_k\\frac{1}{\\sqrt{ 2\\pi }\\sigma}\\text{exp}\\left( -\\frac{1}{2\\sigma^2}(x - \\mu_k)^2  \\right) }\n",
    "              { \\sum^K_{l=1}\\pi_l \\frac{1}{\\sqrt{2\\pi}\\sigma}\\text{exp}\\left( - \\frac{1}{2\\sigma^2}(x - \\mu_k)^2  \\right) }\n",
    "\\end{align}</a>"
   ]
  },
  {
   "cell_type": "markdown",
   "id": "7cb829e3-0da8-4574-bef6-7203d2b37cef",
   "metadata": {},
   "source": [
    "<a id=eq4_18>\n",
    "\\begin{align}\\tag{4.18}\n",
    "\\delta_k(x) = x \\cdot \\frac{ \\mu_k } { \\sigma^2 } - \\frac{ \\mu^2_k }{ 2\\sigma^2 } + \\log(\\pi_k)\n",
    "\\end{align}</a>"
   ]
  },
  {
   "cell_type": "markdown",
   "id": "39fe0989-171e-4c20-8106-304479fa68c2",
   "metadata": {},
   "source": [
    "<a id=eq4_19>\n",
    "\\begin{align}\\tag{4.19}\n",
    "x = \\frac{ \\mu^2_1 - \\mu^2_2 } { 2(\\mu_1 - \\mu_2)  } = \\frac{ \\mu_1 + \\mu_2 } { 2 }\n",
    "\\end{align}</a>"
   ]
  },
  {
   "cell_type": "markdown",
   "id": "1977ba2e-c3f8-4056-b028-1fccb5a08816",
   "metadata": {},
   "source": [
    "<a id=eq4_20>\n",
    "\\begin{align}\\tag{4.20}\n",
    "    \\hat{\\mu_k}    &= \\frac{1} {n_k} \\sigma_{i:y_i=k}x_i \\\\\n",
    "    \\hat{\\sigma}^2 &= \\frac{1}{n - K}\\sum^K_{k=1}\\sum_{i:y_i=k}(x_i - \\hat{\\mu}_k)^2\n",
    "\\end{align}</a>"
   ]
  },
  {
   "cell_type": "markdown",
   "id": "c641f2d0-ed48-48c5-a839-15f2a3e487b7",
   "metadata": {},
   "source": [
    "<a id=eq4_21>\n",
    "\\begin{align}\\tag{4.21}\n",
    "\\hat{\\pi}_k = n_k / n\n",
    "\\end{align}</a>"
   ]
  },
  {
   "cell_type": "markdown",
   "id": "c365acb0-fd8f-495c-98dd-c134654f2c1a",
   "metadata": {},
   "source": [
    "<a id=eq4_22>\n",
    "\\begin{align}\\tag{4.22}\n",
    "\\hat{\\delta}_k(x) = x \\cdot \\frac{ \\hat{\\mu}_k } { \\hat{\\sigma}^2 } - \\frac{ \\hat{\\mu}^2_k } { 2\\hat{\\sigma}^2 } + \\log(\\hat{\\pi}_k)\n",
    "\\end{align}</a>"
   ]
  },
  {
   "cell_type": "markdown",
   "id": "425003e4-9032-4140-b11b-65be6b028698",
   "metadata": {},
   "source": [
    "<a id=eq4_23>\n",
    "\\begin{align}\\tag{4.23}\n",
    "    f(x) = \\frac{1}{ (2\\pi)^{p/2}|\\sum|^{1/2} }\\text{exp}\\left( - \\frac{1}{2}(x - \\mu)^T\\sum^{-1}(x - \\mu)  \\right)\n",
    "\\end{align}</a>"
   ]
  },
  {
   "cell_type": "markdown",
   "id": "9b00ee8c-dfc8-43ba-a79f-22610328c07f",
   "metadata": {},
   "source": [
    "<a id=eq4_24>\n",
    "\\begin{align}\\tag{4.24}\n",
    "    \\delta_k(x) = x^T\\sum^{-1}\\mu_k - \\frac{1}{2}\\mu^T_k\\sum^{-1}\\mu_k + \\log \\pi_k\n",
    "\\end{align}</a>"
   ]
  },
  {
   "cell_type": "markdown",
   "id": "ac7a7b53-ee9b-4fe0-a4ea-7c65973648e0",
   "metadata": {},
   "source": [
    "<a id=eq4_25>\n",
    "\\begin{align}\\tag{4.25}\n",
    "    x^T\\sum^{-1}\\mu_k - \\frac{1}{2}\\mu^T_k\\sum^{-1}\\mu_k = x^T\\sum^{-1}\\mu_k - \\frac{1}{2}\\mu^T_l\\sum^{-1}\\mu_l\n",
    "\\end{align}"
   ]
  },
  {
   "cell_type": "markdown",
   "id": "a07e944f-68c9-4486-bd92-c62bcd9c8390",
   "metadata": {},
   "source": [
    "<a id=eq4_28>\n",
    "\\begin{align}\\tag{4.28}\n",
    "    \\delta_k(x) &= -\\frac{1}{2}(x - \\mu_k)^T\\sigma^{-1}_k(x - \\mu_k) - \\frac{1}{2}\\log|\\sigma_k| + \\log \\pi_k \\\\\n",
    "                &= -\\frac{1}{2}x^T\\sigma^{-1}_k x + x^T \\sigma^{-1}_k \\mu_k - \\frac{1}{2} \\mu^T_k \\sigma^{-1}_k \\mu_k - \\frac{1}{2} \\log|\\sigma_k| + k \\log \\pi_k\n",
    "\\end{align}</a>"
   ]
  },
  {
   "cell_type": "markdown",
   "id": "bbc2ee06-62a3-4541-9c57-44a3bcb3149f",
   "metadata": {},
   "source": [
    "<a id=eq4_29>\n",
    "\\begin{align}\\tag{4.29}\n",
    "    f_k(x) = f_{k1}(x_1) \\times f_{k2}(x_2) \\times \\cdots \\times f_{kp}(x_p)\n",
    "\\end{align}</a>"
   ]
  },
  {
   "cell_type": "markdown",
   "id": "115d3bbe-33bf-4bd6-a160-2df7446b0b89",
   "metadata": {},
   "source": [
    "<a id=eq4_30>\n",
    "\\begin{align}\\tag{4.30}\n",
    "    \\text{Pr}(Y = k|X = x) = \\frac{ \\pi_k \\times f_{k1}(x_1) \\times f_{k2} (x_2) \\times \\cdots \\times f_{kp}(x_p) }\n",
    "                                {\\sum^K_{l=1} \\pi_l \\times f_{l1}(x_1) \\times f_{l2}(x_2) \\times \\cdots \\times f_{lp}(xp) }\n",
    "\\end{align}</a>"
   ]
  },
  {
   "cell_type": "markdown",
   "id": "14d3a9ac-36ba-42d1-a63d-44d03b45a773",
   "metadata": {},
   "source": [
    "<a id=eq4_31>\n",
    "\\begin{align}\\tag{4.31}\n",
    "    \\log\\left(\\frac{\\text{Pr}(Y = k|X = x)}{\\text{Pr}(Y = K|X = x)}\\right)\n",
    "\\end{align}</a>"
   ]
  },
  {
   "cell_type": "markdown",
   "id": "227c4568-7311-4c7b-a099-87fc22a9a860",
   "metadata": {},
   "source": [
    "<a id=eq4_32>\n",
    "\\begin{align}\\tag{4.32}\n",
    "    \\log\\left(\\frac{\\text{Pr}(Y = k|X = x)}{\\text{Pr}(Y = K|X = x)}\\right) &= \\log\\left(\\frac{ \\pi_kf_k(x) } { \\pi_Kf_K(x) }   \\right) \\\\\n",
    "    &= \\log\\left( \\frac{\\pi_k \\text{exp}\\left(-\\frac{1}{2}(x - \\mu_k)^T \\sum^{-1}(x - \\mu_k)\\right) }\n",
    "                       { \\pi_K \\text{exp}\\left(-\\frac{1}{2}(x - \\mu_K)^T \\sum^{-1}(x - \\mu_K)\\right) }   \\right) \\\\\n",
    "    &= \\log\\left(\\frac{\\pi_k}{\\pi_K}\\right) - \\frac{1}{2}(x - \\mu_k)^T \\sum^{-1}(x - \\mu_k) \\\\ \n",
    "    & \\ \\ \\ \\ \\ + \\frac{1}{2}(x - \\mu_K)^T \\sum^{-1}(x - \\mu_K) \\\\\n",
    "    &= \\log\\left(\\frac{\\pi_k}{\\pi_K}\\right) - \\frac{1}{2}(\\mu_k + \\mu_K)^T \\sum^{-1}(\\mu_k - \\mu_K) \\\\  \n",
    "    & \\ \\ \\ \\ \\ + x^T \\sum^{-1} (\\mu_k - \\mu_K) \\\\\n",
    "    &= a_k + \\sum^p_{j=1}b_{kj}x_j\n",
    "\\end{align}</a>"
   ]
  },
  {
   "cell_type": "markdown",
   "id": "79e52c09-b38c-484a-90a4-a4b92690b698",
   "metadata": {},
   "source": [
    "<a id=eq4_33>\n",
    "\\begin{align}\\tag{4.33}\n",
    "    \\log\\left(\\frac{\\text{Pr}(Y = k|X = x)}{\\text{Pr}(Y = K|X = x)}\\right) &= \\log\\left(\\frac{ \\pi_kf_k(x) }{ \\pi_Kf_K(x) }\\right) \\\\\n",
    "    &= \\log\\left(\\frac{ \\pi_k \\Pi^p_{j=1}f_{kj}(x_j) }{ \\pi_K \\Pi^p_{j=1} f_{Kj}(x_j) }\\right) \\\\\n",
    "    &= \\log\\left(\\frac{ \\pi_k }{ \\pi_K }\\right) + \\sum^p_{j=1}\\log\\left(\\frac{f_{kj}(x_j)}{f_{Kj}(x_j)}\\right) \\\\\n",
    "    &= a_k + \\sum^p_{j=1}g_{kj}(x_j)\n",
    "\\end{align}</a>"
   ]
  }
 ],
 "metadata": {
  "kernelspec": {
   "display_name": "R",
   "language": "R",
   "name": "ir"
  },
  "language_info": {
   "codemirror_mode": "r",
   "file_extension": ".r",
   "mimetype": "text/x-r-source",
   "name": "R",
   "pygments_lexer": "r",
   "version": "4.3.1"
  }
 },
 "nbformat": 4,
 "nbformat_minor": 5
}
