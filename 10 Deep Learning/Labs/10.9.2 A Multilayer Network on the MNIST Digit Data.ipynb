{
 "cells": [
  {
   "cell_type": "markdown",
   "id": "0b420f03-35c7-4b51-839d-e7757348eedf",
   "metadata": {},
   "source": [
    "# 10.9.2 A Multilayer Network on the MNIST Digit Data"
   ]
  },
  {
   "cell_type": "code",
   "execution_count": 1,
   "id": "7df0bf62-2fbc-4f9f-a17f-79ced558906e",
   "metadata": {},
   "outputs": [
    {
     "name": "stderr",
     "output_type": "stream",
     "text": [
      "Loading required package: Matrix\n",
      "\n",
      "Loaded glmnet 4.1-8\n",
      "\n"
     ]
    }
   ],
   "source": [
    "library(glmnet)\n",
    "library(keras)"
   ]
  },
  {
   "cell_type": "markdown",
   "id": "9046169c-aafe-46d5-8374-0ff2ba400f13",
   "metadata": {},
   "source": [
    "The `keras` package comes with a number of example datasets, including the `MNIST` digit data. Our first step is to load the `MNIST` data. The `dataset_mnist()` function is provided for this purpose."
   ]
  },
  {
   "cell_type": "code",
   "execution_count": 2,
   "id": "318fe206-3753-4bd8-8141-f98eef936497",
   "metadata": {},
   "outputs": [
    {
     "data": {
      "text/html": [
       "<style>\n",
       ".list-inline {list-style: none; margin:0; padding: 0}\n",
       ".list-inline>li {display: inline-block}\n",
       ".list-inline>li:not(:last-child)::after {content: \"\\00b7\"; padding: 0 .5ex}\n",
       "</style>\n",
       "<ol class=list-inline><li>60000</li><li>28</li><li>28</li></ol>\n"
      ],
      "text/latex": [
       "\\begin{enumerate*}\n",
       "\\item 60000\n",
       "\\item 28\n",
       "\\item 28\n",
       "\\end{enumerate*}\n"
      ],
      "text/markdown": [
       "1. 60000\n",
       "2. 28\n",
       "3. 28\n",
       "\n",
       "\n"
      ],
      "text/plain": [
       "[1] 60000    28    28"
      ]
     },
     "metadata": {},
     "output_type": "display_data"
    },
    {
     "data": {
      "text/html": [
       "<style>\n",
       ".list-inline {list-style: none; margin:0; padding: 0}\n",
       ".list-inline>li {display: inline-block}\n",
       ".list-inline>li:not(:last-child)::after {content: \"\\00b7\"; padding: 0 .5ex}\n",
       "</style>\n",
       "<ol class=list-inline><li>10000</li><li>28</li><li>28</li></ol>\n"
      ],
      "text/latex": [
       "\\begin{enumerate*}\n",
       "\\item 10000\n",
       "\\item 28\n",
       "\\item 28\n",
       "\\end{enumerate*}\n"
      ],
      "text/markdown": [
       "1. 10000\n",
       "2. 28\n",
       "3. 28\n",
       "\n",
       "\n"
      ],
      "text/plain": [
       "[1] 10000    28    28"
      ]
     },
     "metadata": {},
     "output_type": "display_data"
    }
   ],
   "source": [
    "mnist <- dataset_mnist()\n",
    "x_train <- mnist$train$x\n",
    "g_train <- mnist$train$y\n",
    "x_test <- mnist$test$x\n",
    "g_test <- mnist$test$y\n",
    "dim(x_train)\n",
    "dim(x_test)"
   ]
  },
  {
   "cell_type": "markdown",
   "id": "e7c470d2-4399-4286-bb4a-881337c1574d",
   "metadata": {},
   "source": [
    "There are $60,000$ images in the training data and $10,000$ in the test data. The images are $28\\times28$, and stored as a three-dimensional array, so we need to reshape them into a matrix. Also, we need to \"one-hot\" encode the class label. Luckily `keras` has a lot of built-in functions that do this for us."
   ]
  },
  {
   "cell_type": "code",
   "execution_count": 3,
   "id": "2dd506b6-966f-4615-a13b-44b1e60c0feb",
   "metadata": {},
   "outputs": [],
   "source": [
    "x_train <- array_reshape(x_train, c(nrow(x_train), 784))\n",
    "x_test <- array_reshape(x_test, c(nrow(x_test), 784))\n",
    "y_train <- to_categorical(g_train, 10)\n",
    "y_test <- to_categorical(g_test, 10)"
   ]
  },
  {
   "cell_type": "markdown",
   "id": "a27a8e73-47e5-489f-abec-0b2a2e569a19",
   "metadata": {},
   "source": [
    "Neural networks are somewhat sensitive to the scale of the inputs. For example, rige and lasso regularization are affected by scaling. Here the inputs are eight-bit grayscale values between $0$ and $255$, so we rescale to the unit interval."
   ]
  },
  {
   "cell_type": "code",
   "execution_count": 4,
   "id": "5d05a6db-5067-4626-8491-1cb85eafd5ad",
   "metadata": {},
   "outputs": [],
   "source": [
    "x_train <- x_train / 255\n",
    "y_test <- x_test / 255"
   ]
  },
  {
   "cell_type": "markdown",
   "id": "dbd7763b-5ca6-41b2-8fa9-b587823da322",
   "metadata": {},
   "source": [
    "Now we are ready to fit our neural network."
   ]
  },
  {
   "cell_type": "code",
   "execution_count": 5,
   "id": "ad87f3c2-984b-4ed4-baa4-13774b774225",
   "metadata": {},
   "outputs": [],
   "source": [
    "modelnn <- keras_model_sequential()\n",
    "modelnn %>%\n",
    "    layer_dense(units = 256, activation = \"relu\",\n",
    "                input_shape = c(784)) %>%\n",
    "    layer_dropout(rate = 0.4) %>%\n",
    "    layer_dense(units = 128, activation = \"relu\") %>%\n",
    "    layer_dropout(rate = 0.3) %>%\n",
    "    layer_dense(units = 10, activation = \"softmax\")"
   ]
  },
  {
   "cell_type": "markdown",
   "id": "a4a793ec-67d4-4474-b28f-14d7a7dbc514",
   "metadata": {},
   "source": [
    "The first layer goes from $28\\times28 = 784$ input units to a hidden layer of $256$ units, which uses the ReLU activation function. This is specified by a call to `layer_dense()`, which takes as input a `modelnn` object, and returns a modified `modelnn` object. This is then piped through `layer_dropout()` to perform dropout regularization. The second hidden layer comes next, with $128$ hidden units, followed by a dropout layer. The final layer is the output layer, with activation `\"softmax\"` (10.13) for the $10$-class classification problem, which defines the map from the second hidden layer to class probabilities. FInally, we use `summary()` to summarize the model, and to make sure we got it all right."
   ]
  },
  {
   "cell_type": "code",
   "execution_count": 6,
   "id": "e82c9efd-78cb-4c4e-b515-5232d7380813",
   "metadata": {},
   "outputs": [
    {
     "name": "stdout",
     "output_type": "stream",
     "text": [
      "Model: \"sequential\"\n",
      "________________________________________________________________________________\n",
      " Layer (type)                       Output Shape                    Param #     \n",
      "================================================================================\n",
      " dense_2 (Dense)                    (None, 256)                     200960      \n",
      " dropout_1 (Dropout)                (None, 256)                     0           \n",
      " dense_1 (Dense)                    (None, 128)                     32896       \n",
      " dropout (Dropout)                  (None, 128)                     0           \n",
      " dense (Dense)                      (None, 10)                      1290        \n",
      "================================================================================\n",
      "Total params: 235146 (918.54 KB)\n",
      "Trainable params: 235146 (918.54 KB)\n",
      "Non-trainable params: 0 (0.00 Byte)\n",
      "________________________________________________________________________________\n"
     ]
    }
   ],
   "source": [
    "summary(modelnn)"
   ]
  },
  {
   "cell_type": "markdown",
   "id": "cd47424b-458a-4fe9-b58d-43b002700916",
   "metadata": {},
   "source": [
    "The parameters for each layer include a bias term, which results in a parameter count of $235,146$. For example, the first hidden layer involves $(784 + 1) \\times 256 = 200,960$ parameters."
   ]
  },
  {
   "cell_type": "markdown",
   "id": "047e73aa-f243-4f72-9733-1d575f7889b3",
   "metadata": {},
   "source": [
    "Notice that the layer names such as `dropout_1` and `dense_2` have subscripts. These may appear somewhat random; in fact, if you fit the same model again, these will change. They are of no consequence: they vary because the model specification code is run in `python`, and these subscripts are incremented every time `keras_model_sequential()` is called."
   ]
  },
  {
   "cell_type": "markdown",
   "id": "5ed72708-95f2-4a58-896d-577910cc1c16",
   "metadata": {},
   "source": [
    "Next, we add details to the model to specify the fitting algorithm. We fit the model by minimizing the cross-entropy function given by (10.14)."
   ]
  },
  {
   "cell_type": "code",
   "execution_count": 7,
   "id": "081c8035-d621-4727-a80c-c92b8627ca7a",
   "metadata": {},
   "outputs": [],
   "source": [
    "modelnn %>% compile(loss = \"categorical_crossentropy\",\n",
    "                    optimizer = optimizer_rmsprop(), metrics = c(\"accuracy\")\n",
    ")"
   ]
  },
  {
   "cell_type": "markdown",
   "id": "25b1e11b-701e-4bb9-91a2-05ef56cb5dbd",
   "metadata": {},
   "source": [
    "Now we are ready to go. The final step is to supply training data, and fit the model."
   ]
  },
  {
   "cell_type": "code",
   "execution_count": 8,
   "id": "0d4e31a4-1a44-4c13-9fc7-ab923138fb0e",
   "metadata": {},
   "outputs": [
    {
     "data": {
      "text/plain": [
       "   user  system elapsed \n",
       "158.938  23.398  40.115 "
      ]
     },
     "metadata": {},
     "output_type": "display_data"
    },
    {
     "data": {
      "image/png": "[encoded data removed]",
      "text/plain": [
       "plot without title"
      ]
     },
     "metadata": {
      "image/png": {
       "height": 420,
       "width": 420
      }
     },
     "output_type": "display_data"
    }
   ],
   "source": [
    "system.time(\n",
    "    history <- modelnn %>%\n",
    "        fit(x_train, y_train, epochs = 30, batch_size = 128, validation_split = 0.2))\n",
    "plot(history, smooth = FALSE)"
   ]
  },
  {
   "cell_type": "markdown",
   "id": "d9a4dc76-c183-4ea8-a69d-8f31830d962a",
   "metadata": {},
   "source": [
    "We suppressed the output here, which is a progress report on the fitting of the model, grouped by epoch. This is very useful, since on large datasets fitting can take time. Fitting this model took 144 seconds on a 2.9 GHz MacBook Pro with 4 cores and 32 GB of RAM. Here we specified a validation split of $20\\%$, so the training is actually performed on $80\\%$ of the $60,000$ observations in the training set. This is an alternative to actually supplying validation data, like we did in Section 10.9.1. See `?fit.keras.engine.training.Model` for all the optional fitting arguments. SGD uses batches of $128$ observations in computing the gradient, and doing the arithmetic, we see that an epoch corresponds to $375$ gradient steps. The last `plot()` command produces a figure similar to Figure 10.18."
   ]
  },
  {
   "cell_type": "markdown",
   "id": "8e22d449-41e9-4ed9-a75a-467eed941a55",
   "metadata": {},
   "source": [
    "To obtain the test error in Table 10.1, we first write a simple function `accuracy()` that compares predicted and true class labels, and then use it to evaluate our predictions."
   ]
  },
  {
   "cell_type": "code",
   "execution_count": 9,
   "id": "56c030ab-61f1-45fd-8f48-38afaeb388ae",
   "metadata": {},
   "outputs": [
    {
     "name": "stderr",
     "output_type": "stream",
     "text": [
      "Warning message in predict_classes(., x_test):\n",
      "“`predict_classes()` is deprecated and and was removed from tensorflow in version 2.6.\n",
      "Please update your code:\n",
      "  * If your model does multi-class classification:\n",
      "    (e.g. if it uses a `softmax` last-layer activation).\n",
      "\n",
      "      model %>% predict(x) %>% k_argmax()\n",
      "\n",
      "  * if your model does binary classification\n",
      "    (e.g. if it uses a `sigmoid` last-layer activation).\n",
      "\n",
      "      model %>% predict(x) %>% `>`(0.5) %>% k_cast(\"int32\")\n",
      "”\n"
     ]
    },
    {
     "ename": "ERROR",
     "evalue": "Error in h(simpleError(msg, call)): error in evaluating the argument 'x' in selecting a method for function 'mean': error in evaluating the argument 'x' in selecting a method for function 'drop': AttributeError: 'Sequential' object has no attribute 'predict_classes'\nRun `reticulate::py_last_error()` for details.\n",
     "output_type": "error",
     "traceback": [
      "Error in h(simpleError(msg, call)): error in evaluating the argument 'x' in selecting a method for function 'mean': error in evaluating the argument 'x' in selecting a method for function 'drop': AttributeError: 'Sequential' object has no attribute 'predict_classes'\nRun `reticulate::py_last_error()` for details.\nTraceback:\n",
      "1. modelnn %>% predict_classes(x_test) %>% accuracy(g_test)",
      "2. accuracy(., g_test)",
      "3. mean(drop(pred) == drop(truth))   # at line 1-2 of file <text>",
      "4. drop(pred)",
      "5. predict_classes(., x_test)",
      "6. do.call(object$predict_classes, args)",
      "7. object$predict_classes",
      "8. `$.python.builtin.object`(object, \"predict_classes\")",
      "9. py_get_attr_or_item(x, name, TRUE)",
      "10. py_get_attr(x, name)",
      "11. py_get_attr_impl(x, name, silent)",
      "12. stop(<environment>)",
      "13. (function (cond) \n  . .Internal(C_tryCatchHelper(addr, 1L, cond)))(<environment>)",
      "14. .handleSimpleError(function (cond) \n  . .Internal(C_tryCatchHelper(addr, 1L, cond)), \"error in evaluating the argument 'x' in selecting a method for function 'drop': AttributeError: 'Sequential' object has no attribute 'predict_classes'\\nRun `reticulate::py_last_error()` for details.\", \n  .     base::quote((function (cond) \n  .     .Internal(C_tryCatchHelper(addr, 1L, cond)))(<environment>)))",
      "15. h(simpleError(msg, call))"
     ]
    }
   ],
   "source": [
    "accuracy <- function(pred, truth)\n",
    "    mean(drop(pred) == drop(truth))\n",
    "modelnn %>% predict_classes(x_test) %>% accuracy(g_test)"
   ]
  },
  {
   "cell_type": "markdown",
   "id": "e2e78855-fc28-4ad8-b4e8-f18a8fdc3f2c",
   "metadata": {},
   "source": [
    "The table also reports LDA (Chapter 4) and multiclass logistic regression. Although packages such as `glmnet` can handle multiclass logistic regression, they are quite slow on this large dataset. It is much faster and quite easy to fit such a model using the `keras` software. We just have an input layer and output layer, and omit the hidden layers!"
   ]
  },
  {
   "cell_type": "code",
   "execution_count": 10,
   "id": "d5466671-8da7-4d3b-b2c4-457bb7eedd7a",
   "metadata": {},
   "outputs": [
    {
     "name": "stdout",
     "output_type": "stream",
     "text": [
      "Model: \"sequential_1\"\n",
      "________________________________________________________________________________\n",
      " Layer (type)                       Output Shape                    Param #     \n",
      "================================================================================\n",
      " dense_3 (Dense)                    (None, 10)                      7850        \n",
      "================================================================================\n",
      "Total params: 7850 (30.66 KB)\n",
      "Trainable params: 7850 (30.66 KB)\n",
      "Non-trainable params: 0 (0.00 Byte)\n",
      "________________________________________________________________________________\n"
     ]
    }
   ],
   "source": [
    "modellr <- keras_model_sequential() %>% layer_dense(input_shape = 784, units = 10, activation = \"softmax\")\n",
    "summary(modellr)"
   ]
  },
  {
   "cell_type": "markdown",
   "id": "769ab1dd-b5e4-42b7-b15d-84d4baf68a33",
   "metadata": {},
   "source": [
    "We fit the model just as before."
   ]
  },
  {
   "cell_type": "code",
   "execution_count": 11,
   "id": "00904ff3-2a05-405e-a208-538cb573e83a",
   "metadata": {},
   "outputs": [
    {
     "name": "stderr",
     "output_type": "stream",
     "text": [
      "Warning message in predict_classes(., x_test):\n",
      "“`predict_classes()` is deprecated and and was removed from tensorflow in version 2.6.\n",
      "Please update your code:\n",
      "  * If your model does multi-class classification:\n",
      "    (e.g. if it uses a `softmax` last-layer activation).\n",
      "\n",
      "      model %>% predict(x) %>% k_argmax()\n",
      "\n",
      "  * if your model does binary classification\n",
      "    (e.g. if it uses a `sigmoid` last-layer activation).\n",
      "\n",
      "      model %>% predict(x) %>% `>`(0.5) %>% k_cast(\"int32\")\n",
      "”\n"
     ]
    },
    {
     "ename": "ERROR",
     "evalue": "Error in h(simpleError(msg, call)): error in evaluating the argument 'x' in selecting a method for function 'mean': error in evaluating the argument 'x' in selecting a method for function 'drop': AttributeError: 'Sequential' object has no attribute 'predict_classes'\nRun `reticulate::py_last_error()` for details.\n",
     "output_type": "error",
     "traceback": [
      "Error in h(simpleError(msg, call)): error in evaluating the argument 'x' in selecting a method for function 'mean': error in evaluating the argument 'x' in selecting a method for function 'drop': AttributeError: 'Sequential' object has no attribute 'predict_classes'\nRun `reticulate::py_last_error()` for details.\nTraceback:\n",
      "1. modellr %>% predict_classes(x_test) %>% accuracy(g_test)",
      "2. accuracy(., g_test)",
      "3. mean(drop(pred) == drop(truth))   # at line 1-2 of file <text>",
      "4. drop(pred)   # at line 1-2 of file <text>",
      "5. predict_classes(., x_test)   # at line 1-2 of file <text>",
      "6. do.call(object$predict_classes, args)",
      "7. object$predict_classes",
      "8. `$.python.builtin.object`(object, \"predict_classes\")",
      "9. py_get_attr_or_item(x, name, TRUE)",
      "10. py_get_attr(x, name)",
      "11. py_get_attr_impl(x, name, silent)",
      "12. stop(<environment>)",
      "13. (function (cond) \n  . .Internal(C_tryCatchHelper(addr, 1L, cond)))(<environment>)",
      "14. .handleSimpleError(function (cond) \n  . .Internal(C_tryCatchHelper(addr, 1L, cond)), \"error in evaluating the argument 'x' in selecting a method for function 'drop': AttributeError: 'Sequential' object has no attribute 'predict_classes'\\nRun `reticulate::py_last_error()` for details.\", \n  .     base::quote((function (cond) \n  .     .Internal(C_tryCatchHelper(addr, 1L, cond)))(<environment>)))",
      "15. h(simpleError(msg, call))"
     ]
    }
   ],
   "source": [
    "modellr %>% compile(loss = \"categorical_crossentropy\", optimizer = optimizer_rmsprop(), metrics = c(\"accuracy\"))\n",
    "modellr %>% fit(x_train, y_train, epochs = 30, batch_size = 128, validation_split = 0.2)\n",
    "modellr %>% predict_classes(x_test) %>% accuracy(g_test)"
   ]
  }
 ],
 "metadata": {
  "kernelspec": {
   "display_name": "R",
   "language": "R",
   "name": "ir"
  },
  "language_info": {
   "codemirror_mode": "r",
   "file_extension": ".r",
   "mimetype": "text/x-r-source",
   "name": "R",
   "pygments_lexer": "r",
   "version": "4.3.2"
  }
 },
 "nbformat": 4,
 "nbformat_minor": 5
}
