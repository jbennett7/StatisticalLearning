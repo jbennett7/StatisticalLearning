{
 "cells": [
  {
   "cell_type": "markdown",
   "id": "7e1fdeb4-4f36-43ea-b567-ad73d79c0bf8",
   "metadata": {},
   "source": [
    "# Conceptual"
   ]
  },
  {
   "cell_type": "markdown",
   "id": "2550c855-f41e-4ed2-9d14-3f94b2e6b1c4",
   "metadata": {},
   "source": [
    "__1.__ It was mentioned in the chapter that a cubic regression spline with one knot at $\\xi$ can be obtained using a basis of the form $x$, $x^2$, $x^3$, $(x - \\xi)_{+}^3$, where $(x - \\xi)_{+}^3 = (x - \\xi)^3$ if $x > \\xi$ and equals $0$ otherwise. We will now show that a function of the form\n",
    "\\begin{align}\n",
    "f(x) = \\beta_0 + \\beta_1 x + \\beta_2 x^2 + \\beta_3 x^3 + \\beta_4 (x - \\xi)_{+}^3\n",
    "\\end{align}\n",
    "is indeed a cubic regression spline, regardless of the values of $\\beta_0$, $\\beta_1$, $\\beta_2$, $\\beta_3$, $\\beta_4$.  \n",
    "\n",
    "\n",
    "(a) Find a cubic polynomial\n",
    "\\begin{align}\n",
    "f_1(x) = a_1 + b_1 x + c_1 x^2 + d_1 x^3\n",
    "\\end{align}\n",
    "such that $f(x) = f_1(x)$ for all $x \\le \\xi$. Express $a_1$, $b_1$, $c_1$, $d_1$ in terms of $\\beta_0$, $\\beta_1$, $\\beta_2$, $\\beta_3$, $\\beta_4$.\n",
    "\n",
    "__ANSWER__  \n",
    "When $x \\le \\xi$ then $(x - \\xi)^3 = 0$ then $a_1 = \\beta_0$, $b_1 = \\beta_1$, $c_1 = \\beta_2$, and $d_1 = \\beta_3$  \n",
    "\n",
    "\n",
    "(b) Find a cubic polynomial\n",
    "\\begin{align}\n",
    "f_2(x) = a_2 + b_2 x + c_2 x^2 + d_2 x^3\n",
    "\\end{align}\n",
    "such that $f(x) = f_2(x)$ for all $x > \\xi$. Express $a_1$, $b_1$, $c_1$, $d_1$ in terms of $\\beta_0$, $\\beta_1$, $\\beta_2$, $\\beta_3$, $\\beta_4$. We have now established that $f(x)$ is a piecewise polynomial.\n",
    "\n",
    "__ANSWER__  \n",
    "When $x > \\xi$ then\n",
    "\\begin{align}\n",
    "f(x) &= \\beta_0 + \\beta_1 x + \\beta_2 x^2 + \\beta_3 x^3 + \\beta_4 (x - \\xi)^3 \\\\\n",
    "f(x) &= \\beta_0 + \\beta_1 x + \\beta_2 x^2 + \\beta_3 x^3 + \\beta_4 (x^3 - 3x^2 \\xi + 3x \\xi^2 - \\xi^3) \\\\\n",
    "\\end{align}\n",
    "\\begin{align}\n",
    "a_2 = \\beta_0 - \\beta_4 \\xi^3 \\ \\ \\ \\ \\ b_2 = \\beta_1 + 3 \\beta_4 \\xi^2 \\ \\ \\ \\ \\\n",
    "c_2 = \\beta_3 - 3 \\beta_4 \\xi \\ \\ \\ \\ \\ d_2 = \\beta_3 + \\beta_4\n",
    "\\end{align}  \n",
    "\n",
    "\n",
    "(c) Show that $f_1(\\xi) = f_2(\\xi)$. That is, $f(x)$ is continuous at $\\xi$.  \n",
    "\n",
    "__ANSWER__  \n",
    "\\begin{align}\n",
    "f_1(\\xi) &= \\beta_0 + \\beta_1 \\xi + \\beta_2 \\xi^2 + \\beta_3 \\xi^3 \\\\\\\n",
    "\\\\\n",
    "\\\\\n",
    "f_2(\\xi) &= (\\beta_0 - \\beta_4 \\xi^3)         + (\\beta_1 + 3 \\beta_4 \\xi^2)(\\xi) +\n",
    "            (\\beta_3 - 3 \\beta_4 \\xi)(\\xi^2)  + (\\beta_3 + \\beta_4)(\\xi^3) \\\\\n",
    "\\\\\n",
    "f_2(\\xi) &= \\beta_0 + \\beta_1 \\xi + \\beta_2 \\xi^2 + \\beta_3 \\xi^3\n",
    "\\end{align}  \n",
    "\n",
    "\n",
    "(d) Show that $f'_1(\\xi) = f'_2(\\xi)$. That is, $f'(x)$ is continuous at $\\xi$.  \n",
    "\\begin{align}\n",
    "f'_1(x)   &= b_1 + 2 c_1 x + 3 d_1 x^2 \\\\\n",
    "\\\\\n",
    "f'_1(\\xi) &= \\beta_1 + 2 \\beta_2 \\xi + 3 \\beta_3 \\xi^2 \\\\\n",
    "\\\\\n",
    "\\\\\n",
    "f'_2(x)   &= b_2 + 2 c_2 x + 3 d_2 x^2 \\\\\n",
    "\\\\\n",
    "f'_2(\\xi) &= \\beta_1 + 3 \\beta_4 \\xi^2 + 2 (\\beta_3 - 3 \\beta_4 \\xi) \\xi + 3 (\\beta_3 + \\beta_4) \\xi^2 \\\\\n",
    "          &= \\beta_1 + 2 \\beta_2 \\xi + 3 \\beta_3 \\xi^2\n",
    "\\end{align}"
   ]
  }
 ],
 "metadata": {
  "kernelspec": {
   "display_name": "R",
   "language": "R",
   "name": "ir"
  },
  "language_info": {
   "codemirror_mode": "r",
   "file_extension": ".r",
   "mimetype": "text/x-r-source",
   "name": "R",
   "pygments_lexer": "r",
   "version": "4.3.2"
  }
 },
 "nbformat": 4,
 "nbformat_minor": 5
}
