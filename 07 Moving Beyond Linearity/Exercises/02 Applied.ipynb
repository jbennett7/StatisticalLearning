{
 "cells": [
  {
   "cell_type": "markdown",
   "id": "5ff3be0f-bfb6-453f-8aca-4d7e45d4beb4",
   "metadata": {},
   "source": [
    "# Applied"
   ]
  },
  {
   "cell_type": "markdown",
   "id": "0a52b048-9a60-4bf1-aff1-1ded040ce691",
   "metadata": {},
   "source": [
    "__6.__ In this exercise, you will further analyze the `Wage` data set considered throughout this chapter.  "
   ]
  },
  {
   "cell_type": "markdown",
   "id": "434d4a4a-26c2-4a9f-b7d9-2fdd4a1a6438",
   "metadata": {},
   "source": [
    "(a) Perform polynomial regression to predict `wage` using `age`. Use cross-validation to select the optimal degree _d_ for the polynomial. What degree was chosen, and how does this compare to the results of hypothesis testing using ANOVA? Make a plot of the resulting polynomial fit to the data."
   ]
  },
  {
   "cell_type": "code",
   "execution_count": 1,
   "id": "2cf776f4-ee6c-40cb-b130-b03f4da6fc43",
   "metadata": {},
   "outputs": [],
   "source": [
    "library(ISLR2)\n",
    "attach(Wage)"
   ]
  },
  {
   "cell_type": "code",
   "execution_count": null,
   "id": "4756ec1e-e37f-4f1e-9a6d-33a12d747a49",
   "metadata": {},
   "outputs": [],
   "source": []
  }
 ],
 "metadata": {
  "kernelspec": {
   "display_name": "R",
   "language": "R",
   "name": "ir"
  },
  "language_info": {
   "codemirror_mode": "r",
   "file_extension": ".r",
   "mimetype": "text/x-r-source",
   "name": "R",
   "pygments_lexer": "r",
   "version": "4.3.2"
  }
 },
 "nbformat": 4,
 "nbformat_minor": 5
}
