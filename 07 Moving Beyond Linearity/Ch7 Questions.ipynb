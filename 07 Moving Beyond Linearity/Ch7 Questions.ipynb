{
 "cells": [
  {
   "cell_type": "markdown",
   "id": "3f495ee5-ec88-4e59-9a3a-ab2543478498",
   "metadata": {},
   "source": [
    "# Chapter 7 Moving Beyond Linearity"
   ]
  },
  {
   "cell_type": "markdown",
   "id": "59a36b5a-bfcc-49a9-aa7d-59b1294847f4",
   "metadata": {},
   "source": [
    "## 7.1 Polynomials and Step Functions"
   ]
  },
  {
   "cell_type": "markdown",
   "id": "ddbd0c99-7ff2-42ca-ba69-a17a8a7abff9",
   "metadata": {},
   "source": [
    "### R1\n",
    "Which of the following can we add to linear models to capture non-linear effects?\n",
    "1. Spline terms\n",
    "2. Polynomial terms\n",
    "3. Interactions\n",
    "4. Arbitrary linear combinations of variables\n",
    "5. Step Functions\n",
    "\n",
    "Answer: 1, 2, 3, and 5  \n",
    "If we add any of these terms to our linear model, the model will be able to capture new nonlinear effects. The only exceptions is linear combinations of variables already in the model: any linear combination of those variables is already included in the model."
   ]
  },
  {
   "cell_type": "markdown",
   "id": "2abd0cda-fa8e-4489-898b-f914555f32a8",
   "metadata": {},
   "source": [
    "## 7.2 Piecewise Polynomials and Splines"
   ]
  },
  {
   "cell_type": "markdown",
   "id": "87a4b0b6-0c5e-4da6-aa2b-0b8dd76cc2af",
   "metadata": {},
   "source": [
    "### R1\n",
    "Why are natural cubic splines typically preferred over global polynomials of degree $d$?\n",
    "1. Polynomials have too many degrees of freedom.\n",
    "2. Polynomials tend to extrapolate very badly.\n",
    "3. Polynomials are not as continuous as splines.\n",
    "\n",
    "Answer: 2  \n",
    "Polynomials can oscillate wildly once they get outside the boundaries of the data set. Natural splines, on the other hand, always extrapolate linearly."
   ]
  },
  {
   "cell_type": "markdown",
   "id": "700a06ea-47b8-4125-9296-73b893817e52",
   "metadata": {},
   "source": [
    "### R2\n",
    "Let $1\\{x \\le t\\}$ denote a function which is 1 if $x \\le t$ and 0 otherwise.  \n",
    "Which of the following is a basis for linear splines with a knot at $t$? Select all that apply:\n",
    "1. 1, $x$, $(x - t)1\\{x > t \\}$\n",
    "2. 1, $x$, $(x - t)1\\{x \\le t \\}$\n",
    "3. 1, $x$, $1\\{x > t \\}$, $1\\{x \\le t \\}$, $(x - t)1\\{x > t \\}$\n",
    "4. 1, $(x - t)1\\{x \\le t \\}$, $(x - t)1\\{x > t \\}$\n",
    "\n",
    "Answer: 1, 2, 4  \n",
    "Every function in the basis must be continuous at $t$, and we must be able to represent any piecewise linear function with a single knot at $t$ as a linear combination of the functions in the basis."
   ]
  },
  {
   "cell_type": "markdown",
   "id": "6c2fd8fa-5735-46fe-b9d7-9bf5af5b062e",
   "metadata": {},
   "source": [
    "## 7.3 Smoothing Splines"
   ]
  },
  {
   "cell_type": "markdown",
   "id": "5a75a11e-3866-4b45-9c1c-ac185aa86e48",
   "metadata": {},
   "source": [
    "### R1\n",
    "In terms of model complexity, which is more similar to a smoothing spline with 100 knots and 5 effective degrees of freedom?\n",
    "1. A natural cubic spline with 5 knots.\n",
    "2. A natural cubic spline with 100 knots.\n",
    "\n",
    "Answer: 1  \n",
    "Even though the smoothing spline has 100 knots, it is penalized to be smooth, so it is about as complex as a model with 5 variables. The natural cubic spline has 5 degrees of freedom in such a model."
   ]
  },
  {
   "cell_type": "markdown",
   "id": "c1c0c6a6-4bfc-4efb-9ff7-61a582b8fe71",
   "metadata": {},
   "source": [
    "## 7.4 Generalized Additive Models and Local Regression"
   ]
  },
  {
   "cell_type": "markdown",
   "id": "be935a4f-22d9-42fd-8468-b743fb383036",
   "metadata": {},
   "source": [
    "### R1\n",
    "True or False: In the GAM $y ~ f_1(X_1) + f_2(X_2) + e$, as we make $f_1$ and $f_2$ more and more complex we can approximate any regression function to arbitrary precision.\n",
    "\n",
    "Answer: False  \n",
    "If there is an interaction between $X_1$ and $X_2$, a purely additive model can never capture it."
   ]
  },
  {
   "cell_type": "markdown",
   "id": "a83e3a58-de3a-4de2-aab4-453d80773f7f",
   "metadata": {},
   "source": [
    "## 7.R Nonlinear Functions in R"
   ]
  },
  {
   "cell_type": "markdown",
   "id": "42ab69b4-9a56-4bf8-b54d-0b3119f329a7",
   "metadata": {},
   "source": [
    "### R1\n",
    "Load the data from the file 7.R.Rdata, and plot it using `plot(x, y)`. What is the slope coefficient in a linear regression of $y$ on $x$ (to within 10%)."
   ]
  },
  {
   "cell_type": "code",
   "execution_count": 1,
   "id": "968bc0ca-54c7-405d-b190-bed41ff3ce52",
   "metadata": {},
   "outputs": [
    {
     "data": {
      "image/png": "[encoded data removed]",
      "text/plain": [
       "plot without title"
      ]
     },
     "metadata": {
      "image/png": {
       "height": 420,
       "width": 420
      }
     },
     "output_type": "display_data"
    }
   ],
   "source": [
    "load('7.R.RData')\n",
    "plot(x,y)"
   ]
  },
  {
   "cell_type": "code",
   "execution_count": 2,
   "id": "d24500ac-b3a5-4f1f-9c0d-244a39e25386",
   "metadata": {},
   "outputs": [
    {
     "name": "stdout",
     "output_type": "stream",
     "text": [
      "Slope coefficient: -0.6748303 \n"
     ]
    }
   ],
   "source": [
    "fit <- lm(y ~ x)\n",
    "cat(\"Slope coefficient:\", coef(fit)[2], \"\\n\")"
   ]
  },
  {
   "cell_type": "markdown",
   "id": "0212de1a-587d-4f1c-9bb8-6b1ef6d3e1e3",
   "metadata": {},
   "source": [
    "## R2\n",
    "For the model $y ~ 1 + x + x^2$, what is the coefficient of $x$ (within 10%)?"
   ]
  },
  {
   "cell_type": "code",
   "execution_count": 3,
   "id": "ce435a07-752e-4a2d-a321-82f964839146",
   "metadata": {},
   "outputs": [
    {
     "name": "stdout",
     "output_type": "stream",
     "text": [
      "Coefficient of x: 77.70751 \n"
     ]
    }
   ],
   "source": [
    "fit <- lm(y ~ 1 + x + I(x^2))\n",
    "cat(\"Coefficient of x:\", coef(fit)[2], \"\\n\")"
   ]
  },
  {
   "cell_type": "markdown",
   "id": "39608ee6-4f7c-4db9-89f9-318fec8f07f2",
   "metadata": {},
   "source": [
    "## Chapter 7 Quiz"
   ]
  },
  {
   "cell_type": "markdown",
   "id": "d86cb80e-a6ae-461d-bf51-7c2af812a4b1",
   "metadata": {},
   "source": [
    "### Q1\n",
    "Suppose we want to fit a generalized additive model (with a continuous response) for $y$ agains $X_1$ and $X_2$. Suppose we are using a cubic spline with four knots for each variable (so our model can be expressed as a linear regression after the right basis expansion).  \n",
    "\n",
    "Suppose that we fit our model by following three steps:  \n",
    "1. First fit our cubic spline model for $y$ against $X_1$, obtaining the fit $\\hat{f}_1(x)$ and residuals $r_i = y_i - \\hat{f}_1(X_{i,1})$\n",
    "2. Then, fit a cubic spline model for $r$ against $X_2$ to obtain $\\hat{f}_2(x)$.\n",
    "3. Finally construct fitted values $\\hat{y}_i = \\hat{f}_1(X_{i,1}) + \\hat{f}_2(X_{i,2})$.\n",
    "Will we get the same fitted values as we would if we fit the additive model for $y$ against $X_1$ and $X_2$ jointly?\n",
    "\n",
    "1. yes, no matter what\n",
    "2. only if $X_1$ and $X_2$ are uncorrelated\n",
    "3. not necessarily, even if $X_1$ and $X_2$ are uncorrelated.\n",
    "\n",
    "Answer: 3  \n",
    "If $X_1$ and $X_2$ are uncorrelated, and we are only fitting a linear regression (only linear terms for $X_1 X_2$) then this method would work. However, even if $X_1$ and $X_2$ are uncorrelated, the nonlinear basis functions might be."
   ]
  }
 ],
 "metadata": {
  "kernelspec": {
   "display_name": "R",
   "language": "R",
   "name": "ir"
  },
  "language_info": {
   "codemirror_mode": "r",
   "file_extension": ".r",
   "mimetype": "text/x-r-source",
   "name": "R",
   "pygments_lexer": "r",
   "version": "4.3.2"
  }
 },
 "nbformat": 4,
 "nbformat_minor": 5
}
