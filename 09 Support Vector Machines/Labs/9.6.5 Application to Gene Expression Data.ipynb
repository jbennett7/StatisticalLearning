{
 "cells": [
  {
   "cell_type": "markdown",
   "id": "808f69f8-47b3-4548-9f40-34eab26e38cd",
   "metadata": {},
   "source": [
    "# 9.6.5 Application to Gene Expression Data"
   ]
  },
  {
   "cell_type": "code",
   "execution_count": 1,
   "id": "a7322e81-ce01-4591-b7eb-7514fe818db6",
   "metadata": {},
   "outputs": [],
   "source": [
    "library(e1071)"
   ]
  },
  {
   "cell_type": "code",
   "execution_count": 2,
   "id": "3e7cf010-27e2-4cb4-8609-718cb1c6cf35",
   "metadata": {},
   "outputs": [],
   "source": [
    "set.seed(1)\n",
    "x <- matrix(rnorm(200 * 2), ncol = 2)\n",
    "x[1:100,] <- x[1:100,] + 2\n",
    "x[101:150,] <- x[101:150,] - 2\n",
    "y <- c(rep(1, 150), rep(2, 50))\n",
    "dat <- data.frame(x = x, y = as.factor(y))"
   ]
  },
  {
   "cell_type": "code",
   "execution_count": 3,
   "id": "13a738e7-84a4-40a0-9639-4c5083ce2048",
   "metadata": {},
   "outputs": [],
   "source": [
    "train <- sample(200, 100)\n",
    "svmfit <- svm(y ~ ., data = dat[train,], kernel = \"radial\", gamma = 1, cost = 1)"
   ]
  },
  {
   "cell_type": "markdown",
   "id": "295c251b-b397-4a8a-ba38-0e87194ddda8",
   "metadata": {},
   "source": [
    "We now examine the `Khan` data set, which consists of a number of tissue samples corresponding to four distinct types of small round blue cell tumors. For each tissue sample, gene expression measurements are available. The data set consists of training data, `xtrain` and `ytrain`, and testing data, `xtest` and `ytest`.\n",
    "\n",
    "We examine the dimension of the data:"
   ]
  },
  {
   "cell_type": "code",
   "execution_count": 4,
   "id": "7fa52293-b992-4fc7-86e6-034033227694",
   "metadata": {},
   "outputs": [
    {
     "data": {
      "text/html": [
       "<style>\n",
       ".list-inline {list-style: none; margin:0; padding: 0}\n",
       ".list-inline>li {display: inline-block}\n",
       ".list-inline>li:not(:last-child)::after {content: \"\\00b7\"; padding: 0 .5ex}\n",
       "</style>\n",
       "<ol class=list-inline><li>'xtrain'</li><li>'xtest'</li><li>'ytrain'</li><li>'ytest'</li></ol>\n"
      ],
      "text/latex": [
       "\\begin{enumerate*}\n",
       "\\item 'xtrain'\n",
       "\\item 'xtest'\n",
       "\\item 'ytrain'\n",
       "\\item 'ytest'\n",
       "\\end{enumerate*}\n"
      ],
      "text/markdown": [
       "1. 'xtrain'\n",
       "2. 'xtest'\n",
       "3. 'ytrain'\n",
       "4. 'ytest'\n",
       "\n",
       "\n"
      ],
      "text/plain": [
       "[1] \"xtrain\" \"xtest\"  \"ytrain\" \"ytest\" "
      ]
     },
     "metadata": {},
     "output_type": "display_data"
    },
    {
     "data": {
      "text/html": [
       "<style>\n",
       ".list-inline {list-style: none; margin:0; padding: 0}\n",
       ".list-inline>li {display: inline-block}\n",
       ".list-inline>li:not(:last-child)::after {content: \"\\00b7\"; padding: 0 .5ex}\n",
       "</style>\n",
       "<ol class=list-inline><li>63</li><li>2308</li></ol>\n"
      ],
      "text/latex": [
       "\\begin{enumerate*}\n",
       "\\item 63\n",
       "\\item 2308\n",
       "\\end{enumerate*}\n"
      ],
      "text/markdown": [
       "1. 63\n",
       "2. 2308\n",
       "\n",
       "\n"
      ],
      "text/plain": [
       "[1]   63 2308"
      ]
     },
     "metadata": {},
     "output_type": "display_data"
    },
    {
     "data": {
      "text/html": [
       "<style>\n",
       ".list-inline {list-style: none; margin:0; padding: 0}\n",
       ".list-inline>li {display: inline-block}\n",
       ".list-inline>li:not(:last-child)::after {content: \"\\00b7\"; padding: 0 .5ex}\n",
       "</style>\n",
       "<ol class=list-inline><li>20</li><li>2308</li></ol>\n"
      ],
      "text/latex": [
       "\\begin{enumerate*}\n",
       "\\item 20\n",
       "\\item 2308\n",
       "\\end{enumerate*}\n"
      ],
      "text/markdown": [
       "1. 20\n",
       "2. 2308\n",
       "\n",
       "\n"
      ],
      "text/plain": [
       "[1]   20 2308"
      ]
     },
     "metadata": {},
     "output_type": "display_data"
    },
    {
     "data": {
      "text/html": [
       "63"
      ],
      "text/latex": [
       "63"
      ],
      "text/markdown": [
       "63"
      ],
      "text/plain": [
       "[1] 63"
      ]
     },
     "metadata": {},
     "output_type": "display_data"
    },
    {
     "data": {
      "text/html": [
       "20"
      ],
      "text/latex": [
       "20"
      ],
      "text/markdown": [
       "20"
      ],
      "text/plain": [
       "[1] 20"
      ]
     },
     "metadata": {},
     "output_type": "display_data"
    }
   ],
   "source": [
    "library(ISLR2)\n",
    "names(Khan)\n",
    "dim(Khan$xtrain)\n",
    "dim(Khan$xtest)\n",
    "length(Khan$ytrain)\n",
    "length(Khan$ytest)"
   ]
  },
  {
   "cell_type": "markdown",
   "id": "723d75c3-fc82-4bd4-8430-29a4cebe21c7",
   "metadata": {},
   "source": [
    "This data set consists of expression measurements for $2,308$ genes. The training and test sets consist of $63$ and $20$ observations respectively."
   ]
  },
  {
   "cell_type": "code",
   "execution_count": 5,
   "id": "709395a2-9a8a-4d4b-87cb-9ecc7a7638f9",
   "metadata": {},
   "outputs": [
    {
     "data": {
      "text/plain": [
       "\n",
       " 1  2  3  4 \n",
       " 8 23 12 20 "
      ]
     },
     "metadata": {},
     "output_type": "display_data"
    },
    {
     "data": {
      "text/plain": [
       "\n",
       "1 2 3 4 \n",
       "3 6 6 5 "
      ]
     },
     "metadata": {},
     "output_type": "display_data"
    }
   ],
   "source": [
    "table(Khan$ytrain)\n",
    "table(Khan$ytest)"
   ]
  },
  {
   "cell_type": "markdown",
   "id": "7d3004dd-bc90-4bc6-bb91-1b8be532cfe1",
   "metadata": {},
   "source": [
    "We will use a support vector approach to predict cancer subtype using gene expression measurements. In this data set, there are a very large number of features relative to the number of observations. This suggests that we should use a linear kernel, because the additional flexibility that will result from using a polynomial or radial kernel is unnecessary."
   ]
  },
  {
   "cell_type": "code",
   "execution_count": 6,
   "id": "8025f005-08a6-4bc0-bdd9-bafe3c449109",
   "metadata": {},
   "outputs": [
    {
     "data": {
      "text/plain": [
       "\n",
       "Call:\n",
       "svm(formula = y ~ ., data = dat, kernel = \"linear\", cost = 10)\n",
       "\n",
       "\n",
       "Parameters:\n",
       "   SVM-Type:  C-classification \n",
       " SVM-Kernel:  linear \n",
       "       cost:  10 \n",
       "\n",
       "Number of Support Vectors:  58\n",
       "\n",
       " ( 20 20 11 7 )\n",
       "\n",
       "\n",
       "Number of Classes:  4 \n",
       "\n",
       "Levels: \n",
       " 1 2 3 4\n",
       "\n",
       "\n"
      ]
     },
     "metadata": {},
     "output_type": "display_data"
    },
    {
     "data": {
      "text/plain": [
       "   \n",
       "     1  2  3  4\n",
       "  1  8  0  0  0\n",
       "  2  0 23  0  0\n",
       "  3  0  0 12  0\n",
       "  4  0  0  0 20"
      ]
     },
     "metadata": {},
     "output_type": "display_data"
    }
   ],
   "source": [
    "dat <- data.frame(\n",
    "    x = Khan$xtrain,\n",
    "    y = as.factor(Khan$ytrain)\n",
    "    )\n",
    "out <- svm(y ~ ., data = dat, kernel = \"linear\", cost = 10)\n",
    "summary(out)\n",
    "table(out$fitted, dat$y)"
   ]
  },
  {
   "cell_type": "markdown",
   "id": "4ec7bd00-f56d-4818-ad69-7bd982bdc512",
   "metadata": {},
   "source": [
    "We see that there are _no_ training errors. In fact, this is not surprising, because the large number of variables relative to the number of observations implies that it is easy to find hyperplanes that fully separate the classes. We are most interested not in the support vector classifier's performance on the training observations, but rather its performance on the test observations."
   ]
  },
  {
   "cell_type": "code",
   "execution_count": 7,
   "id": "16cf4ec0-6d1e-4f2b-804b-414a416fb5eb",
   "metadata": {},
   "outputs": [
    {
     "data": {
      "text/plain": [
       "       \n",
       "pred.te 1 2 3 4\n",
       "      1 3 0 0 0\n",
       "      2 0 6 2 0\n",
       "      3 0 0 4 0\n",
       "      4 0 0 0 5"
      ]
     },
     "metadata": {},
     "output_type": "display_data"
    }
   ],
   "source": [
    "dat.te <- data.frame(\n",
    "    x = Khan$xtest,\n",
    "    y = as.factor(Khan$ytest))\n",
    "pred.te <- predict(out, newdata = dat.te)\n",
    "table(pred.te, dat.te$y)"
   ]
  },
  {
   "cell_type": "markdown",
   "id": "d78bff89-30b5-4447-b276-9725278c2921",
   "metadata": {},
   "source": [
    "We see that using `cost = 10` yields two test set errors on this data."
   ]
  }
 ],
 "metadata": {
  "kernelspec": {
   "display_name": "R",
   "language": "R",
   "name": "ir"
  },
  "language_info": {
   "codemirror_mode": "r",
   "file_extension": ".r",
   "mimetype": "text/x-r-source",
   "name": "R",
   "pygments_lexer": "r",
   "version": "4.3.2"
  }
 },
 "nbformat": 4,
 "nbformat_minor": 5
}
