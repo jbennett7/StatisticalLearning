{
 "cells": [
  {
   "cell_type": "markdown",
   "id": "7af5eac0-8286-4546-8160-d3efac048b1d",
   "metadata": {},
   "source": [
    "# Chapter 2 Statistical Learning"
   ]
  },
  {
   "cell_type": "markdown",
   "id": "fc2e6bd6-67a9-4c4c-92c3-5f18fe9432d9",
   "metadata": {},
   "source": [
    "<a id=eq2_1>\n",
    "\\begin{align}\\tag{2.1}\n",
    "Y = f(X) + \\epsilon\\text{.}\n",
    "\\end{align}</a>"
   ]
  },
  {
   "cell_type": "markdown",
   "id": "c7b2b1c2-99df-4c50-9419-3afbe32bbd40",
   "metadata": {},
   "source": [
    "<a id=eq2_2>\n",
    "\\begin{align}\\tag{2.2}\n",
    "\\hat{Y} = \\hat{f}(X)\\text{,}\n",
    "\\end{align}</a>"
   ]
  },
  {
   "cell_type": "markdown",
   "id": "dee262ba-b5ec-4484-95d9-f31831c111c9",
   "metadata": {},
   "source": [
    "<a id=eq2_3>\n",
    "\\begin{align}\\tag{2.3}\n",
    "E(Y - \\hat{Y})^2 &= E\\left[f(X) + \\epsilon - \\hat{f}(X)\\right]^2 \\\\\n",
    "                 &= \\underbrace{\\left[f(X) - \\hat{f}(X)\\right]^2}_{Reducible} + \\underbrace{\\text{Var}(\\epsilon)}_{Irreducible}\n",
    "\\end{align}</a>"
   ]
  },
  {
   "cell_type": "markdown",
   "id": "33499e4a-7d39-4b2a-a021-e5edde0d69b9",
   "metadata": {},
   "source": [
    "<a id=eq2_4>\n",
    "\\begin{align}\\tag{2.4}\n",
    "f(X) = \\beta_0 + \\beta_1 X_1 + \\beta_2 X_2 + \\cdots + \\beta_p X_p\n",
    "\\end{align}</a>\n",
    "\n"
   ]
  },
  {
   "cell_type": "markdown",
   "id": "e2cb99d6-7f98-4137-b8ea-56f97916ee63",
   "metadata": {},
   "source": [
    "<a id=eq2_5>\n",
    "\\begin{align}\\tag{2.5}\n",
    "\\text{MSE} = \\frac{1}{n}\\sum^n_{i=1}(y_i - \\hat{f}(x_i))^2\n",
    "\\end{align}</a>"
   ]
  },
  {
   "cell_type": "markdown",
   "id": "bbc4d3d5-e636-48d7-b3cf-559bb8f3cb9e",
   "metadata": {},
   "source": [
    "<a id=eq2_6>\n",
    "\\begin{align}\\tag{2.6}\n",
    "\\text{Ave}(y_0 - \\hat{f}(x_0))^2\n",
    "\\end{align}</a>"
   ]
  },
  {
   "cell_type": "markdown",
   "id": "81b9ae79-5be4-4aa2-9053-752eb321c84b",
   "metadata": {},
   "source": [
    "<a id=eq2_7>\n",
    "\\begin{align}\\tag{2.7}\n",
    "E \\left(y_0 - \\hat{f}(x_o)\\right)^2 = \\text{Var}\\left(\\hat{f}(x_0)\\right) + \\left[ \\text{Bias}\\left(\\hat{f}(x_0) \\right) \\right]^2 + \\text{Var}(\\epsilon)\n",
    "\\end{align}</a>\n",
    "<!--\n",
    "+ \\right[\\text{Bias}\\left(\\hat{f}(x_0)\\right)\\right]^2 + \\text{Var}(\\epsilon)\n",
    "-->"
   ]
  },
  {
   "cell_type": "markdown",
   "id": "5308797f-31d8-426c-923e-bd10b8abe943",
   "metadata": {},
   "source": [
    "<a id=eq2_8>\n",
    "\\begin{align}\\tag{2.8}\n",
    "\\frac{1}{n}\\sum^n_{i=1}I(y_i \\ne \\hat{y}_i)\n",
    "\\end{align}</a>"
   ]
  },
  {
   "cell_type": "markdown",
   "id": "b2079fda-810b-4a03-95f8-ef8b83db6d15",
   "metadata": {},
   "source": [
    "<a id=eq2_9>\n",
    "\\begin{align}\\tag{2.9}\n",
    "\\text{Ave}(I(y_0 \\ne \\hat{y}_0))\n",
    "\\end{align}</a>"
   ]
  },
  {
   "cell_type": "markdown",
   "id": "6da0d2f9-d657-467a-b1b3-703465e4f250",
   "metadata": {},
   "source": [
    "<a id=eq2_10>\n",
    "\\begin{align}\\tag{2.10}\n",
    "\\text{Pr}(Y = j|X = x_0)\n",
    "\\end{align}</a>"
   ]
  },
  {
   "cell_type": "markdown",
   "id": "99da4343-5d6f-4e2e-9386-0163ac2bebf3",
   "metadata": {},
   "source": [
    "<a id=eq2_11>\n",
    "\\begin{align}\\tag{2.11}\n",
    "1 - E \\left(\\underset{j}{\\text{max}}\\text{Pr}(Y = j|X)\\right)\n",
    "\\end{align}</a>"
   ]
  },
  {
   "cell_type": "markdown",
   "id": "00f36ae5-221b-4e31-8d7f-7661cc2b304f",
   "metadata": {},
   "source": [
    "<a id=eq2_12>\n",
    "\\begin{align}\\tag{2.12}\n",
    "\\text{Pr}(Y = j|X = x_0) = \\frac{1}{K}\\sum_{i \\in N_0}I(y_i = j)\n",
    "\\end{align}</a>"
   ]
  }
 ],
 "metadata": {
  "kernelspec": {
   "display_name": "R",
   "language": "R",
   "name": "ir"
  },
  "language_info": {
   "codemirror_mode": "r",
   "file_extension": ".r",
   "mimetype": "text/x-r-source",
   "name": "R",
   "pygments_lexer": "r",
   "version": "4.3.1"
  }
 },
 "nbformat": 4,
 "nbformat_minor": 5
}
