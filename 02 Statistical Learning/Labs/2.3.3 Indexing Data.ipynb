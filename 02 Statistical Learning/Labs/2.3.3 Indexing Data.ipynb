{
 "cells": [
  {
   "cell_type": "markdown",
   "id": "486d22ad-ef36-4b05-9859-a8c96eaf6e57",
   "metadata": {},
   "source": [
    "# 2.3.3 Indexing Data"
   ]
  },
  {
   "cell_type": "markdown",
   "id": "d35224ab-9c2b-498a-bc2d-85c665209ba5",
   "metadata": {},
   "source": [
    "Sometimes we want to examine only a part of a set of data."
   ]
  },
  {
   "cell_type": "code",
   "execution_count": 1,
   "id": "d2a5d5be-0be7-4bc8-a92d-2912ca400382",
   "metadata": {},
   "outputs": [
    {
     "data": {
      "text/html": [
       "<table class=\"dataframe\">\n",
       "<caption>A matrix: 4 × 4 of type int</caption>\n",
       "<tbody>\n",
       "\t<tr><td>1</td><td>5</td><td> 9</td><td>13</td></tr>\n",
       "\t<tr><td>2</td><td>6</td><td>10</td><td>14</td></tr>\n",
       "\t<tr><td>3</td><td>7</td><td>11</td><td>15</td></tr>\n",
       "\t<tr><td>4</td><td>8</td><td>12</td><td>16</td></tr>\n",
       "</tbody>\n",
       "</table>\n"
      ],
      "text/latex": [
       "A matrix: 4 × 4 of type int\n",
       "\\begin{tabular}{llll}\n",
       "\t 1 & 5 &  9 & 13\\\\\n",
       "\t 2 & 6 & 10 & 14\\\\\n",
       "\t 3 & 7 & 11 & 15\\\\\n",
       "\t 4 & 8 & 12 & 16\\\\\n",
       "\\end{tabular}\n"
      ],
      "text/markdown": [
       "\n",
       "A matrix: 4 × 4 of type int\n",
       "\n",
       "| 1 | 5 |  9 | 13 |\n",
       "| 2 | 6 | 10 | 14 |\n",
       "| 3 | 7 | 11 | 15 |\n",
       "| 4 | 8 | 12 | 16 |\n",
       "\n"
      ],
      "text/plain": [
       "     [,1] [,2] [,3] [,4]\n",
       "[1,] 1    5     9   13  \n",
       "[2,] 2    6    10   14  \n",
       "[3,] 3    7    11   15  \n",
       "[4,] 4    8    12   16  "
      ]
     },
     "metadata": {},
     "output_type": "display_data"
    }
   ],
   "source": [
    "(A <- matrix(1:16, 4, 4))"
   ]
  },
  {
   "cell_type": "code",
   "execution_count": 2,
   "id": "86e09a6b-7938-4a97-9dd3-2a0a108d12d4",
   "metadata": {},
   "outputs": [
    {
     "data": {
      "text/html": [
       "10"
      ],
      "text/latex": [
       "10"
      ],
      "text/markdown": [
       "10"
      ],
      "text/plain": [
       "[1] 10"
      ]
     },
     "metadata": {},
     "output_type": "display_data"
    }
   ],
   "source": [
    "A[2,3]"
   ]
  },
  {
   "cell_type": "code",
   "execution_count": 3,
   "id": "247448c8-824f-4e4e-bc4c-5d03578444f0",
   "metadata": {},
   "outputs": [
    {
     "data": {
      "text/html": [
       "<table class=\"dataframe\">\n",
       "<caption>A matrix: 2 × 2 of type int</caption>\n",
       "<tbody>\n",
       "\t<tr><td>5</td><td>13</td></tr>\n",
       "\t<tr><td>7</td><td>15</td></tr>\n",
       "</tbody>\n",
       "</table>\n"
      ],
      "text/latex": [
       "A matrix: 2 × 2 of type int\n",
       "\\begin{tabular}{ll}\n",
       "\t 5 & 13\\\\\n",
       "\t 7 & 15\\\\\n",
       "\\end{tabular}\n"
      ],
      "text/markdown": [
       "\n",
       "A matrix: 2 × 2 of type int\n",
       "\n",
       "| 5 | 13 |\n",
       "| 7 | 15 |\n",
       "\n"
      ],
      "text/plain": [
       "     [,1] [,2]\n",
       "[1,] 5    13  \n",
       "[2,] 7    15  "
      ]
     },
     "metadata": {},
     "output_type": "display_data"
    }
   ],
   "source": [
    "A[c(1,3), c(2,4)]"
   ]
  },
  {
   "cell_type": "code",
   "execution_count": 4,
   "id": "6fa3a898-ac6b-4a94-8dfa-326d567f163f",
   "metadata": {},
   "outputs": [
    {
     "data": {
      "text/html": [
       "<table class=\"dataframe\">\n",
       "<caption>A matrix: 4 × 2 of type int</caption>\n",
       "<tbody>\n",
       "\t<tr><td>1</td><td>5</td></tr>\n",
       "\t<tr><td>2</td><td>6</td></tr>\n",
       "\t<tr><td>3</td><td>7</td></tr>\n",
       "\t<tr><td>4</td><td>8</td></tr>\n",
       "</tbody>\n",
       "</table>\n"
      ],
      "text/latex": [
       "A matrix: 4 × 2 of type int\n",
       "\\begin{tabular}{ll}\n",
       "\t 1 & 5\\\\\n",
       "\t 2 & 6\\\\\n",
       "\t 3 & 7\\\\\n",
       "\t 4 & 8\\\\\n",
       "\\end{tabular}\n"
      ],
      "text/markdown": [
       "\n",
       "A matrix: 4 × 2 of type int\n",
       "\n",
       "| 1 | 5 |\n",
       "| 2 | 6 |\n",
       "| 3 | 7 |\n",
       "| 4 | 8 |\n",
       "\n"
      ],
      "text/plain": [
       "     [,1] [,2]\n",
       "[1,] 1    5   \n",
       "[2,] 2    6   \n",
       "[3,] 3    7   \n",
       "[4,] 4    8   "
      ]
     },
     "metadata": {},
     "output_type": "display_data"
    }
   ],
   "source": [
    "A[,1:2]"
   ]
  },
  {
   "cell_type": "code",
   "execution_count": 5,
   "id": "b2b44ab8-eeca-4b6b-a35d-72cde7a036d4",
   "metadata": {},
   "outputs": [
    {
     "data": {
      "text/html": [
       "<style>\n",
       ".list-inline {list-style: none; margin:0; padding: 0}\n",
       ".list-inline>li {display: inline-block}\n",
       ".list-inline>li:not(:last-child)::after {content: \"\\00b7\"; padding: 0 .5ex}\n",
       "</style>\n",
       "<ol class=list-inline><li>4</li><li>4</li></ol>\n"
      ],
      "text/latex": [
       "\\begin{enumerate*}\n",
       "\\item 4\n",
       "\\item 4\n",
       "\\end{enumerate*}\n"
      ],
      "text/markdown": [
       "1. 4\n",
       "2. 4\n",
       "\n",
       "\n"
      ],
      "text/plain": [
       "[1] 4 4"
      ]
     },
     "metadata": {},
     "output_type": "display_data"
    }
   ],
   "source": [
    "dim(A)"
   ]
  }
 ],
 "metadata": {
  "kernelspec": {
   "display_name": "R",
   "language": "R",
   "name": "ir"
  },
  "language_info": {
   "codemirror_mode": "r",
   "file_extension": ".r",
   "mimetype": "text/x-r-source",
   "name": "R",
   "pygments_lexer": "r",
   "version": "4.3.1"
  }
 },
 "nbformat": 4,
 "nbformat_minor": 5
}
