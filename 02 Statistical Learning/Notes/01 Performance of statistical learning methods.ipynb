{
 "cells": [
  {
   "cell_type": "markdown",
   "id": "851ac196-9ffd-4d38-92c8-25eef853c521",
   "metadata": {},
   "source": [
    "# Perfromance of statistical learning methods"
   ]
  },
  {
   "cell_type": "markdown",
   "id": "3ef8539d-5c68-4e1a-91ca-20fdc2f75848",
   "metadata": {},
   "source": [
    "- There is a relationship between the MSE (mean squared error), the bias and the variance. This relationship is demonstrated in Figures 2.9&ndash;2.12. The whole topic is discussed pages 29&ndash;36."
   ]
  }
 ],
 "metadata": {
  "kernelspec": {
   "display_name": "R",
   "language": "R",
   "name": "ir"
  },
  "language_info": {
   "codemirror_mode": "r",
   "file_extension": ".r",
   "mimetype": "text/x-r-source",
   "name": "R",
   "pygments_lexer": "r",
   "version": "4.3.2"
  }
 },
 "nbformat": 4,
 "nbformat_minor": 5
}
