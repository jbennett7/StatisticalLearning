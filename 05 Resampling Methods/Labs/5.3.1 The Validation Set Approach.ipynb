{
 "cells": [
  {
   "cell_type": "markdown",
   "id": "7b70c53d-51fd-4c60-98a0-71785213a564",
   "metadata": {},
   "source": [
    "# The Vaildation set approach"
   ]
  },
  {
   "cell_type": "code",
   "execution_count": 1,
   "id": "652b94d8-fed6-4b55-bfa2-447eada7fd96",
   "metadata": {},
   "outputs": [],
   "source": [
    "library(ISLR2)"
   ]
  },
  {
   "cell_type": "markdown",
   "id": "9f414c6e-91f6-43da-b870-8e4492157d53",
   "metadata": {},
   "source": [
    "We begin by using the `set.seed()` function in order to set a _seed_ for `R`'s random number generator. This will assure that the results obtained can be reproduced percisely at a later time."
   ]
  },
  {
   "cell_type": "code",
   "execution_count": 2,
   "id": "80c7ba37-e52c-4c85-8050-27926944a7dc",
   "metadata": {},
   "outputs": [],
   "source": [
    "set.seed(1)"
   ]
  },
  {
   "cell_type": "markdown",
   "id": "d3ff06d4-1d79-4809-8643-1b9031dca00b",
   "metadata": {},
   "source": [
    "The `sample()` function is used to split the observations into two halves, by selecting a random subset out of the data set."
   ]
  },
  {
   "cell_type": "code",
   "execution_count": 3,
   "id": "d9c1fdba-243a-4d9f-8f95-6e6d66edbc22",
   "metadata": {},
   "outputs": [],
   "source": [
    "# select a random set of 196 observations out of 392.\n",
    "train <- sample(392, 196)"
   ]
  },
  {
   "cell_type": "markdown",
   "id": "913c6000-b5c4-46ae-a9e2-90e88bb2e0d5",
   "metadata": {},
   "source": [
    "We use the `subset` option in `lm()` to fit a linear regression using onlyt the observations corresponding to the training set."
   ]
  },
  {
   "cell_type": "code",
   "execution_count": 4,
   "id": "896774ef-9db0-4e59-8f81-441f7ad39a6f",
   "metadata": {},
   "outputs": [],
   "source": [
    "lm.fit <- lm(mpg ~ horsepower, data = Auto, subset = train)"
   ]
  },
  {
   "cell_type": "markdown",
   "id": "af9ad5da-c041-4478-a76d-c3be84b8efb9",
   "metadata": {},
   "source": [
    "We now use the `predict()` function to estimate the response for all 392 observations, and use the `mean()` function to calculate the MSE of the 196 observations in the validation set. Note the `-train` index below selects only the observations that are not in the training set."
   ]
  },
  {
   "cell_type": "code",
   "execution_count": 5,
   "id": "1b33081c-2d9e-4cee-a174-d43209db74f8",
   "metadata": {},
   "outputs": [
    {
     "data": {
      "text/html": [
       "23.2660086465003"
      ],
      "text/latex": [
       "23.2660086465003"
      ],
      "text/markdown": [
       "23.2660086465003"
      ],
      "text/plain": [
       "[1] 23.26601"
      ]
     },
     "metadata": {},
     "output_type": "display_data"
    }
   ],
   "source": [
    "attach(Auto)\n",
    "mean((mpg - predict(lm.fit, Auto))[-train]^2)"
   ]
  },
  {
   "cell_type": "markdown",
   "id": "fad62894-b847-4f42-bc37-f2e599c07bd2",
   "metadata": {},
   "source": [
    "We can use the `poly()` function to estimate the test error for the quadratic and cubic regressions."
   ]
  },
  {
   "cell_type": "code",
   "execution_count": 7,
   "id": "03ee8d90-8019-4f21-9f82-56b649460c36",
   "metadata": {},
   "outputs": [
    {
     "data": {
      "text/html": [
       "18.7164594933828"
      ],
      "text/latex": [
       "18.7164594933828"
      ],
      "text/markdown": [
       "18.7164594933828"
      ],
      "text/plain": [
       "[1] 18.71646"
      ]
     },
     "metadata": {},
     "output_type": "display_data"
    }
   ],
   "source": [
    "lm.fit2 <- lm(mpg ~ poly(horsepower, 2), data = Auto, subset = train)\n",
    "mean((mpg - predict(lm.fit2, Auto))[-train]^2)"
   ]
  },
  {
   "cell_type": "code",
   "execution_count": 8,
   "id": "ac3ccb02-061a-4ba4-892e-621c660cad32",
   "metadata": {},
   "outputs": [
    {
     "data": {
      "text/html": [
       "18.7940067973945"
      ],
      "text/latex": [
       "18.7940067973945"
      ],
      "text/markdown": [
       "18.7940067973945"
      ],
      "text/plain": [
       "[1] 18.79401"
      ]
     },
     "metadata": {},
     "output_type": "display_data"
    }
   ],
   "source": [
    "lm.fit3 <- lm(mpg ~ poly(horsepower, 3), data = Auto, subset = train)\n",
    "mean((mpg - predict(lm.fit3, Auto))[-train]^2)"
   ]
  },
  {
   "cell_type": "markdown",
   "id": "cfbef25c-a651-42f7-a740-cd028fcc63ac",
   "metadata": {},
   "source": [
    "The error rates for the quadratic and cubic regressions do better than the linear regression model. However, the cubic regression is not really better than the quadratic regression. Lets see what we get if we choose a different training set."
   ]
  },
  {
   "cell_type": "code",
   "execution_count": 9,
   "id": "81fb4c7c-5d0e-4e94-824b-11e8f655628e",
   "metadata": {},
   "outputs": [
    {
     "data": {
      "text/html": [
       "25.7265106448139"
      ],
      "text/latex": [
       "25.7265106448139"
      ],
      "text/markdown": [
       "25.7265106448139"
      ],
      "text/plain": [
       "[1] 25.72651"
      ]
     },
     "metadata": {},
     "output_type": "display_data"
    }
   ],
   "source": [
    "set.seed(2)\n",
    "train <- sample(392, 196)\n",
    "lm.fit <- lm(mpg ~ horsepower, subset = train)\n",
    "mean((mpg - predict(lm.fit, Auto))[-train]^2)"
   ]
  },
  {
   "cell_type": "code",
   "execution_count": 10,
   "id": "7052806a-e5b5-452f-a52d-e441670e01e3",
   "metadata": {},
   "outputs": [
    {
     "data": {
      "text/html": [
       "20.4303642741463"
      ],
      "text/latex": [
       "20.4303642741463"
      ],
      "text/markdown": [
       "20.4303642741463"
      ],
      "text/plain": [
       "[1] 20.43036"
      ]
     },
     "metadata": {},
     "output_type": "display_data"
    }
   ],
   "source": [
    "lm.fit2 <- lm(mpg ~ poly(horsepower, 2), data = Auto, subset = train)\n",
    "mean((mpg - predict(lm.fit2, Auto))[-train]^2)"
   ]
  },
  {
   "cell_type": "code",
   "execution_count": 11,
   "id": "0e285891-c39f-438b-bcb2-9fc9b16c83e1",
   "metadata": {},
   "outputs": [
    {
     "data": {
      "text/html": [
       "20.3853268638776"
      ],
      "text/latex": [
       "20.3853268638776"
      ],
      "text/markdown": [
       "20.3853268638776"
      ],
      "text/plain": [
       "[1] 20.38533"
      ]
     },
     "metadata": {},
     "output_type": "display_data"
    }
   ],
   "source": [
    "lm.fit3 <- lm(mpg ~ poly(horsepower, 3), data = Auto, subset = train)\n",
    "mean((mpg - predict(lm.fit3, Auto))[-train]^2)"
   ]
  },
  {
   "cell_type": "markdown",
   "id": "aedac8d6-9229-4114-8ef6-501e78bf337a",
   "metadata": {},
   "source": [
    "This is consistent with the previous findings. The quadratic and cubic regressions are better than the linear regression. However the cubic regression is not really better than the quadratic regression."
   ]
  }
 ],
 "metadata": {
  "kernelspec": {
   "display_name": "R",
   "language": "R",
   "name": "ir"
  },
  "language_info": {
   "codemirror_mode": "r",
   "file_extension": ".r",
   "mimetype": "text/x-r-source",
   "name": "R",
   "pygments_lexer": "r",
   "version": "4.3.1"
  }
 },
 "nbformat": 4,
 "nbformat_minor": 5
}
