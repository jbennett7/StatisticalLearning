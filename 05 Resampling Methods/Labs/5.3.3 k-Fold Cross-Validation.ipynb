{
 "cells": [
  {
   "cell_type": "markdown",
   "id": "ccd5436a-dae7-443e-a7e5-db7461adc3f3",
   "metadata": {},
   "source": [
    "# 5.3.3 k-Fold Cross-Validation"
   ]
  },
  {
   "cell_type": "code",
   "execution_count": 1,
   "id": "d9cca206-3113-45b7-96e6-7100be430008",
   "metadata": {},
   "outputs": [],
   "source": [
    "library(ISLR2)\n",
    "library(boot)"
   ]
  },
  {
   "cell_type": "markdown",
   "id": "352859cf-8c62-48cd-9e70-25e70de010a4",
   "metadata": {},
   "source": [
    "We use the `cv.glm()` function to do _k_-fold CV."
   ]
  },
  {
   "cell_type": "code",
   "execution_count": 2,
   "id": "f2fca9f0-befa-41c4-ab96-7fc93ff6d5b7",
   "metadata": {},
   "outputs": [
    {
     "data": {
      "text/html": [
       "<style>\n",
       ".list-inline {list-style: none; margin:0; padding: 0}\n",
       ".list-inline>li {display: inline-block}\n",
       ".list-inline>li:not(:last-child)::after {content: \"\\00b7\"; padding: 0 .5ex}\n",
       "</style>\n",
       "<ol class=list-inline><li>24.2720671232254</li><li>19.2690928085129</li><li>19.3480535605547</li><li>19.2949648229745</li><li>19.0319790002896</li><li>18.8978121056401</li><li>19.1206066690695</li><li>19.1466631054789</li><li>18.8701307442148</li><li>20.9552042280394</li></ol>\n"
      ],
      "text/latex": [
       "\\begin{enumerate*}\n",
       "\\item 24.2720671232254\n",
       "\\item 19.2690928085129\n",
       "\\item 19.3480535605547\n",
       "\\item 19.2949648229745\n",
       "\\item 19.0319790002896\n",
       "\\item 18.8978121056401\n",
       "\\item 19.1206066690695\n",
       "\\item 19.1466631054789\n",
       "\\item 18.8701307442148\n",
       "\\item 20.9552042280394\n",
       "\\end{enumerate*}\n"
      ],
      "text/markdown": [
       "1. 24.2720671232254\n",
       "2. 19.2690928085129\n",
       "3. 19.3480535605547\n",
       "4. 19.2949648229745\n",
       "5. 19.0319790002896\n",
       "6. 18.8978121056401\n",
       "7. 19.1206066690695\n",
       "8. 19.1466631054789\n",
       "9. 18.8701307442148\n",
       "10. 20.9552042280394\n",
       "\n",
       "\n"
      ],
      "text/plain": [
       " [1] 24.27207 19.26909 19.34805 19.29496 19.03198 18.89781 19.12061 19.14666\n",
       " [9] 18.87013 20.95520"
      ]
     },
     "metadata": {},
     "output_type": "display_data"
    }
   ],
   "source": [
    "set.seed(17)\n",
    "cv.error.10 <- rep(0, 10)\n",
    "for (i in 1:10) {\n",
    "    glm.fit <- glm(mpg ~ poly(horsepower, i), data = Auto)\n",
    "    cv.error.10[i] <- cv.glm(Auto, glm.fit, K = 10)$delta[1]\n",
    "}\n",
    "cv.error.10"
   ]
  },
  {
   "cell_type": "code",
   "execution_count": 3,
   "id": "23a4f554-5e26-4325-abc9-6761e0281d39",
   "metadata": {},
   "outputs": [
    {
     "data": {
      "image/png": "[encoded data removed]",
      "text/plain": [
       "plot without title"
      ]
     },
     "metadata": {
      "image/png": {
       "height": 420,
       "width": 420
      }
     },
     "output_type": "display_data"
    }
   ],
   "source": [
    "plot(cv.error.10, xlab = \"Polynomial Degree\", ylab = \"MSE\", pch = 19, type = \"b\")"
   ]
  },
  {
   "cell_type": "markdown",
   "id": "fcadb47d-8c48-401f-a33d-8f17bdd82247",
   "metadata": {},
   "source": [
    "Notice that the computation time is shorter than that of LOOCV. (In principle, the computation time for LOOCV for a least squares linear model should be faster than for _k_-fold CV, due to the availability of the formula (5.2) for LOOCV; however, unfortuantely the `cv.glm()` function does not make use of this formula.\n",
    "\\begin{align}\\tag{5.2}\n",
    "\\text{CV}_{(n)} = \\frac{1}{n} \\sum^n_{i=1} \\left( \\frac{y_i - \\hat{y}_i}{1 - h_i} \\right)^2\n",
    "\\end{align}"
   ]
  },
  {
   "cell_type": "markdown",
   "id": "09830aa5-2dc2-4992-b61b-6faa3f4d9375",
   "metadata": {},
   "source": [
    "In Section 5.3.2, the two numbers associated with `delta` are essentially the same when LOOCV is performed. When we instead perform _k_-fold CV, then the two numbers associated with the `delta` differ slightly. The first is the standard _k_-fold CV estimate, as in (5.3)\n",
    "\\begin{align}\\tag{5.3}\n",
    "\\text{CV}_{(k)} = \\frac{1}{k} \\sum^k_{i=1} \\text{MSE}_i \\text{.}\n",
    "\\end{align}\n",
    "The second is a bias-corrected version. On this data set the two estimates are very similar to each other."
   ]
  }
 ],
 "metadata": {
  "kernelspec": {
   "display_name": "R",
   "language": "R",
   "name": "ir"
  },
  "language_info": {
   "codemirror_mode": "r",
   "file_extension": ".r",
   "mimetype": "text/x-r-source",
   "name": "R",
   "pygments_lexer": "r",
   "version": "4.3.1"
  }
 },
 "nbformat": 4,
 "nbformat_minor": 5
}
