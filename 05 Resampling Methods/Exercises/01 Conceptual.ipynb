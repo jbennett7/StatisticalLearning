{
 "cells": [
  {
   "cell_type": "markdown",
   "id": "83e8d076-5043-424a-ae1f-df1826cb56eb",
   "metadata": {},
   "source": [
    "# Conceptual"
   ]
  },
  {
   "cell_type": "markdown",
   "id": "9b1ddef9-a656-49f6-aa46-fa324743f468",
   "metadata": {},
   "source": [
    "__1.__ Using basic statistical properties of the variance, as well as single variable calculus, derive (5.6). In other words, prove that $\\alpha$ given by (5.6) does indeed minimize $\\mathrm{Var}(\\alpha X + (1 - \\alpha)Y)$."
   ]
  },
  {
   "cell_type": "markdown",
   "id": "b47ec607-b2db-4683-9d66-e8aad1134256",
   "metadata": {},
   "source": [
    "\\begin{align}\\tag{5.6}\n",
    "\\alpha = \\frac{\\sigma_Y^2 - \\sigma_{XY}}{\\sigma_X^2 + \\sigma_Y^2 - 2 \\sigma_{XY}}\n",
    "\\end{align}"
   ]
  },
  {
   "cell_type": "markdown",
   "id": "4f203e25-654a-41bc-a88c-4ff2e139d515",
   "metadata": {},
   "source": [
    "where $\\sigma_X^2 = \\mathrm{Var}(X)$, $\\sigma_Y^2 = \\mathrm{Var}(Y)$, and $\\sigma_{XY} = \\mathrm{Cov}(X,Y)$."
   ]
  },
  {
   "cell_type": "markdown",
   "id": "68fd040b-7ff5-4548-9d80-65c0c164bfee",
   "metadata": {},
   "source": [
    "\\begin{align}\n",
    "\\mathrm{Var}(\\alpha X + (1 - \\alpha) Y) = \\alpha^2\\sigma_X^2 + (1 - \\alpha)^2\\sigma_Y^2 + 2\\alpha(1 - \\alpha)\\sigma_{XY}\n",
    "\\end{align}"
   ]
  },
  {
   "cell_type": "markdown",
   "id": "ff0fa9c7-d53f-48c6-8e16-a2836ac8fb96",
   "metadata": {},
   "source": [
    "We now take the fist derivative of $\\mathrm{Var}(\\alpha X + (1 - \\alpha) Y)$ relative to $\\alpha$ and we get\n",
    "\\begin{align}\n",
    "\\frac{\\partial}{\\partial\\alpha}\\mathrm{Var}(\\alpha X + (1 - \\alpha) Y) = 2\\alpha\\sigma_X^2 - 2\\sigma_Y^2 + 2\\alpha\\sigma_Y^2 + 2\\sigma_{XY} - 4\\alpha\\sigma_{XY}\n",
    "\\end{align}"
   ]
  },
  {
   "cell_type": "markdown",
   "id": "432c64f0-eef2-433d-9330-ca7e33a8fdf4",
   "metadata": {},
   "source": [
    "We now seek critical points by equalling the last expression to $0$,\n",
    "\\begin{align}\n",
    "2\\alpha\\sigma_X^2 - 2\\sigma_Y^2 + 2\\alpha\\sigma_Y^2 + 2\\sigma_{XY} - 4\\alpha\\sigma_{XY} = 0\n",
    "\\end{align}"
   ]
  },
  {
   "cell_type": "markdown",
   "id": "b67a27c4-4eda-4d89-84c0-ec3f457c5ac9",
   "metadata": {},
   "source": [
    "which implies that\n",
    "\\begin{align}\n",
    "\\alpha = \\frac{\\sigma_Y^2 - \\sigma_{XY}}{\\sigma_X^2 + \\sigma_Y^2 - 2\\sigma_{XY}}\n",
    "\\end{align}"
   ]
  },
  {
   "cell_type": "markdown",
   "id": "0cd63db6-b239-420c-9341-99251bbd5fa5",
   "metadata": {},
   "source": [
    "---"
   ]
  },
  {
   "cell_type": "markdown",
   "id": "da94e1fb-208c-49df-9f81-dd16e9f5ce9e",
   "metadata": {},
   "source": [
    "__2.__ We will now derive the probability that a given observation is part of a bootstrap sample. Suppose that we obtain a boostrap sample from a set of $n$ observations."
   ]
  },
  {
   "cell_type": "markdown",
   "id": "fab21f64-b015-4851-a078-4cc136ce7e94",
   "metadata": {},
   "source": [
    "(a) What is the probability that the first bootstrap observation is _not_ the _j_ th observation from the original sample? Justify your answer.  \n",
    "__SOLUTION__  \n",
    "\\begin{align}\n",
    "1 - 1/n\n",
    "\\end{align}"
   ]
  },
  {
   "cell_type": "markdown",
   "id": "ae82e88b-4725-4ca4-a975-ee8ee9ab4e34",
   "metadata": {},
   "source": [
    "(b) What is the probability that the second bootstrap observation is _not_ the _j_ th observation from the original sample?  \n",
    "__SOLUTION__  \n",
    "\\begin{align}\n",
    "1 - 1/n\n",
    "\\end{align}"
   ]
  },
  {
   "cell_type": "markdown",
   "id": "91ac07c1-d551-4b76-a6b6-9be651391e5c",
   "metadata": {},
   "source": [
    "(c) Argue that the probability that the _j_ th observation is _not_ in the bootstrap sample is $(1-1/n)^n$.  \n",
    "__SOLUTION__  \n",
    "Since each observation is independent, the product that the _j_ th observation is not in the bootstrap sample is\n",
    "\\begin{align}\n",
    "(1-1/n)\\cdots(1-1/n)=(1-1/n)^2\n",
    "\\end{align}"
   ]
  },
  {
   "cell_type": "markdown",
   "id": "4eb13de7-273f-4b77-9788-a50e6d658520",
   "metadata": {},
   "source": [
    "(d) When $n=5$, what is the probability that the _j_ th observation is in the bootstrap sample?  \n",
    "__SOLUTION__  \n",
    "\\begin{align}\n",
    "\\mathrm{P}(\\mathrm{jth observation in bootstrap sample})=1-(1-1/5)^5=0.672\\mathrm{.}\n",
    "\\end{align}"
   ]
  },
  {
   "cell_type": "markdown",
   "id": "39ec155c-0c34-4c2a-a2a8-7413cdd2e504",
   "metadata": {},
   "source": [
    "(e) When $n=100$, what is the probability that the _j_ th observation is in the bootstrap sample?  \n",
    "__SOLUTION__"
   ]
  },
  {
   "cell_type": "code",
   "execution_count": 1,
   "id": "96e56b48-ac2d-4b24-93ef-5a8f8478edae",
   "metadata": {},
   "outputs": [
    {
     "data": {
      "text/html": [
       "0.633967658726771"
      ],
      "text/latex": [
       "0.633967658726771"
      ],
      "text/markdown": [
       "0.633967658726771"
      ],
      "text/plain": [
       "[1] 0.6339677"
      ]
     },
     "metadata": {},
     "output_type": "display_data"
    }
   ],
   "source": [
    "1 - (1-1/100)^100"
   ]
  },
  {
   "cell_type": "markdown",
   "id": "aabe1026-17c0-41e6-b68e-ad64fa98c469",
   "metadata": {},
   "source": [
    "(f) When $n=10,000$, what is the probability that the _j_ th observation is in the bootstrap sample?"
   ]
  },
  {
   "cell_type": "code",
   "execution_count": 2,
   "id": "5c609eb9-70c9-43c9-8238-6d1943bad17c",
   "metadata": {},
   "outputs": [
    {
     "data": {
      "text/html": [
       "0.63213895356703"
      ],
      "text/latex": [
       "0.63213895356703"
      ],
      "text/markdown": [
       "0.63213895356703"
      ],
      "text/plain": [
       "[1] 0.632139"
      ]
     },
     "metadata": {},
     "output_type": "display_data"
    }
   ],
   "source": [
    "1 - (1-1/10000)^10000"
   ]
  },
  {
   "cell_type": "markdown",
   "id": "d1035d88-a7aa-45a0-babc-0e8eb78c8482",
   "metadata": {},
   "source": [
    "(g) Create a plot that displays, for each integer value of $n$ from 1 to 10,000, the probability that the _j_ th observation is in the bootstrap sample. Comment on what you observe."
   ]
  },
  {
   "cell_type": "code",
   "execution_count": 3,
   "id": "4f41a8ba-05b5-4ce0-9cb6-6191019756ff",
   "metadata": {},
   "outputs": [
    {
     "data": {
      "image/png": "[encoded data removed]",
      "text/plain": [
       "plot without title"
      ]
     },
     "metadata": {
      "image/png": {
       "height": 420,
       "width": 420
      }
     },
     "output_type": "display_data"
    }
   ],
   "source": [
    "x <- 1:10000\n",
    "plot(x, 1 - (1-1/x)^x)"
   ]
  },
  {
   "cell_type": "markdown",
   "id": "2b0f9a90-44fe-4d0a-a7a9-0a65d50d2e7f",
   "metadata": {},
   "source": [
    "The values converge very quickly to a value."
   ]
  },
  {
   "cell_type": "markdown",
   "id": "f27f464e-d9bc-4b38-bf7b-793bf7b96b36",
   "metadata": {},
   "source": [
    "(h) We will now investigate numerically the probability that a bootstrap sample of size $n=100$ contains the _j_ th observation. Here $j=4$. We repeatedly create bootstrap samples, and each time we record whether or not the fourth observation is contained in the bootstrap sample."
   ]
  },
  {
   "cell_type": "code",
   "execution_count": 4,
   "id": "b677c078-7144-4faf-bde6-af025c9d69f7",
   "metadata": {},
   "outputs": [
    {
     "data": {
      "text/html": [
       "0.6246"
      ],
      "text/latex": [
       "0.6246"
      ],
      "text/markdown": [
       "0.6246"
      ],
      "text/plain": [
       "[1] 0.6246"
      ]
     },
     "metadata": {},
     "output_type": "display_data"
    }
   ],
   "source": [
    "store <- rep(NA, 10000)\n",
    "for(i in 1:10000){\n",
    "    store[i] <- sum(sample(1:100, rep=TRUE) == 4) > 0\n",
    "}\n",
    "mean(store)"
   ]
  },
  {
   "cell_type": "markdown",
   "id": "87e748b4-e844-4397-9e19-904a0d98042a",
   "metadata": {},
   "source": [
    "Comment on the results obtained."
   ]
  },
  {
   "cell_type": "markdown",
   "id": "f864d35f-91ba-4ea2-9bd0-72ad6b966764",
   "metadata": {},
   "source": [
    "__SOLUTUION__  \n",
    "From calculus\n",
    "\\begin{align}\n",
    "\\lim_{n \\to \\infty}(1 + x/n)^x = e^x\n",
    "\\end{align}\n",
    "If we apply this to our situation then\n",
    "\\begin{align}\n",
    "1 - 1/e = 0.632 \\text{ as } n \\to \\infty\n",
    "\\end{align}"
   ]
  },
  {
   "cell_type": "markdown",
   "id": "5235c815-b35d-4fc3-9354-6b1b8a171cfb",
   "metadata": {},
   "source": [
    "---"
   ]
  },
  {
   "cell_type": "markdown",
   "id": "9ee5b415-eced-4ead-accc-371c182b4a67",
   "metadata": {},
   "source": [
    "__3.__ We now review _k_-fold cross-validation.  "
   ]
  },
  {
   "cell_type": "markdown",
   "id": "21b7af04-7790-4073-ba0f-b893fa5c3548",
   "metadata": {},
   "source": [
    "(a) Explain how _k_-fold cross-validation is implemented.  \n",
    "__SOLUTUION__  \n",
    "_k_-fold cross-validation is implemented by taking the $n$ observations and randomly splitting it into $k$ non-overlapping groups of length of (approximately) $n/k$. These groups acts as a validation set, and the remainder (of length $n-n/k$) acts as a training set. The test error is then estimated by averaging the $k$ resulting MSE estimates."
   ]
  },
  {
   "cell_type": "markdown",
   "id": "e152af18-97d6-4459-97d6-60846123f074",
   "metadata": {},
   "source": [
    "(b) What are the advantages and disadvantages of _k_-fold cross-validation relative to:  \n",
    "\n",
    "i. The validation set approach?  \n",
    "__SOLUTION__  \n",
    "The validation set approach has two main drawbacks when compared to the _k_-fold cross-validation method. First, the validation estimate of the test error rate can be highly variable (depending on precisely which observations are included in the training set and which observations are included in the validation set). Second, only a subset of the observations are used to fit the model. Since statistical methods tend to perform worse when trained on fewer observations, this suggests that the validation set error rate may tend to overestimate the test error rate for the model fit on the entire data set."
   ]
  },
  {
   "cell_type": "markdown",
   "id": "2c79bf04-a00e-4bab-baef-28422fefedda",
   "metadata": {},
   "source": [
    "ii. LOOCV?  \n",
    "__SOLUTION__  \n",
    "The LOOCV cross-validation is a special case of _k_-fold cross validation in which $k=n$. This approach has two drawbacks compared to _k_-fold cross-validation. First, it requires fitting the potentially computationally expensive model $n$ times compared to _k_-fold cross-validation which requires the model to be fitted only $k$ times. Second, the LOOCV cross-validation approach may give approximately unbiased estimates of the test error, since each training set contains $n-1$ observations; however, this approach has higher variance than _k_-fold cross-validation (since we are averaging the outputs of $n$ fitted models trained on an almost identical set of observations, these outputs are highly correlated, and the mean of highly correlated quantities has higher variance than less correlated ones). So, there is a bias-variance trade-off associated with the choice of $k$ in _k_-fold cross-validation; typically using $k=5$ or $k=10$ yield test error rate estimates that suffer neither from excessively high bias nor from very high variance."
   ]
  },
  {
   "cell_type": "markdown",
   "id": "3caf305a-b436-4336-8272-e6cf576a15e2",
   "metadata": {},
   "source": [
    "---"
   ]
  },
  {
   "cell_type": "markdown",
   "id": "0b1337b5-56d2-46be-9018-7bbe1062079f",
   "metadata": {},
   "source": [
    "__4.__ Suppose that we use some statistical learning method to make a prediction for the response $Y$ for a particular value of the predictor $X$. Carefully describe how we migh estimate the standard deviation of our prediction."
   ]
  },
  {
   "cell_type": "markdown",
   "id": "603dc216-a094-4cb9-b903-aac4a2a59d6b",
   "metadata": {},
   "source": [
    "We may estimate the standard deviation of our prediction by using the bootstrap method. In this case, rather than obtaining new independent data sets from the population and fitting our model on those data sets, we instead obtain repeated random samples from the original data set. In this case, we perform sampling with replacement $B$ times and then find the corresponding estimates and the standard deviatio of those $B$ estimates by using equation (5.8)\n",
    "\\begin{align}\n",
    "\\text{SE}_{B}(\\hat{\\alpha}) = \\sqrt{\\frac{1}{B-1} \\sum_{r=1}^B{\\left( \\hat{\\alpha}^{*r} - \\frac{1}{B} \\right)^2} }\\text{.}\\tag{5.8}\n",
    "\\end{align}"
   ]
  }
 ],
 "metadata": {
  "kernelspec": {
   "display_name": "R",
   "language": "R",
   "name": "ir"
  },
  "language_info": {
   "codemirror_mode": "r",
   "file_extension": ".r",
   "mimetype": "text/x-r-source",
   "name": "R",
   "pygments_lexer": "r",
   "version": "4.3.2"
  }
 },
 "nbformat": 4,
 "nbformat_minor": 5
}
