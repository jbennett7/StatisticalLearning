{
 "cells": [
  {
   "cell_type": "markdown",
   "id": "3f040587-fd41-432a-b257-515b31c53d22",
   "metadata": {},
   "source": [
    "# Applied"
   ]
  },
  {
   "cell_type": "markdown",
   "id": "c0aa9d74-2a45-4482-be4d-1227663e9605",
   "metadata": {},
   "source": [
    "__5.__ In Chapter 4, we used logistic regression to predict the probability of `default` using `income` and `balance` on the `Default` data set. We will now estimate the test error of this logistic regression model using the validation set approach. Do not foget to set a random seed before beginning your analysis."
   ]
  },
  {
   "cell_type": "markdown",
   "id": "beabaf37-34dd-4cba-9bc9-ea104629ebfe",
   "metadata": {},
   "source": [
    "(a) Fit a logistic regression model that uses `income` and `balance` to predict `default`"
   ]
  },
  {
   "cell_type": "code",
   "execution_count": 1,
   "id": "e53eee09-8f24-43e3-bb44-c374e9d3fbb2",
   "metadata": {},
   "outputs": [],
   "source": [
    "library(ISLR2)\n",
    "attach(Default)"
   ]
  },
  {
   "cell_type": "code",
   "execution_count": 2,
   "id": "544e8fb5-e249-4ec3-9455-6c059434b3f6",
   "metadata": {},
   "outputs": [
    {
     "data": {
      "text/plain": [
       "\n",
       "Call:\n",
       "glm(formula = default ~ income + balance, family = binomial, \n",
       "    data = Default)\n",
       "\n",
       "Coefficients:\n",
       "              Estimate Std. Error z value Pr(>|z|)    \n",
       "(Intercept) -1.154e+01  4.348e-01 -26.545  < 2e-16 ***\n",
       "income       2.081e-05  4.985e-06   4.174 2.99e-05 ***\n",
       "balance      5.647e-03  2.274e-04  24.836  < 2e-16 ***\n",
       "---\n",
       "Signif. codes:  0 ‘***’ 0.001 ‘**’ 0.01 ‘*’ 0.05 ‘.’ 0.1 ‘ ’ 1\n",
       "\n",
       "(Dispersion parameter for binomial family taken to be 1)\n",
       "\n",
       "    Null deviance: 2920.6  on 9999  degrees of freedom\n",
       "Residual deviance: 1579.0  on 9997  degrees of freedom\n",
       "AIC: 1585\n",
       "\n",
       "Number of Fisher Scoring iterations: 8\n"
      ]
     },
     "metadata": {},
     "output_type": "display_data"
    }
   ],
   "source": [
    "set.seed(1)\n",
    "fit.glm <- glm(default ~ income + balance, data = Default, family = binomial)\n",
    "summary(fit.glm)"
   ]
  },
  {
   "cell_type": "markdown",
   "id": "e75b485c-db68-4bfb-a779-6d29a6b3361c",
   "metadata": {},
   "source": [
    "(b) Using the validation set approach, estimate the test error of this model. In order to do this, you must perform the following steps:"
   ]
  },
  {
   "cell_type": "markdown",
   "id": "058a4dfd-c414-4fc2-9448-76fd3838d66c",
   "metadata": {},
   "source": [
    "i. Split the sample set into a training set and a validation set."
   ]
  },
  {
   "cell_type": "code",
   "execution_count": 3,
   "id": "5d94a699-7137-46a7-9927-f7c577856e58",
   "metadata": {},
   "outputs": [],
   "source": [
    "train <- sample(dim(Default)[1], dim(Default)[1] / 2)"
   ]
  },
  {
   "cell_type": "markdown",
   "id": "097ecc45-74e6-4519-9fc2-3b14d1953ee5",
   "metadata": {},
   "source": [
    "ii. Fit a multiple logistic regression model using only the training observations."
   ]
  },
  {
   "cell_type": "code",
   "execution_count": 4,
   "id": "006de8c5-4759-442f-9a40-ade952acb339",
   "metadata": {},
   "outputs": [
    {
     "data": {
      "text/plain": [
       "\n",
       "Call:\n",
       "glm(formula = default ~ income + balance, family = \"binomial\", \n",
       "    data = Default, subset = train)\n",
       "\n",
       "Coefficients:\n",
       "              Estimate Std. Error z value Pr(>|z|)    \n",
       "(Intercept) -1.194e+01  6.178e-01 -19.333  < 2e-16 ***\n",
       "income       3.262e-05  7.024e-06   4.644 3.41e-06 ***\n",
       "balance      5.689e-03  3.158e-04  18.014  < 2e-16 ***\n",
       "---\n",
       "Signif. codes:  0 ‘***’ 0.001 ‘**’ 0.01 ‘*’ 0.05 ‘.’ 0.1 ‘ ’ 1\n",
       "\n",
       "(Dispersion parameter for binomial family taken to be 1)\n",
       "\n",
       "    Null deviance: 1523.8  on 4999  degrees of freedom\n",
       "Residual deviance:  803.3  on 4997  degrees of freedom\n",
       "AIC: 809.3\n",
       "\n",
       "Number of Fisher Scoring iterations: 8\n"
      ]
     },
     "metadata": {},
     "output_type": "display_data"
    }
   ],
   "source": [
    "fit.glm <- glm(default ~ income + balance, data = Default, family = \"binomial\", subset = train)\n",
    "summary(fit.glm)"
   ]
  },
  {
   "cell_type": "markdown",
   "id": "bc07c1af-dd47-4ccc-9d13-17b3c01741ca",
   "metadata": {},
   "source": [
    "iii. Obtain a prediction of default status for each individual in default for that individual, and classifying the individual to the `default` category if the posterior probability is greater than $0.5$."
   ]
  },
  {
   "cell_type": "code",
   "execution_count": 5,
   "id": "0997280e-0a26-481e-99bc-5c8cd8389ff5",
   "metadata": {},
   "outputs": [],
   "source": [
    "pred <- predict(fit.glm, newdata = Default[-train,], type = \"response\")\n",
    "pred.glm <- rep(\"No\", length(pred))\n",
    "pred.glm[pred > 0.5] <- \"Yes\""
   ]
  },
  {
   "cell_type": "markdown",
   "id": "b22bba5d-25ce-4621-82e2-2526e799772b",
   "metadata": {},
   "source": [
    "iv. Compute the validation set error, which is the fraction of the observations in the validation set that are misclassified."
   ]
  },
  {
   "cell_type": "code",
   "execution_count": 6,
   "id": "d733e94a-8183-44e3-b850-b4b5e68ed8d7",
   "metadata": {},
   "outputs": [
    {
     "data": {
      "text/html": [
       "0.0254"
      ],
      "text/latex": [
       "0.0254"
      ],
      "text/markdown": [
       "0.0254"
      ],
      "text/plain": [
       "[1] 0.0254"
      ]
     },
     "metadata": {},
     "output_type": "display_data"
    }
   ],
   "source": [
    "vse <- c(mean(pred.glm != Default[-train, ]$default))\n",
    "vse"
   ]
  },
  {
   "cell_type": "markdown",
   "id": "309c3107-f65e-40ac-895d-c175e79cce53",
   "metadata": {},
   "source": [
    "We have a $2.54\\%$ test error rate with the vaildation set approach."
   ]
  },
  {
   "cell_type": "markdown",
   "id": "11699c99-fa72-4ce2-b47e-513f5ef29af2",
   "metadata": {},
   "source": [
    "(c) Repeat the process in (b) three times, using three different splits of the observations into a training set and a validation set. Comment on the results obtained."
   ]
  },
  {
   "cell_type": "code",
   "execution_count": 7,
   "id": "7647d360-d4da-40ae-b0c4-245b04f83d27",
   "metadata": {},
   "outputs": [
    {
     "name": "stdout",
     "output_type": "stream",
     "text": [
      "Test Error Rate for attempt 1 : 2.54 % \n",
      "Test Error Rate for attempt 2 : 2.74 % \n",
      "Test Error Rate for attempt 3 : 2.44 % \n",
      "Test Error Rate for attempt 4 : 2.44 % \n"
     ]
    }
   ],
   "source": [
    "for (i in 1:3) {\n",
    "    train <- sample(dim(Default)[1], dim(Default)[1] / 2)\n",
    "    fit.glm <- glm(default ~ income + balance, data = Default, family = \"binomial\", subset = train)\n",
    "    pred <- predict(fit.glm, newdata = Default[-train,], type = \"response\")\n",
    "    pred.glm <- rep(\"No\", length(pred))\n",
    "    pred.glm[pred > 0.5] <- \"Yes\"\n",
    "    vse <- c(vse, mean(pred.glm != Default[-train,]$default))\n",
    "}\n",
    "for (i in 1:length(vse)) {\n",
    "    cat(\"Test Error Rate for attempt\", i, \":\", vse[i]*100, \"%\", \"\\n\")\n",
    "}"
   ]
  },
  {
   "cell_type": "markdown",
   "id": "71eb6137-1441-4004-bd70-2653fcf53c6c",
   "metadata": {},
   "source": [
    "We see that the validation estimate of the test error rate can be variable, depending on precisely which observations are included in the training set and which observations are in the validation set."
   ]
  },
  {
   "cell_type": "markdown",
   "id": "59b551c8-8b37-4282-a7df-0d7423e1e5d1",
   "metadata": {},
   "source": [
    "(d) Now consider a logistic regression model that predicts the probability of `default` using `income`, `balance`, and a dummy variable for `student`. Estimate the test error for this model using the validation set approach. Comment on whether or not including a dummy variable for `student` leads to a reduction in the test error rate."
   ]
  },
  {
   "cell_type": "code",
   "execution_count": 8,
   "id": "9cf768ab-3774-4f27-8a13-4e2b218b2fb7",
   "metadata": {},
   "outputs": [
    {
     "data": {
      "text/html": [
       "0.0278"
      ],
      "text/latex": [
       "0.0278"
      ],
      "text/markdown": [
       "0.0278"
      ],
      "text/plain": [
       "[1] 0.0278"
      ]
     },
     "metadata": {},
     "output_type": "display_data"
    }
   ],
   "source": [
    "train <- sample(dim(Default)[1], dim(Default)[1] / 2)\n",
    "fit.glm <- glm(default ~ income + balance + student, data = Default, family = \"binomial\", subset = train)\n",
    "pred.glm <- rep(\"No\", length(pred))\n",
    "pred <- predict(fit.glm, newdata = Default[-train,], type = \"response\")\n",
    "pred.glm[pred > 0.5] <- \"Yes\"\n",
    "mean(pred.glm != Default[-train,]$default)"
   ]
  },
  {
   "cell_type": "markdown",
   "id": "3dab0203-161a-4dc4-a472-3185af8123be",
   "metadata": {},
   "source": [
    "Adding the `student` dummy variable does not result in a reduction in the test error rate."
   ]
  },
  {
   "cell_type": "markdown",
   "id": "9d1fc49e-49c9-45b8-a427-560c19690a07",
   "metadata": {},
   "source": [
    "---"
   ]
  },
  {
   "cell_type": "markdown",
   "id": "7a72e129-2fc9-490d-8f2f-e195fe258b4c",
   "metadata": {},
   "source": [
    "__6.__ We continue to consider the use of a logistic regression model to predict the probability of `default` using `income` and `balance` on the `Default` data set. In particular, we will now compute estimates for the standard errors of the `income` and `balance` logistic regression coefficients in two different ways: (1) using the bootstrap, and (2) using the standard formula for computing the standard errors in the `glm()` function. Do not forget to set a random seed before beginning your analysis."
   ]
  },
  {
   "cell_type": "markdown",
   "id": "bc0d67d5-d575-4e64-bcc5-ea4cbf77c4c0",
   "metadata": {},
   "source": [
    "(a) Using the `summary()` and `glm()` functions, determine the estimated standard errors for the coefficients associated with `income` and `balance` in a multiple logistic regression model that uses both predictors."
   ]
  },
  {
   "cell_type": "markdown",
   "id": "e33e7b5d-a66a-4fcd-81e1-e216828781d8",
   "metadata": {},
   "source": [
    "We already utilized this in 5(a)."
   ]
  },
  {
   "cell_type": "code",
   "execution_count": 9,
   "id": "fcefe22a-5dc3-4679-990d-fcd66a9f84aa",
   "metadata": {},
   "outputs": [
    {
     "data": {
      "text/plain": [
       "\n",
       "Call:\n",
       "glm(formula = default ~ income + balance, family = binomial, \n",
       "    data = Default)\n",
       "\n",
       "Coefficients:\n",
       "              Estimate Std. Error z value Pr(>|z|)    \n",
       "(Intercept) -1.154e+01  4.348e-01 -26.545  < 2e-16 ***\n",
       "income       2.081e-05  4.985e-06   4.174 2.99e-05 ***\n",
       "balance      5.647e-03  2.274e-04  24.836  < 2e-16 ***\n",
       "---\n",
       "Signif. codes:  0 ‘***’ 0.001 ‘**’ 0.01 ‘*’ 0.05 ‘.’ 0.1 ‘ ’ 1\n",
       "\n",
       "(Dispersion parameter for binomial family taken to be 1)\n",
       "\n",
       "    Null deviance: 2920.6  on 9999  degrees of freedom\n",
       "Residual deviance: 1579.0  on 9997  degrees of freedom\n",
       "AIC: 1585\n",
       "\n",
       "Number of Fisher Scoring iterations: 8\n"
      ]
     },
     "metadata": {},
     "output_type": "display_data"
    }
   ],
   "source": [
    "set.seed(1)\n",
    "fit.glm <- glm(default ~ income + balance, data = Default, family = binomial)\n",
    "(fit.sum <- summary(fit.glm))"
   ]
  },
  {
   "cell_type": "code",
   "execution_count": 10,
   "id": "bc6e3321-7680-48b5-bac4-1922144e811d",
   "metadata": {},
   "outputs": [
    {
     "name": "stdout",
     "output_type": "stream",
     "text": [
      "Estimated Standard errors for the model:\n"
     ]
    },
    {
     "data": {
      "text/html": [
       "<style>\n",
       ".dl-inline {width: auto; margin:0; padding: 0}\n",
       ".dl-inline>dt, .dl-inline>dd {float: none; width: auto; display: inline-block}\n",
       ".dl-inline>dt::after {content: \":\\0020\"; padding-right: .5ex}\n",
       ".dl-inline>dt:not(:first-of-type) {padding-left: .5ex}\n",
       "</style><dl class=dl-inline><dt>(Intercept)</dt><dd>0.434756357486526</dd><dt>income</dt><dd>4.98516717786302e-06</dd><dt>balance</dt><dd>0.000227373141926648</dd></dl>\n"
      ],
      "text/latex": [
       "\\begin{description*}\n",
       "\\item[(Intercept)] 0.434756357486526\n",
       "\\item[income] 4.98516717786302e-06\n",
       "\\item[balance] 0.000227373141926648\n",
       "\\end{description*}\n"
      ],
      "text/markdown": [
       "(Intercept)\n",
       ":   0.434756357486526income\n",
       ":   4.98516717786302e-06balance\n",
       ":   0.000227373141926648\n",
       "\n"
      ],
      "text/plain": [
       " (Intercept)       income      balance \n",
       "4.347564e-01 4.985167e-06 2.273731e-04 "
      ]
     },
     "metadata": {},
     "output_type": "display_data"
    }
   ],
   "source": [
    "cat(\"Estimated Standard errors for the model:\\n\")\n",
    "coef(fit.sum)[,2]"
   ]
  },
  {
   "cell_type": "markdown",
   "id": "4d0db44c-5837-4386-82e0-031100bf8c81",
   "metadata": {},
   "source": [
    "(b) Write a function, `boot.fn()`, that takes as input the `Default` data set as well as an index of the observations, and that outputs the coefficient estmates for `income` and `balance` in the multiple logistic model."
   ]
  },
  {
   "cell_type": "code",
   "execution_count": 11,
   "id": "45cb3085-8d44-4f19-8484-5b73789ee68e",
   "metadata": {},
   "outputs": [],
   "source": [
    "boot.fn <- function(data, index) {\n",
    "    fit <- glm(default ~ income + balance, data = data, family = binomial, subset = index)\n",
    "    return(coef(fit))\n",
    "}"
   ]
  },
  {
   "cell_type": "markdown",
   "id": "341c9465-9c51-4c14-bdf5-a20c5c37e7d9",
   "metadata": {},
   "source": [
    "(c) Use the `boot()` function together with your `boot.fn()` function to estimate the standard errors of the logistic regression coefficients for `income` and `balance`."
   ]
  },
  {
   "cell_type": "code",
   "execution_count": 12,
   "id": "6cfb1b81-2a88-4194-810e-ae40ab8daa74",
   "metadata": {},
   "outputs": [
    {
     "data": {
      "text/plain": [
       "\n",
       "ORDINARY NONPARAMETRIC BOOTSTRAP\n",
       "\n",
       "\n",
       "Call:\n",
       "boot(data = Default, statistic = boot.fn, R = 1000)\n",
       "\n",
       "\n",
       "Bootstrap Statistics :\n",
       "         original        bias     std. error\n",
       "t1* -1.154047e+01 -3.945460e-02 4.344722e-01\n",
       "t2*  2.080898e-05  1.680317e-07 4.866284e-06\n",
       "t3*  5.647103e-03  1.855765e-05 2.298949e-04"
      ]
     },
     "metadata": {},
     "output_type": "display_data"
    }
   ],
   "source": [
    "library(boot)\n",
    "boot(Default, boot.fn, 1000)"
   ]
  },
  {
   "cell_type": "markdown",
   "id": "06a05981-cd52-461f-a7e5-592ec40753f8",
   "metadata": {},
   "source": [
    "The bootstrap estimates of the standard errors for the coefficients  $\\beta_0$, $\\beta_1$, and $\\beta_2$."
   ]
  },
  {
   "cell_type": "markdown",
   "id": "14acd0a3-663c-4b95-8695-c5f0b0dd5ecc",
   "metadata": {},
   "source": [
    "(d) Comment on the estimated standard errors obtained using the `glm()` function and using your bootstrap function."
   ]
  },
  {
   "cell_type": "markdown",
   "id": "2078eae4-f85b-406c-8237-2cdb59e76aac",
   "metadata": {},
   "source": [
    "The estimated standard errors between the two is pretty close."
   ]
  }
 ],
 "metadata": {
  "kernelspec": {
   "display_name": "R",
   "language": "R",
   "name": "ir"
  },
  "language_info": {
   "codemirror_mode": "r",
   "file_extension": ".r",
   "mimetype": "text/x-r-source",
   "name": "R",
   "pygments_lexer": "r",
   "version": "4.3.2"
  }
 },
 "nbformat": 4,
 "nbformat_minor": 5
}
