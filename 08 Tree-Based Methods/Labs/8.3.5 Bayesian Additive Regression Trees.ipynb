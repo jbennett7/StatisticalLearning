{
 "cells": [
  {
   "cell_type": "markdown",
   "id": "4ceadd4f-966e-4a0b-bdfe-7917dfdd19c7",
   "metadata": {},
   "source": [
    "# 8.3.5 Bayesian Additive Regression Trees"
   ]
  },
  {
   "cell_type": "code",
   "execution_count": 1,
   "id": "40ea7be4-ae08-476f-9cf5-c2e661de3fa2",
   "metadata": {},
   "outputs": [],
   "source": [
    "library(ISLR2)\n",
    "set.seed(1)\n",
    "train <- sample(1:nrow(Boston), nrow(Boston) / 2)"
   ]
  },
  {
   "cell_type": "markdown",
   "id": "31b9ec51-9866-496d-aed2-d5bafb49e8cc",
   "metadata": {},
   "source": [
    "In this section we use the `BART` package, and within it the `gbart()` function, to fit a Baysian additive regression tree model to the `Boston` housing data set. The `gbart()` function is designed or quantitative outcome variables. For binary outcomes, `lbart()` and `pbart()` are available."
   ]
  },
  {
   "cell_type": "markdown",
   "id": "dd4ffb85-3ab3-4638-a999-f03be24c7b0d",
   "metadata": {},
   "source": [
    "To run the `gbart()` function, we must first create matrices of predictors for the training and test data. We run BART with default settings."
   ]
  },
  {
   "cell_type": "code",
   "execution_count": 2,
   "id": "31d6b5d8-c0a3-4198-a5d0-774d7f95ff1e",
   "metadata": {},
   "outputs": [
    {
     "name": "stderr",
     "output_type": "stream",
     "text": [
      "Loading required package: nlme\n",
      "\n",
      "Loading required package: nnet\n",
      "\n",
      "Loading required package: survival\n",
      "\n"
     ]
    },
    {
     "name": "stdout",
     "output_type": "stream",
     "text": [
      "*****Calling gbart: type=1\n",
      "*****Data:\n",
      "data:n,p,np: 253, 12, 253\n",
      "y1,yn: 0.213439, -5.486561\n",
      "x1,x[n*p]: 0.109590, 20.080000\n",
      "xp1,xp[np*p]: 0.027310, 7.880000\n",
      "*****Number of Trees: 200\n",
      "*****Number of Cut Points: 100 ... 100\n",
      "*****burn,nd,thin: 100,1000,1\n",
      "*****Prior:beta,alpha,tau,nu,lambda,offset: 2,0.95,0.795495,3,3.71636,21.7866\n",
      "*****sigma: 4.367914\n",
      "*****w (weights): 1.000000 ... 1.000000\n",
      "*****Dirichlet:sparse,theta,omega,a,b,rho,augment: 0,0,1,0.5,1,12,0\n",
      "*****printevery: 100\n",
      "\n",
      "MCMC\n",
      "done 0 (out of 1100)\n",
      "done 100 (out of 1100)\n",
      "done 200 (out of 1100)\n",
      "done 300 (out of 1100)\n",
      "done 400 (out of 1100)\n",
      "done 500 (out of 1100)\n",
      "done 600 (out of 1100)\n",
      "done 700 (out of 1100)\n",
      "done 800 (out of 1100)\n",
      "done 900 (out of 1100)\n",
      "done 1000 (out of 1100)\n",
      "time: 3s\n",
      "trcnt,tecnt: 1000,1000\n"
     ]
    }
   ],
   "source": [
    "library(BART)\n",
    "x <- Boston[, 1:12]\n",
    "y <- Boston[, \"medv\"]\n",
    "xtrain <- x[train,]\n",
    "ytrain <- y[train]\n",
    "xtest <- x[-train,]\n",
    "ytest <- y[-train]\n",
    "set.seed(1)\n",
    "bartfit <- gbart(xtrain, ytrain, x.test = xtest)"
   ]
  },
  {
   "cell_type": "markdown",
   "id": "92c9530f-540c-4fc2-8675-4b461b2faefd",
   "metadata": {},
   "source": [
    "Next we compute the test error."
   ]
  },
  {
   "cell_type": "code",
   "execution_count": 3,
   "id": "8bd745a2-e06f-49d4-a1dd-983ddd65e3b1",
   "metadata": {},
   "outputs": [
    {
     "data": {
      "text/html": [
       "15.9471818576973"
      ],
      "text/latex": [
       "15.9471818576973"
      ],
      "text/markdown": [
       "15.9471818576973"
      ],
      "text/plain": [
       "[1] 15.94718"
      ]
     },
     "metadata": {},
     "output_type": "display_data"
    }
   ],
   "source": [
    "yhat.bart <- bartfit$yhat.test.mean\n",
    "mean((ytest - yhat.bart)^2)"
   ]
  },
  {
   "cell_type": "markdown",
   "id": "ba9882a1-84a1-4f98-9f7b-f94b01ed3aed",
   "metadata": {},
   "source": [
    "On this data set, the test error of BART is lower than the test error of random forests and boosting."
   ]
  },
  {
   "cell_type": "markdown",
   "id": "de51b1b6-9ac2-4992-9128-cc9b977251c7",
   "metadata": {},
   "source": [
    "Now we can check how many times each variable appeared in the collection of trees."
   ]
  },
  {
   "cell_type": "code",
   "execution_count": 4,
   "id": "ee190ae6-798a-42a0-94d2-90cccfc6e5d6",
   "metadata": {},
   "outputs": [
    {
     "data": {
      "text/html": [
       "<style>\n",
       ".dl-inline {width: auto; margin:0; padding: 0}\n",
       ".dl-inline>dt, .dl-inline>dd {float: none; width: auto; display: inline-block}\n",
       ".dl-inline>dt::after {content: \":\\0020\"; padding-right: .5ex}\n",
       ".dl-inline>dt:not(:first-of-type) {padding-left: .5ex}\n",
       "</style><dl class=dl-inline><dt>nox</dt><dd>22.952</dd><dt>lstat</dt><dd>21.329</dd><dt>tax</dt><dd>21.25</dd><dt>rad</dt><dd>20.781</dd><dt>rm</dt><dd>19.89</dd><dt>indus</dt><dd>19.825</dd><dt>chas</dt><dd>19.051</dd><dt>ptratio</dt><dd>18.976</dd><dt>age</dt><dd>18.274</dd><dt>zn</dt><dd>15.952</dd><dt>dis</dt><dd>14.457</dd><dt>crim</dt><dd>11.007</dd></dl>\n"
      ],
      "text/latex": [
       "\\begin{description*}\n",
       "\\item[nox] 22.952\n",
       "\\item[lstat] 21.329\n",
       "\\item[tax] 21.25\n",
       "\\item[rad] 20.781\n",
       "\\item[rm] 19.89\n",
       "\\item[indus] 19.825\n",
       "\\item[chas] 19.051\n",
       "\\item[ptratio] 18.976\n",
       "\\item[age] 18.274\n",
       "\\item[zn] 15.952\n",
       "\\item[dis] 14.457\n",
       "\\item[crim] 11.007\n",
       "\\end{description*}\n"
      ],
      "text/markdown": [
       "nox\n",
       ":   22.952lstat\n",
       ":   21.329tax\n",
       ":   21.25rad\n",
       ":   20.781rm\n",
       ":   19.89indus\n",
       ":   19.825chas\n",
       ":   19.051ptratio\n",
       ":   18.976age\n",
       ":   18.274zn\n",
       ":   15.952dis\n",
       ":   14.457crim\n",
       ":   11.007\n",
       "\n"
      ],
      "text/plain": [
       "    nox   lstat     tax     rad      rm   indus    chas ptratio     age      zn \n",
       " 22.952  21.329  21.250  20.781  19.890  19.825  19.051  18.976  18.274  15.952 \n",
       "    dis    crim \n",
       " 14.457  11.007 "
      ]
     },
     "metadata": {},
     "output_type": "display_data"
    }
   ],
   "source": [
    "ord <- order(bartfit$varcount.mean, decreasing = T)\n",
    "bartfit$varcount.mean[ord]"
   ]
  }
 ],
 "metadata": {
  "kernelspec": {
   "display_name": "R",
   "language": "R",
   "name": "ir"
  },
  "language_info": {
   "codemirror_mode": "r",
   "file_extension": ".r",
   "mimetype": "text/x-r-source",
   "name": "R",
   "pygments_lexer": "r",
   "version": "4.3.1"
  }
 },
 "nbformat": 4,
 "nbformat_minor": 5
}
