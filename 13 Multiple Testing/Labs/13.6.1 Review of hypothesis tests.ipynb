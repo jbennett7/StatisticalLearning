{
 "cells": [
  {
   "cell_type": "markdown",
   "id": "a113a2bd-3d26-4fd8-b689-576809349f3c",
   "metadata": {},
   "source": [
    "# Review of Hypothesis Tests"
   ]
  },
  {
   "cell_type": "markdown",
   "id": "43afb4e3-4432-447d-b0c5-1f56cf2e6e56",
   "metadata": {},
   "source": [
    "We begin by performing some one-sample t-tests using the `t.test()` function. First we create 100 variables, each consisting of 10 observations. The first 50 variables have mean 0.5 and variance 1, while the others have mean 0 and variance 1."
   ]
  },
  {
   "cell_type": "code",
   "execution_count": 1,
   "id": "19d70caf-3585-4cda-a716-699127b344fe",
   "metadata": {},
   "outputs": [],
   "source": [
    "set.seed(6)\n",
    "x <- matrix(rnorm(10 * 100), 10, 100)\n",
    "x[, 1:50] <- x[,1:50] + 0.5"
   ]
  },
  {
   "cell_type": "markdown",
   "id": "674a897a-eb0f-4ce6-b4ba-d12f89d530e7",
   "metadata": {},
   "source": [
    "The `t.test()` function can perform a one-sample or a two-sample t-test. By default, a one-sample test is performed. To begin, we test $H_0 : \\mu_1 = 0$ the null hypothesis that the first variable has mean zero."
   ]
  },
  {
   "cell_type": "code",
   "execution_count": 2,
   "id": "c7bfcc27-5fc8-41b2-ace4-c67f171b43bd",
   "metadata": {},
   "outputs": [
    {
     "data": {
      "text/plain": [
       "\n",
       "\tOne Sample t-test\n",
       "\n",
       "data:  x[, 1]\n",
       "t = 2.0841, df = 9, p-value = 0.06682\n",
       "alternative hypothesis: true mean is not equal to 0\n",
       "95 percent confidence interval:\n",
       " -0.05171076  1.26242719\n",
       "sample estimates:\n",
       "mean of x \n",
       "0.6053582 \n"
      ]
     },
     "metadata": {},
     "output_type": "display_data"
    }
   ],
   "source": [
    "t.test(x[,1], mu = 0)"
   ]
  },
  {
   "cell_type": "markdown",
   "id": "3cd784d5-0833-4e1f-9bc9-94fdaf849268",
   "metadata": {},
   "source": [
    "The p-value comes out to 0.067, which is not quite low enough to reject the null hypothesis at level $\\alpha = 0.05$. In this case, $\\mu_1 = 0.5$, so the null hypothesis is false. Therefore, we have made a Type II error by failing to reject the null hypothesis when the null hypothesis is false."
   ]
  },
  {
   "cell_type": "markdown",
   "id": "031238f3-ba69-4ab7-9e2f-99f4f942f8ba",
   "metadata": {},
   "source": [
    "We now test $H_{0j} : \\mu_1 = 0$ for $j = 1, \\ldots, 100$. We compute the 100 p-values, and then construct a vector recording whether the jth p-value is less than or equal to $0.05$, in which case we reject $H_{oj}$, or greater than $0.05$, in which case we do not reject $H_{0j}$, for $j = 1, \\ldots, 100$."
   ]
  },
  {
   "cell_type": "code",
   "execution_count": 3,
   "id": "daad212d-4a43-4a23-8508-036481c25ebe",
   "metadata": {},
   "outputs": [],
   "source": [
    "p.values <- rep(0, 100)\n",
    "for (i in 1:100)\n",
    "    p.values[i] <- t.test(x[,i], mu = 0)$p.value\n",
    "decision <- rep(\"Do not reject H0\", 100)\n",
    "decision[p.values <= .05] <- \"Reject H0\""
   ]
  },
  {
   "cell_type": "markdown",
   "id": "30258903-f7b9-4a20-85a7-8ee9cd9e44ae",
   "metadata": {},
   "source": [
    "Since this is a simulated data set, we can create a $2 \\times 2$ table similar to Table 13.2."
   ]
  },
  {
   "cell_type": "code",
   "execution_count": 4,
   "id": "e10ac6fd-ff44-4c7b-9ecf-6472a24f888b",
   "metadata": {},
   "outputs": [
    {
     "data": {
      "text/plain": [
       "                  \n",
       "decision           H0 is False H0 is True\n",
       "  Do not reject H0          40         47\n",
       "  Reject H0                 10          3"
      ]
     },
     "metadata": {},
     "output_type": "display_data"
    }
   ],
   "source": [
    "table(decision, c(rep(\"H0 is False\", 50), rep(\"H0 is True\", 50)))"
   ]
  },
  {
   "cell_type": "markdown",
   "id": "58fc9bcb-05eb-4ea3-8db7-4d2ad696e481",
   "metadata": {},
   "source": [
    "Therefore, at level $\\alpha = 0.05$, we reject just 10 of the 50 false null hypotheses, and we incorrectly reject 3 of the true null hypotheses. Using the notation from Section 13.3, we have $W = 40$, $U = 47$, $S = 10$, and $V = 3$. Note that the rows and columns of this table are reversed relative to Table 13.2. We have set $\\alpha = 0.05$, which means that we expect to reject around $5\\%$ of the true null hypotheses. This is in line with the $2 \\times 2$ table above, which indicates that we rejected $V = 3$ of teh 50 true null hypotheses."
   ]
  },
  {
   "cell_type": "markdown",
   "id": "6df3464a-b1d9-4c89-a6ac-8729aca3e4de",
   "metadata": {},
   "source": [
    "In the simulation above, for the false null hypotheses, the ratio of the mean to the standard deviation was only $0.5/1 = 0.5$. This amounts to quite a weak signal, and it resulted in a high number of Type II errors. If we instead simulate data with a stronger signal, so that the ratio of the mean to the standard deviation for the false null hypotheses equals 1, then we make only 9 Type II errors."
   ]
  },
  {
   "cell_type": "code",
   "execution_count": 5,
   "id": "bc1e67bc-f00f-4d0f-a3e8-37889302c36d",
   "metadata": {},
   "outputs": [
    {
     "data": {
      "text/plain": [
       "                  \n",
       "decision           H0 is False H0 is True\n",
       "  Do not reject H0           9         49\n",
       "  Reject H0                 41          1"
      ]
     },
     "metadata": {},
     "output_type": "display_data"
    }
   ],
   "source": [
    "x <- matrix(rnorm(10 * 100), 10, 100)\n",
    "x[,1:50] <- x[, 1:50] + 1\n",
    "for (i in 1:100)\n",
    "    p.values[i] <- t.test(x[,i], mu = 0)$p.value\n",
    "decision <- rep(\"Do not reject H0\", 100)\n",
    "decision[p.values <= .05] <- \"Reject H0\"\n",
    "table(decision, c(rep(\"H0 is False\", 50), rep(\"H0 is True\", 50)))"
   ]
  }
 ],
 "metadata": {
  "kernelspec": {
   "display_name": "R",
   "language": "R",
   "name": "ir"
  },
  "language_info": {
   "codemirror_mode": "r",
   "file_extension": ".r",
   "mimetype": "text/x-r-source",
   "name": "R",
   "pygments_lexer": "r",
   "version": "4.3.3"
  }
 },
 "nbformat": 4,
 "nbformat_minor": 5
}
