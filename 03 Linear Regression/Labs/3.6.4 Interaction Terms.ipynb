{
 "cells": [
  {
   "cell_type": "markdown",
   "id": "132b348b",
   "metadata": {},
   "source": [
    "# Interaction Terms\n",
    "It is easy to include interaction terms in a linear model using the `lm()` function. The syntax `lstat:black` tells `R` to include an interaction term between `lstat` and `black`. The syntax `lstat * age` simultaneously includes `lstat`, `age`, and the interaction term `lstat`$\\times$`age` as predictors; it is a shorthand for `lstat + age + lstat:age`"
   ]
  },
  {
   "cell_type": "code",
   "execution_count": 1,
   "id": "2c6f5887",
   "metadata": {},
   "outputs": [
    {
     "data": {
      "text/plain": [
       "\n",
       "Call:\n",
       "lm(formula = medv ~ lstat * age, data = Boston)\n",
       "\n",
       "Residuals:\n",
       "    Min      1Q  Median      3Q     Max \n",
       "-15.806  -4.045  -1.333   2.085  27.552 \n",
       "\n",
       "Coefficients:\n",
       "              Estimate Std. Error t value Pr(>|t|)    \n",
       "(Intercept) 36.0885359  1.4698355  24.553  < 2e-16 ***\n",
       "lstat       -1.3921168  0.1674555  -8.313 8.78e-16 ***\n",
       "age         -0.0007209  0.0198792  -0.036   0.9711    \n",
       "lstat:age    0.0041560  0.0018518   2.244   0.0252 *  \n",
       "---\n",
       "Signif. codes:  0 ‘***’ 0.001 ‘**’ 0.01 ‘*’ 0.05 ‘.’ 0.1 ‘ ’ 1\n",
       "\n",
       "Residual standard error: 6.149 on 502 degrees of freedom\n",
       "Multiple R-squared:  0.5557,\tAdjusted R-squared:  0.5531 \n",
       "F-statistic: 209.3 on 3 and 502 DF,  p-value: < 2.2e-16\n"
      ]
     },
     "metadata": {},
     "output_type": "display_data"
    }
   ],
   "source": [
    "library(ISLR2)\n",
    "summary(lm(medv ~ lstat * age, data = Boston))"
   ]
  }
 ],
 "metadata": {
  "kernelspec": {
   "display_name": "R",
   "language": "R",
   "name": "ir"
  },
  "language_info": {
   "codemirror_mode": "r",
   "file_extension": ".r",
   "mimetype": "text/x-r-source",
   "name": "R",
   "pygments_lexer": "r",
   "version": "4.3.1"
  }
 },
 "nbformat": 4,
 "nbformat_minor": 5
}
