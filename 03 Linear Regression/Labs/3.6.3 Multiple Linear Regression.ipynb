{
 "cells": [
  {
   "cell_type": "markdown",
   "id": "c374d27a",
   "metadata": {},
   "source": [
    "# 3.6.3 Multiple Linear Regression\n",
    "In order to fit a multiple linear regression model using least squares, we again use the `lm()` function. The syntax `lm(y ~ x1 + x2 + x3)` is used to fit a model with three predictors, `x1`, `x2`, and `x3`. The `summary()` function now outputs the regression coefficients for all the predictors."
   ]
  },
  {
   "cell_type": "code",
   "execution_count": 1,
   "id": "d428d81a",
   "metadata": {},
   "outputs": [],
   "source": [
    "library(ISLR2)"
   ]
  },
  {
   "cell_type": "code",
   "execution_count": 2,
   "id": "a655f0f1",
   "metadata": {},
   "outputs": [
    {
     "data": {
      "text/plain": [
       "\n",
       "Call:\n",
       "lm(formula = medv ~ lstat + age, data = Boston)\n",
       "\n",
       "Residuals:\n",
       "    Min      1Q  Median      3Q     Max \n",
       "-15.981  -3.978  -1.283   1.968  23.158 \n",
       "\n",
       "Coefficients:\n",
       "            Estimate Std. Error t value Pr(>|t|)    \n",
       "(Intercept) 33.22276    0.73085  45.458  < 2e-16 ***\n",
       "lstat       -1.03207    0.04819 -21.416  < 2e-16 ***\n",
       "age          0.03454    0.01223   2.826  0.00491 ** \n",
       "---\n",
       "Signif. codes:  0 ‘***’ 0.001 ‘**’ 0.01 ‘*’ 0.05 ‘.’ 0.1 ‘ ’ 1\n",
       "\n",
       "Residual standard error: 6.173 on 503 degrees of freedom\n",
       "Multiple R-squared:  0.5513,\tAdjusted R-squared:  0.5495 \n",
       "F-statistic:   309 on 2 and 503 DF,  p-value: < 2.2e-16\n"
      ]
     },
     "metadata": {},
     "output_type": "display_data"
    }
   ],
   "source": [
    "lm.fit <- lm(medv ~ lstat + age, data = Boston)\n",
    "summary(lm.fit)"
   ]
  },
  {
   "cell_type": "markdown",
   "id": "940dabe6",
   "metadata": {},
   "source": [
    "The `Boston` data set contains $12$ variables, and so it would be cumbersome to have to type all of these in order to perform a regression using all of the predictors. Instead, we can use the following short-hand:"
   ]
  },
  {
   "cell_type": "code",
   "execution_count": 3,
   "id": "8ba7c597",
   "metadata": {},
   "outputs": [
    {
     "data": {
      "text/plain": [
       "\n",
       "Call:\n",
       "lm(formula = medv ~ ., data = Boston)\n",
       "\n",
       "Residuals:\n",
       "     Min       1Q   Median       3Q      Max \n",
       "-15.1304  -2.7673  -0.5814   1.9414  26.2526 \n",
       "\n",
       "Coefficients:\n",
       "              Estimate Std. Error t value Pr(>|t|)    \n",
       "(Intercept)  41.617270   4.936039   8.431 3.79e-16 ***\n",
       "crim         -0.121389   0.033000  -3.678 0.000261 ***\n",
       "zn            0.046963   0.013879   3.384 0.000772 ***\n",
       "indus         0.013468   0.062145   0.217 0.828520    \n",
       "chas          2.839993   0.870007   3.264 0.001173 ** \n",
       "nox         -18.758022   3.851355  -4.870 1.50e-06 ***\n",
       "rm            3.658119   0.420246   8.705  < 2e-16 ***\n",
       "age           0.003611   0.013329   0.271 0.786595    \n",
       "dis          -1.490754   0.201623  -7.394 6.17e-13 ***\n",
       "rad           0.289405   0.066908   4.325 1.84e-05 ***\n",
       "tax          -0.012682   0.003801  -3.337 0.000912 ***\n",
       "ptratio      -0.937533   0.132206  -7.091 4.63e-12 ***\n",
       "lstat        -0.552019   0.050659 -10.897  < 2e-16 ***\n",
       "---\n",
       "Signif. codes:  0 ‘***’ 0.001 ‘**’ 0.01 ‘*’ 0.05 ‘.’ 0.1 ‘ ’ 1\n",
       "\n",
       "Residual standard error: 4.798 on 493 degrees of freedom\n",
       "Multiple R-squared:  0.7343,\tAdjusted R-squared:  0.7278 \n",
       "F-statistic: 113.5 on 12 and 493 DF,  p-value: < 2.2e-16\n"
      ]
     },
     "metadata": {},
     "output_type": "display_data"
    }
   ],
   "source": [
    "lm.fit <- lm(medv ~ ., data = Boston)\n",
    "summary(lm.fit)"
   ]
  },
  {
   "cell_type": "markdown",
   "id": "5f7c1121",
   "metadata": {},
   "source": [
    "We can access the individual components of a summary object by name (type `?summary.lm` to see what is available). Hence `summary(lm.fit)$r.sq` gives us the $R^2$, and `summary(lm.fit)$sigma` gives us the RSE. The `vif()` function, part of the `car` package, can be used to compute variance inflation factors. Most VIF's are low to moderate for this data. The `car` package is not part of the base `R` installation so it must be downloaded the first time you use it via the `install.packages()` function in `R`."
   ]
  },
  {
   "cell_type": "code",
   "execution_count": 4,
   "id": "ba2f7eb4",
   "metadata": {},
   "outputs": [
    {
     "name": "stderr",
     "output_type": "stream",
     "text": [
      "Loading required package: carData\n",
      "\n"
     ]
    },
    {
     "data": {
      "text/html": [
       "<style>\n",
       ".dl-inline {width: auto; margin:0; padding: 0}\n",
       ".dl-inline>dt, .dl-inline>dd {float: none; width: auto; display: inline-block}\n",
       ".dl-inline>dt::after {content: \":\\0020\"; padding-right: .5ex}\n",
       ".dl-inline>dt:not(:first-of-type) {padding-left: .5ex}\n",
       "</style><dl class=dl-inline><dt>crim</dt><dd>1.76748591543101</dd><dt>zn</dt><dd>2.29845890773581</dd><dt>indus</dt><dd>3.9871806307571</dd><dt>chas</dt><dd>1.0711677737584</dd><dt>nox</dt><dd>4.36909262284479</dd><dt>rm</dt><dd>1.91253243743688</dd><dt>age</dt><dd>3.08823203973119</dd><dt>dis</dt><dd>3.9540366416283</dd><dt>rad</dt><dd>7.44530076006984</dd><dt>tax</dt><dd>9.00215766347179</dd><dt>ptratio</dt><dd>1.79705959312978</dd><dt>lstat</dt><dd>2.87077650084175</dd></dl>\n"
      ],
      "text/latex": [
       "\\begin{description*}\n",
       "\\item[crim] 1.76748591543101\n",
       "\\item[zn] 2.29845890773581\n",
       "\\item[indus] 3.9871806307571\n",
       "\\item[chas] 1.0711677737584\n",
       "\\item[nox] 4.36909262284479\n",
       "\\item[rm] 1.91253243743688\n",
       "\\item[age] 3.08823203973119\n",
       "\\item[dis] 3.9540366416283\n",
       "\\item[rad] 7.44530076006984\n",
       "\\item[tax] 9.00215766347179\n",
       "\\item[ptratio] 1.79705959312978\n",
       "\\item[lstat] 2.87077650084175\n",
       "\\end{description*}\n"
      ],
      "text/markdown": [
       "crim\n",
       ":   1.76748591543101zn\n",
       ":   2.29845890773581indus\n",
       ":   3.9871806307571chas\n",
       ":   1.0711677737584nox\n",
       ":   4.36909262284479rm\n",
       ":   1.91253243743688age\n",
       ":   3.08823203973119dis\n",
       ":   3.9540366416283rad\n",
       ":   7.44530076006984tax\n",
       ":   9.00215766347179ptratio\n",
       ":   1.79705959312978lstat\n",
       ":   2.87077650084175\n",
       "\n"
      ],
      "text/plain": [
       "    crim       zn    indus     chas      nox       rm      age      dis \n",
       "1.767486 2.298459 3.987181 1.071168 4.369093 1.912532 3.088232 3.954037 \n",
       "     rad      tax  ptratio    lstat \n",
       "7.445301 9.002158 1.797060 2.870777 "
      ]
     },
     "metadata": {},
     "output_type": "display_data"
    }
   ],
   "source": [
    "library(car)\n",
    "vif(lm.fit)"
   ]
  },
  {
   "cell_type": "markdown",
   "id": "fbeca8e5",
   "metadata": {},
   "source": [
    "What if we would like to perform a regression using all of the variables but one? For example, in the above regression output, `age` has a high _p_-value. So we may wish to run a regression excluding this predictor. The following syntax results in a regression using all predictors except `age`."
   ]
  },
  {
   "cell_type": "code",
   "execution_count": 5,
   "id": "c837dc18",
   "metadata": {},
   "outputs": [
    {
     "data": {
      "text/plain": [
       "\n",
       "Call:\n",
       "lm(formula = medv ~ . - age, data = Boston)\n",
       "\n",
       "Residuals:\n",
       "     Min       1Q   Median       3Q      Max \n",
       "-15.1851  -2.7330  -0.6116   1.8555  26.3838 \n",
       "\n",
       "Coefficients:\n",
       "              Estimate Std. Error t value Pr(>|t|)    \n",
       "(Intercept)  41.525128   4.919684   8.441 3.52e-16 ***\n",
       "crim         -0.121426   0.032969  -3.683 0.000256 ***\n",
       "zn            0.046512   0.013766   3.379 0.000785 ***\n",
       "indus         0.013451   0.062086   0.217 0.828577    \n",
       "chas          2.852773   0.867912   3.287 0.001085 ** \n",
       "nox         -18.485070   3.713714  -4.978 8.91e-07 ***\n",
       "rm            3.681070   0.411230   8.951  < 2e-16 ***\n",
       "dis          -1.506777   0.192570  -7.825 3.12e-14 ***\n",
       "rad           0.287940   0.066627   4.322 1.87e-05 ***\n",
       "tax          -0.012653   0.003796  -3.333 0.000923 ***\n",
       "ptratio      -0.934649   0.131653  -7.099 4.39e-12 ***\n",
       "lstat        -0.547409   0.047669 -11.483  < 2e-16 ***\n",
       "---\n",
       "Signif. codes:  0 ‘***’ 0.001 ‘**’ 0.01 ‘*’ 0.05 ‘.’ 0.1 ‘ ’ 1\n",
       "\n",
       "Residual standard error: 4.794 on 494 degrees of freedom\n",
       "Multiple R-squared:  0.7343,\tAdjusted R-squared:  0.7284 \n",
       "F-statistic: 124.1 on 11 and 494 DF,  p-value: < 2.2e-16\n"
      ]
     },
     "metadata": {},
     "output_type": "display_data"
    }
   ],
   "source": [
    "lm.fit1 <- lm(medv ~ . - age, data = Boston)\n",
    "summary(lm.fit1)"
   ]
  },
  {
   "cell_type": "markdown",
   "id": "3f689ffb",
   "metadata": {},
   "source": [
    "Alternatively, the `update()` function can be used."
   ]
  },
  {
   "cell_type": "code",
   "execution_count": 6,
   "id": "31c55f5f",
   "metadata": {},
   "outputs": [],
   "source": [
    "lm.fit1 <- update(lm.fit, ~ . - age)"
   ]
  }
 ],
 "metadata": {
  "kernelspec": {
   "display_name": "R",
   "language": "R",
   "name": "ir"
  },
  "language_info": {
   "codemirror_mode": "r",
   "file_extension": ".r",
   "mimetype": "text/x-r-source",
   "name": "R",
   "pygments_lexer": "r",
   "version": "4.3.1"
  }
 },
 "nbformat": 4,
 "nbformat_minor": 5
}
