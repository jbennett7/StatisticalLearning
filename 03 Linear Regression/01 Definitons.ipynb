{
 "cells": [
  {
   "cell_type": "markdown",
   "id": "3989bb37",
   "metadata": {},
   "source": [
    "# 3 Linear Regression"
   ]
  },
  {
   "cell_type": "markdown",
   "id": "144419ea-3195-42bd-ab37-c8609d0d4980",
   "metadata": {},
   "source": [
    "Important questions to ask when analyzing the `Advertising` data set:\n",
    "1. Is there a relationship between advertising budget and sales?\n",
    "2. How string is the relationship between advertising budget and sales?\n",
    "3. Which media are associated with sales?\n",
    "4. How large is the association between each medium and sales?\n",
    "5. How accurately can we predict future sales?\n",
    "6. Is the relationship linear?\n",
    "7. Is there synergy among the advertising media"
   ]
  },
  {
   "cell_type": "code",
   "execution_count": 1,
   "id": "df7878f8",
   "metadata": {},
   "outputs": [
    {
     "data": {
      "text/html": [
       "<table class=\"dataframe\">\n",
       "<caption>A data.frame: 6 × 4</caption>\n",
       "<thead>\n",
       "\t<tr><th></th><th scope=col>TV</th><th scope=col>radio</th><th scope=col>newspaper</th><th scope=col>sales</th></tr>\n",
       "\t<tr><th></th><th scope=col>&lt;dbl&gt;</th><th scope=col>&lt;dbl&gt;</th><th scope=col>&lt;dbl&gt;</th><th scope=col>&lt;dbl&gt;</th></tr>\n",
       "</thead>\n",
       "<tbody>\n",
       "\t<tr><th scope=row>1</th><td>230.1</td><td>37.8</td><td>69.2</td><td>22.1</td></tr>\n",
       "\t<tr><th scope=row>2</th><td> 44.5</td><td>39.3</td><td>45.1</td><td>10.4</td></tr>\n",
       "\t<tr><th scope=row>3</th><td> 17.2</td><td>45.9</td><td>69.3</td><td> 9.3</td></tr>\n",
       "\t<tr><th scope=row>4</th><td>151.5</td><td>41.3</td><td>58.5</td><td>18.5</td></tr>\n",
       "\t<tr><th scope=row>5</th><td>180.8</td><td>10.8</td><td>58.4</td><td>12.9</td></tr>\n",
       "\t<tr><th scope=row>6</th><td>  8.7</td><td>48.9</td><td>75.0</td><td> 7.2</td></tr>\n",
       "</tbody>\n",
       "</table>\n"
      ],
      "text/latex": [
       "A data.frame: 6 × 4\n",
       "\\begin{tabular}{r|llll}\n",
       "  & TV & radio & newspaper & sales\\\\\n",
       "  & <dbl> & <dbl> & <dbl> & <dbl>\\\\\n",
       "\\hline\n",
       "\t1 & 230.1 & 37.8 & 69.2 & 22.1\\\\\n",
       "\t2 &  44.5 & 39.3 & 45.1 & 10.4\\\\\n",
       "\t3 &  17.2 & 45.9 & 69.3 &  9.3\\\\\n",
       "\t4 & 151.5 & 41.3 & 58.5 & 18.5\\\\\n",
       "\t5 & 180.8 & 10.8 & 58.4 & 12.9\\\\\n",
       "\t6 &   8.7 & 48.9 & 75.0 &  7.2\\\\\n",
       "\\end{tabular}\n"
      ],
      "text/markdown": [
       "\n",
       "A data.frame: 6 × 4\n",
       "\n",
       "| <!--/--> | TV &lt;dbl&gt; | radio &lt;dbl&gt; | newspaper &lt;dbl&gt; | sales &lt;dbl&gt; |\n",
       "|---|---|---|---|---|\n",
       "| 1 | 230.1 | 37.8 | 69.2 | 22.1 |\n",
       "| 2 |  44.5 | 39.3 | 45.1 | 10.4 |\n",
       "| 3 |  17.2 | 45.9 | 69.3 |  9.3 |\n",
       "| 4 | 151.5 | 41.3 | 58.5 | 18.5 |\n",
       "| 5 | 180.8 | 10.8 | 58.4 | 12.9 |\n",
       "| 6 |   8.7 | 48.9 | 75.0 |  7.2 |\n",
       "\n"
      ],
      "text/plain": [
       "  TV    radio newspaper sales\n",
       "1 230.1 37.8  69.2      22.1 \n",
       "2  44.5 39.3  45.1      10.4 \n",
       "3  17.2 45.9  69.3       9.3 \n",
       "4 151.5 41.3  58.5      18.5 \n",
       "5 180.8 10.8  58.4      12.9 \n",
       "6   8.7 48.9  75.0       7.2 "
      ]
     },
     "metadata": {},
     "output_type": "display_data"
    }
   ],
   "source": [
    "Advertising <- subset(read.csv(\"../99DataSets/Advertising.csv\"),select = -X)\n",
    "head(Advertising)"
   ]
  },
  {
   "cell_type": "markdown",
   "id": "3b57ec44",
   "metadata": {},
   "source": [
    "## 3.1 Simple Linear Regression\n",
    "\n",
    "Predicting a quantitative response $Y$ on the basis of a single predictor variable $X$.\n",
    "\n",
    "<a id=eq3_1>\n",
    "\\begin{align}\\tag{3.1}\n",
    "Y \\approx \\beta_0 + \\beta_1 X\n",
    "\\end{align}</a>"
   ]
  },
  {
   "cell_type": "markdown",
   "id": "3fb92e3e",
   "metadata": {},
   "source": [
    "For the `Advertising` data set, our linear model is:\n",
    "\\begin{align}\n",
    "\\text{sales} \\approx \\beta_0 + \\beta_1 \\times \\text{TV}\n",
    "\\end{align}"
   ]
  },
  {
   "cell_type": "markdown",
   "id": "38cbbc0d",
   "metadata": {},
   "source": [
    "slope-intercept:\n",
    "<a id=eq3_2>\n",
    "\\begin{align}\\tag{3.2}\n",
    "\\hat{y} = \\hat{\\beta_0} + \\hat{\\beta_1}x\n",
    "\\end{align}</a>"
   ]
  },
  {
   "cell_type": "markdown",
   "id": "f2acd7ea",
   "metadata": {},
   "source": [
    "### 3.1.1 Estimating the Coefficients\n",
    "In practice, $\\beta_0$ and $\\beta_1$ are unknown.  \n",
    "We need to make predictions in order to use (3.1). Let\n",
    "\\begin{align}\n",
    "(x_1, y_1), (x_2, y_2), \\ldots, (x_n, y_n)\n",
    "\\end{align}\n",
    "represent $n$ observation paris, each of which consists of a measurement of $X$ and a measurement of $Y$.  \n",
    "\n",
    "In the `Advertising` example, this data set consists of the TV advertising budget and product sales in $n=200$ different markets.  \n",
    "\n",
    "Our goal is to obtain coefficient estimates $\\hat{\\beta_0}$ and $\\hat{\\beta_1}$ such that the linear model (3.1) fits the available data well&mdash;that is, so that $y_i \\approx \\hat{\\beta_0} + \\hat{\\beta_1} x_i$ for $i=1,\\ldots,n$.\n",
    "\n",
    "We want to find an intercept $\\hat{\\beta_0}$ and a slope $\\hat{\\beta_1}$ such that the resulting line is as close as  possible to the $n=200$ data points."
   ]
  },
  {
   "cell_type": "code",
   "execution_count": 5,
   "id": "38b4f4f4",
   "metadata": {},
   "outputs": [
    {
     "data": {
      "image/png": "[encoded data removed]",
      "text/plain": [
       "plot without title"
      ]
     },
     "metadata": {
      "image/png": {
       "height": 420,
       "width": 1080
      }
     },
     "output_type": "display_data"
    }
   ],
   "source": [
    "plot.residuals <- function(x, fit, col=\"red\") {\n",
    "    for(idx in 1:length(fit$fit)){\n",
    "        lines(c(x[idx],x[idx]),c(fit$fit[idx],fit$fit[idx]+fit$residual[idx]),col=col)\n",
    "    }\n",
    "}\n",
    "lm.fit.TV <- lm(sales ~ TV, data=Advertising)\n",
    "options(repr.plot.width=18, repr.plot.height=7)\n",
    "plot(Advertising$TV, Advertising$sales, col=\"red\", pch=20, xlab=\"TV\", ylab=\"Sales\")\n",
    "abline(lm.fit.TV, col=\"blue\")\n",
    "plot.residuals(Advertising$TV, lm.fit.TV, col=\"black\")\n",
    "options(repr.plot.width=7, repr.plot.height=7)"
   ]
  },
  {
   "cell_type": "markdown",
   "id": "2e71a7d7",
   "metadata": {},
   "source": [
    "Residual Sum of Squares (RSS)\n",
    "\\begin{align}\n",
    "\\text{RSS} = e_1^2 + e_2^2 + \\cdots + e_n^2\n",
    "\\end{align}\n",
    "\n",
    "or equivalently as\n",
    "<a id=eq3_3>\n",
    "\\begin{align}\\tag{3.3}\n",
    "\\text{RSS} = \\left(y_1 - \\hat{\\beta_0} - \\hat{\\beta_1}x_1\\right)^2 +\n",
    "             \\left(y_2 - \\hat{\\beta_0} - \\hat{\\beta_1}x_2\\right)^2 + \\cdots +\n",
    "             \\left(y_n - \\hat{\\beta_0} - \\hat{\\beta_1}x_n\\right)^2\n",
    "\\end{align}</a>"
   ]
  },
  {
   "cell_type": "markdown",
   "id": "3c9b49c9",
   "metadata": {},
   "source": [
    "The least squares approach chooses $\\hat{\\beta_0}$ and $\\hat{\\beta_1}$ to minimize the RSS.\n",
    "<a id=eq3_4>\n",
    "\\begin{align}\\tag{3.4}\n",
    "\\hat{\\beta_1} &= \\frac{ \\sum_{i=1}^n{ \\left(x_i - \\bar{x}\\right)\\left(y_i - \\bar{y}\\right) }}\n",
    "                     { \\sum_{i=1}^n{ \\left(x_i - \\bar{x}\\right)^2 }} \\text{, } \\\\\n",
    "\\hat{\\beta_0} &= \\bar{y} - \\hat{\\beta_1}\\bar{x} \\text{,}\n",
    "\\end{align}</a>"
   ]
  },
  {
   "cell_type": "markdown",
   "id": "809c0833-8eb5-472c-9627-5f8a40066c49",
   "metadata": {},
   "source": [
    "### 3.1.2 Assessing the Accuracy of the Coefficient Estimates"
   ]
  },
  {
   "cell_type": "markdown",
   "id": "453e4e58-0685-4aba-a17e-6efae55c34e7",
   "metadata": {},
   "source": [
    "From (2.1), we assume that the _true_ relationship between $X$ and $Y$ takes the form $Y = f(X) + \\epsilon$ for some unknown function $f$, where $\\epsilon$ is a mean-zero random error term. If $f$ is to be approximated by a linear function, then we can write this relationship as\n",
    "\n",
    "<a id=eq3_5>\n",
    "\\begin{align}\\tag{3.5}\n",
    "Y = \\beta_0 + \\beta_1 X + \\epsilon\n",
    "\\end{align}</a>\n",
    "\n",
    "$\\beta_0$ is the intercept term  \n",
    "$\\beta_1$ is the slope  \n",
    "\n",
    "The model given by (3.5) defines the _population regression line_, which is the best linear approximation to the true relationship between $X$ and $Y$.  \n",
    "\n",
    "_least squares line_"
   ]
  },
  {
   "cell_type": "markdown",
   "id": "433d2495-743d-4364-859b-fadcbdffbd5b",
   "metadata": {},
   "source": [
    "Standard error\n",
    "<a id=eq3_7>\n",
    "\\begin{align}\\tag{3.7}\n",
    "\\text{Var}(\\hat{\\mu}) = \\text{SE}(\\hat{\\mu})^2 = \\frac{\\sigma^2}{n}\\text{,}\n",
    "\\end{align}</a>\n",
    "\n",
    "$\\sigma$ is the standard deviation of each of the relaizations $y_i$ of $Y^2$.  \n",
    "\n",
    "The standard error tells us the average amount that this estimate $\\hat{\\mu}$ differs from the actual value of $\\mu$.  \n",
    "\n",
    "Equation 3.7 also tells us how this deviation shrinks with $n$&mdash;the more observations we have, the smaller the standard error of $\\hat{\\mu}$."
   ]
  },
  {
   "cell_type": "markdown",
   "id": "6c824214-0d8f-4b8d-a1ad-283cf17b5658",
   "metadata": {},
   "source": [
    "Standard Errors for $\\hat{\\beta_0}$ and $\\hat{\\beta_1}$\n",
    "<a id=eq3_8>\n",
    "\\begin{align}\\tag{3.8}\n",
    "\\text{SE}(\\hat{\\beta_0})^2 = \\sigma^2\\left[\\frac{1}{n} + \\frac{\\bar{x}^2}{\\sum^n_{i=1}(x_i - \\bar{x})^2}\\right]\\text{, } \\ \\ \\ \n",
    "\\text{SE}(\\hat{\\beta_1})^2 = \\frac{\\sigma^2}{\\sum^n_{i=1}(x_i - \\bar{x})^2}\\text{, }\n",
    "\\end{align}</a>\n",
    "\n",
    "where $\\sigma^2 = \\text{Var}(\\epsilon)$. \n",
    "\n",
    "For these formulas to be strictly valid, we need to assume that the errors $\\epsilon_i$ for each observation have common variance $\\sigma^2$ and are uncorrelated. This is clearly not true for Figure 3.1, but the formula still turns out to be a good approximation.\n",
    "\n",
    "Residual Standard Error\n",
    "\\begin{align}\n",
    "\\text{RSE} = \\sqrt{\\frac{\\text{RSS}}{(n - 2)}}\n",
    "\\end{align}\n",
    "\n",
    "Standard errors can be used to compute _confidence intervals_.\n",
    "\n",
    "* A $95%$ confidence interval is defined as a range of values such that with $95%$ probability, the range will contain the true unknown value of the parameter.\n",
    "* The range is defined in terms of lower and upper limits computed from the sample data.\n",
    "\n",
    "A $95%$ confidence level has the following property: if we take repeated samples and construct the confidence interval for each sample, $95%$ of the intervals will contain the true unkown value of the parameter.  \n",
    "\n",
    "For linear regression, the $95%$ confidence interval for $\\beta_1$ approximately takes the form\n",
    "<a id=eq3_9>\n",
    "\\begin{align}\\tag{3.9}\n",
    "\\hat{\\beta_1} \\pm 2 \\cdot \\text{SE}(\\hat{\\beta_1})\\text{.}\n",
    "\\end{align}</a>\n",
    "That is, there is approximately a $95%$ chance that the interval\n",
    "<a id=eq=3_10>\n",
    "\\begin{align}\\tag{3.10}\n",
    "\\left[\\hat{\\beta_1} - 2 \\cdot \\text{SE}(\\hat{\\beta_1})\\text{, } \\ \\ \\hat{\\beta_1} + 2 \\cdot \\text{SE}(\\hat{\\beta_1})\\right]\n",
    "\\end{align}\n",
    "will contain the true value of $\\beta_1$. Similarly, a confidence interval for $\\beta_0$ approximately takes the form\n",
    "<a id=eq3_11>\n",
    "\\begin{align}\\tag{3.11}\n",
    "\\hat{\\beta_0} \\pm 2 \\cdot \\text{SE}(\\hat{\\beta_0})\\text{.}\n",
    "\\end{align}</a>"
   ]
  },
  {
   "cell_type": "markdown",
   "id": "e9c45cac-e4c7-4af6-b2f9-a92ba45b1f60",
   "metadata": {},
   "source": [
    "In order to obtain a confidence interval in R for the coefficient estimates, we can use the `confint()` command."
   ]
  },
  {
   "cell_type": "code",
   "execution_count": null,
   "id": "c115745f-e485-4f2b-bf44-ea51a738909c",
   "metadata": {},
   "outputs": [],
   "source": [
    "confint(lm.fit.TV)"
   ]
  },
  {
   "cell_type": "markdown",
   "id": "26b16a70-b8ff-49da-b47e-6fbd64c15574",
   "metadata": {},
   "source": [
    "Standard errors can also be used to perform _hypothesis tests_ on the coefficients. The most common hypothesis test involves testing the _null hypothesis_ of\n",
    "<a id=eq3_12></a>\n",
    "\\begin{align}\\tag{3.12}\n",
    "\\text{H}_0: \\text{There is no relationship between }X\\text{ and }Y\n",
    "\\end{align}\n",
    "versus the _alternative hypothesis_\n",
    "<a id=eq3_13></a>\n",
    "\\begin{align}\\tag{3.13}\n",
    "\\text{H}_a: \\text{There is some relationship between }X\\text{ and }Y\\text{.}\n",
    "\\end{align}\n",
    "Mathematically, this corresponds to testing\n",
    "\\begin{align}\n",
    "\\text{H}_0: \\beta_1 = 0\n",
    "\\end{align}\n",
    "versus\n",
    "\\begin{align}\n",
    "\\text{H}_a: \\beta_1 \\ne 0\\text{,}\n",
    "\\end{align}\n",
    "since if $\\beta_1 = 0$ then the model (3.5) reduces to $Y = \\beta_0 + \\epsilon$, and $X$ is not associated with $Y$. To test the null hypothesis, we need to determine whether $\\hat{\\beta_1}$, our estimate for $\\beta_1$, is sufficiently far from zero that we can be confident that $\\beta_1$ is non-zero. How far is far enough? This of course depends on the accuracy of $\\hat{\\beta_1}$&mdash;that is, it depends on $\\text{SE}(\\hat{\\beta_1})$. If $\\text{SE}(\\hat{\\beta_1})$ is small, then even relatively small values of $\\hat{\\beta_1}$ may provide strong evidence that $\\beta_1 \\ne 0$, and hence there is a relationship between $X$ and $Y$. In contrast, if $\\text{SE}(\\hat{\\beta_1})$ is large, then $\\hat{\\beta_1}$ must be large in absolute value in order for us to reject the null hypothesis.\n",
    "\n",
    "In practice, we compute a _t-statistic_\n",
    "<a id=eq3_14></a>\n",
    "\\begin{align}\\tag{3.14}\n",
    "t = \\frac{\\hat{\\beta_1} - 0}{\\text{SE}(\\hat{\\beta_1})}\\text{, }\n",
    "\\end{align}"
   ]
  },
  {
   "cell_type": "markdown",
   "id": "e7cb6f4d-422c-4d3f-acb2-7de9c72abe8f",
   "metadata": {},
   "source": [
    "We can use the `summary()` function to obtain many of the statistical information we need."
   ]
  },
  {
   "cell_type": "code",
   "execution_count": null,
   "id": "54a875af",
   "metadata": {},
   "outputs": [],
   "source": [
    "summary(lm.fit.TV)"
   ]
  },
  {
   "cell_type": "code",
   "execution_count": null,
   "id": "42bdf766-b400-4ba6-a607-36f7cd7b3f0b",
   "metadata": {},
   "outputs": [],
   "source": [
    "names(summary(lm.fit.TV))"
   ]
  },
  {
   "cell_type": "markdown",
   "id": "6d71f110-a3b7-4b50-86f3-68af0083ce33",
   "metadata": {},
   "source": [
    "The Coefficients can be found using `coefficients`."
   ]
  },
  {
   "cell_type": "code",
   "execution_count": null,
   "id": "83c08ef4-3fae-4c6e-822c-2ba5b614bd5c",
   "metadata": {},
   "outputs": [],
   "source": [
    "summary(lm.fit.TV)$coefficients"
   ]
  },
  {
   "cell_type": "markdown",
   "id": "4f97262a-12b0-455d-9333-46c00cf7cfd8",
   "metadata": {},
   "source": [
    "### 3.1.3 Assessing the Accuracy of the Model\n",
    "In R you can get the RSS, $R^2$ and the F-statistic using the `summary()` function."
   ]
  },
  {
   "cell_type": "code",
   "execution_count": null,
   "id": "ba81c676-6450-4443-8946-332e3bb6d0c1",
   "metadata": {},
   "outputs": [],
   "source": [
    "cat(\"Residual standard error: \", summary(lm.fit.TV)$sigma, \"\\n\")\n",
    "cat(\"R^2: \", summary(lm.fit.TV)$r.squared, \"\\n\")\n",
    "cat(\"F-Statistic: \", summary(lm.fit.TV)$fstatistic[1], \"\\n\")"
   ]
  },
  {
   "cell_type": "markdown",
   "id": "6ab90b00-60d8-46b4-8422-038954053810",
   "metadata": {},
   "source": [
    "#### Residual Standard Error\n",
    "<a id=eq3_15>\n",
    "\\begin{align}\\tag{3.15}\n",
    "\\text{RSE} = \\sqrt{\\frac{1}{n-2}\\text{RSS}} =\n",
    "\\sqrt{\\frac{1}{n-2}\\sum^n_{i=1}{(y_i - \\hat{y_i})^2}}\\text{.}\n",
    "\\end{align}\n",
    "\n",
    "Residual Sum of Squares\n",
    "<a id=eq3_16>\n",
    "\\begin{align}\\tag{3.16}\n",
    "\\text{RSS} = \\sum^n_{i=1}(y_i - \\hat{y_i})^2\\text{.}\n",
    "\\end{align}</a>"
   ]
  },
  {
   "cell_type": "markdown",
   "id": "a083f273-befe-4cd3-a281-2ddbf8f70425",
   "metadata": {},
   "source": [
    "#### $R^2$ Statistic\n",
    "The RSE provides an absolute measure of lack of fit of the model (3.5) to the data. But since it is measured in the units of $Y$, it is not always clear what constitutes a good RSE. The $R^2$ statistic provides an alternative measure of fit. It takes the form of a _proportion_&mdash;the proportion of variance explained&mdash;and so it always takes on a value between $0$ and $1$, and is independent of the scale of $Y$.\n",
    "<a id=eq3_17>\n",
    "\\begin{align}\\tag{3.17}\n",
    "R^2 = \\frac{\\text{TSS} - \\text{RSS}}{\\text{TSS}} = 1 - \\frac{\\text{RSS}}{\\text{TSS}}\n",
    "\\end{align}</a>\n",
    "where $\\text{TSS} = \\sum(y_i - \\bar{y})^2$ is the _total sum of squares_, and RSS is defined in (3.16).\n",
    "\n",
    "TSS measures the total variance in the response $Y$, and can be thought of as the amount of variability inherent in the response before the regression is performed. In contrast, RSS measures the amount of variability that is left unexplained after performing the regression. Hence, $\\text{TSS} - \\text{RSS}$ measures the amount of variability in the response that is explained (or removed) by performing the regression, and $R^2$ measures the _proportion of variability in_ $Y$ _that can be explained using_ $X$.\n",
    "\n",
    "An $R^2$ statistic that is close to $1$ indicates that a large proportion of the variability in the response is explained by the regression.  \n",
    "A number near $0$ indicates that the regression does not explain much of the variability in the response; this might occur because the linear model is wrong, or the error variance $\\sigma^2$ is high, or both.\n",
    "\n",
    "The $R^2$ statistic (3.17) has an interpretational advantage over the RSE (3.15), since unlike the RSE, it always lies between $0$ and $1$. However, it can still be challenging to determine what is a _good_ $R^2$ value, and in general, this will depend on the application.\n",
    "\n",
    "The $R^2$ statistic is a measure of the linear relationship between $X$ and $Y$. Recall that _correlation_, defined as\n",
    "<a id=eq3_18>\n",
    "\\begin{align}\\tag{3.18}\n",
    "\\text{Cor}(X,Y) = \\frac{\\sum^n_{i=1}(x_i - \\bar{x})(y_i - \\bar{y}}{sqrt{\\sum^n_{i=1}(x_i - \\bar{x})^2}sqrt{\\sum^n_{i=1}(y_i - \\bar{y})^2}}\\text{,}\n",
    "\\end{align}</a>\n",
    "is also a measure of the linear relationship between $X$ and $Y$. This suggests that we might be able to use $r = \\text{Cor}(X,Y)$ instead of $R^2$ in order to access the fit of the linear model."
   ]
  },
  {
   "cell_type": "markdown",
   "id": "763b253d-c9c4-4e3e-98ba-41150b5b351a",
   "metadata": {},
   "source": [
    "## 3.2 Multiple Linear Regression"
   ]
  },
  {
   "cell_type": "markdown",
   "id": "92a4c14c-3d11-44c4-8d68-020051405840",
   "metadata": {},
   "source": [
    "Linear regresions for the other predictors in advertising:"
   ]
  },
  {
   "cell_type": "code",
   "execution_count": null,
   "id": "b525b200-d672-4175-a646-753a65254a49",
   "metadata": {},
   "outputs": [],
   "source": [
    "lm.fit.radio = lm(sales ~ radio, data=Advertising)\n",
    "summary(lm.fit.radio)$coefficients"
   ]
  },
  {
   "cell_type": "code",
   "execution_count": null,
   "id": "25a0bd29-8fb4-45eb-9e9d-b7cc9430fa06",
   "metadata": {},
   "outputs": [],
   "source": [
    "lm.fit.newpaper = lm(sales ~ newspaper, data=Advertising)\n",
    "summary(lm.fit.radio)$coefficients"
   ]
  },
  {
   "cell_type": "markdown",
   "id": "e02c28bd-c572-4f61-8e97-b6ae39f08d4b",
   "metadata": {},
   "source": [
    "We can extend the simple linear regression model in (3.5) so that it can directly accommodate multiple predictors.\n",
    "<a id=eq3_19>\n",
    "\\begin{align}\\tag{3.19}\n",
    "Y = \\beta_0 + \\beta_1 X_1 + \\beta_2 X_2 + \\cdots + \\beta_p X_p + \\epsilon \\text{,}\n",
    "\\end{align}</a>\n",
    "\n",
    "In the advertising example, (3.19) becomes\n",
    "<a id=eq3_20>\n",
    "\\begin{align}\\tag{3.20}\n",
    "\\text{sales} = \\beta_0 + \\beta_1 \\times \\text{TV} + \\beta_2 \\times \\text{radio} + \\beta_3 \\times \\text{newspaper} + \\epsilon\n",
    "\\end{align}</a>"
   ]
  },
  {
   "cell_type": "markdown",
   "id": "665d6095-bda0-4e0e-8f03-bbd4867b6bb9",
   "metadata": {},
   "source": [
    "#### Estimating the Regression Coefficients"
   ]
  },
  {
   "cell_type": "markdown",
   "id": "01d0fb36-56f4-46e2-8908-923e9a07ea92",
   "metadata": {},
   "source": [
    "The new formula\n",
    "<a id=eq3_21>\n",
    "\\begin{align}\\tag{3.21}\n",
    "\\hat{y} = \\hat{\\beta_0} + \\hat{\\beta_1} x_{i1} + \\hat{\\beta_2} x_{i2} + \\cdots + \\hat{\\beta_p} x_p\n",
    "\\end{align}</a>\n",
    "\n",
    "We choose $\\beta_0\\text{, }\\beta_1\\text{, }\\ldots\\text{, }\\beta_p$ to minimize the sum of squared residuals\n",
    "<a id=eq3_22>\n",
    "\\begin{align}\\tag{3.22}\n",
    "\\text{RSS} &= \\sum^n_{i=1}(y_i - \\hat{y_i})^2 \\\\\n",
    "           &= \\sum^n_{i=1}(y_i - \\hat{\\beta_0} - \\hat{\\beta_1} x_{i1} - \\hat{\\beta_2} x_{i2} - \\cdots - \\hat{\\beta_p} x_p \\text{.}\n",
    "\\end{align}</a>"
   ]
  },
  {
   "cell_type": "code",
   "execution_count": null,
   "id": "e0337af1-e572-4ebe-b609-336c6bffc2bd",
   "metadata": {},
   "outputs": [],
   "source": [
    "lm.fit.sales <- lm(sales ~ ., data=Advertising)\n",
    "sum <- summary(lm.fit.sales)\n",
    "sum$coefficients"
   ]
  },
  {
   "cell_type": "markdown",
   "id": "2cca58c8-63ba-4aac-bbcf-50e6d1c36a6a",
   "metadata": {},
   "source": [
    "The corelation matrix below shows that markets with high newspaper advertising tend to also have high radio advertising. This, along with the fact that newspaper advertising is not corelated to high sales indicates that newspaper advertising is a surrogate for radio advertiising; newspaper gets \"credit\" for the association between radio and sales."
   ]
  },
  {
   "cell_type": "code",
   "execution_count": null,
   "id": "491153a1-75a7-48dd-a77f-6695e7bdbad6",
   "metadata": {},
   "outputs": [],
   "source": [
    "cor(Advertising)"
   ]
  },
  {
   "cell_type": "markdown",
   "id": "fe71619d-f9c0-4469-99ce-21e23746a810",
   "metadata": {},
   "source": [
    "### 3.2.2 Some Important Questions\n",
    "1. Is at least one of the predictors $X_1\\text{,}X_2\\text{,}\\ldots\\text{,}X_p$ useful in predicting the response?\n",
    "2. Do all the predictors help to explain $Y$, or is only a subset of the predictors useful?\n",
    "3. How well does the model fit the data?\n",
    "4. Given a set of predictor values, what response value should we predict, and how accurate is our prediction?"
   ]
  },
  {
   "cell_type": "markdown",
   "id": "8b7c5f46-3ab4-49d2-966c-467a5a45fb42",
   "metadata": {},
   "source": [
    "#### One: Is There a Relationship Between the Response and Predictors?\n",
    "The null hypothesis versus the alternative. This hypothesis test is performed by computing the _F-statistic_,\n",
    "<a id=eq3_23>\n",
    "\\begin{align}\\tag{3.23}\n",
    "F = \\frac{(\\text{TSS} - \\text{RSS})/p}{\\text{RSS}/(n - p - 1)}\\text{,}\n",
    "\\end{align}</a>\n",
    "\n",
    "where, as with simple linear regression, $\\text{TSS} = \\sum(y_i - \\bar{y})^2$ and $\\text{RSS} = \\sum(y_i - \\hat{y_i})^2$. If the linear model assumptions are correct, one can show that\n",
    "\\begin{align}\n",
    "E\\{\\text{RSS}/(n - p - 1)\\} = \\sigma^2\n",
    "\\end{align}\n",
    "and that, provided $H_0$ is true,\n",
    "\\begin{align}\n",
    "E\\{(\\text{TSS} - \\text{RSS})/p\\} = \\sigma^2\\text{.}\n",
    "\\end{align}\n",
    "\n",
    "If there is no relationship between the response and predictors, then the F-statistic would be close to $1$.  \n",
    "If $H_a$ is true, then $E\\{(\\text{TSS} - \\text{RSS})/p\\} > \\sigma^2$, so we expect $F$ to be greater than $1$."
   ]
  },
  {
   "cell_type": "code",
   "execution_count": null,
   "id": "936e1f94-edb7-48fa-beb3-3bcc3865a606",
   "metadata": {},
   "outputs": [],
   "source": [
    "cat(\"Residual standard error: \", summary(lm.fit.sales)$sigma, \"\\n\")\n",
    "cat(\"R^2: \", summary(lm.fit.sales)$r.squared, \"\\n\")\n",
    "cat(\"F-Statistic: \", summary(lm.fit.sales)$fstatistic[1], \"\\n\")"
   ]
  },
  {
   "cell_type": "code",
   "execution_count": null,
   "id": "11f5f042-94f3-4ef3-9216-b7fd4162d6a3",
   "metadata": {},
   "outputs": [],
   "source": [
    "names(lm.fit.sales)"
   ]
  },
  {
   "cell_type": "code",
   "execution_count": null,
   "id": "8b9382b1",
   "metadata": {},
   "outputs": [],
   "source": [
    "par(mfrow = c(2, 2))\n",
    "plot(lm.fit.TV)"
   ]
  },
  {
   "cell_type": "markdown",
   "id": "8a1278b4-3b92-4aff-92f7-4786f4a5f3bf",
   "metadata": {},
   "source": []
  }
 ],
 "metadata": {
  "kernelspec": {
   "display_name": "R",
   "language": "R",
   "name": "ir"
  },
  "language_info": {
   "codemirror_mode": "r",
   "file_extension": ".r",
   "mimetype": "text/x-r-source",
   "name": "R",
   "pygments_lexer": "r",
   "version": "4.3.2"
  }
 },
 "nbformat": 4,
 "nbformat_minor": 5
}
