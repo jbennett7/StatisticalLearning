{
 "cells": [
  {
   "cell_type": "markdown",
   "id": "fb542042-d82b-49fb-8a46-b6859106602c",
   "metadata": {},
   "source": [
    "# How to Calculate Standardized Residuals in R"
   ]
  },
  {
   "cell_type": "markdown",
   "id": "c7f34ce0-4b8b-449f-9096-977ee9cfd44b",
   "metadata": {},
   "source": [
    "Let $\\hat{y}_i = \\hat{\\beta}_0 + \\hat{\\beta}_1 x_i$ be the prediction for $Y$ based on the _i_ th value of $X$. Then $e_i = y_i - \\hat{y}_i$ represents the _i_ th _residual_ &mdash;this is the difference between the _i_ th observed response value and the _i_ th response value that is predicted by our linear model. We define the _residual sum of squares_ (RSS) as\n",
    "\\begin{align}\n",
    "\\text{RSS} = e^2_1 + e^2_2 + \\cdots + e^2_n\\text{,}\n",
    "\\end{align}\n",
    "or equivalently as\n",
    "\\begin{align}\\tag{3.3}\n",
    "\\text{RSS} = (y_1 - \\hat{\\beta}_0 - \\hat{\\beta}_1 x_1)^2 + (y_2 - \\hat{\\beta}_0 - \\hat{\\beta}_1 x_2)^2 + \\cdots + (y_n - \\hat{\\beta}_0 - \\hat{\\beta}_1 x_n)^2\\text{.}\n",
    "\\end{align}"
   ]
  },
  {
   "cell_type": "markdown",
   "id": "7beeca94-b027-41b4-9437-13d82e662923",
   "metadata": {},
   "source": [
    "Standardized Residuals are calculated:\n",
    "\\begin{align}\n",
    "r_i = \\frac{e_i}{s(e_i)} = \\frac{e_i}{\\text{RSE}\\sqrt{1-h_{ii}}}\n",
    "\\end{align}\n",
    "\n",
    "Any standardized residual with an absolute value greater than $3$ is considered an outlier."
   ]
  },
  {
   "cell_type": "code",
   "execution_count": 3,
   "id": "ea89f0a2-fedb-49b0-8c76-841650c8e715",
   "metadata": {},
   "outputs": [
    {
     "data": {
      "text/html": [
       "<table class=\"dataframe\">\n",
       "<caption>A data.frame: 12 × 3</caption>\n",
       "<thead>\n",
       "\t<tr><th></th><th scope=col>x</th><th scope=col>y</th><th scope=col>standard_res</th></tr>\n",
       "\t<tr><th></th><th scope=col>&lt;dbl&gt;</th><th scope=col>&lt;dbl&gt;</th><th scope=col>&lt;dbl&gt;</th></tr>\n",
       "</thead>\n",
       "<tbody>\n",
       "\t<tr><th scope=row>1</th><td> 8</td><td>41</td><td> 1.40517322</td></tr>\n",
       "\t<tr><th scope=row>12</th><td>30</td><td>57</td><td> 1.26973888</td></tr>\n",
       "\t<tr><th scope=row>11</th><td>29</td><td>55</td><td> 0.91057211</td></tr>\n",
       "\t<tr><th scope=row>2</th><td>12</td><td>42</td><td> 0.81017562</td></tr>\n",
       "\t<tr><th scope=row>7</th><td>17</td><td>45</td><td> 0.59610905</td></tr>\n",
       "\t<tr><th scope=row>3</th><td>12</td><td>39</td><td> 0.07491009</td></tr>\n",
       "\t<tr><th scope=row>8</th><td>22</td><td>46</td><td>-0.05876884</td></tr>\n",
       "\t<tr><th scope=row>10</th><td>26</td><td>49</td><td>-0.06655600</td></tr>\n",
       "\t<tr><th scope=row>4</th><td>13</td><td>37</td><td>-0.59323342</td></tr>\n",
       "\t<tr><th scope=row>6</th><td>16</td><td>39</td><td>-0.64248883</td></tr>\n",
       "\t<tr><th scope=row>5</th><td>14</td><td>35</td><td>-1.24820530</td></tr>\n",
       "\t<tr><th scope=row>9</th><td>24</td><td>39</td><td>-2.11711982</td></tr>\n",
       "</tbody>\n",
       "</table>\n"
      ],
      "text/latex": [
       "A data.frame: 12 × 3\n",
       "\\begin{tabular}{r|lll}\n",
       "  & x & y & standard\\_res\\\\\n",
       "  & <dbl> & <dbl> & <dbl>\\\\\n",
       "\\hline\n",
       "\t1 &  8 & 41 &  1.40517322\\\\\n",
       "\t12 & 30 & 57 &  1.26973888\\\\\n",
       "\t11 & 29 & 55 &  0.91057211\\\\\n",
       "\t2 & 12 & 42 &  0.81017562\\\\\n",
       "\t7 & 17 & 45 &  0.59610905\\\\\n",
       "\t3 & 12 & 39 &  0.07491009\\\\\n",
       "\t8 & 22 & 46 & -0.05876884\\\\\n",
       "\t10 & 26 & 49 & -0.06655600\\\\\n",
       "\t4 & 13 & 37 & -0.59323342\\\\\n",
       "\t6 & 16 & 39 & -0.64248883\\\\\n",
       "\t5 & 14 & 35 & -1.24820530\\\\\n",
       "\t9 & 24 & 39 & -2.11711982\\\\\n",
       "\\end{tabular}\n"
      ],
      "text/markdown": [
       "\n",
       "A data.frame: 12 × 3\n",
       "\n",
       "| <!--/--> | x &lt;dbl&gt; | y &lt;dbl&gt; | standard_res &lt;dbl&gt; |\n",
       "|---|---|---|---|\n",
       "| 1 |  8 | 41 |  1.40517322 |\n",
       "| 12 | 30 | 57 |  1.26973888 |\n",
       "| 11 | 29 | 55 |  0.91057211 |\n",
       "| 2 | 12 | 42 |  0.81017562 |\n",
       "| 7 | 17 | 45 |  0.59610905 |\n",
       "| 3 | 12 | 39 |  0.07491009 |\n",
       "| 8 | 22 | 46 | -0.05876884 |\n",
       "| 10 | 26 | 49 | -0.06655600 |\n",
       "| 4 | 13 | 37 | -0.59323342 |\n",
       "| 6 | 16 | 39 | -0.64248883 |\n",
       "| 5 | 14 | 35 | -1.24820530 |\n",
       "| 9 | 24 | 39 | -2.11711982 |\n",
       "\n"
      ],
      "text/plain": [
       "   x  y  standard_res\n",
       "1   8 41  1.40517322 \n",
       "12 30 57  1.26973888 \n",
       "11 29 55  0.91057211 \n",
       "2  12 42  0.81017562 \n",
       "7  17 45  0.59610905 \n",
       "3  12 39  0.07491009 \n",
       "8  22 46 -0.05876884 \n",
       "10 26 49 -0.06655600 \n",
       "4  13 37 -0.59323342 \n",
       "6  16 39 -0.64248883 \n",
       "5  14 35 -1.24820530 \n",
       "9  24 39 -2.11711982 "
      ]
     },
     "metadata": {},
     "output_type": "display_data"
    }
   ],
   "source": [
    "data <- data.frame(x=c(8, 12, 12, 13, 14, 16, 17, 22, 24, 26, 29, 30),\n",
    "                   y=c(41, 42, 39, 37, 35, 39, 45, 46, 39, 49, 55, 57))\n",
    "#data\n",
    "\n",
    "lm.fit <- lm(y ~ x, data)\n",
    "standard_res <- rstandard(lm.fit)\n",
    "rs_data <- cbind(data,standard_res)\n",
    "rs_data[order(-standard_res),]"
   ]
  },
  {
   "cell_type": "code",
   "execution_count": null,
   "id": "4abb9386-9201-4646-a800-555ced148286",
   "metadata": {},
   "outputs": [],
   "source": [
    "plotrs_data$x, standard_res, "
   ]
  }
 ],
 "metadata": {
  "kernelspec": {
   "display_name": "R",
   "language": "R",
   "name": "ir"
  },
  "language_info": {
   "codemirror_mode": "r",
   "file_extension": ".r",
   "mimetype": "text/x-r-source",
   "name": "R",
   "pygments_lexer": "r",
   "version": "4.3.1"
  }
 },
 "nbformat": 4,
 "nbformat_minor": 5
}
