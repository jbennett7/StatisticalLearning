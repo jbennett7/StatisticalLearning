{
 "cells": [
  {
   "cell_type": "markdown",
   "id": "0f08e84b-16d2-482b-b1d3-37cfc5115f2f",
   "metadata": {},
   "source": [
    "# Chapter Equations"
   ]
  }
 ],
 "metadata": {
  "kernelspec": {
   "display_name": "R",
   "language": "R",
   "name": "ir"
  },
  "language_info": {
   "codemirror_mode": "r",
   "file_extension": ".r",
   "mimetype": "text/x-r-source",
   "name": "R",
   "pygments_lexer": "r",
   "version": "4.3.1"
  }
 },
 "nbformat": 4,
 "nbformat_minor": 5
}
