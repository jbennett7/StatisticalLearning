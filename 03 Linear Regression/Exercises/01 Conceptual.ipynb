{
 "cells": [
  {
   "cell_type": "markdown",
   "id": "27f4f1ec-24e7-4b12-a50b-3c42b27de59b",
   "metadata": {},
   "source": [
    "# Conceptual"
   ]
  },
  {
   "cell_type": "markdown",
   "id": "e3fc6c41-7eab-4c7d-a8a6-5d8b0bca8067",
   "metadata": {},
   "source": [
    "__1.__ Describe the null hypotheses to which the _p_-values given in Table 3.4 correspond. Explain what conclusions you can draw on these _p_-values. Your explanation should be phrased in terms of `sales`, `TV`, `radio`, and `newspaper`, rather than in terms of the coefficients of the linear model."
   ]
  },
  {
   "cell_type": "code",
   "execution_count": 1,
   "id": "bb8f7df3-ceae-437b-8c57-9eeced8b3fee",
   "metadata": {},
   "outputs": [],
   "source": [
    "Advertising <- subset(read.csv(\"../99DataSets/Advertising.csv\"), select = -X)\n",
    "attach(Advertising)"
   ]
  },
  {
   "cell_type": "code",
   "execution_count": 9,
   "id": "1715d738-912d-44e0-9326-2587021a307f",
   "metadata": {},
   "outputs": [
    {
     "data": {
      "text/html": [
       "<table class=\"dataframe\">\n",
       "<caption>A matrix: 4 × 4 of type dbl</caption>\n",
       "<thead>\n",
       "\t<tr><th></th><th scope=col>Estimate</th><th scope=col>Std. Error</th><th scope=col>t value</th><th scope=col>Pr(&gt;|t|)</th></tr>\n",
       "</thead>\n",
       "<tbody>\n",
       "\t<tr><th scope=row>(Intercept)</th><td> 2.938889369</td><td>0.311908236</td><td> 9.4222884</td><td>1.267295e-17</td></tr>\n",
       "\t<tr><th scope=row>TV</th><td> 0.045764645</td><td>0.001394897</td><td>32.8086244</td><td>1.509960e-81</td></tr>\n",
       "\t<tr><th scope=row>radio</th><td> 0.188530017</td><td>0.008611234</td><td>21.8934961</td><td>1.505339e-54</td></tr>\n",
       "\t<tr><th scope=row>newspaper</th><td>-0.001037493</td><td>0.005871010</td><td>-0.1767146</td><td>8.599151e-01</td></tr>\n",
       "</tbody>\n",
       "</table>\n"
      ],
      "text/latex": [
       "A matrix: 4 × 4 of type dbl\n",
       "\\begin{tabular}{r|llll}\n",
       "  & Estimate & Std. Error & t value & Pr(>\\textbar{}t\\textbar{})\\\\\n",
       "\\hline\n",
       "\t(Intercept) &  2.938889369 & 0.311908236 &  9.4222884 & 1.267295e-17\\\\\n",
       "\tTV &  0.045764645 & 0.001394897 & 32.8086244 & 1.509960e-81\\\\\n",
       "\tradio &  0.188530017 & 0.008611234 & 21.8934961 & 1.505339e-54\\\\\n",
       "\tnewspaper & -0.001037493 & 0.005871010 & -0.1767146 & 8.599151e-01\\\\\n",
       "\\end{tabular}\n"
      ],
      "text/markdown": [
       "\n",
       "A matrix: 4 × 4 of type dbl\n",
       "\n",
       "| <!--/--> | Estimate | Std. Error | t value | Pr(&gt;|t|) |\n",
       "|---|---|---|---|---|\n",
       "| (Intercept) |  2.938889369 | 0.311908236 |  9.4222884 | 1.267295e-17 |\n",
       "| TV |  0.045764645 | 0.001394897 | 32.8086244 | 1.509960e-81 |\n",
       "| radio |  0.188530017 | 0.008611234 | 21.8934961 | 1.505339e-54 |\n",
       "| newspaper | -0.001037493 | 0.005871010 | -0.1767146 | 8.599151e-01 |\n",
       "\n"
      ],
      "text/plain": [
       "            Estimate     Std. Error  t value    Pr(>|t|)    \n",
       "(Intercept)  2.938889369 0.311908236  9.4222884 1.267295e-17\n",
       "TV           0.045764645 0.001394897 32.8086244 1.509960e-81\n",
       "radio        0.188530017 0.008611234 21.8934961 1.505339e-54\n",
       "newspaper   -0.001037493 0.005871010 -0.1767146 8.599151e-01"
      ]
     },
     "metadata": {},
     "output_type": "display_data"
    }
   ],
   "source": [
    "advert.fit <- lm(sales ~ ., data = Advertising)\n",
    "summary(advert.fit)$coefficients"
   ]
  },
  {
   "cell_type": "markdown",
   "id": "70ece1ff-e78e-421e-8706-05e186214d3f",
   "metadata": {},
   "source": [
    "__SOLUTION__  \n",
    "Null hypothesis $H_0: \\beta_i = 0$. As can be seen in the table above the _p_-values for `TV`, and `radio` are essentially $0$ and thus we can reject the Null hypothesis and recognize that there is a relationship between these predictors and the response `sales`. The input variable `newspaper`, has a _p_-value of $0.860$ which is significant. This means the Null hypothesis is accepted&mdash;there is no relationship between the input variable `newspaper` and the output variable `sales`."
   ]
  },
  {
   "cell_type": "markdown",
   "id": "1d68e5be-59b1-4c37-b63b-5af3728b3888",
   "metadata": {},
   "source": [
    "---"
   ]
  },
  {
   "cell_type": "markdown",
   "id": "966d3b81-78e3-4434-9e42-58aae5168da3",
   "metadata": {},
   "source": [
    "__2.__  Carefully explain the differences between the KNN classifier and KNN regression methods."
   ]
  },
  {
   "cell_type": "markdown",
   "id": "d6309dba-fd39-43ce-896e-f0966ff524de",
   "metadata": {},
   "source": [
    "__Solution__  \n",
    "* KNN Classifier attempts to predict the classification of an observation by looking at the classification of its nearest neighbors. The majority classification of the neighbors is the predicted classification of the observation we are trying to predict.\n",
    "* KNN regression is used to predict the value of a numerical response variable. This method may be good to use when the true relationship between the response and the predictors is not linear. KNN regression is similar to the KNN classifier method in that it predicts the value of the response by looking at the values of the _k_-nearest neighbors based on the values of the predictors. THe response variable values of the neighbors is then averaged, this average is the predicted response value for the observation we are seeking to predict."
   ]
  },
  {
   "cell_type": "markdown",
   "id": "51b7c6aa-1462-45a5-8e13-e2e316c59ae1",
   "metadata": {},
   "source": [
    "---"
   ]
  },
  {
   "cell_type": "markdown",
   "id": "1a12c110-d536-4a10-bd64-d0936029f998",
   "metadata": {},
   "source": [
    "__3.__  Suppose we have a data set with five predictors, $X_1 =$ GPA, $X_2 =$ IQ, $X_3 =$ Level (1 for College and 0 for High School), $X_4 = $ Interaction between GPA and IQ, $X_5 =$ Interaction between GPA and Level. The response is starting salary after graduation (in thousands of dollars). Suppose we use least squares to fit the model, and get $\\hat{\\beta_0}=50$, $\\hat{\\beta_1}=20$, $\\hat{\\beta_2}=0.07$, $\\hat{\\beta_3}=35$, $\\hat{\\beta_4}=0.01$, $\\hat{\\beta_5}=-10$.  \n",
    "\n",
    "&nbsp;&nbsp;(a) Which answer is correct, and why?  \n",
    "&nbsp;&nbsp;&nbsp;&nbsp;&nbsp;&nbsp;i.&nbsp;&nbsp;&nbsp;&nbsp;For a fixed value of IQ and GPA, high school graduates earn more, on average, than college graduates.  \n",
    "&nbsp;&nbsp;&nbsp;&nbsp;&nbsp;&nbsp;ii.&nbsp;&nbsp;&nbsp;For a fixed value of IQ and GPA, college graduates earn more, on average, than high school graduates.  \n",
    "&nbsp;&nbsp;&nbsp;&nbsp;&nbsp;&nbsp;iii.&nbsp;&nbsp;For a fixed value of IQ and GPA, high school graduates earn more, on average, than college graduates provided that the GPA is high enough.  \n",
    "&nbsp;&nbsp;&nbsp;&nbsp;&nbsp;&nbsp;iv.&nbsp;&nbsp;&nbsp;For a fixed value of IQ and GPA, college graduates earn more, on average, than high school graduates provided that the GPA is high enough.  \n",
    "&nbsp;&nbsp;(b) Predict the salary of a college graduate with IQ of $110$ and a GPA of $4.0$.  \n",
    "&nbsp;&nbsp;(c) True or false: Since the coefficient for the GPA/IQ interaction term is very small, there is very little evidence of an interaction effect. Justify your answer.  "
   ]
  },
  {
   "cell_type": "code",
   "execution_count": 27,
   "id": "6ebe1cad-f797-4974-8fd7-93b9a0b6852a",
   "metadata": {},
   "outputs": [],
   "source": [
    "beta.0 <- 50\n",
    "beta.1 <- 20\n",
    "beta.2 <- 0.07\n",
    "beta.3 <- 35\n",
    "beta.4 <- 0.01\n",
    "beta.5 <- -10"
   ]
  },
  {
   "cell_type": "markdown",
   "id": "3ebaa30c-9e72-4f59-8c01-ed9350810afd",
   "metadata": {},
   "source": [
    "The equation:\n",
    "\\begin{align}\n",
    "Y = \\beta_0 + \\beta_1 X_1 + \\beta_2 X_2 + \\beta_3 X_3 + \\beta_4 X_4 + \\beta_5 X_5 \\\\\n",
    "\\\\\n",
    "X_4 = X_1 * X_2 \\\\\n",
    "X_5 = X_1 * X_3 \\\\\n",
    "\\\\\n",
    "Y &= \\beta_0 + \\beta_1 X_1 + \\beta_2 X_2 + \\beta_3 X_3 + \\beta_4 X_1X_2 + \\beta_5 X_1X_3 \\\\\n",
    "Y &= 50 + 20 * \\text{GPA} + 0.07 * \\text{IQ} + 35 * \\text{Level} + 0.01 * \\text{GPA} * \\text{IQ} + (-10) * \\text{GPA} * \\text{Level}\n",
    "\\\\\n",
    "\\\\\n",
    "Y &= 85 + 10\\text{GPA} \\ \\ \\ \\text{College} \\\\\n",
    "Y &= 50 + 20\\text{GPA} \\ \\ \\ \\text{High School}\n",
    "\\end{align}\n",
    "\n",
    "__SOLUTION__: (iii) As long as the GPA $\\ge 3.5$ high school graduates will earn more on average."
   ]
  },
  {
   "cell_type": "code",
   "execution_count": 28,
   "id": "5dddc568-9ced-44c3-a64f-ca784e201275",
   "metadata": {},
   "outputs": [
    {
     "data": {
      "image/png": "[encoded data removed]",
      "text/plain": [
       "plot without title"
      ]
     },
     "metadata": {
      "image/png": {
       "height": 420,
       "width": 420
      }
     },
     "output_type": "display_data"
    }
   ],
   "source": [
    "curve(85 + 10*x, 0, 4, ylab=\"Salary\", xlab=\"GPA\", col=\"blue\")\n",
    "curve(50 + 20*x, 0, 4, col=\"red\", add = TRUE)"
   ]
  },
  {
   "cell_type": "markdown",
   "id": "37c1cb1a-def8-4cd2-9019-37bebbd67670",
   "metadata": {},
   "source": [
    "For a college graduate ($X_3 = 1$), with an IQ of 110 and GPA of 4.0 ($X_1 = 4.0$, $X_2 = 110$)\n",
    "\\begin{align}\n",
    "Y = 50 + (20)(4.0) + (0.07)(110) + (35)(1) + (0.01)(4.0)(110) + (-10)(4.0)(1)\n",
    "\\end{align}"
   ]
  },
  {
   "cell_type": "code",
   "execution_count": 30,
   "id": "8a4b27cd-3af5-47ee-9511-37bbcf5df543",
   "metadata": {},
   "outputs": [
    {
     "data": {
      "text/html": [
       "137.1"
      ],
      "text/latex": [
       "137.1"
      ],
      "text/markdown": [
       "137.1"
      ],
      "text/plain": [
       "[1] 137.1"
      ]
     },
     "metadata": {},
     "output_type": "display_data"
    }
   ],
   "source": [
    "50 + 20*4 + .07*110 + 35 + .01*4*110 - 10*4"
   ]
  },
  {
   "cell_type": "markdown",
   "id": "5351283c-d161-4434-96e6-008dcc541b1f",
   "metadata": {},
   "source": [
    "(c) __False__, the _p_-value should be examined for statistical significance."
   ]
  },
  {
   "cell_type": "markdown",
   "id": "9a0a325d-9bb4-40de-a897-b6951e74fc7d",
   "metadata": {},
   "source": [
    "---"
   ]
  },
  {
   "cell_type": "markdown",
   "id": "40bfcd1b-3f56-43eb-a92e-cd9044ee6137",
   "metadata": {},
   "source": [
    "__4.__ I collect a set of data ($n=10$ observations) containing a single predictor and a quantitative response. I then fit a linear regression model to the data, as well as a separate cubic regression, i.e. $Y = \\beta_0 + \\beta_1 X + \\beta_2 X^2 + \\beta_3 X^3 + \\epsilon$."
   ]
  },
  {
   "cell_type": "markdown",
   "id": "f07b406f-2cac-479a-ba82-407b5c9a9d41",
   "metadata": {},
   "source": [
    "(a) Suppose that the true relationship between $X$ and $Y$ is linear, i.e. $Y = \\beta_0 + \\beta_1 X + \\epsilon$. Consider the training residual sum of squares (RSS) for the linear regression, and also the training RSS for the cubic regression. Would we expect one to be lower than the other, would we expect them to be the same, or is there not enough information to tell? Justify your answer.\n",
    "\n",
    "__SOLUTION__  \n",
    "The training RSS for the cubic regression should be lower than the linear regression because the cubic regression is more flexible than the linear regression."
   ]
  },
  {
   "cell_type": "markdown",
   "id": "40ca34b9-7f46-44f5-a303-d9d24b7b0ab4",
   "metadata": {},
   "source": [
    "(b) Answer (a) using test rather than training RSS.  \n",
    "\n",
    "__SOLUTION__  \n",
    "It would be hard to say. It would depend on the data. It is possible that the test RSS would be worse for the cubic regression because of overfitting."
   ]
  },
  {
   "cell_type": "markdown",
   "id": "306951b5-18ee-41aa-b996-6193ffc93906",
   "metadata": {},
   "source": [
    "(c) Suppose that the true relationship between $X$ and $Y$ is not linear, but we don't know how far it is from linear. Consider the training RSS for the linear regression, and also the training RSS for the cubic regression. Would we expect one to be lower than the other, would we expect them to be the same, or is there not enough information to tell? Justify your answer.  \n",
    "\n",
    "__SOLUTION__  \n",
    "You would still expect the training RSS for the cubic to be less than the training RSS for the linear regression because it is at least as flexible as the linear regression."
   ]
  },
  {
   "cell_type": "markdown",
   "id": "0239dc5a-3393-4655-b635-0dc151649696",
   "metadata": {},
   "source": [
    "(d) Answer (c) using test rather than training RSS.  \n",
    "\n",
    "__SOLUTION__  \n",
    "It would be hard to say. It depends on how non-linear the relationship is."
   ]
  },
  {
   "cell_type": "markdown",
   "id": "53636b51-3ef5-4338-a059-f07cb24dd6e7",
   "metadata": {},
   "source": [
    "---"
   ]
  },
  {
   "cell_type": "markdown",
   "id": "dcbbeb19-3498-4c52-ad4a-a1f092fb1dac",
   "metadata": {},
   "source": [
    "__5.__ Consider the fitted values that result from performing linear regression without an intercept. In this setting, the _i_ th fitted value takes the form\n",
    "\\begin{align}\n",
    "\\hat{y_i} = x_i \\hat{\\beta}\\text{, }\n",
    "\\end{align}\n",
    "where\n",
    "\\begin{align}\\tag{3.38}\n",
    "\\hat{\\beta} = \\left( \\sum^n_{i=1}{x_i y_i} \\right) / \\left( \\sum^n_{i'=1}{x_{i'}^2} \\right)\\text{.}\n",
    "\\end{align}\n",
    "Show that we can write\n",
    "\\begin{align}\n",
    "\\hat{y_i} = \\sum^n_{i'=1}{a_{i'}y_{i'}}\\text{.}\n",
    "\\end{align}\n",
    "What is $a_{i'}$?  \n",
    "\n",
    "_Note: We interpret this result by saying that the fitted values from linear regression are_ linear combinations _of the response values_.  \n",
    "\n",
    "__SOLUTION__  \n"
   ]
  },
  {
   "cell_type": "markdown",
   "id": "d481e135-0882-4d56-bfaf-627f232e5ff7",
   "metadata": {},
   "source": [
    "\\begin{align}\n",
    "\\hat{y_i} &= x_i \\frac{ \\sum^n_{i=1}{x_i y_i} } { \\sum^n_{i'=1}{x^2_{i'}}} \\\\\n",
    "\\\\\n",
    "\\hat{y_i} &= x_i \\frac{ \\sum^n_{i'=1}{ x_{i'} y_{i'} } } { \\sum^n_{i''=1} { x^2_{i''} } } \\\\\n",
    "\\\\\n",
    "\\hat{y_i} &= \\frac{ \\sum^n_{i'=1}{ x_i x_{i'} y_{i'} } } { \\sum^n_{i''=1} { x^2_{i''} } } \\\\\n",
    "\\\\\n",
    "\\hat{y_i} &= \\frac{ \\sum^n_{i'=1}{ x_i x_{i'} } } { \\sum^n_{i''=1} { x^2_{i''} } }  y_{i'} \\\\\n",
    "\\\\\n",
    "\\end{align}\n",
    "where\n",
    "\\begin{align}\n",
    "a_{i'} = \\frac{ \\sum^n_{i'=1}{ x_i x_{i'} } } { \\sum^n_{i''=1} { x^2_{i''} } }\n",
    "\\end{align}\n"
   ]
  },
  {
   "cell_type": "markdown",
   "id": "db6f13ed-d2a4-4d39-ac08-8f61add0343b",
   "metadata": {},
   "source": [
    "---"
   ]
  },
  {
   "cell_type": "markdown",
   "id": "eb166e05-1338-4c0d-9178-c4b581f095e8",
   "metadata": {},
   "source": [
    "__6.__ Using (3.4), argue that in the case of simple linear regression, the least squares line always passes through the point $(\\bar{x}, \\bar{y})$.  \n",
    "\n",
    "__SOLUTION__  \n",
    "\\begin{align}\\tag{3.4}\n",
    "\\hat{\\beta_1} &= \\frac{ \\sum^n_{i=1}(x_i = \\bar{x})(y_i - \\hat{y}) } { \\sum^n_{i=1}(x_i - \\bar{x})^2 } \\\\\n",
    "\\hat{\\beta_0} &= \\bar{y} - \\bar{\\beta_1} \\hat{x} \\text{,}\n",
    "\\end{align}\n",
    "When $x = \\bar{x}$ what is $y$?  \n",
    "\n",
    "\\begin{align}\n",
    "y &= \\hat{\\beta_0} + \\hat{\\beta_1} \\bar{x} \\\\\n",
    "  &= \\bar{y} - \\hat{\\beta_1} \\bar{x} + \\hat{\\beta_1} \\bar{x} \\\\\n",
    "  &= \\bar{y}\n",
    "\\end{align}"
   ]
  },
  {
   "cell_type": "markdown",
   "id": "2cb792b9-3209-4770-9e27-6757b57a0363",
   "metadata": {},
   "source": [
    "---"
   ]
  },
  {
   "cell_type": "markdown",
   "id": "06c24271-b597-4ec1-a115-d4e3ec8ba13e",
   "metadata": {},
   "source": [
    "__7.__ It is claimed in the text that in the case of simple linear regression of $Y$ onto $X$, the $R^2$ statistic (3.17) is equal to the sqare of the correlation between $X$ and $Y$ (3.18). Prove that this is the case. For simplicity, you may assume that $\\bar{x}=\\bar{y}=0$.  \n",
    "\n",
    "__SOLUTION__  \n",
    "https://danhalligan.github.io/ISLRv2-solutions/linear-regression.html#conceptual-1"
   ]
  }
 ],
 "metadata": {
  "kernelspec": {
   "display_name": "R",
   "language": "R",
   "name": "ir"
  },
  "language_info": {
   "codemirror_mode": "r",
   "file_extension": ".r",
   "mimetype": "text/x-r-source",
   "name": "R",
   "pygments_lexer": "r",
   "version": "4.3.1"
  }
 },
 "nbformat": 4,
 "nbformat_minor": 5
}
