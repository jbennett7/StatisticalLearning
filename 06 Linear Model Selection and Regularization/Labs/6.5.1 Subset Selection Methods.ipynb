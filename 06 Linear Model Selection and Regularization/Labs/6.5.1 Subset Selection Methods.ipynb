{
 "cells": [
  {
   "cell_type": "markdown",
   "id": "66a562fb-df36-40df-ab53-a0e012585e15",
   "metadata": {},
   "source": [
    "# 6.5.1 Subset Selection Methods"
   ]
  },
  {
   "cell_type": "markdown",
   "id": "a29eafe6-836f-44a4-a7a5-2083f0b0146e",
   "metadata": {},
   "source": [
    "## Best Subset Selection\n",
    "Here we apply the best subset selection approach to the `Hitters` data. We wish to predict a baseball player's `Salary` variable is missing for some of the players. The `is.na()` function can be used to identify the missing observations. It returns a vector of the same length as the input vector, with a `TRUE` for any elements that are missing, and a `FALSE` for non-missing elements. The `sum()` function can then be used to count all of the missing elements."
   ]
  },
  {
   "cell_type": "code",
   "execution_count": 1,
   "id": "6ffcd2ec-30ad-4335-972d-7c7a49ef35d5",
   "metadata": {},
   "outputs": [
    {
     "data": {
      "text/html": [
       "<table class=\"dataframe\">\n",
       "<caption>A data.frame: 322 × 20</caption>\n",
       "<thead>\n",
       "\t<tr><th></th><th scope=col>AtBat</th><th scope=col>Hits</th><th scope=col>HmRun</th><th scope=col>Runs</th><th scope=col>RBI</th><th scope=col>Walks</th><th scope=col>Years</th><th scope=col>CAtBat</th><th scope=col>CHits</th><th scope=col>CHmRun</th><th scope=col>CRuns</th><th scope=col>CRBI</th><th scope=col>CWalks</th><th scope=col>League</th><th scope=col>Division</th><th scope=col>PutOuts</th><th scope=col>Assists</th><th scope=col>Errors</th><th scope=col>Salary</th><th scope=col>NewLeague</th></tr>\n",
       "\t<tr><th></th><th scope=col>&lt;int&gt;</th><th scope=col>&lt;int&gt;</th><th scope=col>&lt;int&gt;</th><th scope=col>&lt;int&gt;</th><th scope=col>&lt;int&gt;</th><th scope=col>&lt;int&gt;</th><th scope=col>&lt;int&gt;</th><th scope=col>&lt;int&gt;</th><th scope=col>&lt;int&gt;</th><th scope=col>&lt;int&gt;</th><th scope=col>&lt;int&gt;</th><th scope=col>&lt;int&gt;</th><th scope=col>&lt;int&gt;</th><th scope=col>&lt;fct&gt;</th><th scope=col>&lt;fct&gt;</th><th scope=col>&lt;int&gt;</th><th scope=col>&lt;int&gt;</th><th scope=col>&lt;int&gt;</th><th scope=col>&lt;dbl&gt;</th><th scope=col>&lt;fct&gt;</th></tr>\n",
       "</thead>\n",
       "<tbody>\n",
       "\t<tr><th scope=row>-Andy Allanson</th><td>293</td><td> 66</td><td> 1</td><td> 30</td><td> 29</td><td>14</td><td> 1</td><td> 293</td><td>  66</td><td>  1</td><td>  30</td><td>  29</td><td> 14</td><td>A</td><td>E</td><td> 446</td><td> 33</td><td>20</td><td>      NA</td><td>A</td></tr>\n",
       "\t<tr><th scope=row>-Alan Ashby</th><td>315</td><td> 81</td><td> 7</td><td> 24</td><td> 38</td><td>39</td><td>14</td><td>3449</td><td> 835</td><td> 69</td><td> 321</td><td> 414</td><td>375</td><td>N</td><td>W</td><td> 632</td><td> 43</td><td>10</td><td> 475.000</td><td>N</td></tr>\n",
       "\t<tr><th scope=row>-Alvin Davis</th><td>479</td><td>130</td><td>18</td><td> 66</td><td> 72</td><td>76</td><td> 3</td><td>1624</td><td> 457</td><td> 63</td><td> 224</td><td> 266</td><td>263</td><td>A</td><td>W</td><td> 880</td><td> 82</td><td>14</td><td> 480.000</td><td>A</td></tr>\n",
       "\t<tr><th scope=row>-Andre Dawson</th><td>496</td><td>141</td><td>20</td><td> 65</td><td> 78</td><td>37</td><td>11</td><td>5628</td><td>1575</td><td>225</td><td> 828</td><td> 838</td><td>354</td><td>N</td><td>E</td><td> 200</td><td> 11</td><td> 3</td><td> 500.000</td><td>N</td></tr>\n",
       "\t<tr><th scope=row>-Andres Galarraga</th><td>321</td><td> 87</td><td>10</td><td> 39</td><td> 42</td><td>30</td><td> 2</td><td> 396</td><td> 101</td><td> 12</td><td>  48</td><td>  46</td><td> 33</td><td>N</td><td>E</td><td> 805</td><td> 40</td><td> 4</td><td>  91.500</td><td>N</td></tr>\n",
       "\t<tr><th scope=row>-Alfredo Griffin</th><td>594</td><td>169</td><td> 4</td><td> 74</td><td> 51</td><td>35</td><td>11</td><td>4408</td><td>1133</td><td> 19</td><td> 501</td><td> 336</td><td>194</td><td>A</td><td>W</td><td> 282</td><td>421</td><td>25</td><td> 750.000</td><td>A</td></tr>\n",
       "\t<tr><th scope=row>-Al Newman</th><td>185</td><td> 37</td><td> 1</td><td> 23</td><td>  8</td><td>21</td><td> 2</td><td> 214</td><td>  42</td><td>  1</td><td>  30</td><td>   9</td><td> 24</td><td>N</td><td>E</td><td>  76</td><td>127</td><td> 7</td><td>  70.000</td><td>A</td></tr>\n",
       "\t<tr><th scope=row>-Argenis Salazar</th><td>298</td><td> 73</td><td> 0</td><td> 24</td><td> 24</td><td> 7</td><td> 3</td><td> 509</td><td> 108</td><td>  0</td><td>  41</td><td>  37</td><td> 12</td><td>A</td><td>W</td><td> 121</td><td>283</td><td> 9</td><td> 100.000</td><td>A</td></tr>\n",
       "\t<tr><th scope=row>-Andres Thomas</th><td>323</td><td> 81</td><td> 6</td><td> 26</td><td> 32</td><td> 8</td><td> 2</td><td> 341</td><td>  86</td><td>  6</td><td>  32</td><td>  34</td><td>  8</td><td>N</td><td>W</td><td> 143</td><td>290</td><td>19</td><td>  75.000</td><td>N</td></tr>\n",
       "\t<tr><th scope=row>-Andre Thornton</th><td>401</td><td> 92</td><td>17</td><td> 49</td><td> 66</td><td>65</td><td>13</td><td>5206</td><td>1332</td><td>253</td><td> 784</td><td> 890</td><td>866</td><td>A</td><td>E</td><td>   0</td><td>  0</td><td> 0</td><td>1100.000</td><td>A</td></tr>\n",
       "\t<tr><th scope=row>-Alan Trammell</th><td>574</td><td>159</td><td>21</td><td>107</td><td> 75</td><td>59</td><td>10</td><td>4631</td><td>1300</td><td> 90</td><td> 702</td><td> 504</td><td>488</td><td>A</td><td>E</td><td> 238</td><td>445</td><td>22</td><td> 517.143</td><td>A</td></tr>\n",
       "\t<tr><th scope=row>-Alex Trevino</th><td>202</td><td> 53</td><td> 4</td><td> 31</td><td> 26</td><td>27</td><td> 9</td><td>1876</td><td> 467</td><td> 15</td><td> 192</td><td> 186</td><td>161</td><td>N</td><td>W</td><td> 304</td><td> 45</td><td>11</td><td> 512.500</td><td>N</td></tr>\n",
       "\t<tr><th scope=row>-Andy VanSlyke</th><td>418</td><td>113</td><td>13</td><td> 48</td><td> 61</td><td>47</td><td> 4</td><td>1512</td><td> 392</td><td> 41</td><td> 205</td><td> 204</td><td>203</td><td>N</td><td>E</td><td> 211</td><td> 11</td><td> 7</td><td> 550.000</td><td>N</td></tr>\n",
       "\t<tr><th scope=row>-Alan Wiggins</th><td>239</td><td> 60</td><td> 0</td><td> 30</td><td> 11</td><td>22</td><td> 6</td><td>1941</td><td> 510</td><td>  4</td><td> 309</td><td> 103</td><td>207</td><td>A</td><td>E</td><td> 121</td><td>151</td><td> 6</td><td> 700.000</td><td>A</td></tr>\n",
       "\t<tr><th scope=row>-Bill Almon</th><td>196</td><td> 43</td><td> 7</td><td> 29</td><td> 27</td><td>30</td><td>13</td><td>3231</td><td> 825</td><td> 36</td><td> 376</td><td> 290</td><td>238</td><td>N</td><td>E</td><td>  80</td><td> 45</td><td> 8</td><td> 240.000</td><td>N</td></tr>\n",
       "\t<tr><th scope=row>-Billy Beane</th><td>183</td><td> 39</td><td> 3</td><td> 20</td><td> 15</td><td>11</td><td> 3</td><td> 201</td><td>  42</td><td>  3</td><td>  20</td><td>  16</td><td> 11</td><td>A</td><td>W</td><td> 118</td><td>  0</td><td> 0</td><td>      NA</td><td>A</td></tr>\n",
       "\t<tr><th scope=row>-Buddy Bell</th><td>568</td><td>158</td><td>20</td><td> 89</td><td> 75</td><td>73</td><td>15</td><td>8068</td><td>2273</td><td>177</td><td>1045</td><td> 993</td><td>732</td><td>N</td><td>W</td><td> 105</td><td>290</td><td>10</td><td> 775.000</td><td>N</td></tr>\n",
       "\t<tr><th scope=row>-Buddy Biancalana</th><td>190</td><td> 46</td><td> 2</td><td> 24</td><td>  8</td><td>15</td><td> 5</td><td> 479</td><td> 102</td><td>  5</td><td>  65</td><td>  23</td><td> 39</td><td>A</td><td>W</td><td> 102</td><td>177</td><td>16</td><td> 175.000</td><td>A</td></tr>\n",
       "\t<tr><th scope=row>-Bruce Bochte</th><td>407</td><td>104</td><td> 6</td><td> 57</td><td> 43</td><td>65</td><td>12</td><td>5233</td><td>1478</td><td>100</td><td> 643</td><td> 658</td><td>653</td><td>A</td><td>W</td><td> 912</td><td> 88</td><td> 9</td><td>      NA</td><td>A</td></tr>\n",
       "\t<tr><th scope=row>-Bruce Bochy</th><td>127</td><td> 32</td><td> 8</td><td> 16</td><td> 22</td><td>14</td><td> 8</td><td> 727</td><td> 180</td><td> 24</td><td>  67</td><td>  82</td><td> 56</td><td>N</td><td>W</td><td> 202</td><td> 22</td><td> 2</td><td> 135.000</td><td>N</td></tr>\n",
       "\t<tr><th scope=row>-Barry Bonds</th><td>413</td><td> 92</td><td>16</td><td> 72</td><td> 48</td><td>65</td><td> 1</td><td> 413</td><td>  92</td><td> 16</td><td>  72</td><td>  48</td><td> 65</td><td>N</td><td>E</td><td> 280</td><td>  9</td><td> 5</td><td> 100.000</td><td>N</td></tr>\n",
       "\t<tr><th scope=row>-Bobby Bonilla</th><td>426</td><td>109</td><td> 3</td><td> 55</td><td> 43</td><td>62</td><td> 1</td><td> 426</td><td> 109</td><td>  3</td><td>  55</td><td>  43</td><td> 62</td><td>A</td><td>W</td><td> 361</td><td> 22</td><td> 2</td><td> 115.000</td><td>N</td></tr>\n",
       "\t<tr><th scope=row>-Bob Boone</th><td> 22</td><td> 10</td><td> 1</td><td>  4</td><td>  2</td><td> 1</td><td> 6</td><td>  84</td><td>  26</td><td>  2</td><td>   9</td><td>   9</td><td>  3</td><td>A</td><td>W</td><td> 812</td><td> 84</td><td>11</td><td>      NA</td><td>A</td></tr>\n",
       "\t<tr><th scope=row>-Bob Brenly</th><td>472</td><td>116</td><td>16</td><td> 60</td><td> 62</td><td>74</td><td> 6</td><td>1924</td><td> 489</td><td> 67</td><td> 242</td><td> 251</td><td>240</td><td>N</td><td>W</td><td> 518</td><td> 55</td><td> 3</td><td> 600.000</td><td>N</td></tr>\n",
       "\t<tr><th scope=row>-Bill Buckner</th><td>629</td><td>168</td><td>18</td><td> 73</td><td>102</td><td>40</td><td>18</td><td>8424</td><td>2464</td><td>164</td><td>1008</td><td>1072</td><td>402</td><td>A</td><td>E</td><td>1067</td><td>157</td><td>14</td><td> 776.667</td><td>A</td></tr>\n",
       "\t<tr><th scope=row>-Brett Butler</th><td>587</td><td>163</td><td> 4</td><td> 92</td><td> 51</td><td>70</td><td> 6</td><td>2695</td><td> 747</td><td> 17</td><td> 442</td><td> 198</td><td>317</td><td>A</td><td>E</td><td> 434</td><td>  9</td><td> 3</td><td> 765.000</td><td>A</td></tr>\n",
       "\t<tr><th scope=row>-Bob Dernier</th><td>324</td><td> 73</td><td> 4</td><td> 32</td><td> 18</td><td>22</td><td> 7</td><td>1931</td><td> 491</td><td> 13</td><td> 291</td><td> 108</td><td>180</td><td>N</td><td>E</td><td> 222</td><td>  3</td><td> 3</td><td> 708.333</td><td>N</td></tr>\n",
       "\t<tr><th scope=row>-Bo Diaz</th><td>474</td><td>129</td><td>10</td><td> 50</td><td> 56</td><td>40</td><td>10</td><td>2331</td><td> 604</td><td> 61</td><td> 246</td><td> 327</td><td>166</td><td>N</td><td>W</td><td> 732</td><td> 83</td><td>13</td><td> 750.000</td><td>N</td></tr>\n",
       "\t<tr><th scope=row>-Bill Doran</th><td>550</td><td>152</td><td> 6</td><td> 92</td><td> 37</td><td>81</td><td> 5</td><td>2308</td><td> 633</td><td> 32</td><td> 349</td><td> 182</td><td>308</td><td>N</td><td>W</td><td> 262</td><td>329</td><td>16</td><td> 625.000</td><td>N</td></tr>\n",
       "\t<tr><th scope=row>-Brian Downing</th><td>513</td><td>137</td><td>20</td><td> 90</td><td> 95</td><td>90</td><td>14</td><td>5201</td><td>1382</td><td>166</td><td> 763</td><td> 734</td><td>784</td><td>A</td><td>W</td><td> 267</td><td>  5</td><td> 3</td><td> 900.000</td><td>A</td></tr>\n",
       "\t<tr><th scope=row>⋮</th><td>⋮</td><td>⋮</td><td>⋮</td><td>⋮</td><td>⋮</td><td>⋮</td><td>⋮</td><td>⋮</td><td>⋮</td><td>⋮</td><td>⋮</td><td>⋮</td><td>⋮</td><td>⋮</td><td>⋮</td><td>⋮</td><td>⋮</td><td>⋮</td><td>⋮</td><td>⋮</td></tr>\n",
       "\t<tr><th scope=row>-Toby Harrah</th><td>289</td><td> 63</td><td> 7</td><td> 36</td><td> 41</td><td> 44</td><td>17</td><td>7402</td><td>1954</td><td>195</td><td>1115</td><td> 919</td><td>1153</td><td>A</td><td>W</td><td> 166</td><td>211</td><td> 7</td><td>      NA</td><td>A</td></tr>\n",
       "\t<tr><th scope=row>-Tommy Herr</th><td>559</td><td>141</td><td> 2</td><td> 48</td><td> 61</td><td> 73</td><td> 8</td><td>3162</td><td> 874</td><td> 16</td><td> 421</td><td> 349</td><td> 359</td><td>N</td><td>E</td><td> 352</td><td>414</td><td> 9</td><td> 925.000</td><td>N</td></tr>\n",
       "\t<tr><th scope=row>-Tim Hulett</th><td>520</td><td>120</td><td>17</td><td> 53</td><td> 44</td><td> 21</td><td> 4</td><td> 927</td><td> 227</td><td> 22</td><td> 106</td><td>  80</td><td>  52</td><td>A</td><td>W</td><td>  70</td><td>144</td><td>11</td><td> 185.000</td><td>A</td></tr>\n",
       "\t<tr><th scope=row>-Terry Kennedy</th><td> 19</td><td>  4</td><td> 1</td><td>  2</td><td>  3</td><td>  1</td><td> 1</td><td>  19</td><td>   4</td><td>  1</td><td>   2</td><td>   3</td><td>   1</td><td>N</td><td>W</td><td> 692</td><td> 70</td><td> 8</td><td> 920.000</td><td>A</td></tr>\n",
       "\t<tr><th scope=row>-Tito Landrum</th><td>205</td><td> 43</td><td> 2</td><td> 24</td><td> 17</td><td> 20</td><td> 7</td><td> 854</td><td> 219</td><td> 12</td><td> 105</td><td>  99</td><td>  71</td><td>N</td><td>E</td><td> 131</td><td>  6</td><td> 1</td><td> 286.667</td><td>N</td></tr>\n",
       "\t<tr><th scope=row>-Tim Laudner</th><td>193</td><td> 47</td><td>10</td><td> 21</td><td> 29</td><td> 24</td><td> 6</td><td>1136</td><td> 256</td><td> 42</td><td> 129</td><td> 139</td><td> 106</td><td>A</td><td>W</td><td> 299</td><td> 13</td><td> 5</td><td> 245.000</td><td>A</td></tr>\n",
       "\t<tr><th scope=row>-Tom O'Malley</th><td>181</td><td> 46</td><td> 1</td><td> 19</td><td> 18</td><td> 17</td><td> 5</td><td> 937</td><td> 238</td><td>  9</td><td>  88</td><td>  95</td><td> 104</td><td>A</td><td>E</td><td>  37</td><td> 98</td><td> 9</td><td>      NA</td><td>A</td></tr>\n",
       "\t<tr><th scope=row>-Tom Paciorek</th><td>213</td><td> 61</td><td> 4</td><td> 17</td><td> 22</td><td>  3</td><td>17</td><td>4061</td><td>1145</td><td> 83</td><td> 488</td><td> 491</td><td> 244</td><td>A</td><td>W</td><td> 178</td><td> 45</td><td> 4</td><td> 235.000</td><td>A</td></tr>\n",
       "\t<tr><th scope=row>-Tony Pena</th><td>510</td><td>147</td><td>10</td><td> 56</td><td> 52</td><td> 53</td><td> 7</td><td>2872</td><td> 821</td><td> 63</td><td> 307</td><td> 340</td><td> 174</td><td>N</td><td>E</td><td> 810</td><td> 99</td><td>18</td><td>1150.000</td><td>N</td></tr>\n",
       "\t<tr><th scope=row>-Terry Pendleton</th><td>578</td><td>138</td><td> 1</td><td> 56</td><td> 59</td><td> 34</td><td> 3</td><td>1399</td><td> 357</td><td>  7</td><td> 149</td><td> 161</td><td>  87</td><td>N</td><td>E</td><td> 133</td><td>371</td><td>20</td><td> 160.000</td><td>N</td></tr>\n",
       "\t<tr><th scope=row>-Tony Perez</th><td>200</td><td> 51</td><td> 2</td><td> 14</td><td> 29</td><td> 25</td><td>23</td><td>9778</td><td>2732</td><td>379</td><td>1272</td><td>1652</td><td> 925</td><td>N</td><td>W</td><td> 398</td><td> 29</td><td> 7</td><td>      NA</td><td>N</td></tr>\n",
       "\t<tr><th scope=row>-Tony Phillips</th><td>441</td><td>113</td><td> 5</td><td> 76</td><td> 52</td><td> 76</td><td> 5</td><td>1546</td><td> 397</td><td> 17</td><td> 226</td><td> 149</td><td> 191</td><td>A</td><td>W</td><td> 160</td><td>290</td><td>11</td><td> 425.000</td><td>A</td></tr>\n",
       "\t<tr><th scope=row>-Terry Puhl</th><td>172</td><td> 42</td><td> 3</td><td> 17</td><td> 14</td><td> 15</td><td>10</td><td>4086</td><td>1150</td><td> 57</td><td> 579</td><td> 363</td><td> 406</td><td>N</td><td>W</td><td>  65</td><td>  0</td><td> 0</td><td> 900.000</td><td>N</td></tr>\n",
       "\t<tr><th scope=row>-Tim Raines</th><td>580</td><td>194</td><td> 9</td><td> 91</td><td> 62</td><td> 78</td><td> 8</td><td>3372</td><td>1028</td><td> 48</td><td> 604</td><td> 314</td><td> 469</td><td>N</td><td>E</td><td> 270</td><td> 13</td><td> 6</td><td>      NA</td><td>N</td></tr>\n",
       "\t<tr><th scope=row>-Ted Simmons</th><td>127</td><td> 32</td><td> 4</td><td> 14</td><td> 25</td><td> 12</td><td>19</td><td>8396</td><td>2402</td><td>242</td><td>1048</td><td>1348</td><td> 819</td><td>N</td><td>W</td><td> 167</td><td> 18</td><td> 6</td><td> 500.000</td><td>N</td></tr>\n",
       "\t<tr><th scope=row>-Tim Teufel</th><td>279</td><td> 69</td><td> 4</td><td> 35</td><td> 31</td><td> 32</td><td> 4</td><td>1359</td><td> 355</td><td> 31</td><td> 180</td><td> 148</td><td> 158</td><td>N</td><td>E</td><td> 133</td><td>173</td><td> 9</td><td> 277.500</td><td>N</td></tr>\n",
       "\t<tr><th scope=row>-Tim Wallach</th><td>480</td><td>112</td><td>18</td><td> 50</td><td> 71</td><td> 44</td><td> 7</td><td>3031</td><td> 771</td><td>110</td><td> 338</td><td> 406</td><td> 239</td><td>N</td><td>E</td><td>  94</td><td>270</td><td>16</td><td> 750.000</td><td>N</td></tr>\n",
       "\t<tr><th scope=row>-Vince Coleman</th><td>600</td><td>139</td><td> 0</td><td> 94</td><td> 29</td><td> 60</td><td> 2</td><td>1236</td><td> 309</td><td>  1</td><td> 201</td><td>  69</td><td> 110</td><td>N</td><td>E</td><td> 300</td><td> 12</td><td> 9</td><td> 160.000</td><td>N</td></tr>\n",
       "\t<tr><th scope=row>-Von Hayes</th><td>610</td><td>186</td><td>19</td><td>107</td><td> 98</td><td> 74</td><td> 6</td><td>2728</td><td> 753</td><td> 69</td><td> 399</td><td> 366</td><td> 286</td><td>N</td><td>E</td><td>1182</td><td> 96</td><td>13</td><td>1300.000</td><td>N</td></tr>\n",
       "\t<tr><th scope=row>-Vance Law</th><td>360</td><td> 81</td><td> 5</td><td> 37</td><td> 44</td><td> 37</td><td> 7</td><td>2268</td><td> 566</td><td> 41</td><td> 279</td><td> 257</td><td> 246</td><td>N</td><td>E</td><td> 170</td><td>284</td><td> 3</td><td> 525.000</td><td>N</td></tr>\n",
       "\t<tr><th scope=row>-Wally Backman</th><td>387</td><td>124</td><td> 1</td><td> 67</td><td> 27</td><td> 36</td><td> 7</td><td>1775</td><td> 506</td><td>  6</td><td> 272</td><td> 125</td><td> 194</td><td>N</td><td>E</td><td> 186</td><td>290</td><td>17</td><td> 550.000</td><td>N</td></tr>\n",
       "\t<tr><th scope=row>-Wade Boggs</th><td>580</td><td>207</td><td> 8</td><td>107</td><td> 71</td><td>105</td><td> 5</td><td>2778</td><td> 978</td><td> 32</td><td> 474</td><td> 322</td><td> 417</td><td>A</td><td>E</td><td> 121</td><td>267</td><td>19</td><td>1600.000</td><td>A</td></tr>\n",
       "\t<tr><th scope=row>-Will Clark</th><td>408</td><td>117</td><td>11</td><td> 66</td><td> 41</td><td> 34</td><td> 1</td><td> 408</td><td> 117</td><td> 11</td><td>  66</td><td>  41</td><td>  34</td><td>N</td><td>W</td><td> 942</td><td> 72</td><td>11</td><td> 120.000</td><td>N</td></tr>\n",
       "\t<tr><th scope=row>-Wally Joyner</th><td>593</td><td>172</td><td>22</td><td> 82</td><td>100</td><td> 57</td><td> 1</td><td> 593</td><td> 172</td><td> 22</td><td>  82</td><td> 100</td><td>  57</td><td>A</td><td>W</td><td>1222</td><td>139</td><td>15</td><td> 165.000</td><td>A</td></tr>\n",
       "\t<tr><th scope=row>-Wayne Krenchicki</th><td>221</td><td> 53</td><td> 2</td><td> 21</td><td> 23</td><td> 22</td><td> 8</td><td>1063</td><td> 283</td><td> 15</td><td> 107</td><td> 124</td><td> 106</td><td>N</td><td>E</td><td> 325</td><td> 58</td><td> 6</td><td>      NA</td><td>N</td></tr>\n",
       "\t<tr><th scope=row>-Willie McGee</th><td>497</td><td>127</td><td> 7</td><td> 65</td><td> 48</td><td> 37</td><td> 5</td><td>2703</td><td> 806</td><td> 32</td><td> 379</td><td> 311</td><td> 138</td><td>N</td><td>E</td><td> 325</td><td>  9</td><td> 3</td><td> 700.000</td><td>N</td></tr>\n",
       "\t<tr><th scope=row>-Willie Randolph</th><td>492</td><td>136</td><td> 5</td><td> 76</td><td> 50</td><td> 94</td><td>12</td><td>5511</td><td>1511</td><td> 39</td><td> 897</td><td> 451</td><td> 875</td><td>A</td><td>E</td><td> 313</td><td>381</td><td>20</td><td> 875.000</td><td>A</td></tr>\n",
       "\t<tr><th scope=row>-Wayne Tolleson</th><td>475</td><td>126</td><td> 3</td><td> 61</td><td> 43</td><td> 52</td><td> 6</td><td>1700</td><td> 433</td><td>  7</td><td> 217</td><td>  93</td><td> 146</td><td>A</td><td>W</td><td>  37</td><td>113</td><td> 7</td><td> 385.000</td><td>A</td></tr>\n",
       "\t<tr><th scope=row>-Willie Upshaw</th><td>573</td><td>144</td><td> 9</td><td> 85</td><td> 60</td><td> 78</td><td> 8</td><td>3198</td><td> 857</td><td> 97</td><td> 470</td><td> 420</td><td> 332</td><td>A</td><td>E</td><td>1314</td><td>131</td><td>12</td><td> 960.000</td><td>A</td></tr>\n",
       "\t<tr><th scope=row>-Willie Wilson</th><td>631</td><td>170</td><td> 9</td><td> 77</td><td> 44</td><td> 31</td><td>11</td><td>4908</td><td>1457</td><td> 30</td><td> 775</td><td> 357</td><td> 249</td><td>A</td><td>W</td><td> 408</td><td>  4</td><td> 3</td><td>1000.000</td><td>A</td></tr>\n",
       "</tbody>\n",
       "</table>\n"
      ],
      "text/latex": [
       "A data.frame: 322 × 20\n",
       "\\begin{tabular}{r|llllllllllllllllllll}\n",
       "  & AtBat & Hits & HmRun & Runs & RBI & Walks & Years & CAtBat & CHits & CHmRun & CRuns & CRBI & CWalks & League & Division & PutOuts & Assists & Errors & Salary & NewLeague\\\\\n",
       "  & <int> & <int> & <int> & <int> & <int> & <int> & <int> & <int> & <int> & <int> & <int> & <int> & <int> & <fct> & <fct> & <int> & <int> & <int> & <dbl> & <fct>\\\\\n",
       "\\hline\n",
       "\t-Andy Allanson & 293 &  66 &  1 &  30 &  29 & 14 &  1 &  293 &   66 &   1 &   30 &   29 &  14 & A & E &  446 &  33 & 20 &       NA & A\\\\\n",
       "\t-Alan Ashby & 315 &  81 &  7 &  24 &  38 & 39 & 14 & 3449 &  835 &  69 &  321 &  414 & 375 & N & W &  632 &  43 & 10 &  475.000 & N\\\\\n",
       "\t-Alvin Davis & 479 & 130 & 18 &  66 &  72 & 76 &  3 & 1624 &  457 &  63 &  224 &  266 & 263 & A & W &  880 &  82 & 14 &  480.000 & A\\\\\n",
       "\t-Andre Dawson & 496 & 141 & 20 &  65 &  78 & 37 & 11 & 5628 & 1575 & 225 &  828 &  838 & 354 & N & E &  200 &  11 &  3 &  500.000 & N\\\\\n",
       "\t-Andres Galarraga & 321 &  87 & 10 &  39 &  42 & 30 &  2 &  396 &  101 &  12 &   48 &   46 &  33 & N & E &  805 &  40 &  4 &   91.500 & N\\\\\n",
       "\t-Alfredo Griffin & 594 & 169 &  4 &  74 &  51 & 35 & 11 & 4408 & 1133 &  19 &  501 &  336 & 194 & A & W &  282 & 421 & 25 &  750.000 & A\\\\\n",
       "\t-Al Newman & 185 &  37 &  1 &  23 &   8 & 21 &  2 &  214 &   42 &   1 &   30 &    9 &  24 & N & E &   76 & 127 &  7 &   70.000 & A\\\\\n",
       "\t-Argenis Salazar & 298 &  73 &  0 &  24 &  24 &  7 &  3 &  509 &  108 &   0 &   41 &   37 &  12 & A & W &  121 & 283 &  9 &  100.000 & A\\\\\n",
       "\t-Andres Thomas & 323 &  81 &  6 &  26 &  32 &  8 &  2 &  341 &   86 &   6 &   32 &   34 &   8 & N & W &  143 & 290 & 19 &   75.000 & N\\\\\n",
       "\t-Andre Thornton & 401 &  92 & 17 &  49 &  66 & 65 & 13 & 5206 & 1332 & 253 &  784 &  890 & 866 & A & E &    0 &   0 &  0 & 1100.000 & A\\\\\n",
       "\t-Alan Trammell & 574 & 159 & 21 & 107 &  75 & 59 & 10 & 4631 & 1300 &  90 &  702 &  504 & 488 & A & E &  238 & 445 & 22 &  517.143 & A\\\\\n",
       "\t-Alex Trevino & 202 &  53 &  4 &  31 &  26 & 27 &  9 & 1876 &  467 &  15 &  192 &  186 & 161 & N & W &  304 &  45 & 11 &  512.500 & N\\\\\n",
       "\t-Andy VanSlyke & 418 & 113 & 13 &  48 &  61 & 47 &  4 & 1512 &  392 &  41 &  205 &  204 & 203 & N & E &  211 &  11 &  7 &  550.000 & N\\\\\n",
       "\t-Alan Wiggins & 239 &  60 &  0 &  30 &  11 & 22 &  6 & 1941 &  510 &   4 &  309 &  103 & 207 & A & E &  121 & 151 &  6 &  700.000 & A\\\\\n",
       "\t-Bill Almon & 196 &  43 &  7 &  29 &  27 & 30 & 13 & 3231 &  825 &  36 &  376 &  290 & 238 & N & E &   80 &  45 &  8 &  240.000 & N\\\\\n",
       "\t-Billy Beane & 183 &  39 &  3 &  20 &  15 & 11 &  3 &  201 &   42 &   3 &   20 &   16 &  11 & A & W &  118 &   0 &  0 &       NA & A\\\\\n",
       "\t-Buddy Bell & 568 & 158 & 20 &  89 &  75 & 73 & 15 & 8068 & 2273 & 177 & 1045 &  993 & 732 & N & W &  105 & 290 & 10 &  775.000 & N\\\\\n",
       "\t-Buddy Biancalana & 190 &  46 &  2 &  24 &   8 & 15 &  5 &  479 &  102 &   5 &   65 &   23 &  39 & A & W &  102 & 177 & 16 &  175.000 & A\\\\\n",
       "\t-Bruce Bochte & 407 & 104 &  6 &  57 &  43 & 65 & 12 & 5233 & 1478 & 100 &  643 &  658 & 653 & A & W &  912 &  88 &  9 &       NA & A\\\\\n",
       "\t-Bruce Bochy & 127 &  32 &  8 &  16 &  22 & 14 &  8 &  727 &  180 &  24 &   67 &   82 &  56 & N & W &  202 &  22 &  2 &  135.000 & N\\\\\n",
       "\t-Barry Bonds & 413 &  92 & 16 &  72 &  48 & 65 &  1 &  413 &   92 &  16 &   72 &   48 &  65 & N & E &  280 &   9 &  5 &  100.000 & N\\\\\n",
       "\t-Bobby Bonilla & 426 & 109 &  3 &  55 &  43 & 62 &  1 &  426 &  109 &   3 &   55 &   43 &  62 & A & W &  361 &  22 &  2 &  115.000 & N\\\\\n",
       "\t-Bob Boone &  22 &  10 &  1 &   4 &   2 &  1 &  6 &   84 &   26 &   2 &    9 &    9 &   3 & A & W &  812 &  84 & 11 &       NA & A\\\\\n",
       "\t-Bob Brenly & 472 & 116 & 16 &  60 &  62 & 74 &  6 & 1924 &  489 &  67 &  242 &  251 & 240 & N & W &  518 &  55 &  3 &  600.000 & N\\\\\n",
       "\t-Bill Buckner & 629 & 168 & 18 &  73 & 102 & 40 & 18 & 8424 & 2464 & 164 & 1008 & 1072 & 402 & A & E & 1067 & 157 & 14 &  776.667 & A\\\\\n",
       "\t-Brett Butler & 587 & 163 &  4 &  92 &  51 & 70 &  6 & 2695 &  747 &  17 &  442 &  198 & 317 & A & E &  434 &   9 &  3 &  765.000 & A\\\\\n",
       "\t-Bob Dernier & 324 &  73 &  4 &  32 &  18 & 22 &  7 & 1931 &  491 &  13 &  291 &  108 & 180 & N & E &  222 &   3 &  3 &  708.333 & N\\\\\n",
       "\t-Bo Diaz & 474 & 129 & 10 &  50 &  56 & 40 & 10 & 2331 &  604 &  61 &  246 &  327 & 166 & N & W &  732 &  83 & 13 &  750.000 & N\\\\\n",
       "\t-Bill Doran & 550 & 152 &  6 &  92 &  37 & 81 &  5 & 2308 &  633 &  32 &  349 &  182 & 308 & N & W &  262 & 329 & 16 &  625.000 & N\\\\\n",
       "\t-Brian Downing & 513 & 137 & 20 &  90 &  95 & 90 & 14 & 5201 & 1382 & 166 &  763 &  734 & 784 & A & W &  267 &   5 &  3 &  900.000 & A\\\\\n",
       "\t⋮ & ⋮ & ⋮ & ⋮ & ⋮ & ⋮ & ⋮ & ⋮ & ⋮ & ⋮ & ⋮ & ⋮ & ⋮ & ⋮ & ⋮ & ⋮ & ⋮ & ⋮ & ⋮ & ⋮ & ⋮\\\\\n",
       "\t-Toby Harrah & 289 &  63 &  7 &  36 &  41 &  44 & 17 & 7402 & 1954 & 195 & 1115 &  919 & 1153 & A & W &  166 & 211 &  7 &       NA & A\\\\\n",
       "\t-Tommy Herr & 559 & 141 &  2 &  48 &  61 &  73 &  8 & 3162 &  874 &  16 &  421 &  349 &  359 & N & E &  352 & 414 &  9 &  925.000 & N\\\\\n",
       "\t-Tim Hulett & 520 & 120 & 17 &  53 &  44 &  21 &  4 &  927 &  227 &  22 &  106 &   80 &   52 & A & W &   70 & 144 & 11 &  185.000 & A\\\\\n",
       "\t-Terry Kennedy &  19 &   4 &  1 &   2 &   3 &   1 &  1 &   19 &    4 &   1 &    2 &    3 &    1 & N & W &  692 &  70 &  8 &  920.000 & A\\\\\n",
       "\t-Tito Landrum & 205 &  43 &  2 &  24 &  17 &  20 &  7 &  854 &  219 &  12 &  105 &   99 &   71 & N & E &  131 &   6 &  1 &  286.667 & N\\\\\n",
       "\t-Tim Laudner & 193 &  47 & 10 &  21 &  29 &  24 &  6 & 1136 &  256 &  42 &  129 &  139 &  106 & A & W &  299 &  13 &  5 &  245.000 & A\\\\\n",
       "\t-Tom O'Malley & 181 &  46 &  1 &  19 &  18 &  17 &  5 &  937 &  238 &   9 &   88 &   95 &  104 & A & E &   37 &  98 &  9 &       NA & A\\\\\n",
       "\t-Tom Paciorek & 213 &  61 &  4 &  17 &  22 &   3 & 17 & 4061 & 1145 &  83 &  488 &  491 &  244 & A & W &  178 &  45 &  4 &  235.000 & A\\\\\n",
       "\t-Tony Pena & 510 & 147 & 10 &  56 &  52 &  53 &  7 & 2872 &  821 &  63 &  307 &  340 &  174 & N & E &  810 &  99 & 18 & 1150.000 & N\\\\\n",
       "\t-Terry Pendleton & 578 & 138 &  1 &  56 &  59 &  34 &  3 & 1399 &  357 &   7 &  149 &  161 &   87 & N & E &  133 & 371 & 20 &  160.000 & N\\\\\n",
       "\t-Tony Perez & 200 &  51 &  2 &  14 &  29 &  25 & 23 & 9778 & 2732 & 379 & 1272 & 1652 &  925 & N & W &  398 &  29 &  7 &       NA & N\\\\\n",
       "\t-Tony Phillips & 441 & 113 &  5 &  76 &  52 &  76 &  5 & 1546 &  397 &  17 &  226 &  149 &  191 & A & W &  160 & 290 & 11 &  425.000 & A\\\\\n",
       "\t-Terry Puhl & 172 &  42 &  3 &  17 &  14 &  15 & 10 & 4086 & 1150 &  57 &  579 &  363 &  406 & N & W &   65 &   0 &  0 &  900.000 & N\\\\\n",
       "\t-Tim Raines & 580 & 194 &  9 &  91 &  62 &  78 &  8 & 3372 & 1028 &  48 &  604 &  314 &  469 & N & E &  270 &  13 &  6 &       NA & N\\\\\n",
       "\t-Ted Simmons & 127 &  32 &  4 &  14 &  25 &  12 & 19 & 8396 & 2402 & 242 & 1048 & 1348 &  819 & N & W &  167 &  18 &  6 &  500.000 & N\\\\\n",
       "\t-Tim Teufel & 279 &  69 &  4 &  35 &  31 &  32 &  4 & 1359 &  355 &  31 &  180 &  148 &  158 & N & E &  133 & 173 &  9 &  277.500 & N\\\\\n",
       "\t-Tim Wallach & 480 & 112 & 18 &  50 &  71 &  44 &  7 & 3031 &  771 & 110 &  338 &  406 &  239 & N & E &   94 & 270 & 16 &  750.000 & N\\\\\n",
       "\t-Vince Coleman & 600 & 139 &  0 &  94 &  29 &  60 &  2 & 1236 &  309 &   1 &  201 &   69 &  110 & N & E &  300 &  12 &  9 &  160.000 & N\\\\\n",
       "\t-Von Hayes & 610 & 186 & 19 & 107 &  98 &  74 &  6 & 2728 &  753 &  69 &  399 &  366 &  286 & N & E & 1182 &  96 & 13 & 1300.000 & N\\\\\n",
       "\t-Vance Law & 360 &  81 &  5 &  37 &  44 &  37 &  7 & 2268 &  566 &  41 &  279 &  257 &  246 & N & E &  170 & 284 &  3 &  525.000 & N\\\\\n",
       "\t-Wally Backman & 387 & 124 &  1 &  67 &  27 &  36 &  7 & 1775 &  506 &   6 &  272 &  125 &  194 & N & E &  186 & 290 & 17 &  550.000 & N\\\\\n",
       "\t-Wade Boggs & 580 & 207 &  8 & 107 &  71 & 105 &  5 & 2778 &  978 &  32 &  474 &  322 &  417 & A & E &  121 & 267 & 19 & 1600.000 & A\\\\\n",
       "\t-Will Clark & 408 & 117 & 11 &  66 &  41 &  34 &  1 &  408 &  117 &  11 &   66 &   41 &   34 & N & W &  942 &  72 & 11 &  120.000 & N\\\\\n",
       "\t-Wally Joyner & 593 & 172 & 22 &  82 & 100 &  57 &  1 &  593 &  172 &  22 &   82 &  100 &   57 & A & W & 1222 & 139 & 15 &  165.000 & A\\\\\n",
       "\t-Wayne Krenchicki & 221 &  53 &  2 &  21 &  23 &  22 &  8 & 1063 &  283 &  15 &  107 &  124 &  106 & N & E &  325 &  58 &  6 &       NA & N\\\\\n",
       "\t-Willie McGee & 497 & 127 &  7 &  65 &  48 &  37 &  5 & 2703 &  806 &  32 &  379 &  311 &  138 & N & E &  325 &   9 &  3 &  700.000 & N\\\\\n",
       "\t-Willie Randolph & 492 & 136 &  5 &  76 &  50 &  94 & 12 & 5511 & 1511 &  39 &  897 &  451 &  875 & A & E &  313 & 381 & 20 &  875.000 & A\\\\\n",
       "\t-Wayne Tolleson & 475 & 126 &  3 &  61 &  43 &  52 &  6 & 1700 &  433 &   7 &  217 &   93 &  146 & A & W &   37 & 113 &  7 &  385.000 & A\\\\\n",
       "\t-Willie Upshaw & 573 & 144 &  9 &  85 &  60 &  78 &  8 & 3198 &  857 &  97 &  470 &  420 &  332 & A & E & 1314 & 131 & 12 &  960.000 & A\\\\\n",
       "\t-Willie Wilson & 631 & 170 &  9 &  77 &  44 &  31 & 11 & 4908 & 1457 &  30 &  775 &  357 &  249 & A & W &  408 &   4 &  3 & 1000.000 & A\\\\\n",
       "\\end{tabular}\n"
      ],
      "text/markdown": [
       "\n",
       "A data.frame: 322 × 20\n",
       "\n",
       "| <!--/--> | AtBat &lt;int&gt; | Hits &lt;int&gt; | HmRun &lt;int&gt; | Runs &lt;int&gt; | RBI &lt;int&gt; | Walks &lt;int&gt; | Years &lt;int&gt; | CAtBat &lt;int&gt; | CHits &lt;int&gt; | CHmRun &lt;int&gt; | CRuns &lt;int&gt; | CRBI &lt;int&gt; | CWalks &lt;int&gt; | League &lt;fct&gt; | Division &lt;fct&gt; | PutOuts &lt;int&gt; | Assists &lt;int&gt; | Errors &lt;int&gt; | Salary &lt;dbl&gt; | NewLeague &lt;fct&gt; |\n",
       "|---|---|---|---|---|---|---|---|---|---|---|---|---|---|---|---|---|---|---|---|---|\n",
       "| -Andy Allanson | 293 |  66 |  1 |  30 |  29 | 14 |  1 |  293 |   66 |   1 |   30 |   29 |  14 | A | E |  446 |  33 | 20 |       NA | A |\n",
       "| -Alan Ashby | 315 |  81 |  7 |  24 |  38 | 39 | 14 | 3449 |  835 |  69 |  321 |  414 | 375 | N | W |  632 |  43 | 10 |  475.000 | N |\n",
       "| -Alvin Davis | 479 | 130 | 18 |  66 |  72 | 76 |  3 | 1624 |  457 |  63 |  224 |  266 | 263 | A | W |  880 |  82 | 14 |  480.000 | A |\n",
       "| -Andre Dawson | 496 | 141 | 20 |  65 |  78 | 37 | 11 | 5628 | 1575 | 225 |  828 |  838 | 354 | N | E |  200 |  11 |  3 |  500.000 | N |\n",
       "| -Andres Galarraga | 321 |  87 | 10 |  39 |  42 | 30 |  2 |  396 |  101 |  12 |   48 |   46 |  33 | N | E |  805 |  40 |  4 |   91.500 | N |\n",
       "| -Alfredo Griffin | 594 | 169 |  4 |  74 |  51 | 35 | 11 | 4408 | 1133 |  19 |  501 |  336 | 194 | A | W |  282 | 421 | 25 |  750.000 | A |\n",
       "| -Al Newman | 185 |  37 |  1 |  23 |   8 | 21 |  2 |  214 |   42 |   1 |   30 |    9 |  24 | N | E |   76 | 127 |  7 |   70.000 | A |\n",
       "| -Argenis Salazar | 298 |  73 |  0 |  24 |  24 |  7 |  3 |  509 |  108 |   0 |   41 |   37 |  12 | A | W |  121 | 283 |  9 |  100.000 | A |\n",
       "| -Andres Thomas | 323 |  81 |  6 |  26 |  32 |  8 |  2 |  341 |   86 |   6 |   32 |   34 |   8 | N | W |  143 | 290 | 19 |   75.000 | N |\n",
       "| -Andre Thornton | 401 |  92 | 17 |  49 |  66 | 65 | 13 | 5206 | 1332 | 253 |  784 |  890 | 866 | A | E |    0 |   0 |  0 | 1100.000 | A |\n",
       "| -Alan Trammell | 574 | 159 | 21 | 107 |  75 | 59 | 10 | 4631 | 1300 |  90 |  702 |  504 | 488 | A | E |  238 | 445 | 22 |  517.143 | A |\n",
       "| -Alex Trevino | 202 |  53 |  4 |  31 |  26 | 27 |  9 | 1876 |  467 |  15 |  192 |  186 | 161 | N | W |  304 |  45 | 11 |  512.500 | N |\n",
       "| -Andy VanSlyke | 418 | 113 | 13 |  48 |  61 | 47 |  4 | 1512 |  392 |  41 |  205 |  204 | 203 | N | E |  211 |  11 |  7 |  550.000 | N |\n",
       "| -Alan Wiggins | 239 |  60 |  0 |  30 |  11 | 22 |  6 | 1941 |  510 |   4 |  309 |  103 | 207 | A | E |  121 | 151 |  6 |  700.000 | A |\n",
       "| -Bill Almon | 196 |  43 |  7 |  29 |  27 | 30 | 13 | 3231 |  825 |  36 |  376 |  290 | 238 | N | E |   80 |  45 |  8 |  240.000 | N |\n",
       "| -Billy Beane | 183 |  39 |  3 |  20 |  15 | 11 |  3 |  201 |   42 |   3 |   20 |   16 |  11 | A | W |  118 |   0 |  0 |       NA | A |\n",
       "| -Buddy Bell | 568 | 158 | 20 |  89 |  75 | 73 | 15 | 8068 | 2273 | 177 | 1045 |  993 | 732 | N | W |  105 | 290 | 10 |  775.000 | N |\n",
       "| -Buddy Biancalana | 190 |  46 |  2 |  24 |   8 | 15 |  5 |  479 |  102 |   5 |   65 |   23 |  39 | A | W |  102 | 177 | 16 |  175.000 | A |\n",
       "| -Bruce Bochte | 407 | 104 |  6 |  57 |  43 | 65 | 12 | 5233 | 1478 | 100 |  643 |  658 | 653 | A | W |  912 |  88 |  9 |       NA | A |\n",
       "| -Bruce Bochy | 127 |  32 |  8 |  16 |  22 | 14 |  8 |  727 |  180 |  24 |   67 |   82 |  56 | N | W |  202 |  22 |  2 |  135.000 | N |\n",
       "| -Barry Bonds | 413 |  92 | 16 |  72 |  48 | 65 |  1 |  413 |   92 |  16 |   72 |   48 |  65 | N | E |  280 |   9 |  5 |  100.000 | N |\n",
       "| -Bobby Bonilla | 426 | 109 |  3 |  55 |  43 | 62 |  1 |  426 |  109 |   3 |   55 |   43 |  62 | A | W |  361 |  22 |  2 |  115.000 | N |\n",
       "| -Bob Boone |  22 |  10 |  1 |   4 |   2 |  1 |  6 |   84 |   26 |   2 |    9 |    9 |   3 | A | W |  812 |  84 | 11 |       NA | A |\n",
       "| -Bob Brenly | 472 | 116 | 16 |  60 |  62 | 74 |  6 | 1924 |  489 |  67 |  242 |  251 | 240 | N | W |  518 |  55 |  3 |  600.000 | N |\n",
       "| -Bill Buckner | 629 | 168 | 18 |  73 | 102 | 40 | 18 | 8424 | 2464 | 164 | 1008 | 1072 | 402 | A | E | 1067 | 157 | 14 |  776.667 | A |\n",
       "| -Brett Butler | 587 | 163 |  4 |  92 |  51 | 70 |  6 | 2695 |  747 |  17 |  442 |  198 | 317 | A | E |  434 |   9 |  3 |  765.000 | A |\n",
       "| -Bob Dernier | 324 |  73 |  4 |  32 |  18 | 22 |  7 | 1931 |  491 |  13 |  291 |  108 | 180 | N | E |  222 |   3 |  3 |  708.333 | N |\n",
       "| -Bo Diaz | 474 | 129 | 10 |  50 |  56 | 40 | 10 | 2331 |  604 |  61 |  246 |  327 | 166 | N | W |  732 |  83 | 13 |  750.000 | N |\n",
       "| -Bill Doran | 550 | 152 |  6 |  92 |  37 | 81 |  5 | 2308 |  633 |  32 |  349 |  182 | 308 | N | W |  262 | 329 | 16 |  625.000 | N |\n",
       "| -Brian Downing | 513 | 137 | 20 |  90 |  95 | 90 | 14 | 5201 | 1382 | 166 |  763 |  734 | 784 | A | W |  267 |   5 |  3 |  900.000 | A |\n",
       "| ⋮ | ⋮ | ⋮ | ⋮ | ⋮ | ⋮ | ⋮ | ⋮ | ⋮ | ⋮ | ⋮ | ⋮ | ⋮ | ⋮ | ⋮ | ⋮ | ⋮ | ⋮ | ⋮ | ⋮ | ⋮ |\n",
       "| -Toby Harrah | 289 |  63 |  7 |  36 |  41 |  44 | 17 | 7402 | 1954 | 195 | 1115 |  919 | 1153 | A | W |  166 | 211 |  7 |       NA | A |\n",
       "| -Tommy Herr | 559 | 141 |  2 |  48 |  61 |  73 |  8 | 3162 |  874 |  16 |  421 |  349 |  359 | N | E |  352 | 414 |  9 |  925.000 | N |\n",
       "| -Tim Hulett | 520 | 120 | 17 |  53 |  44 |  21 |  4 |  927 |  227 |  22 |  106 |   80 |   52 | A | W |   70 | 144 | 11 |  185.000 | A |\n",
       "| -Terry Kennedy |  19 |   4 |  1 |   2 |   3 |   1 |  1 |   19 |    4 |   1 |    2 |    3 |    1 | N | W |  692 |  70 |  8 |  920.000 | A |\n",
       "| -Tito Landrum | 205 |  43 |  2 |  24 |  17 |  20 |  7 |  854 |  219 |  12 |  105 |   99 |   71 | N | E |  131 |   6 |  1 |  286.667 | N |\n",
       "| -Tim Laudner | 193 |  47 | 10 |  21 |  29 |  24 |  6 | 1136 |  256 |  42 |  129 |  139 |  106 | A | W |  299 |  13 |  5 |  245.000 | A |\n",
       "| -Tom O'Malley | 181 |  46 |  1 |  19 |  18 |  17 |  5 |  937 |  238 |   9 |   88 |   95 |  104 | A | E |   37 |  98 |  9 |       NA | A |\n",
       "| -Tom Paciorek | 213 |  61 |  4 |  17 |  22 |   3 | 17 | 4061 | 1145 |  83 |  488 |  491 |  244 | A | W |  178 |  45 |  4 |  235.000 | A |\n",
       "| -Tony Pena | 510 | 147 | 10 |  56 |  52 |  53 |  7 | 2872 |  821 |  63 |  307 |  340 |  174 | N | E |  810 |  99 | 18 | 1150.000 | N |\n",
       "| -Terry Pendleton | 578 | 138 |  1 |  56 |  59 |  34 |  3 | 1399 |  357 |   7 |  149 |  161 |   87 | N | E |  133 | 371 | 20 |  160.000 | N |\n",
       "| -Tony Perez | 200 |  51 |  2 |  14 |  29 |  25 | 23 | 9778 | 2732 | 379 | 1272 | 1652 |  925 | N | W |  398 |  29 |  7 |       NA | N |\n",
       "| -Tony Phillips | 441 | 113 |  5 |  76 |  52 |  76 |  5 | 1546 |  397 |  17 |  226 |  149 |  191 | A | W |  160 | 290 | 11 |  425.000 | A |\n",
       "| -Terry Puhl | 172 |  42 |  3 |  17 |  14 |  15 | 10 | 4086 | 1150 |  57 |  579 |  363 |  406 | N | W |   65 |   0 |  0 |  900.000 | N |\n",
       "| -Tim Raines | 580 | 194 |  9 |  91 |  62 |  78 |  8 | 3372 | 1028 |  48 |  604 |  314 |  469 | N | E |  270 |  13 |  6 |       NA | N |\n",
       "| -Ted Simmons | 127 |  32 |  4 |  14 |  25 |  12 | 19 | 8396 | 2402 | 242 | 1048 | 1348 |  819 | N | W |  167 |  18 |  6 |  500.000 | N |\n",
       "| -Tim Teufel | 279 |  69 |  4 |  35 |  31 |  32 |  4 | 1359 |  355 |  31 |  180 |  148 |  158 | N | E |  133 | 173 |  9 |  277.500 | N |\n",
       "| -Tim Wallach | 480 | 112 | 18 |  50 |  71 |  44 |  7 | 3031 |  771 | 110 |  338 |  406 |  239 | N | E |   94 | 270 | 16 |  750.000 | N |\n",
       "| -Vince Coleman | 600 | 139 |  0 |  94 |  29 |  60 |  2 | 1236 |  309 |   1 |  201 |   69 |  110 | N | E |  300 |  12 |  9 |  160.000 | N |\n",
       "| -Von Hayes | 610 | 186 | 19 | 107 |  98 |  74 |  6 | 2728 |  753 |  69 |  399 |  366 |  286 | N | E | 1182 |  96 | 13 | 1300.000 | N |\n",
       "| -Vance Law | 360 |  81 |  5 |  37 |  44 |  37 |  7 | 2268 |  566 |  41 |  279 |  257 |  246 | N | E |  170 | 284 |  3 |  525.000 | N |\n",
       "| -Wally Backman | 387 | 124 |  1 |  67 |  27 |  36 |  7 | 1775 |  506 |   6 |  272 |  125 |  194 | N | E |  186 | 290 | 17 |  550.000 | N |\n",
       "| -Wade Boggs | 580 | 207 |  8 | 107 |  71 | 105 |  5 | 2778 |  978 |  32 |  474 |  322 |  417 | A | E |  121 | 267 | 19 | 1600.000 | A |\n",
       "| -Will Clark | 408 | 117 | 11 |  66 |  41 |  34 |  1 |  408 |  117 |  11 |   66 |   41 |   34 | N | W |  942 |  72 | 11 |  120.000 | N |\n",
       "| -Wally Joyner | 593 | 172 | 22 |  82 | 100 |  57 |  1 |  593 |  172 |  22 |   82 |  100 |   57 | A | W | 1222 | 139 | 15 |  165.000 | A |\n",
       "| -Wayne Krenchicki | 221 |  53 |  2 |  21 |  23 |  22 |  8 | 1063 |  283 |  15 |  107 |  124 |  106 | N | E |  325 |  58 |  6 |       NA | N |\n",
       "| -Willie McGee | 497 | 127 |  7 |  65 |  48 |  37 |  5 | 2703 |  806 |  32 |  379 |  311 |  138 | N | E |  325 |   9 |  3 |  700.000 | N |\n",
       "| -Willie Randolph | 492 | 136 |  5 |  76 |  50 |  94 | 12 | 5511 | 1511 |  39 |  897 |  451 |  875 | A | E |  313 | 381 | 20 |  875.000 | A |\n",
       "| -Wayne Tolleson | 475 | 126 |  3 |  61 |  43 |  52 |  6 | 1700 |  433 |   7 |  217 |   93 |  146 | A | W |   37 | 113 |  7 |  385.000 | A |\n",
       "| -Willie Upshaw | 573 | 144 |  9 |  85 |  60 |  78 |  8 | 3198 |  857 |  97 |  470 |  420 |  332 | A | E | 1314 | 131 | 12 |  960.000 | A |\n",
       "| -Willie Wilson | 631 | 170 |  9 |  77 |  44 |  31 | 11 | 4908 | 1457 |  30 |  775 |  357 |  249 | A | W |  408 |   4 |  3 | 1000.000 | A |\n",
       "\n"
      ],
      "text/plain": [
       "                  AtBat Hits HmRun Runs RBI Walks Years CAtBat CHits CHmRun\n",
       "-Andy Allanson    293    66   1     30   29 14     1     293     66    1   \n",
       "-Alan Ashby       315    81   7     24   38 39    14    3449    835   69   \n",
       "-Alvin Davis      479   130  18     66   72 76     3    1624    457   63   \n",
       "-Andre Dawson     496   141  20     65   78 37    11    5628   1575  225   \n",
       "-Andres Galarraga 321    87  10     39   42 30     2     396    101   12   \n",
       "-Alfredo Griffin  594   169   4     74   51 35    11    4408   1133   19   \n",
       "-Al Newman        185    37   1     23    8 21     2     214     42    1   \n",
       "-Argenis Salazar  298    73   0     24   24  7     3     509    108    0   \n",
       "-Andres Thomas    323    81   6     26   32  8     2     341     86    6   \n",
       "-Andre Thornton   401    92  17     49   66 65    13    5206   1332  253   \n",
       "-Alan Trammell    574   159  21    107   75 59    10    4631   1300   90   \n",
       "-Alex Trevino     202    53   4     31   26 27     9    1876    467   15   \n",
       "-Andy VanSlyke    418   113  13     48   61 47     4    1512    392   41   \n",
       "-Alan Wiggins     239    60   0     30   11 22     6    1941    510    4   \n",
       "-Bill Almon       196    43   7     29   27 30    13    3231    825   36   \n",
       "-Billy Beane      183    39   3     20   15 11     3     201     42    3   \n",
       "-Buddy Bell       568   158  20     89   75 73    15    8068   2273  177   \n",
       "-Buddy Biancalana 190    46   2     24    8 15     5     479    102    5   \n",
       "-Bruce Bochte     407   104   6     57   43 65    12    5233   1478  100   \n",
       "-Bruce Bochy      127    32   8     16   22 14     8     727    180   24   \n",
       "-Barry Bonds      413    92  16     72   48 65     1     413     92   16   \n",
       "-Bobby Bonilla    426   109   3     55   43 62     1     426    109    3   \n",
       "-Bob Boone         22    10   1      4    2  1     6      84     26    2   \n",
       "-Bob Brenly       472   116  16     60   62 74     6    1924    489   67   \n",
       "-Bill Buckner     629   168  18     73  102 40    18    8424   2464  164   \n",
       "-Brett Butler     587   163   4     92   51 70     6    2695    747   17   \n",
       "-Bob Dernier      324    73   4     32   18 22     7    1931    491   13   \n",
       "-Bo Diaz          474   129  10     50   56 40    10    2331    604   61   \n",
       "-Bill Doran       550   152   6     92   37 81     5    2308    633   32   \n",
       "-Brian Downing    513   137  20     90   95 90    14    5201   1382  166   \n",
       "⋮                 ⋮     ⋮    ⋮     ⋮    ⋮   ⋮     ⋮     ⋮      ⋮     ⋮     \n",
       "-Toby Harrah      289    63   7     36   41  44   17    7402   1954  195   \n",
       "-Tommy Herr       559   141   2     48   61  73    8    3162    874   16   \n",
       "-Tim Hulett       520   120  17     53   44  21    4     927    227   22   \n",
       "-Terry Kennedy     19     4   1      2    3   1    1      19      4    1   \n",
       "-Tito Landrum     205    43   2     24   17  20    7     854    219   12   \n",
       "-Tim Laudner      193    47  10     21   29  24    6    1136    256   42   \n",
       "-Tom O'Malley     181    46   1     19   18  17    5     937    238    9   \n",
       "-Tom Paciorek     213    61   4     17   22   3   17    4061   1145   83   \n",
       "-Tony Pena        510   147  10     56   52  53    7    2872    821   63   \n",
       "-Terry Pendleton  578   138   1     56   59  34    3    1399    357    7   \n",
       "-Tony Perez       200    51   2     14   29  25   23    9778   2732  379   \n",
       "-Tony Phillips    441   113   5     76   52  76    5    1546    397   17   \n",
       "-Terry Puhl       172    42   3     17   14  15   10    4086   1150   57   \n",
       "-Tim Raines       580   194   9     91   62  78    8    3372   1028   48   \n",
       "-Ted Simmons      127    32   4     14   25  12   19    8396   2402  242   \n",
       "-Tim Teufel       279    69   4     35   31  32    4    1359    355   31   \n",
       "-Tim Wallach      480   112  18     50   71  44    7    3031    771  110   \n",
       "-Vince Coleman    600   139   0     94   29  60    2    1236    309    1   \n",
       "-Von Hayes        610   186  19    107   98  74    6    2728    753   69   \n",
       "-Vance Law        360    81   5     37   44  37    7    2268    566   41   \n",
       "-Wally Backman    387   124   1     67   27  36    7    1775    506    6   \n",
       "-Wade Boggs       580   207   8    107   71 105    5    2778    978   32   \n",
       "-Will Clark       408   117  11     66   41  34    1     408    117   11   \n",
       "-Wally Joyner     593   172  22     82  100  57    1     593    172   22   \n",
       "-Wayne Krenchicki 221    53   2     21   23  22    8    1063    283   15   \n",
       "-Willie McGee     497   127   7     65   48  37    5    2703    806   32   \n",
       "-Willie Randolph  492   136   5     76   50  94   12    5511   1511   39   \n",
       "-Wayne Tolleson   475   126   3     61   43  52    6    1700    433    7   \n",
       "-Willie Upshaw    573   144   9     85   60  78    8    3198    857   97   \n",
       "-Willie Wilson    631   170   9     77   44  31   11    4908   1457   30   \n",
       "                  CRuns CRBI CWalks League Division PutOuts Assists Errors\n",
       "-Andy Allanson      30    29  14    A      E         446     33     20    \n",
       "-Alan Ashby        321   414 375    N      W         632     43     10    \n",
       "-Alvin Davis       224   266 263    A      W         880     82     14    \n",
       "-Andre Dawson      828   838 354    N      E         200     11      3    \n",
       "-Andres Galarraga   48    46  33    N      E         805     40      4    \n",
       "-Alfredo Griffin   501   336 194    A      W         282    421     25    \n",
       "-Al Newman          30     9  24    N      E          76    127      7    \n",
       "-Argenis Salazar    41    37  12    A      W         121    283      9    \n",
       "-Andres Thomas      32    34   8    N      W         143    290     19    \n",
       "-Andre Thornton    784   890 866    A      E           0      0      0    \n",
       "-Alan Trammell     702   504 488    A      E         238    445     22    \n",
       "-Alex Trevino      192   186 161    N      W         304     45     11    \n",
       "-Andy VanSlyke     205   204 203    N      E         211     11      7    \n",
       "-Alan Wiggins      309   103 207    A      E         121    151      6    \n",
       "-Bill Almon        376   290 238    N      E          80     45      8    \n",
       "-Billy Beane        20    16  11    A      W         118      0      0    \n",
       "-Buddy Bell       1045   993 732    N      W         105    290     10    \n",
       "-Buddy Biancalana   65    23  39    A      W         102    177     16    \n",
       "-Bruce Bochte      643   658 653    A      W         912     88      9    \n",
       "-Bruce Bochy        67    82  56    N      W         202     22      2    \n",
       "-Barry Bonds        72    48  65    N      E         280      9      5    \n",
       "-Bobby Bonilla      55    43  62    A      W         361     22      2    \n",
       "-Bob Boone           9     9   3    A      W         812     84     11    \n",
       "-Bob Brenly        242   251 240    N      W         518     55      3    \n",
       "-Bill Buckner     1008  1072 402    A      E        1067    157     14    \n",
       "-Brett Butler      442   198 317    A      E         434      9      3    \n",
       "-Bob Dernier       291   108 180    N      E         222      3      3    \n",
       "-Bo Diaz           246   327 166    N      W         732     83     13    \n",
       "-Bill Doran        349   182 308    N      W         262    329     16    \n",
       "-Brian Downing     763   734 784    A      W         267      5      3    \n",
       "⋮                 ⋮     ⋮    ⋮      ⋮      ⋮        ⋮       ⋮       ⋮     \n",
       "-Toby Harrah      1115   919 1153   A      W         166    211      7    \n",
       "-Tommy Herr        421   349  359   N      E         352    414      9    \n",
       "-Tim Hulett        106    80   52   A      W          70    144     11    \n",
       "-Terry Kennedy       2     3    1   N      W         692     70      8    \n",
       "-Tito Landrum      105    99   71   N      E         131      6      1    \n",
       "-Tim Laudner       129   139  106   A      W         299     13      5    \n",
       "-Tom O'Malley       88    95  104   A      E          37     98      9    \n",
       "-Tom Paciorek      488   491  244   A      W         178     45      4    \n",
       "-Tony Pena         307   340  174   N      E         810     99     18    \n",
       "-Terry Pendleton   149   161   87   N      E         133    371     20    \n",
       "-Tony Perez       1272  1652  925   N      W         398     29      7    \n",
       "-Tony Phillips     226   149  191   A      W         160    290     11    \n",
       "-Terry Puhl        579   363  406   N      W          65      0      0    \n",
       "-Tim Raines        604   314  469   N      E         270     13      6    \n",
       "-Ted Simmons      1048  1348  819   N      W         167     18      6    \n",
       "-Tim Teufel        180   148  158   N      E         133    173      9    \n",
       "-Tim Wallach       338   406  239   N      E          94    270     16    \n",
       "-Vince Coleman     201    69  110   N      E         300     12      9    \n",
       "-Von Hayes         399   366  286   N      E        1182     96     13    \n",
       "-Vance Law         279   257  246   N      E         170    284      3    \n",
       "-Wally Backman     272   125  194   N      E         186    290     17    \n",
       "-Wade Boggs        474   322  417   A      E         121    267     19    \n",
       "-Will Clark         66    41   34   N      W         942     72     11    \n",
       "-Wally Joyner       82   100   57   A      W        1222    139     15    \n",
       "-Wayne Krenchicki  107   124  106   N      E         325     58      6    \n",
       "-Willie McGee      379   311  138   N      E         325      9      3    \n",
       "-Willie Randolph   897   451  875   A      E         313    381     20    \n",
       "-Wayne Tolleson    217    93  146   A      W          37    113      7    \n",
       "-Willie Upshaw     470   420  332   A      E        1314    131     12    \n",
       "-Willie Wilson     775   357  249   A      W         408      4      3    \n",
       "                  Salary   NewLeague\n",
       "-Andy Allanson          NA A        \n",
       "-Alan Ashby        475.000 N        \n",
       "-Alvin Davis       480.000 A        \n",
       "-Andre Dawson      500.000 N        \n",
       "-Andres Galarraga   91.500 N        \n",
       "-Alfredo Griffin   750.000 A        \n",
       "-Al Newman          70.000 A        \n",
       "-Argenis Salazar   100.000 A        \n",
       "-Andres Thomas      75.000 N        \n",
       "-Andre Thornton   1100.000 A        \n",
       "-Alan Trammell     517.143 A        \n",
       "-Alex Trevino      512.500 N        \n",
       "-Andy VanSlyke     550.000 N        \n",
       "-Alan Wiggins      700.000 A        \n",
       "-Bill Almon        240.000 N        \n",
       "-Billy Beane            NA A        \n",
       "-Buddy Bell        775.000 N        \n",
       "-Buddy Biancalana  175.000 A        \n",
       "-Bruce Bochte           NA A        \n",
       "-Bruce Bochy       135.000 N        \n",
       "-Barry Bonds       100.000 N        \n",
       "-Bobby Bonilla     115.000 N        \n",
       "-Bob Boone              NA A        \n",
       "-Bob Brenly        600.000 N        \n",
       "-Bill Buckner      776.667 A        \n",
       "-Brett Butler      765.000 A        \n",
       "-Bob Dernier       708.333 N        \n",
       "-Bo Diaz           750.000 N        \n",
       "-Bill Doran        625.000 N        \n",
       "-Brian Downing     900.000 A        \n",
       "⋮                 ⋮        ⋮        \n",
       "-Toby Harrah            NA A        \n",
       "-Tommy Herr        925.000 N        \n",
       "-Tim Hulett        185.000 A        \n",
       "-Terry Kennedy     920.000 A        \n",
       "-Tito Landrum      286.667 N        \n",
       "-Tim Laudner       245.000 A        \n",
       "-Tom O'Malley           NA A        \n",
       "-Tom Paciorek      235.000 A        \n",
       "-Tony Pena        1150.000 N        \n",
       "-Terry Pendleton   160.000 N        \n",
       "-Tony Perez             NA N        \n",
       "-Tony Phillips     425.000 A        \n",
       "-Terry Puhl        900.000 N        \n",
       "-Tim Raines             NA N        \n",
       "-Ted Simmons       500.000 N        \n",
       "-Tim Teufel        277.500 N        \n",
       "-Tim Wallach       750.000 N        \n",
       "-Vince Coleman     160.000 N        \n",
       "-Von Hayes        1300.000 N        \n",
       "-Vance Law         525.000 N        \n",
       "-Wally Backman     550.000 N        \n",
       "-Wade Boggs       1600.000 A        \n",
       "-Will Clark        120.000 N        \n",
       "-Wally Joyner      165.000 A        \n",
       "-Wayne Krenchicki       NA N        \n",
       "-Willie McGee      700.000 N        \n",
       "-Willie Randolph   875.000 A        \n",
       "-Wayne Tolleson    385.000 A        \n",
       "-Willie Upshaw     960.000 A        \n",
       "-Willie Wilson    1000.000 A        "
      ]
     },
     "metadata": {},
     "output_type": "display_data"
    }
   ],
   "source": [
    "library(ISLR2)\n",
    "View(Hitters)"
   ]
  },
  {
   "cell_type": "code",
   "execution_count": 2,
   "id": "54a5d62d-d04f-40f3-91d2-f1376a73e2e0",
   "metadata": {},
   "outputs": [
    {
     "data": {
      "text/html": [
       "<style>\n",
       ".list-inline {list-style: none; margin:0; padding: 0}\n",
       ".list-inline>li {display: inline-block}\n",
       ".list-inline>li:not(:last-child)::after {content: \"\\00b7\"; padding: 0 .5ex}\n",
       "</style>\n",
       "<ol class=list-inline><li>'AtBat'</li><li>'Hits'</li><li>'HmRun'</li><li>'Runs'</li><li>'RBI'</li><li>'Walks'</li><li>'Years'</li><li>'CAtBat'</li><li>'CHits'</li><li>'CHmRun'</li><li>'CRuns'</li><li>'CRBI'</li><li>'CWalks'</li><li>'League'</li><li>'Division'</li><li>'PutOuts'</li><li>'Assists'</li><li>'Errors'</li><li>'Salary'</li><li>'NewLeague'</li></ol>\n"
      ],
      "text/latex": [
       "\\begin{enumerate*}\n",
       "\\item 'AtBat'\n",
       "\\item 'Hits'\n",
       "\\item 'HmRun'\n",
       "\\item 'Runs'\n",
       "\\item 'RBI'\n",
       "\\item 'Walks'\n",
       "\\item 'Years'\n",
       "\\item 'CAtBat'\n",
       "\\item 'CHits'\n",
       "\\item 'CHmRun'\n",
       "\\item 'CRuns'\n",
       "\\item 'CRBI'\n",
       "\\item 'CWalks'\n",
       "\\item 'League'\n",
       "\\item 'Division'\n",
       "\\item 'PutOuts'\n",
       "\\item 'Assists'\n",
       "\\item 'Errors'\n",
       "\\item 'Salary'\n",
       "\\item 'NewLeague'\n",
       "\\end{enumerate*}\n"
      ],
      "text/markdown": [
       "1. 'AtBat'\n",
       "2. 'Hits'\n",
       "3. 'HmRun'\n",
       "4. 'Runs'\n",
       "5. 'RBI'\n",
       "6. 'Walks'\n",
       "7. 'Years'\n",
       "8. 'CAtBat'\n",
       "9. 'CHits'\n",
       "10. 'CHmRun'\n",
       "11. 'CRuns'\n",
       "12. 'CRBI'\n",
       "13. 'CWalks'\n",
       "14. 'League'\n",
       "15. 'Division'\n",
       "16. 'PutOuts'\n",
       "17. 'Assists'\n",
       "18. 'Errors'\n",
       "19. 'Salary'\n",
       "20. 'NewLeague'\n",
       "\n",
       "\n"
      ],
      "text/plain": [
       " [1] \"AtBat\"     \"Hits\"      \"HmRun\"     \"Runs\"      \"RBI\"       \"Walks\"    \n",
       " [7] \"Years\"     \"CAtBat\"    \"CHits\"     \"CHmRun\"    \"CRuns\"     \"CRBI\"     \n",
       "[13] \"CWalks\"    \"League\"    \"Division\"  \"PutOuts\"   \"Assists\"   \"Errors\"   \n",
       "[19] \"Salary\"    \"NewLeague\""
      ]
     },
     "metadata": {},
     "output_type": "display_data"
    }
   ],
   "source": [
    "names(Hitters)"
   ]
  },
  {
   "cell_type": "code",
   "execution_count": 3,
   "id": "4c76ebfb-322d-4a15-b97a-be4fcbe42349",
   "metadata": {},
   "outputs": [
    {
     "data": {
      "text/html": [
       "<style>\n",
       ".list-inline {list-style: none; margin:0; padding: 0}\n",
       ".list-inline>li {display: inline-block}\n",
       ".list-inline>li:not(:last-child)::after {content: \"\\00b7\"; padding: 0 .5ex}\n",
       "</style>\n",
       "<ol class=list-inline><li>322</li><li>20</li></ol>\n"
      ],
      "text/latex": [
       "\\begin{enumerate*}\n",
       "\\item 322\n",
       "\\item 20\n",
       "\\end{enumerate*}\n"
      ],
      "text/markdown": [
       "1. 322\n",
       "2. 20\n",
       "\n",
       "\n"
      ],
      "text/plain": [
       "[1] 322  20"
      ]
     },
     "metadata": {},
     "output_type": "display_data"
    }
   ],
   "source": [
    "dim(Hitters)"
   ]
  },
  {
   "cell_type": "code",
   "execution_count": 4,
   "id": "0e75b66c-06f1-478e-b2da-6fb253f8678c",
   "metadata": {},
   "outputs": [
    {
     "data": {
      "text/html": [
       "59"
      ],
      "text/latex": [
       "59"
      ],
      "text/markdown": [
       "59"
      ],
      "text/plain": [
       "[1] 59"
      ]
     },
     "metadata": {},
     "output_type": "display_data"
    }
   ],
   "source": [
    "sum(is.na(Hitters$Salary))"
   ]
  },
  {
   "cell_type": "markdown",
   "id": "09effd82-198f-4562-8204-1730e5999042",
   "metadata": {},
   "source": [
    "Hence we see that `Salary` is missing for $59$ players. The `na.omit()` function removes all of the rows that have missing values in any variable."
   ]
  },
  {
   "cell_type": "code",
   "execution_count": 5,
   "id": "29b61fab-3bcc-4afe-96b7-e70a9c286607",
   "metadata": {},
   "outputs": [
    {
     "data": {
      "text/html": [
       "<style>\n",
       ".list-inline {list-style: none; margin:0; padding: 0}\n",
       ".list-inline>li {display: inline-block}\n",
       ".list-inline>li:not(:last-child)::after {content: \"\\00b7\"; padding: 0 .5ex}\n",
       "</style>\n",
       "<ol class=list-inline><li>263</li><li>20</li></ol>\n"
      ],
      "text/latex": [
       "\\begin{enumerate*}\n",
       "\\item 263\n",
       "\\item 20\n",
       "\\end{enumerate*}\n"
      ],
      "text/markdown": [
       "1. 263\n",
       "2. 20\n",
       "\n",
       "\n"
      ],
      "text/plain": [
       "[1] 263  20"
      ]
     },
     "metadata": {},
     "output_type": "display_data"
    }
   ],
   "source": [
    "Hitters <- na.omit(Hitters)\n",
    "dim(Hitters)"
   ]
  },
  {
   "cell_type": "code",
   "execution_count": 6,
   "id": "1ab8f762-0c8a-47c4-8ccb-ef7c8308eb5a",
   "metadata": {},
   "outputs": [
    {
     "data": {
      "text/html": [
       "0"
      ],
      "text/latex": [
       "0"
      ],
      "text/markdown": [
       "0"
      ],
      "text/plain": [
       "[1] 0"
      ]
     },
     "metadata": {},
     "output_type": "display_data"
    }
   ],
   "source": [
    "sum(is.na(Hitters))"
   ]
  },
  {
   "cell_type": "markdown",
   "id": "a4154b45-0184-4ca7-9936-937ac18cd22e",
   "metadata": {},
   "source": [
    "The `regsubsets()` function (part of the `leaps` library) performs best subset selection by identifying the best model that contains a given number of predictors, where _best_ is quantified using RSS. The syntax is the same as for `lm()`. The `summary()` command outputs the best set of variables for each model size."
   ]
  },
  {
   "cell_type": "code",
   "execution_count": 7,
   "id": "b7015f68-7a31-4227-8431-69f441893802",
   "metadata": {},
   "outputs": [],
   "source": [
    "library(leaps)"
   ]
  },
  {
   "cell_type": "code",
   "execution_count": 8,
   "id": "d4598643-693e-4254-b0bc-8f9781e74e7c",
   "metadata": {},
   "outputs": [],
   "source": [
    "regfit.full <- regsubsets(Salary ~ ., Hitters)"
   ]
  },
  {
   "cell_type": "code",
   "execution_count": 9,
   "id": "6e8a8218-5b23-4c7c-a1cf-ade1e6a8bb96",
   "metadata": {},
   "outputs": [
    {
     "data": {
      "text/plain": [
       "Subset selection object\n",
       "Call: regsubsets.formula(Salary ~ ., Hitters)\n",
       "19 Variables  (and intercept)\n",
       "           Forced in Forced out\n",
       "AtBat          FALSE      FALSE\n",
       "Hits           FALSE      FALSE\n",
       "HmRun          FALSE      FALSE\n",
       "Runs           FALSE      FALSE\n",
       "RBI            FALSE      FALSE\n",
       "Walks          FALSE      FALSE\n",
       "Years          FALSE      FALSE\n",
       "CAtBat         FALSE      FALSE\n",
       "CHits          FALSE      FALSE\n",
       "CHmRun         FALSE      FALSE\n",
       "CRuns          FALSE      FALSE\n",
       "CRBI           FALSE      FALSE\n",
       "CWalks         FALSE      FALSE\n",
       "LeagueN        FALSE      FALSE\n",
       "DivisionW      FALSE      FALSE\n",
       "PutOuts        FALSE      FALSE\n",
       "Assists        FALSE      FALSE\n",
       "Errors         FALSE      FALSE\n",
       "NewLeagueN     FALSE      FALSE\n",
       "1 subsets of each size up to 8\n",
       "Selection Algorithm: exhaustive\n",
       "         AtBat Hits HmRun Runs RBI Walks Years CAtBat CHits CHmRun CRuns CRBI\n",
       "1  ( 1 ) \" \"   \" \"  \" \"   \" \"  \" \" \" \"   \" \"   \" \"    \" \"   \" \"    \" \"   \"*\" \n",
       "2  ( 1 ) \" \"   \"*\"  \" \"   \" \"  \" \" \" \"   \" \"   \" \"    \" \"   \" \"    \" \"   \"*\" \n",
       "3  ( 1 ) \" \"   \"*\"  \" \"   \" \"  \" \" \" \"   \" \"   \" \"    \" \"   \" \"    \" \"   \"*\" \n",
       "4  ( 1 ) \" \"   \"*\"  \" \"   \" \"  \" \" \" \"   \" \"   \" \"    \" \"   \" \"    \" \"   \"*\" \n",
       "5  ( 1 ) \"*\"   \"*\"  \" \"   \" \"  \" \" \" \"   \" \"   \" \"    \" \"   \" \"    \" \"   \"*\" \n",
       "6  ( 1 ) \"*\"   \"*\"  \" \"   \" \"  \" \" \"*\"   \" \"   \" \"    \" \"   \" \"    \" \"   \"*\" \n",
       "7  ( 1 ) \" \"   \"*\"  \" \"   \" \"  \" \" \"*\"   \" \"   \"*\"    \"*\"   \"*\"    \" \"   \" \" \n",
       "8  ( 1 ) \"*\"   \"*\"  \" \"   \" \"  \" \" \"*\"   \" \"   \" \"    \" \"   \"*\"    \"*\"   \" \" \n",
       "         CWalks LeagueN DivisionW PutOuts Assists Errors NewLeagueN\n",
       "1  ( 1 ) \" \"    \" \"     \" \"       \" \"     \" \"     \" \"    \" \"       \n",
       "2  ( 1 ) \" \"    \" \"     \" \"       \" \"     \" \"     \" \"    \" \"       \n",
       "3  ( 1 ) \" \"    \" \"     \" \"       \"*\"     \" \"     \" \"    \" \"       \n",
       "4  ( 1 ) \" \"    \" \"     \"*\"       \"*\"     \" \"     \" \"    \" \"       \n",
       "5  ( 1 ) \" \"    \" \"     \"*\"       \"*\"     \" \"     \" \"    \" \"       \n",
       "6  ( 1 ) \" \"    \" \"     \"*\"       \"*\"     \" \"     \" \"    \" \"       \n",
       "7  ( 1 ) \" \"    \" \"     \"*\"       \"*\"     \" \"     \" \"    \" \"       \n",
       "8  ( 1 ) \"*\"    \" \"     \"*\"       \"*\"     \" \"     \" \"    \" \"       "
      ]
     },
     "metadata": {},
     "output_type": "display_data"
    }
   ],
   "source": [
    "summary(regfit.full)"
   ]
  },
  {
   "cell_type": "markdown",
   "id": "5cfae674-57de-4060-86ac-745e8fa395b5",
   "metadata": {},
   "source": [
    "An asterisk indicates that a given variable is included in the corresponding model. For instance, this output indicates that the best two-variable model contains only `Hits` and `CRBI`. By default, `regsubsets()` only reports results up to the best eight-variable model. But the `nvmax` option can be used in order to return as many variables as are desired. Here we fit up to a 19-variable model."
   ]
  },
  {
   "cell_type": "code",
   "execution_count": 10,
   "id": "82a7b806-f2e5-47b7-b9e1-3e7123b8e48b",
   "metadata": {},
   "outputs": [],
   "source": [
    "regfit.full <- regsubsets(Salary ~ ., data = Hitters, nvmax = 19)\n",
    "reg.summary <- summary(regfit.full)"
   ]
  },
  {
   "cell_type": "markdown",
   "id": "95c4f20e-a1dd-4a67-a3b1-3e53c87cd0c0",
   "metadata": {},
   "source": [
    "The `summary()` function also returns $R^2$, RSS, adjusted $R^2$, $C_p$, and BIC. We can examine these to try to select the _best_ overall model."
   ]
  },
  {
   "cell_type": "code",
   "execution_count": 11,
   "id": "a58ff35a-9762-4453-824d-e58be1f08b7a",
   "metadata": {},
   "outputs": [
    {
     "data": {
      "text/html": [
       "<style>\n",
       ".list-inline {list-style: none; margin:0; padding: 0}\n",
       ".list-inline>li {display: inline-block}\n",
       ".list-inline>li:not(:last-child)::after {content: \"\\00b7\"; padding: 0 .5ex}\n",
       "</style>\n",
       "<ol class=list-inline><li>'which'</li><li>'rsq'</li><li>'rss'</li><li>'adjr2'</li><li>'cp'</li><li>'bic'</li><li>'outmat'</li><li>'obj'</li></ol>\n"
      ],
      "text/latex": [
       "\\begin{enumerate*}\n",
       "\\item 'which'\n",
       "\\item 'rsq'\n",
       "\\item 'rss'\n",
       "\\item 'adjr2'\n",
       "\\item 'cp'\n",
       "\\item 'bic'\n",
       "\\item 'outmat'\n",
       "\\item 'obj'\n",
       "\\end{enumerate*}\n"
      ],
      "text/markdown": [
       "1. 'which'\n",
       "2. 'rsq'\n",
       "3. 'rss'\n",
       "4. 'adjr2'\n",
       "5. 'cp'\n",
       "6. 'bic'\n",
       "7. 'outmat'\n",
       "8. 'obj'\n",
       "\n",
       "\n"
      ],
      "text/plain": [
       "[1] \"which\"  \"rsq\"    \"rss\"    \"adjr2\"  \"cp\"     \"bic\"    \"outmat\" \"obj\"   "
      ]
     },
     "metadata": {},
     "output_type": "display_data"
    }
   ],
   "source": [
    "names(reg.summary)"
   ]
  },
  {
   "cell_type": "markdown",
   "id": "59f1958b-72e4-492b-9fe7-ea89da3538bc",
   "metadata": {},
   "source": [
    "For instance, we see that the $R^2$ statistic increases from $32\\%$, when only one variable is included in the model, to almost $55\\%$, when all variables are included. As expected, the $R^2$ statistic increases monotonically as more variables are included."
   ]
  },
  {
   "cell_type": "code",
   "execution_count": 12,
   "id": "fcf9e47f-68fd-413f-8d59-a4c8721d8321",
   "metadata": {},
   "outputs": [
    {
     "data": {
      "text/html": [
       "<style>\n",
       ".list-inline {list-style: none; margin:0; padding: 0}\n",
       ".list-inline>li {display: inline-block}\n",
       ".list-inline>li:not(:last-child)::after {content: \"\\00b7\"; padding: 0 .5ex}\n",
       "</style>\n",
       "<ol class=list-inline><li>0.321450088667894</li><li>0.425223746466778</li><li>0.451429415717957</li><li>0.475406653394787</li><li>0.490803615963518</li><li>0.508714557358996</li><li>0.514122682361273</li><li>0.528556860302574</li><li>0.534612447792431</li><li>0.540494950940798</li><li>0.54261532542542</li><li>0.543630208632163</li><li>0.544457014231977</li><li>0.545216356301489</li><li>0.545469230681164</li><li>0.54576555748528</li><li>0.545951808076699</li><li>0.546094522341906</li><li>0.546115861912532</li></ol>\n"
      ],
      "text/latex": [
       "\\begin{enumerate*}\n",
       "\\item 0.321450088667894\n",
       "\\item 0.425223746466778\n",
       "\\item 0.451429415717957\n",
       "\\item 0.475406653394787\n",
       "\\item 0.490803615963518\n",
       "\\item 0.508714557358996\n",
       "\\item 0.514122682361273\n",
       "\\item 0.528556860302574\n",
       "\\item 0.534612447792431\n",
       "\\item 0.540494950940798\n",
       "\\item 0.54261532542542\n",
       "\\item 0.543630208632163\n",
       "\\item 0.544457014231977\n",
       "\\item 0.545216356301489\n",
       "\\item 0.545469230681164\n",
       "\\item 0.54576555748528\n",
       "\\item 0.545951808076699\n",
       "\\item 0.546094522341906\n",
       "\\item 0.546115861912532\n",
       "\\end{enumerate*}\n"
      ],
      "text/markdown": [
       "1. 0.321450088667894\n",
       "2. 0.425223746466778\n",
       "3. 0.451429415717957\n",
       "4. 0.475406653394787\n",
       "5. 0.490803615963518\n",
       "6. 0.508714557358996\n",
       "7. 0.514122682361273\n",
       "8. 0.528556860302574\n",
       "9. 0.534612447792431\n",
       "10. 0.540494950940798\n",
       "11. 0.54261532542542\n",
       "12. 0.543630208632163\n",
       "13. 0.544457014231977\n",
       "14. 0.545216356301489\n",
       "15. 0.545469230681164\n",
       "16. 0.54576555748528\n",
       "17. 0.545951808076699\n",
       "18. 0.546094522341906\n",
       "19. 0.546115861912532\n",
       "\n",
       "\n"
      ],
      "text/plain": [
       " [1] 0.3214501 0.4252237 0.4514294 0.4754067 0.4908036 0.5087146 0.5141227\n",
       " [8] 0.5285569 0.5346124 0.5404950 0.5426153 0.5436302 0.5444570 0.5452164\n",
       "[15] 0.5454692 0.5457656 0.5459518 0.5460945 0.5461159"
      ]
     },
     "metadata": {},
     "output_type": "display_data"
    }
   ],
   "source": [
    "reg.summary$rsq"
   ]
  },
  {
   "cell_type": "markdown",
   "id": "cdad7ce4-fa2e-4dd9-9f08-d314f48dd1c7",
   "metadata": {},
   "source": [
    "The `points()` command works like the `plot()` command, except that it puts points on a plot that has already been created, instead of creating a new plot. The `which.max()` function can be used to identify the location of the maximum point of a vector. We will now plot a red dot to indicate the model with the largest adjusted $R^2$ statistic."
   ]
  },
  {
   "cell_type": "code",
   "execution_count": 13,
   "id": "109e972a-764e-4280-83b5-83e67ef6c07f",
   "metadata": {},
   "outputs": [
    {
     "data": {
      "text/html": [
       "11"
      ],
      "text/latex": [
       "11"
      ],
      "text/markdown": [
       "11"
      ],
      "text/plain": [
       "[1] 11"
      ]
     },
     "metadata": {},
     "output_type": "display_data"
    },
    {
     "data": {
      "image/png": "[encoded data removed]",
      "text/plain": [
       "plot without title"
      ]
     },
     "metadata": {
      "image/png": {
       "height": 420,
       "width": 420
      }
     },
     "output_type": "display_data"
    }
   ],
   "source": [
    "par(mfrow = c(2, 2))\n",
    "plot(reg.summary$rss, xlab = \"Number of Variables\",\n",
    "     ylab = \"RSS\", type = \"l\")\n",
    "plot(reg.summary$adjr2, xlab = \"Number of Variables\",\n",
    "     ylab = \"Adjusted RSq\", type = \"l\")\n",
    "which.max(reg.summary$adjr2)\n",
    "points(11, reg.summary$adjr2[11], col = \"red\", cex = 2, pch = 20)"
   ]
  },
  {
   "cell_type": "markdown",
   "id": "aa68a400-065d-4f4f-b817-9103363fdd94",
   "metadata": {},
   "source": [
    "In a similar fashion we can plot the $C_p$ and BIC statistics, and indicate the models with the smallest statistic using `which.min()`."
   ]
  },
  {
   "cell_type": "code",
   "execution_count": 14,
   "id": "afce4b98-d12c-4163-aa0b-debca81898d4",
   "metadata": {},
   "outputs": [
    {
     "data": {
      "text/html": [
       "10"
      ],
      "text/latex": [
       "10"
      ],
      "text/markdown": [
       "10"
      ],
      "text/plain": [
       "[1] 10"
      ]
     },
     "metadata": {},
     "output_type": "display_data"
    },
    {
     "data": {
      "text/html": [
       "6"
      ],
      "text/latex": [
       "6"
      ],
      "text/markdown": [
       "6"
      ],
      "text/plain": [
       "[1] 6"
      ]
     },
     "metadata": {},
     "output_type": "display_data"
    },
    {
     "data": {
      "image/png": "[encoded data removed]",
      "text/plain": [
       "plot without title"
      ]
     },
     "metadata": {
      "image/png": {
       "height": 420,
       "width": 420
      }
     },
     "output_type": "display_data"
    },
    {
     "data": {
      "image/png": "[encoded data removed]",
      "text/plain": [
       "plot without title"
      ]
     },
     "metadata": {
      "image/png": {
       "height": 420,
       "width": 420
      }
     },
     "output_type": "display_data"
    }
   ],
   "source": [
    "plot(reg.summary$cp, xlab = \"Number of Variables\",\n",
    "     ylab = \"Cp\", type = \"l\")\n",
    "which.min(reg.summary$cp)\n",
    "points(10,reg.summary$cp[10], col = \"red\", cex = 2, pch = 20)\n",
    "which.min(reg.summary$bic)\n",
    "plot(reg.summary$bic, xlab = \"Number of Variables\", ylab = \"BIC\", type = \"l\")\n",
    "points(6, reg.summary$bic[6], col = \"red\", cex = 2, pch = 20)"
   ]
  },
  {
   "cell_type": "markdown",
   "id": "116d9b9b-b68f-4c09-9d29-43cd9a7a4fbf",
   "metadata": {},
   "source": [
    "The `regsubsets()` function has a built-in `plot()` command which can be used to display the selected variables for hte best model with a given number of predictors, ranked according to the BIC, $C_p$, adjusted $R^2$, or AIC. To find out more about this function, type `?plot.regsubsets`."
   ]
  },
  {
   "cell_type": "code",
   "execution_count": 15,
   "id": "9f079f65-3061-462e-b6bf-f1cad90ff197",
   "metadata": {},
   "outputs": [
    {
     "data": {
      "image/png": "[encoded data removed]",
      "text/plain": [
       "plot without title"
      ]
     },
     "metadata": {
      "image/png": {
       "height": 420,
       "width": 420
      }
     },
     "output_type": "display_data"
    },
    {
     "data": {
      "image/png": "[encoded data removed]",
      "text/plain": [
       "plot without title"
      ]
     },
     "metadata": {
      "image/png": {
       "height": 420,
       "width": 420
      }
     },
     "output_type": "display_data"
    },
    {
     "data": {
      "image/png": "[encoded data removed]",
      "text/plain": [
       "plot without title"
      ]
     },
     "metadata": {
      "image/png": {
       "height": 420,
       "width": 420
      }
     },
     "output_type": "display_data"
    },
    {
     "data": {
      "image/png": "[encoded data removed]",
      "text/plain": [
       "plot without title"
      ]
     },
     "metadata": {
      "image/png": {
       "height": 420,
       "width": 420
      }
     },
     "output_type": "display_data"
    }
   ],
   "source": [
    "plot(regfit.full, scale = \"r2\")\n",
    "plot(regfit.full, scale = \"adjr2\")\n",
    "plot(regfit.full, scale = \"Cp\")\n",
    "plot(regfit.full, scale = \"bic\")"
   ]
  },
  {
   "cell_type": "markdown",
   "id": "d082407d-73ea-4d02-9a4e-9d16bee9585e",
   "metadata": {},
   "source": [
    "The top row of each plot contains a black square for each variable selected according to the optimal model associated with that statistic. For instance w see that several models share a BIC close to $-150$. However, the model with the lowest BIC is the six-variable model that contains only `AtBat`,`Hits`,`Walks`,`CRBI`,`DivisionW`, and `PutOuts`. We can use the `coef()` function to see the coefficient estimates associated with this model."
   ]
  },
  {
   "cell_type": "code",
   "execution_count": 16,
   "id": "120fd747-73dd-4bb1-90ec-b34277f199de",
   "metadata": {},
   "outputs": [
    {
     "data": {
      "text/html": [
       "<style>\n",
       ".dl-inline {width: auto; margin:0; padding: 0}\n",
       ".dl-inline>dt, .dl-inline>dd {float: none; width: auto; display: inline-block}\n",
       ".dl-inline>dt::after {content: \":\\0020\"; padding-right: .5ex}\n",
       ".dl-inline>dt:not(:first-of-type) {padding-left: .5ex}\n",
       "</style><dl class=dl-inline><dt>(Intercept)</dt><dd>91.5117981171539</dd><dt>AtBat</dt><dd>-1.86858923135561</dd><dt>Hits</dt><dd>7.60439763117204</dd><dt>Walks</dt><dd>3.69764677424139</dd><dt>CRBI</dt><dd>0.643016935097332</dd><dt>DivisionW</dt><dd>-122.95153377292</dd><dt>PutOuts</dt><dd>0.264307605461511</dd></dl>\n"
      ],
      "text/latex": [
       "\\begin{description*}\n",
       "\\item[(Intercept)] 91.5117981171539\n",
       "\\item[AtBat] -1.86858923135561\n",
       "\\item[Hits] 7.60439763117204\n",
       "\\item[Walks] 3.69764677424139\n",
       "\\item[CRBI] 0.643016935097332\n",
       "\\item[DivisionW] -122.95153377292\n",
       "\\item[PutOuts] 0.264307605461511\n",
       "\\end{description*}\n"
      ],
      "text/markdown": [
       "(Intercept)\n",
       ":   91.5117981171539AtBat\n",
       ":   -1.86858923135561Hits\n",
       ":   7.60439763117204Walks\n",
       ":   3.69764677424139CRBI\n",
       ":   0.643016935097332DivisionW\n",
       ":   -122.95153377292PutOuts\n",
       ":   0.264307605461511\n",
       "\n"
      ],
      "text/plain": [
       " (Intercept)        AtBat         Hits        Walks         CRBI    DivisionW \n",
       "  91.5117981   -1.8685892    7.6043976    3.6976468    0.6430169 -122.9515338 \n",
       "     PutOuts \n",
       "   0.2643076 "
      ]
     },
     "metadata": {},
     "output_type": "display_data"
    }
   ],
   "source": [
    "coef(regfit.full, 6)"
   ]
  },
  {
   "cell_type": "markdown",
   "id": "690fa5fa-d55e-41c7-b1a2-5186635a365a",
   "metadata": {},
   "source": [
    "## Forward and Backward Stepwise\n",
    "We can also use the `regsubsets()` function to perform forward stepwise or backward stepwise selection, using the argument `method = \"forward\"` or `method = \"backward\"`."
   ]
  },
  {
   "cell_type": "code",
   "execution_count": 17,
   "id": "c2b312c3-55d7-4ad6-8f95-db3082765c73",
   "metadata": {},
   "outputs": [],
   "source": [
    "regfit.fwd <- regsubsets(Salary ~ ., data = Hitters, nvmax = 19, method = \"forward\")\n",
    "regfit.bwd <- regsubsets(Salary ~ ., data = Hitters, nvmax = 19, method = \"backward\")"
   ]
  },
  {
   "cell_type": "markdown",
   "id": "f24f77fc-788e-4245-834a-671569a7b2eb",
   "metadata": {},
   "source": [
    "For instance, we see that using forward stepwise selection, the best one-variable model contains only `CRBI`, and the best two-variable model additionally includes `Hits`. For this data, the best one-variable through six-variable models are each identical for best subset and forward selection. However, the best seven-variable models identified by forward stepwise selection, backward stepwise selection, and best subset selection are different."
   ]
  },
  {
   "cell_type": "code",
   "execution_count": 18,
   "id": "d69d4278-a383-4fd2-bc4d-ec8c217dc3f3",
   "metadata": {},
   "outputs": [
    {
     "data": {
      "text/html": [
       "<style>\n",
       ".dl-inline {width: auto; margin:0; padding: 0}\n",
       ".dl-inline>dt, .dl-inline>dd {float: none; width: auto; display: inline-block}\n",
       ".dl-inline>dt::after {content: \":\\0020\"; padding-right: .5ex}\n",
       ".dl-inline>dt:not(:first-of-type) {padding-left: .5ex}\n",
       "</style><dl class=dl-inline><dt>(Intercept)</dt><dd>79.4509472435319</dd><dt>Hits</dt><dd>1.28335125463328</dd><dt>Walks</dt><dd>3.22742638972714</dd><dt>CAtBat</dt><dd>-0.375235019565453</dd><dt>CHits</dt><dd>1.49570730989869</dd><dt>CHmRun</dt><dd>1.44205381889666</dd><dt>DivisionW</dt><dd>-129.986643165116</dd><dt>PutOuts</dt><dd>0.236681317525621</dd></dl>\n"
      ],
      "text/latex": [
       "\\begin{description*}\n",
       "\\item[(Intercept)] 79.4509472435319\n",
       "\\item[Hits] 1.28335125463328\n",
       "\\item[Walks] 3.22742638972714\n",
       "\\item[CAtBat] -0.375235019565453\n",
       "\\item[CHits] 1.49570730989869\n",
       "\\item[CHmRun] 1.44205381889666\n",
       "\\item[DivisionW] -129.986643165116\n",
       "\\item[PutOuts] 0.236681317525621\n",
       "\\end{description*}\n"
      ],
      "text/markdown": [
       "(Intercept)\n",
       ":   79.4509472435319Hits\n",
       ":   1.28335125463328Walks\n",
       ":   3.22742638972714CAtBat\n",
       ":   -0.375235019565453CHits\n",
       ":   1.49570730989869CHmRun\n",
       ":   1.44205381889666DivisionW\n",
       ":   -129.986643165116PutOuts\n",
       ":   0.236681317525621\n",
       "\n"
      ],
      "text/plain": [
       " (Intercept)         Hits        Walks       CAtBat        CHits       CHmRun \n",
       "  79.4509472    1.2833513    3.2274264   -0.3752350    1.4957073    1.4420538 \n",
       "   DivisionW      PutOuts \n",
       "-129.9866432    0.2366813 "
      ]
     },
     "metadata": {},
     "output_type": "display_data"
    }
   ],
   "source": [
    "coef(regfit.full, 7)"
   ]
  },
  {
   "cell_type": "code",
   "execution_count": 19,
   "id": "16a94926-bc20-4c85-8231-a6ca09b05e94",
   "metadata": {},
   "outputs": [
    {
     "data": {
      "text/html": [
       "<style>\n",
       ".dl-inline {width: auto; margin:0; padding: 0}\n",
       ".dl-inline>dt, .dl-inline>dd {float: none; width: auto; display: inline-block}\n",
       ".dl-inline>dt::after {content: \":\\0020\"; padding-right: .5ex}\n",
       ".dl-inline>dt:not(:first-of-type) {padding-left: .5ex}\n",
       "</style><dl class=dl-inline><dt>(Intercept)</dt><dd>109.787306240078</dd><dt>AtBat</dt><dd>-1.95888512315655</dd><dt>Hits</dt><dd>7.44987721841218</dd><dt>Walks</dt><dd>4.91314009272066</dd><dt>CRBI</dt><dd>0.853762209061578</dd><dt>CWalks</dt><dd>-0.305307000381738</dd><dt>DivisionW</dt><dd>-127.122392777488</dd><dt>PutOuts</dt><dd>0.253340431147386</dd></dl>\n"
      ],
      "text/latex": [
       "\\begin{description*}\n",
       "\\item[(Intercept)] 109.787306240078\n",
       "\\item[AtBat] -1.95888512315655\n",
       "\\item[Hits] 7.44987721841218\n",
       "\\item[Walks] 4.91314009272066\n",
       "\\item[CRBI] 0.853762209061578\n",
       "\\item[CWalks] -0.305307000381738\n",
       "\\item[DivisionW] -127.122392777488\n",
       "\\item[PutOuts] 0.253340431147386\n",
       "\\end{description*}\n"
      ],
      "text/markdown": [
       "(Intercept)\n",
       ":   109.787306240078AtBat\n",
       ":   -1.95888512315655Hits\n",
       ":   7.44987721841218Walks\n",
       ":   4.91314009272066CRBI\n",
       ":   0.853762209061578CWalks\n",
       ":   -0.305307000381738DivisionW\n",
       ":   -127.122392777488PutOuts\n",
       ":   0.253340431147386\n",
       "\n"
      ],
      "text/plain": [
       " (Intercept)        AtBat         Hits        Walks         CRBI       CWalks \n",
       " 109.7873062   -1.9588851    7.4498772    4.9131401    0.8537622   -0.3053070 \n",
       "   DivisionW      PutOuts \n",
       "-127.1223928    0.2533404 "
      ]
     },
     "metadata": {},
     "output_type": "display_data"
    }
   ],
   "source": [
    "coef(regfit.fwd, 7)"
   ]
  },
  {
   "cell_type": "code",
   "execution_count": 20,
   "id": "419a7da1-e0b3-40ff-804b-c131d23bc066",
   "metadata": {},
   "outputs": [
    {
     "data": {
      "text/html": [
       "<style>\n",
       ".dl-inline {width: auto; margin:0; padding: 0}\n",
       ".dl-inline>dt, .dl-inline>dd {float: none; width: auto; display: inline-block}\n",
       ".dl-inline>dt::after {content: \":\\0020\"; padding-right: .5ex}\n",
       ".dl-inline>dt:not(:first-of-type) {padding-left: .5ex}\n",
       "</style><dl class=dl-inline><dt>(Intercept)</dt><dd>105.648748778828</dd><dt>AtBat</dt><dd>-1.97628381026618</dd><dt>Hits</dt><dd>6.75749144281392</dd><dt>Walks</dt><dd>6.05586912154598</dd><dt>CRuns</dt><dd>1.12930946903271</dd><dt>CWalks</dt><dd>-0.71633458662198</dd><dt>DivisionW</dt><dd>-116.16921690431</dd><dt>PutOuts</dt><dd>0.302884743257576</dd></dl>\n"
      ],
      "text/latex": [
       "\\begin{description*}\n",
       "\\item[(Intercept)] 105.648748778828\n",
       "\\item[AtBat] -1.97628381026618\n",
       "\\item[Hits] 6.75749144281392\n",
       "\\item[Walks] 6.05586912154598\n",
       "\\item[CRuns] 1.12930946903271\n",
       "\\item[CWalks] -0.71633458662198\n",
       "\\item[DivisionW] -116.16921690431\n",
       "\\item[PutOuts] 0.302884743257576\n",
       "\\end{description*}\n"
      ],
      "text/markdown": [
       "(Intercept)\n",
       ":   105.648748778828AtBat\n",
       ":   -1.97628381026618Hits\n",
       ":   6.75749144281392Walks\n",
       ":   6.05586912154598CRuns\n",
       ":   1.12930946903271CWalks\n",
       ":   -0.71633458662198DivisionW\n",
       ":   -116.16921690431PutOuts\n",
       ":   0.302884743257576\n",
       "\n"
      ],
      "text/plain": [
       " (Intercept)        AtBat         Hits        Walks        CRuns       CWalks \n",
       " 105.6487488   -1.9762838    6.7574914    6.0558691    1.1293095   -0.7163346 \n",
       "   DivisionW      PutOuts \n",
       "-116.1692169    0.3028847 "
      ]
     },
     "metadata": {},
     "output_type": "display_data"
    }
   ],
   "source": [
    "coef(regfit.bwd, 7)"
   ]
  },
  {
   "cell_type": "markdown",
   "id": "2a6f0093-41c0-47b7-b4ce-51fda1382da3",
   "metadata": {},
   "source": [
    "## Choosing Among Models Using the Validation-Set Approach and Cross-Validation\n",
    "We just saw that it is possible to choose among a set of models of different sizes using $C_p$, BIC, and adjusted $R^2$. We will now consider how to do this using the validation set and cross-validation approaches.  \n",
    "\n",
    "In order for these approaches to yield accurate estimates of the test error, we must use _only the training observations_ to perform all aspects of model-fitting&mdash;including variable selection. Therefore, the determination of which model of a given size is best must be made using _only the training observations_. This point is subtle but important. If the full data set is used to perform the best subset seleciton step, the validation set errors and cross-validation errors that we obtain will not be accurate estimates of the test error.  \n",
    "\n",
    "In order to use the validation set approach, we begin by splitting the observations into a training set and a test set. We do this by creating a random vector, `train`, of elements equal to `TRUE` if the corresponding observation is in the training set, and `FALSE` otherwise. The vector `test` has a `TRUE` if the observation is in the test set, and a `FALSE` otherwise. Note the `!` in the command to create `test` causes `TRUE`s to be switched to `FALSE`s and vice versa. We also set a random seed so that the user will obtain the same training set/test set split."
   ]
  },
  {
   "cell_type": "code",
   "execution_count": 21,
   "id": "58ac644b-59c4-4a92-97ed-7a5bfd9fe958",
   "metadata": {},
   "outputs": [],
   "source": [
    "set.seed(1)\n",
    "train <- sample(c(TRUE, FALSE), nrow(Hitters), replace = TRUE)\n",
    "test <- (!train)"
   ]
  },
  {
   "cell_type": "markdown",
   "id": "2c814fcc-fc1f-44be-941b-4ab2c5120ca6",
   "metadata": {},
   "source": [
    "Now, we apply `regsubsets()` to the  training set in order to perform best subset selection."
   ]
  },
  {
   "cell_type": "code",
   "execution_count": 22,
   "id": "9a92940b-7928-4db4-aede-cda6bd849264",
   "metadata": {},
   "outputs": [],
   "source": [
    "regfit.best <- regsubsets(Salary ~ ., data = Hitters[train,], nvmax = 19)"
   ]
  },
  {
   "cell_type": "markdown",
   "id": "80cfb662-4154-4f22-8500-fc551a5b9221",
   "metadata": {},
   "source": [
    "Notice that we subset the `Hitters` data frame directly in the call in order to access only the training subset of the data, using the expression `Hitters[train,]`. We now compute the validation set error for the best model of each model size. We first make a model matrix from the test data."
   ]
  },
  {
   "cell_type": "code",
   "execution_count": 23,
   "id": "d71ffde7-ee4e-44d4-b0d1-452108608750",
   "metadata": {},
   "outputs": [],
   "source": [
    "\n",
    "test.mat <- model.matrix(Salary ~ ., data = Hitters[test,])"
   ]
  },
  {
   "cell_type": "markdown",
   "id": "3baebf08-518f-48ee-b9f1-bea588a2ee55",
   "metadata": {},
   "source": [
    "The `model.matrix()` function is used in many regression packages for building an \"X\" matrix from data. Now we run a loop, and for each size `i`, we extract the coefficients from `regfit.best` for the best model of that size, multiply them into the appropriate columns of the test model matrix to form the predictions, and compute the test MSE."
   ]
  },
  {
   "cell_type": "code",
   "execution_count": 24,
   "id": "96dd9371-0d82-49d9-b78e-7af4838b59b3",
   "metadata": {},
   "outputs": [],
   "source": [
    "val.errors <- rep(NA, 19)\n",
    "for (i in 1:19) {\n",
    "    coefi <- coef(regfit.best, id = i)\n",
    "    pred <- test.mat[, names(coefi)] %*% coefi\n",
    "    val.errors[i] <- mean((Hitters$Salary[test] - pred)^2)\n",
    "}"
   ]
  },
  {
   "cell_type": "markdown",
   "id": "c1d868a1-d1e6-441b-a973-0cd5de305e7d",
   "metadata": {},
   "source": [
    "We find that the best model is the one that contains seven variables."
   ]
  },
  {
   "cell_type": "code",
   "execution_count": 25,
   "id": "5b9cb9e7-1e82-44aa-8998-98c5cc397e13",
   "metadata": {},
   "outputs": [
    {
     "data": {
      "text/html": [
       "<style>\n",
       ".list-inline {list-style: none; margin:0; padding: 0}\n",
       ".list-inline>li {display: inline-block}\n",
       ".list-inline>li:not(:last-child)::after {content: \"\\00b7\"; padding: 0 .5ex}\n",
       "</style>\n",
       "<ol class=list-inline><li>164377.260362341</li><li>144405.470709589</li><li>152175.69459474</li><li>145198.381708901</li><li>137902.113680192</li><li>139175.74540071</li><li>126848.963422889</li><li>136191.381502395</li><li>132889.632125506</li><li>135434.897163883</li><li>136963.294656889</li><li>140694.931446905</li><li>140690.940552605</li><li>141951.168986255</li><li>141508.153781646</li><li>142164.368072385</li><li>141767.40236927</li><li>142339.552749068</li><li>142238.156755267</li></ol>\n"
      ],
      "text/latex": [
       "\\begin{enumerate*}\n",
       "\\item 164377.260362341\n",
       "\\item 144405.470709589\n",
       "\\item 152175.69459474\n",
       "\\item 145198.381708901\n",
       "\\item 137902.113680192\n",
       "\\item 139175.74540071\n",
       "\\item 126848.963422889\n",
       "\\item 136191.381502395\n",
       "\\item 132889.632125506\n",
       "\\item 135434.897163883\n",
       "\\item 136963.294656889\n",
       "\\item 140694.931446905\n",
       "\\item 140690.940552605\n",
       "\\item 141951.168986255\n",
       "\\item 141508.153781646\n",
       "\\item 142164.368072385\n",
       "\\item 141767.40236927\n",
       "\\item 142339.552749068\n",
       "\\item 142238.156755267\n",
       "\\end{enumerate*}\n"
      ],
      "text/markdown": [
       "1. 164377.260362341\n",
       "2. 144405.470709589\n",
       "3. 152175.69459474\n",
       "4. 145198.381708901\n",
       "5. 137902.113680192\n",
       "6. 139175.74540071\n",
       "7. 126848.963422889\n",
       "8. 136191.381502395\n",
       "9. 132889.632125506\n",
       "10. 135434.897163883\n",
       "11. 136963.294656889\n",
       "12. 140694.931446905\n",
       "13. 140690.940552605\n",
       "14. 141951.168986255\n",
       "15. 141508.153781646\n",
       "16. 142164.368072385\n",
       "17. 141767.40236927\n",
       "18. 142339.552749068\n",
       "19. 142238.156755267\n",
       "\n",
       "\n"
      ],
      "text/plain": [
       " [1] 164377.3 144405.5 152175.7 145198.4 137902.1 139175.7 126849.0 136191.4\n",
       " [9] 132889.6 135434.9 136963.3 140694.9 140690.9 141951.2 141508.2 142164.4\n",
       "[17] 141767.4 142339.6 142238.2"
      ]
     },
     "metadata": {},
     "output_type": "display_data"
    }
   ],
   "source": [
    "val.errors"
   ]
  },
  {
   "cell_type": "code",
   "execution_count": 26,
   "id": "e72454d9-a997-4e96-8e57-75c62e7dddcd",
   "metadata": {},
   "outputs": [
    {
     "data": {
      "text/html": [
       "7"
      ],
      "text/latex": [
       "7"
      ],
      "text/markdown": [
       "7"
      ],
      "text/plain": [
       "[1] 7"
      ]
     },
     "metadata": {},
     "output_type": "display_data"
    }
   ],
   "source": [
    "which.min(val.errors)"
   ]
  },
  {
   "cell_type": "code",
   "execution_count": 27,
   "id": "1f7e36f1-c3c0-4f8b-8478-ea8140dd80b8",
   "metadata": {},
   "outputs": [
    {
     "data": {
      "text/html": [
       "<style>\n",
       ".dl-inline {width: auto; margin:0; padding: 0}\n",
       ".dl-inline>dt, .dl-inline>dd {float: none; width: auto; display: inline-block}\n",
       ".dl-inline>dt::after {content: \":\\0020\"; padding-right: .5ex}\n",
       ".dl-inline>dt:not(:first-of-type) {padding-left: .5ex}\n",
       "</style><dl class=dl-inline><dt>(Intercept)</dt><dd>67.1085369123294</dd><dt>AtBat</dt><dd>-2.14629867457481</dd><dt>Hits</dt><dd>7.01495467840133</dd><dt>Walks</dt><dd>8.07166403119075</dd><dt>CRuns</dt><dd>1.24251126334183</dd><dt>CWalks</dt><dd>-0.833784385185916</dd><dt>DivisionW</dt><dd>-118.436499846968</dd><dt>PutOuts</dt><dd>0.252692546543788</dd></dl>\n"
      ],
      "text/latex": [
       "\\begin{description*}\n",
       "\\item[(Intercept)] 67.1085369123294\n",
       "\\item[AtBat] -2.14629867457481\n",
       "\\item[Hits] 7.01495467840133\n",
       "\\item[Walks] 8.07166403119075\n",
       "\\item[CRuns] 1.24251126334183\n",
       "\\item[CWalks] -0.833784385185916\n",
       "\\item[DivisionW] -118.436499846968\n",
       "\\item[PutOuts] 0.252692546543788\n",
       "\\end{description*}\n"
      ],
      "text/markdown": [
       "(Intercept)\n",
       ":   67.1085369123294AtBat\n",
       ":   -2.14629867457481Hits\n",
       ":   7.01495467840133Walks\n",
       ":   8.07166403119075CRuns\n",
       ":   1.24251126334183CWalks\n",
       ":   -0.833784385185916DivisionW\n",
       ":   -118.436499846968PutOuts\n",
       ":   0.252692546543788\n",
       "\n"
      ],
      "text/plain": [
       " (Intercept)        AtBat         Hits        Walks        CRuns       CWalks \n",
       "  67.1085369   -2.1462987    7.0149547    8.0716640    1.2425113   -0.8337844 \n",
       "   DivisionW      PutOuts \n",
       "-118.4364998    0.2526925 "
      ]
     },
     "metadata": {},
     "output_type": "display_data"
    }
   ],
   "source": [
    "coef(regfit.best, 7)"
   ]
  },
  {
   "cell_type": "markdown",
   "id": "09ab81e8-88f8-4ebe-b490-618632c634af",
   "metadata": {},
   "source": [
    "This was a little tedious, partly because there is no `predict()` method for `regsubsets()`. Since we will be using this function again, we can capture our steps above and write out our own predict method."
   ]
  },
  {
   "cell_type": "code",
   "execution_count": 28,
   "id": "1cb538aa-00ba-4c3a-bab4-ca02b4748016",
   "metadata": {},
   "outputs": [],
   "source": [
    "predict.regsubsets <- function(object, newdata, id, ...) {\n",
    "    form <- as.formula(object$call[[2]])\n",
    "    mat <- model.matrix(form, newdata)\n",
    "    coefi <- coef(object, id = id)\n",
    "    xvars <- names(coefi)\n",
    "    mat[, xvars] %*% coefi\n",
    "}"
   ]
  },
  {
   "cell_type": "markdown",
   "id": "65b35edc-3a91-4c8d-a06f-dd8528e08ac7",
   "metadata": {},
   "source": [
    "Our function pretty much mimics what we did above. The only complex part is how we extract the formula used in the call to `regsubsets()`. We demonstrate how we use this function below, when we do cross-validation.  \n",
    "\n",
    "Finally, we perform best subset selection on the full data set, and select the best seven-variable model. It is important that we make use of the full data set in order to obtain more accurate coefficient estimates. Note that we perform best subset selection on the full data set and select the best seven-variable model, rather than simply using the variables that were obtained from the training set, because the best seven-variable model on the full data set may differ from the corresponding model on the training set."
   ]
  },
  {
   "cell_type": "code",
   "execution_count": 29,
   "id": "b4b7dc06-e8fc-4cab-87dd-55883cacb73f",
   "metadata": {},
   "outputs": [],
   "source": [
    "regfit.best <- regsubsets(Salary ~ ., data = Hitters, nvmax = 19)"
   ]
  },
  {
   "cell_type": "code",
   "execution_count": 30,
   "id": "76b4d8eb-b41d-4e7a-b09e-81686e2ce3e4",
   "metadata": {},
   "outputs": [
    {
     "data": {
      "text/html": [
       "<style>\n",
       ".dl-inline {width: auto; margin:0; padding: 0}\n",
       ".dl-inline>dt, .dl-inline>dd {float: none; width: auto; display: inline-block}\n",
       ".dl-inline>dt::after {content: \":\\0020\"; padding-right: .5ex}\n",
       ".dl-inline>dt:not(:first-of-type) {padding-left: .5ex}\n",
       "</style><dl class=dl-inline><dt>(Intercept)</dt><dd>79.4509472435319</dd><dt>Hits</dt><dd>1.28335125463328</dd><dt>Walks</dt><dd>3.22742638972714</dd><dt>CAtBat</dt><dd>-0.375235019565453</dd><dt>CHits</dt><dd>1.49570730989869</dd><dt>CHmRun</dt><dd>1.44205381889666</dd><dt>DivisionW</dt><dd>-129.986643165116</dd><dt>PutOuts</dt><dd>0.236681317525621</dd></dl>\n"
      ],
      "text/latex": [
       "\\begin{description*}\n",
       "\\item[(Intercept)] 79.4509472435319\n",
       "\\item[Hits] 1.28335125463328\n",
       "\\item[Walks] 3.22742638972714\n",
       "\\item[CAtBat] -0.375235019565453\n",
       "\\item[CHits] 1.49570730989869\n",
       "\\item[CHmRun] 1.44205381889666\n",
       "\\item[DivisionW] -129.986643165116\n",
       "\\item[PutOuts] 0.236681317525621\n",
       "\\end{description*}\n"
      ],
      "text/markdown": [
       "(Intercept)\n",
       ":   79.4509472435319Hits\n",
       ":   1.28335125463328Walks\n",
       ":   3.22742638972714CAtBat\n",
       ":   -0.375235019565453CHits\n",
       ":   1.49570730989869CHmRun\n",
       ":   1.44205381889666DivisionW\n",
       ":   -129.986643165116PutOuts\n",
       ":   0.236681317525621\n",
       "\n"
      ],
      "text/plain": [
       " (Intercept)         Hits        Walks       CAtBat        CHits       CHmRun \n",
       "  79.4509472    1.2833513    3.2274264   -0.3752350    1.4957073    1.4420538 \n",
       "   DivisionW      PutOuts \n",
       "-129.9866432    0.2366813 "
      ]
     },
     "metadata": {},
     "output_type": "display_data"
    }
   ],
   "source": [
    "coef(regfit.best, 7)"
   ]
  },
  {
   "cell_type": "markdown",
   "id": "44a465dc-fed9-49e7-8880-bb66202f7a94",
   "metadata": {},
   "source": [
    "In fact, we see that the best seven-variable model on the full data set has a different set of variables than the best seven-variable model on the training set.  \n",
    "\n",
    "We now try to choose among the models of different sizes using cross-valiation. This approach is somewhat involved, as we must perform best subset selection _within each of the k training sets_. Despite this, we see that with its clever subsetting syntax, `R` makes this job quite easy. First, we create a vector that allocaes each observation to one of $k=10$ folds, and we create a matrix in which we will store the results."
   ]
  },
  {
   "cell_type": "code",
   "execution_count": 31,
   "id": "730bb3a7-216c-496e-a98a-9c03470de5c2",
   "metadata": {},
   "outputs": [],
   "source": [
    "k <- 10\n",
    "n <- nrow(Hitters)\n",
    "set.seed(1)\n",
    "folds <- sample(rep(1:k, length = n))\n",
    "cv.errors <- matrix(NA, k, 19,\n",
    "                    dimnames = list(NULL, paste(1:19)))"
   ]
  },
  {
   "cell_type": "markdown",
   "id": "aa3aaa34-1f51-4134-93fb-c6f5c9385a3b",
   "metadata": {},
   "source": [
    "Now we write  for loop that performs cross-validation. In the _j_ th fold, the elements of `folds` that equal `j` are in the test set, and the remainder are in the training set. We make our predictions for each model size (using our new `predict()` method), compute the test errors on the appropriate subset, and store them in the appropriate slot in the matrix `cv.errors`. Note that in the following code `R` will automatically use our `predict.regsubsets()` function when we call `predict()` because the `best.fit` object has class `regsubsets`."
   ]
  },
  {
   "cell_type": "code",
   "execution_count": 32,
   "id": "c1cb6e20-4c29-48dd-bd88-6f0005b689b4",
   "metadata": {},
   "outputs": [],
   "source": [
    "for (j in 1:k) {\n",
    "    best.fit <- regsubsets(Salary ~ .,\n",
    "                           data = Hitters[folds != j,],\n",
    "                           nvmax = 19)\n",
    "    for (i in 1:19) {\n",
    "        pred <- predict(best.fit, Hitters[folds == j,], id = i)\n",
    "        cv.errors[j, i] <-\n",
    "          mean((Hitters$Salary[folds == j] - pred)^2)\n",
    "    }\n",
    "}"
   ]
  },
  {
   "cell_type": "markdown",
   "id": "945dc74c-1f1f-4159-ab85-84007f1fc721",
   "metadata": {},
   "source": [
    "This has given us a $10\\times19$ matrix, of which the $(j,i)$th element corresponds to the test MSE for the _j_ th cross-validation fold for the best _i_-variable model. We use the `apply()` function to average over the columns of this matrix in order to obtain a vector for which the _i_ th element is the cross-validation error for the _i_-variable model."
   ]
  },
  {
   "cell_type": "code",
   "execution_count": 33,
   "id": "20712ac8-294e-43e0-b912-1f81bbc08829",
   "metadata": {},
   "outputs": [
    {
     "data": {
      "text/html": [
       "<style>\n",
       ".dl-inline {width: auto; margin:0; padding: 0}\n",
       ".dl-inline>dt, .dl-inline>dd {float: none; width: auto; display: inline-block}\n",
       ".dl-inline>dt::after {content: \":\\0020\"; padding-right: .5ex}\n",
       ".dl-inline>dt:not(:first-of-type) {padding-left: .5ex}\n",
       "</style><dl class=dl-inline><dt>1</dt><dd>143439.777169724</dd><dt>2</dt><dd>126817.028088538</dd><dt>3</dt><dd>134214.168280035</dd><dt>4</dt><dd>131782.944759182</dd><dt>5</dt><dd>130765.606614611</dd><dt>6</dt><dd>120382.922678267</dd><dt>7</dt><dd>121443.094798079</dd><dt>8</dt><dd>114363.700297284</dd><dt>9</dt><dd>115163.051870833</dd><dt>10</dt><dd>109365.9721354</dd><dt>11</dt><dd>112738.486153961</dd><dt>12</dt><dd>113616.50122792</dd><dt>13</dt><dd>115557.605426636</dd><dt>14</dt><dd>115853.328759098</dd><dt>15</dt><dd>115630.553130574</dd><dt>16</dt><dd>116050.027936048</dd><dt>17</dt><dd>116117.027907861</dd><dt>18</dt><dd>116419.258332581</dd><dt>19</dt><dd>116299.085423439</dd></dl>\n"
      ],
      "text/latex": [
       "\\begin{description*}\n",
       "\\item[1] 143439.777169724\n",
       "\\item[2] 126817.028088538\n",
       "\\item[3] 134214.168280035\n",
       "\\item[4] 131782.944759182\n",
       "\\item[5] 130765.606614611\n",
       "\\item[6] 120382.922678267\n",
       "\\item[7] 121443.094798079\n",
       "\\item[8] 114363.700297284\n",
       "\\item[9] 115163.051870833\n",
       "\\item[10] 109365.9721354\n",
       "\\item[11] 112738.486153961\n",
       "\\item[12] 113616.50122792\n",
       "\\item[13] 115557.605426636\n",
       "\\item[14] 115853.328759098\n",
       "\\item[15] 115630.553130574\n",
       "\\item[16] 116050.027936048\n",
       "\\item[17] 116117.027907861\n",
       "\\item[18] 116419.258332581\n",
       "\\item[19] 116299.085423439\n",
       "\\end{description*}\n"
      ],
      "text/markdown": [
       "1\n",
       ":   143439.7771697242\n",
       ":   126817.0280885383\n",
       ":   134214.1682800354\n",
       ":   131782.9447591825\n",
       ":   130765.6066146116\n",
       ":   120382.9226782677\n",
       ":   121443.0947980798\n",
       ":   114363.7002972849\n",
       ":   115163.05187083310\n",
       ":   109365.972135411\n",
       ":   112738.48615396112\n",
       ":   113616.5012279213\n",
       ":   115557.60542663614\n",
       ":   115853.32875909815\n",
       ":   115630.55313057416\n",
       ":   116050.02793604817\n",
       ":   116117.02790786118\n",
       ":   116419.25833258119\n",
       ":   116299.085423439\n",
       "\n"
      ],
      "text/plain": [
       "       1        2        3        4        5        6        7        8 \n",
       "143439.8 126817.0 134214.2 131782.9 130765.6 120382.9 121443.1 114363.7 \n",
       "       9       10       11       12       13       14       15       16 \n",
       "115163.1 109366.0 112738.5 113616.5 115557.6 115853.3 115630.6 116050.0 \n",
       "      17       18       19 \n",
       "116117.0 116419.3 116299.1 "
      ]
     },
     "metadata": {},
     "output_type": "display_data"
    }
   ],
   "source": [
    "mean.cv.errors <- apply(cv.errors, 2, mean)\n",
    "mean.cv.errors"
   ]
  },
  {
   "cell_type": "code",
   "execution_count": 34,
   "id": "f5758cb7-9cc9-481e-a7ac-9662f5efdff2",
   "metadata": {},
   "outputs": [
    {
     "data": {
      "image/png": "[encoded data removed]",
      "text/plain": [
       "plot without title"
      ]
     },
     "metadata": {
      "image/png": {
       "height": 420,
       "width": 420
      }
     },
     "output_type": "display_data"
    }
   ],
   "source": [
    "par(mfrow = c(1,1))\n",
    "plot(mean.cv.errors, type = \"b\")"
   ]
  },
  {
   "cell_type": "markdown",
   "id": "15863e68-5c3e-40e5-884d-856fe08fcd49",
   "metadata": {},
   "source": [
    "We see that cross-validation selects a 10-variable model. We now perform best subset selection on the full data set in order to obtain the 10-variable model."
   ]
  },
  {
   "cell_type": "code",
   "execution_count": 35,
   "id": "9c6defc9-7dba-442b-bba6-2f1b53db1399",
   "metadata": {},
   "outputs": [
    {
     "data": {
      "text/html": [
       "<style>\n",
       ".dl-inline {width: auto; margin:0; padding: 0}\n",
       ".dl-inline>dt, .dl-inline>dd {float: none; width: auto; display: inline-block}\n",
       ".dl-inline>dt::after {content: \":\\0020\"; padding-right: .5ex}\n",
       ".dl-inline>dt:not(:first-of-type) {padding-left: .5ex}\n",
       "</style><dl class=dl-inline><dt>(Intercept)</dt><dd>162.535442040545</dd><dt>AtBat</dt><dd>-2.16865005340437</dd><dt>Hits</dt><dd>6.91801749476659</dd><dt>Walks</dt><dd>5.7732246470264</dd><dt>CAtBat</dt><dd>-0.130079783913646</dd><dt>CRuns</dt><dd>1.40824900877044</dd><dt>CRBI</dt><dd>0.774312153250204</dd><dt>CWalks</dt><dd>-0.830826351501743</dd><dt>DivisionW</dt><dd>-112.380057493543</dd><dt>PutOuts</dt><dd>0.297372596603942</dd><dt>Assists</dt><dd>0.283168028635278</dd></dl>\n"
      ],
      "text/latex": [
       "\\begin{description*}\n",
       "\\item[(Intercept)] 162.535442040545\n",
       "\\item[AtBat] -2.16865005340437\n",
       "\\item[Hits] 6.91801749476659\n",
       "\\item[Walks] 5.7732246470264\n",
       "\\item[CAtBat] -0.130079783913646\n",
       "\\item[CRuns] 1.40824900877044\n",
       "\\item[CRBI] 0.774312153250204\n",
       "\\item[CWalks] -0.830826351501743\n",
       "\\item[DivisionW] -112.380057493543\n",
       "\\item[PutOuts] 0.297372596603942\n",
       "\\item[Assists] 0.283168028635278\n",
       "\\end{description*}\n"
      ],
      "text/markdown": [
       "(Intercept)\n",
       ":   162.535442040545AtBat\n",
       ":   -2.16865005340437Hits\n",
       ":   6.91801749476659Walks\n",
       ":   5.7732246470264CAtBat\n",
       ":   -0.130079783913646CRuns\n",
       ":   1.40824900877044CRBI\n",
       ":   0.774312153250204CWalks\n",
       ":   -0.830826351501743DivisionW\n",
       ":   -112.380057493543PutOuts\n",
       ":   0.297372596603942Assists\n",
       ":   0.283168028635278\n",
       "\n"
      ],
      "text/plain": [
       " (Intercept)        AtBat         Hits        Walks       CAtBat        CRuns \n",
       " 162.5354420   -2.1686501    6.9180175    5.7732246   -0.1300798    1.4082490 \n",
       "        CRBI       CWalks    DivisionW      PutOuts      Assists \n",
       "   0.7743122   -0.8308264 -112.3800575    0.2973726    0.2831680 "
      ]
     },
     "metadata": {},
     "output_type": "display_data"
    }
   ],
   "source": [
    "reg.best <- regsubsets(Salary ~ ., data = Hitters, nvmax = 19)\n",
    "coef(reg.best, 10)"
   ]
  }
 ],
 "metadata": {
  "kernelspec": {
   "display_name": "R",
   "language": "R",
   "name": "ir"
  },
  "language_info": {
   "codemirror_mode": "r",
   "file_extension": ".r",
   "mimetype": "text/x-r-source",
   "name": "R",
   "pygments_lexer": "r",
   "version": "4.3.1"
  }
 },
 "nbformat": 4,
 "nbformat_minor": 5
}
