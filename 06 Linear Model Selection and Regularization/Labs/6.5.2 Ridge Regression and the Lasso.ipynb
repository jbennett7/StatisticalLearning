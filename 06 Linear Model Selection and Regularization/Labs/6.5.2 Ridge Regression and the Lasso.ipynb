{
 "cells": [
  {
   "cell_type": "markdown",
   "id": "d68c3b66-c965-4233-8b1c-1d924b49e916",
   "metadata": {},
   "source": [
    "# 6.5.2 Ridge Regression and the Lasso\n",
    "We will use the `glmnet` package in order to perform ridge regression and the lasso. The main function in this package is `glmnet()`, which can be used to fit ridge regression models, lasso models, and more. This function has slightly different syntax from other model-fitting functions that we have encountered thus far in this book. In particular, we must pass in an `x` matrix as well ad a `y` vector, and we do not use the `y ~ x~ syntax. We will now perform ridge regression and the lasso in order to predict `Salary` on the `Hitters` data. Before proceeding ensure that the missing values have been removed fromt he data, as described in Section 6.5.1."
   ]
  },
  {
   "cell_type": "code",
   "execution_count": 1,
   "id": "425ee02d-0821-41c3-80a7-407d16d74bd6",
   "metadata": {},
   "outputs": [],
   "source": [
    "library(ISLR2)"
   ]
  },
  {
   "cell_type": "code",
   "execution_count": 2,
   "id": "20daf3cb-791e-42ff-b8f1-7378e20e0569",
   "metadata": {},
   "outputs": [],
   "source": [
    "Hitters <- na.omit(Hitters)\n",
    "x <- model.matrix(Salary ~ ., Hitters)[,-1]\n",
    "y <- Hitters$Salary"
   ]
  },
  {
   "cell_type": "markdown",
   "id": "3e2b9f39-bc67-4ffa-8bfe-d0a2f01f7929",
   "metadata": {},
   "source": [
    "The `model.matrix()` function is particularly useful for creating `x`; not only does it produce a matrix corresponding to the 19 predictors but it also automatically transforms any qualitative variables into dummy variables. The latter property is important because `glmnet()` can only take numerical quantitative inputs."
   ]
  },
  {
   "cell_type": "markdown",
   "id": "c4575569-a401-483d-8c87-523c4c5689c5",
   "metadata": {},
   "source": [
    "## Ridge Regression\n",
    "The `glmnet()` function has an `alpha` argument that determines what type of model is fit. If `alpha=0` then a ridge regression model is fit, and if `alpha=1` then a lasso model is fit. We first fit a ridge regression model."
   ]
  },
  {
   "cell_type": "code",
   "execution_count": 3,
   "id": "8c8dd616-b47f-423d-8bf4-ba01c5ccc6d3",
   "metadata": {},
   "outputs": [
    {
     "name": "stderr",
     "output_type": "stream",
     "text": [
      "Loading required package: Matrix\n",
      "\n",
      "Loaded glmnet 4.1-8\n",
      "\n"
     ]
    }
   ],
   "source": [
    "library(glmnet)\n",
    "grid <- 10^seq(10, -2, length = 100)\n",
    "ridge.mod <- glmnet(x, y, alpha = 0, lambda = grid)"
   ]
  },
  {
   "cell_type": "markdown",
   "id": "719ca70f-3a5d-4ffa-a974-9c0c3528c47c",
   "metadata": {},
   "source": [
    "By default the `glmnet()` function performs ridge regression for an automatically selected range of $\\lambda$ values. However, here we have chosen to implement the function over a grid of values ranging from $\\lambda=10^{10}$ to $\\lambda=10^{-2}$, essentially covering the full range of scenarios from the null model containing only the intercept, to the least squares fit. As we will see, we can also compute model fits for a particular value of $\\lambda$ that is not one of the original `grid` values. Note that by default, the `glmnet()` function standardizes the variables so that they are on the same scale. To turn off this default setting, use the argument `standardize = FALSE`.  \n",
    "\n",
    "Associated with each value of $\\lambda$ is a vector of ridge regression coefficients, stored in a matrix that can be accessed by `coef()`. In this case, it is a $20\\times100$ matrix, with 20 rows (one for each predictor, plus an intercept) and 100 columns (one for each value of $\\lambda$)."
   ]
  },
  {
   "cell_type": "code",
   "execution_count": 4,
   "id": "2d351d8a-c4d6-460d-965a-086197996470",
   "metadata": {},
   "outputs": [
    {
     "data": {
      "text/html": [
       "<style>\n",
       ".list-inline {list-style: none; margin:0; padding: 0}\n",
       ".list-inline>li {display: inline-block}\n",
       ".list-inline>li:not(:last-child)::after {content: \"\\00b7\"; padding: 0 .5ex}\n",
       "</style>\n",
       "<ol class=list-inline><li>20</li><li>100</li></ol>\n"
      ],
      "text/latex": [
       "\\begin{enumerate*}\n",
       "\\item 20\n",
       "\\item 100\n",
       "\\end{enumerate*}\n"
      ],
      "text/markdown": [
       "1. 20\n",
       "2. 100\n",
       "\n",
       "\n"
      ],
      "text/plain": [
       "[1]  20 100"
      ]
     },
     "metadata": {},
     "output_type": "display_data"
    }
   ],
   "source": [
    "dim(coef(ridge.mod))"
   ]
  },
  {
   "cell_type": "markdown",
   "id": "6452a159-9081-4af5-9837-ddd104e6c466",
   "metadata": {},
   "source": [
    "We expect the coefficient estimates to be much smaller, in terms of $\\ell_2$ norm, when a large value of $\\lambda$ is used, as compared to when a small value of $\\lambda$ is used. These are the coefficients when $\\lambda=11,498$, along with their $\\ell_2$ norm:"
   ]
  },
  {
   "cell_type": "code",
   "execution_count": 5,
   "id": "def6d978-327e-482b-a7c4-6e12a24ddd89",
   "metadata": {},
   "outputs": [
    {
     "data": {
      "text/html": [
       "11497.5699539774"
      ],
      "text/latex": [
       "11497.5699539774"
      ],
      "text/markdown": [
       "11497.5699539774"
      ],
      "text/plain": [
       "[1] 11497.57"
      ]
     },
     "metadata": {},
     "output_type": "display_data"
    }
   ],
   "source": [
    "ridge.mod$lambda[50]"
   ]
  },
  {
   "cell_type": "code",
   "execution_count": 6,
   "id": "f444e7eb-b6b4-4e16-8579-e02440c7f50f",
   "metadata": {},
   "outputs": [
    {
     "data": {
      "text/html": [
       "<style>\n",
       ".dl-inline {width: auto; margin:0; padding: 0}\n",
       ".dl-inline>dt, .dl-inline>dd {float: none; width: auto; display: inline-block}\n",
       ".dl-inline>dt::after {content: \":\\0020\"; padding-right: .5ex}\n",
       ".dl-inline>dt:not(:first-of-type) {padding-left: .5ex}\n",
       "</style><dl class=dl-inline><dt>(Intercept)</dt><dd>407.356050200417</dd><dt>AtBat</dt><dd>0.0369571817501358</dd><dt>Hits</dt><dd>0.138180343807892</dd><dt>HmRun</dt><dd>0.524629975886912</dd><dt>Runs</dt><dd>0.230701522621179</dd><dt>RBI</dt><dd>0.239841458504058</dd><dt>Walks</dt><dd>0.289618741049883</dd><dt>Years</dt><dd>1.10770292908555</dd><dt>CAtBat</dt><dd>0.00313181522151328</dd><dt>CHits</dt><dd>0.0116536373557531</dd><dt>CHmRun</dt><dd>0.0875456697555948</dd><dt>CRuns</dt><dd>0.0233798823693758</dd><dt>CRBI</dt><dd>0.0241383203685686</dd><dt>CWalks</dt><dd>0.0250154205993731</dd><dt>LeagueN</dt><dd>0.0850281135625464</dd><dt>DivisionW</dt><dd>-6.21544097273148</dd><dt>PutOuts</dt><dd>0.0164825767604547</dd><dt>Assists</dt><dd>0.00261298804528182</dd><dt>Errors</dt><dd>-0.020502690365458</dd><dt>NewLeagueN</dt><dd>0.301433531372699</dd></dl>\n"
      ],
      "text/latex": [
       "\\begin{description*}\n",
       "\\item[(Intercept)] 407.356050200417\n",
       "\\item[AtBat] 0.0369571817501358\n",
       "\\item[Hits] 0.138180343807892\n",
       "\\item[HmRun] 0.524629975886912\n",
       "\\item[Runs] 0.230701522621179\n",
       "\\item[RBI] 0.239841458504058\n",
       "\\item[Walks] 0.289618741049883\n",
       "\\item[Years] 1.10770292908555\n",
       "\\item[CAtBat] 0.00313181522151328\n",
       "\\item[CHits] 0.0116536373557531\n",
       "\\item[CHmRun] 0.0875456697555948\n",
       "\\item[CRuns] 0.0233798823693758\n",
       "\\item[CRBI] 0.0241383203685686\n",
       "\\item[CWalks] 0.0250154205993731\n",
       "\\item[LeagueN] 0.0850281135625464\n",
       "\\item[DivisionW] -6.21544097273148\n",
       "\\item[PutOuts] 0.0164825767604547\n",
       "\\item[Assists] 0.00261298804528182\n",
       "\\item[Errors] -0.020502690365458\n",
       "\\item[NewLeagueN] 0.301433531372699\n",
       "\\end{description*}\n"
      ],
      "text/markdown": [
       "(Intercept)\n",
       ":   407.356050200417AtBat\n",
       ":   0.0369571817501358Hits\n",
       ":   0.138180343807892HmRun\n",
       ":   0.524629975886912Runs\n",
       ":   0.230701522621179RBI\n",
       ":   0.239841458504058Walks\n",
       ":   0.289618741049883Years\n",
       ":   1.10770292908555CAtBat\n",
       ":   0.00313181522151328CHits\n",
       ":   0.0116536373557531CHmRun\n",
       ":   0.0875456697555948CRuns\n",
       ":   0.0233798823693758CRBI\n",
       ":   0.0241383203685686CWalks\n",
       ":   0.0250154205993731LeagueN\n",
       ":   0.0850281135625464DivisionW\n",
       ":   -6.21544097273148PutOuts\n",
       ":   0.0164825767604547Assists\n",
       ":   0.00261298804528182Errors\n",
       ":   -0.020502690365458NewLeagueN\n",
       ":   0.301433531372699\n",
       "\n"
      ],
      "text/plain": [
       "  (Intercept)         AtBat          Hits         HmRun          Runs \n",
       "407.356050200   0.036957182   0.138180344   0.524629976   0.230701523 \n",
       "          RBI         Walks         Years        CAtBat         CHits \n",
       "  0.239841459   0.289618741   1.107702929   0.003131815   0.011653637 \n",
       "       CHmRun         CRuns          CRBI        CWalks       LeagueN \n",
       "  0.087545670   0.023379882   0.024138320   0.025015421   0.085028114 \n",
       "    DivisionW       PutOuts       Assists        Errors    NewLeagueN \n",
       " -6.215440973   0.016482577   0.002612988  -0.020502690   0.301433531 "
      ]
     },
     "metadata": {},
     "output_type": "display_data"
    }
   ],
   "source": [
    "coef(ridge.mod)[,50]"
   ]
  },
  {
   "cell_type": "code",
   "execution_count": 7,
   "id": "9744bd33-1968-4632-87a3-b7747aac482c",
   "metadata": {},
   "outputs": [
    {
     "data": {
      "text/html": [
       "6.36061242142793"
      ],
      "text/latex": [
       "6.36061242142793"
      ],
      "text/markdown": [
       "6.36061242142793"
      ],
      "text/plain": [
       "[1] 6.360612"
      ]
     },
     "metadata": {},
     "output_type": "display_data"
    }
   ],
   "source": [
    "sqrt(sum(coef(ridge.mod)[-1, 50]^2))"
   ]
  },
  {
   "cell_type": "markdown",
   "id": "864a6dc6-f26e-4611-a7e3-b5b284743a55",
   "metadata": {},
   "source": [
    "In contrast, here are the coefficients when $\\lambda=705$, along with their $\\ell_2$ norm. Note that much larger $\\ell_2$ norm of the coefficients associated with this smaller value of $\\lambda$."
   ]
  },
  {
   "cell_type": "code",
   "execution_count": 8,
   "id": "37200682-3399-4d2d-ba66-286940f049a3",
   "metadata": {},
   "outputs": [
    {
     "data": {
      "text/html": [
       "705.480231071865"
      ],
      "text/latex": [
       "705.480231071865"
      ],
      "text/markdown": [
       "705.480231071865"
      ],
      "text/plain": [
       "[1] 705.4802"
      ]
     },
     "metadata": {},
     "output_type": "display_data"
    }
   ],
   "source": [
    "ridge.mod$lambda[60]"
   ]
  },
  {
   "cell_type": "code",
   "execution_count": 9,
   "id": "64c33fcb-b2e7-4cc5-b774-f5865a607a5c",
   "metadata": {},
   "outputs": [
    {
     "data": {
      "text/html": [
       "<style>\n",
       ".dl-inline {width: auto; margin:0; padding: 0}\n",
       ".dl-inline>dt, .dl-inline>dd {float: none; width: auto; display: inline-block}\n",
       ".dl-inline>dt::after {content: \":\\0020\"; padding-right: .5ex}\n",
       ".dl-inline>dt:not(:first-of-type) {padding-left: .5ex}\n",
       "</style><dl class=dl-inline><dt>(Intercept)</dt><dd>54.3251995018381</dd><dt>AtBat</dt><dd>0.112111145878248</dd><dt>Hits</dt><dd>0.656224085323628</dd><dt>HmRun</dt><dd>1.17980909638778</dd><dt>Runs</dt><dd>0.937697128927057</dd><dt>RBI</dt><dd>0.847185458771522</dd><dt>Walks</dt><dd>1.3198794804878</dd><dt>Years</dt><dd>2.59640424574254</dd><dt>CAtBat</dt><dd>0.0108341254432856</dd><dt>CHits</dt><dd>0.0467455700054449</dd><dt>CHmRun</dt><dd>0.337773183143352</dd><dt>CRuns</dt><dd>0.0935552830000681</dd><dt>CRBI</dt><dd>0.0978040232271689</dd><dt>CWalks</dt><dd>0.0718961166304866</dd><dt>LeagueN</dt><dd>13.6837019095344</dd><dt>DivisionW</dt><dd>-54.6587775045921</dd><dt>PutOuts</dt><dd>0.118522894134745</dd><dt>Assists</dt><dd>0.01606037317599</dd><dt>Errors</dt><dd>-0.703586547290985</dd><dt>NewLeagueN</dt><dd>8.61181213448928</dd></dl>\n"
      ],
      "text/latex": [
       "\\begin{description*}\n",
       "\\item[(Intercept)] 54.3251995018381\n",
       "\\item[AtBat] 0.112111145878248\n",
       "\\item[Hits] 0.656224085323628\n",
       "\\item[HmRun] 1.17980909638778\n",
       "\\item[Runs] 0.937697128927057\n",
       "\\item[RBI] 0.847185458771522\n",
       "\\item[Walks] 1.3198794804878\n",
       "\\item[Years] 2.59640424574254\n",
       "\\item[CAtBat] 0.0108341254432856\n",
       "\\item[CHits] 0.0467455700054449\n",
       "\\item[CHmRun] 0.337773183143352\n",
       "\\item[CRuns] 0.0935552830000681\n",
       "\\item[CRBI] 0.0978040232271689\n",
       "\\item[CWalks] 0.0718961166304866\n",
       "\\item[LeagueN] 13.6837019095344\n",
       "\\item[DivisionW] -54.6587775045921\n",
       "\\item[PutOuts] 0.118522894134745\n",
       "\\item[Assists] 0.01606037317599\n",
       "\\item[Errors] -0.703586547290985\n",
       "\\item[NewLeagueN] 8.61181213448928\n",
       "\\end{description*}\n"
      ],
      "text/markdown": [
       "(Intercept)\n",
       ":   54.3251995018381AtBat\n",
       ":   0.112111145878248Hits\n",
       ":   0.656224085323628HmRun\n",
       ":   1.17980909638778Runs\n",
       ":   0.937697128927057RBI\n",
       ":   0.847185458771522Walks\n",
       ":   1.3198794804878Years\n",
       ":   2.59640424574254CAtBat\n",
       ":   0.0108341254432856CHits\n",
       ":   0.0467455700054449CHmRun\n",
       ":   0.337773183143352CRuns\n",
       ":   0.0935552830000681CRBI\n",
       ":   0.0978040232271689CWalks\n",
       ":   0.0718961166304866LeagueN\n",
       ":   13.6837019095344DivisionW\n",
       ":   -54.6587775045921PutOuts\n",
       ":   0.118522894134745Assists\n",
       ":   0.01606037317599Errors\n",
       ":   -0.703586547290985NewLeagueN\n",
       ":   8.61181213448928\n",
       "\n"
      ],
      "text/plain": [
       " (Intercept)        AtBat         Hits        HmRun         Runs          RBI \n",
       " 54.32519950   0.11211115   0.65622409   1.17980910   0.93769713   0.84718546 \n",
       "       Walks        Years       CAtBat        CHits       CHmRun        CRuns \n",
       "  1.31987948   2.59640425   0.01083413   0.04674557   0.33777318   0.09355528 \n",
       "        CRBI       CWalks      LeagueN    DivisionW      PutOuts      Assists \n",
       "  0.09780402   0.07189612  13.68370191 -54.65877750   0.11852289   0.01606037 \n",
       "      Errors   NewLeagueN \n",
       " -0.70358655   8.61181213 "
      ]
     },
     "metadata": {},
     "output_type": "display_data"
    }
   ],
   "source": [
    "coef(ridge.mod)[,60]"
   ]
  },
  {
   "cell_type": "code",
   "execution_count": 10,
   "id": "e13000cd-d0e3-4c06-ba54-aee8b9ef7b43",
   "metadata": {},
   "outputs": [
    {
     "data": {
      "text/html": [
       "57.1100142625331"
      ],
      "text/latex": [
       "57.1100142625331"
      ],
      "text/markdown": [
       "57.1100142625331"
      ],
      "text/plain": [
       "[1] 57.11001"
      ]
     },
     "metadata": {},
     "output_type": "display_data"
    }
   ],
   "source": [
    "sqrt(sum(coef(ridge.mod)[-1,60]^2))"
   ]
  },
  {
   "cell_type": "markdown",
   "id": "74ba5927-a36b-40c2-8260-1f841181c882",
   "metadata": {},
   "source": [
    "We can use the `predict()` function for a number of purposes. For instance we can obtain the ridge regression coefficients for a new value of $\\lambda$, say $50$."
   ]
  },
  {
   "cell_type": "code",
   "execution_count": 11,
   "id": "2245dda3-307d-4df3-a192-ff2e8ad717fd",
   "metadata": {},
   "outputs": [
    {
     "data": {
      "text/html": [
       "<style>\n",
       ".dl-inline {width: auto; margin:0; padding: 0}\n",
       ".dl-inline>dt, .dl-inline>dd {float: none; width: auto; display: inline-block}\n",
       ".dl-inline>dt::after {content: \":\\0020\"; padding-right: .5ex}\n",
       ".dl-inline>dt:not(:first-of-type) {padding-left: .5ex}\n",
       "</style><dl class=dl-inline><dt>(Intercept)</dt><dd>48.7661032921614</dd><dt>AtBat</dt><dd>-0.358099859376738</dd><dt>Hits</dt><dd>1.96935928646355</dd><dt>HmRun</dt><dd>-1.27824798145676</dd><dt>Runs</dt><dd>1.14589163211965</dd><dt>RBI</dt><dd>0.803829228437695</dd><dt>Walks</dt><dd>2.71618579623369</dd><dt>Years</dt><dd>-6.21831921727848</dd><dt>CAtBat</dt><dd>0.00544783719814858</dd><dt>CHits</dt><dd>0.106489514023419</dd><dt>CHmRun</dt><dd>0.624485956082649</dd><dt>CRuns</dt><dd>0.22149846376003</dd><dt>CRBI</dt><dd>0.218691380321247</dd><dt>CWalks</dt><dd>-0.150024548516928</dd><dt>LeagueN</dt><dd>45.9258855144164</dd><dt>DivisionW</dt><dd>-118.201136816368</dd><dt>PutOuts</dt><dd>0.250232154092559</dd><dt>Assists</dt><dd>0.121566461346767</dd><dt>Errors</dt><dd>-3.27859954463555</dd><dt>NewLeagueN</dt><dd>-9.4966803100267</dd></dl>\n"
      ],
      "text/latex": [
       "\\begin{description*}\n",
       "\\item[(Intercept)] 48.7661032921614\n",
       "\\item[AtBat] -0.358099859376738\n",
       "\\item[Hits] 1.96935928646355\n",
       "\\item[HmRun] -1.27824798145676\n",
       "\\item[Runs] 1.14589163211965\n",
       "\\item[RBI] 0.803829228437695\n",
       "\\item[Walks] 2.71618579623369\n",
       "\\item[Years] -6.21831921727848\n",
       "\\item[CAtBat] 0.00544783719814858\n",
       "\\item[CHits] 0.106489514023419\n",
       "\\item[CHmRun] 0.624485956082649\n",
       "\\item[CRuns] 0.22149846376003\n",
       "\\item[CRBI] 0.218691380321247\n",
       "\\item[CWalks] -0.150024548516928\n",
       "\\item[LeagueN] 45.9258855144164\n",
       "\\item[DivisionW] -118.201136816368\n",
       "\\item[PutOuts] 0.250232154092559\n",
       "\\item[Assists] 0.121566461346767\n",
       "\\item[Errors] -3.27859954463555\n",
       "\\item[NewLeagueN] -9.4966803100267\n",
       "\\end{description*}\n"
      ],
      "text/markdown": [
       "(Intercept)\n",
       ":   48.7661032921614AtBat\n",
       ":   -0.358099859376738Hits\n",
       ":   1.96935928646355HmRun\n",
       ":   -1.27824798145676Runs\n",
       ":   1.14589163211965RBI\n",
       ":   0.803829228437695Walks\n",
       ":   2.71618579623369Years\n",
       ":   -6.21831921727848CAtBat\n",
       ":   0.00544783719814858CHits\n",
       ":   0.106489514023419CHmRun\n",
       ":   0.624485956082649CRuns\n",
       ":   0.22149846376003CRBI\n",
       ":   0.218691380321247CWalks\n",
       ":   -0.150024548516928LeagueN\n",
       ":   45.9258855144164DivisionW\n",
       ":   -118.201136816368PutOuts\n",
       ":   0.250232154092559Assists\n",
       ":   0.121566461346767Errors\n",
       ":   -3.27859954463555NewLeagueN\n",
       ":   -9.4966803100267\n",
       "\n"
      ],
      "text/plain": [
       "  (Intercept)         AtBat          Hits         HmRun          Runs \n",
       " 4.876610e+01 -3.580999e-01  1.969359e+00 -1.278248e+00  1.145892e+00 \n",
       "          RBI         Walks         Years        CAtBat         CHits \n",
       " 8.038292e-01  2.716186e+00 -6.218319e+00  5.447837e-03  1.064895e-01 \n",
       "       CHmRun         CRuns          CRBI        CWalks       LeagueN \n",
       " 6.244860e-01  2.214985e-01  2.186914e-01 -1.500245e-01  4.592589e+01 \n",
       "    DivisionW       PutOuts       Assists        Errors    NewLeagueN \n",
       "-1.182011e+02  2.502322e-01  1.215665e-01 -3.278600e+00 -9.496680e+00 "
      ]
     },
     "metadata": {},
     "output_type": "display_data"
    }
   ],
   "source": [
    "predict(ridge.mod, s = 50, type = \"coefficients\")[1:20,]"
   ]
  },
  {
   "cell_type": "markdown",
   "id": "6df13be3-6531-4703-be8d-14b623fd7288",
   "metadata": {},
   "source": [
    "We now split the samples into a training set and a test set in order to estimate the test error of ridge regression and the lasso. There are two common ways to randomly split a data set. The first is to produce a random vector of `TRUE`, `FALSE` elements and select the observations corresponding to `TRUE` for the training data. The second is to randomly choose a subset of numbers between 1 and $n$; these can then be used as the indices for the training observations. The two approaches work equally well. We used the former method in Section 6.5.1. Here we demonstrate the latter approach.  \n",
    "\n",
    "We first set a random seed so that the results obtained will be reproducible."
   ]
  },
  {
   "cell_type": "code",
   "execution_count": 12,
   "id": "1db59cec-6663-4bfe-8074-7c52177e2cf7",
   "metadata": {},
   "outputs": [],
   "source": [
    "set.seed(1)\n",
    "train <- sample(1:nrow(x), nrow(x) / 2)\n",
    "test <- (-train)\n",
    "y.test <- y[test]"
   ]
  },
  {
   "cell_type": "markdown",
   "id": "45f46f4a-1580-4729-b61a-d15d5f172322",
   "metadata": {},
   "source": [
    "Next we fit a ridge regression model on the training set, and evaluate its MSE on the test set, using $\\lambda=4$. Note the use of the `predict()` function again. This time we get predictions for a test set, by replacing `type=\"coefficients\"` with the `newx` argument."
   ]
  },
  {
   "cell_type": "code",
   "execution_count": 13,
   "id": "184ee529-15f4-40b9-8574-c267f9427164",
   "metadata": {},
   "outputs": [
    {
     "data": {
      "text/html": [
       "142199.150722762"
      ],
      "text/latex": [
       "142199.150722762"
      ],
      "text/markdown": [
       "142199.150722762"
      ],
      "text/plain": [
       "[1] 142199.2"
      ]
     },
     "metadata": {},
     "output_type": "display_data"
    }
   ],
   "source": [
    "ridge.mod <- glmnet(x[train,], y[train], alpha = 0,\n",
    "                    lambda = grid, thresh = 1e-12)\n",
    "ridge.pred <- predict(ridge.mod, s = 4, newx = x[test,])\n",
    "mean((ridge.pred - y.test)^2)"
   ]
  },
  {
   "cell_type": "markdown",
   "id": "dd9030cc-ea8b-47ef-8e78-639c8e1432a9",
   "metadata": {},
   "source": [
    "The test MSE is $142,199$. Note that if we had instead simply fit a model with just an intercept, we would have predicted each test observation using the mean of the training observations. In that case, we could compute the test set MSE like this:"
   ]
  },
  {
   "cell_type": "code",
   "execution_count": 14,
   "id": "43c74207-998b-40af-8e7a-84898bdfcbc4",
   "metadata": {},
   "outputs": [
    {
     "data": {
      "text/html": [
       "224669.906736192"
      ],
      "text/latex": [
       "224669.906736192"
      ],
      "text/markdown": [
       "224669.906736192"
      ],
      "text/plain": [
       "[1] 224669.9"
      ]
     },
     "metadata": {},
     "output_type": "display_data"
    }
   ],
   "source": [
    "mean((mean(y[train]) - y.test)^2)"
   ]
  },
  {
   "cell_type": "markdown",
   "id": "9e5147c5-1b7b-41f7-ad4b-2ad77eb97abf",
   "metadata": {},
   "source": [
    "We could also get the same result by fitting a ridge regression model with a _very_ large value of $\\lambda$. Note that `1e10` means $10^{10}$."
   ]
  },
  {
   "cell_type": "code",
   "execution_count": 15,
   "id": "84651f45-0eed-4750-b7b3-83cf2b922856",
   "metadata": {},
   "outputs": [
    {
     "data": {
      "text/html": [
       "224669.833069663"
      ],
      "text/latex": [
       "224669.833069663"
      ],
      "text/markdown": [
       "224669.833069663"
      ],
      "text/plain": [
       "[1] 224669.8"
      ]
     },
     "metadata": {},
     "output_type": "display_data"
    }
   ],
   "source": [
    "ridge.pred <- predict(ridge.mod, s = 1e10, newx = x[test,])\n",
    "mean((ridge.pred - y.test)^2)"
   ]
  },
  {
   "cell_type": "markdown",
   "id": "4df468d2-31e3-47d9-82e3-6f235f9a239c",
   "metadata": {},
   "source": [
    "So fitting a ridge regression model with $\\lambda=4$ leads to a much lower test MSE than fitting a model with just an intercept. We now check whether there is any benefit to performing ridge regression with $\\lambda=4$ instead of just performing least squares regression. Recall that least squares is simply ridge regression with $\\lambda = 0$."
   ]
  },
  {
   "cell_type": "code",
   "execution_count": 16,
   "id": "c096aecd-ea00-470c-9d08-2cb849a04c04",
   "metadata": {},
   "outputs": [
    {
     "data": {
      "text/html": [
       "168588.573185792"
      ],
      "text/latex": [
       "168588.573185792"
      ],
      "text/markdown": [
       "168588.573185792"
      ],
      "text/plain": [
       "[1] 168588.6"
      ]
     },
     "metadata": {},
     "output_type": "display_data"
    }
   ],
   "source": [
    "ridge.pred <- predict(ridge.mod, s = 0, newx = x[test,], exact = T, x = x[train,], y = y[train])\n",
    "mean((ridge.pred - y.test)^2)"
   ]
  },
  {
   "cell_type": "code",
   "execution_count": 17,
   "id": "f8f6eea6-3421-449d-9161-5e0636401fa3",
   "metadata": {},
   "outputs": [
    {
     "data": {
      "text/plain": [
       "\n",
       "Call:\n",
       "lm(formula = y ~ x, subset = train)\n",
       "\n",
       "Coefficients:\n",
       "(Intercept)       xAtBat        xHits       xHmRun        xRuns         xRBI  \n",
       "   274.0145      -0.3521      -1.6377       5.8145       1.5424       1.1243  \n",
       "     xWalks       xYears      xCAtBat       xCHits      xCHmRun       xCRuns  \n",
       "     3.7287     -16.3773      -0.6412       3.1632       3.4008      -0.9739  \n",
       "      xCRBI      xCWalks     xLeagueN   xDivisionW     xPutOuts     xAssists  \n",
       "    -0.6005       0.3379     119.1486    -144.0831       0.1976       0.6804  \n",
       "    xErrors  xNewLeagueN  \n",
       "    -4.7128     -71.0951  \n"
      ]
     },
     "metadata": {},
     "output_type": "display_data"
    },
    {
     "data": {
      "text/html": [
       "<style>\n",
       ".dl-inline {width: auto; margin:0; padding: 0}\n",
       ".dl-inline>dt, .dl-inline>dd {float: none; width: auto; display: inline-block}\n",
       ".dl-inline>dt::after {content: \":\\0020\"; padding-right: .5ex}\n",
       ".dl-inline>dt:not(:first-of-type) {padding-left: .5ex}\n",
       "</style><dl class=dl-inline><dt>(Intercept)</dt><dd>274.020099411181</dd><dt>AtBat</dt><dd>-0.352190040359275</dd><dt>Hits</dt><dd>-1.63713831624211</dd><dt>HmRun</dt><dd>5.81466916444909</dd><dt>Runs</dt><dd>1.54233614804138</dd><dt>RBI</dt><dd>1.12418373819325</dd><dt>Walks</dt><dd>3.72884063254243</dd><dt>Years</dt><dd>-16.3795195276087</dd><dt>CAtBat</dt><dd>-0.641123531289685</dd><dt>CHits</dt><dd>3.16294442513075</dd><dt>CHmRun</dt><dd>3.40052810127095</dd><dt>CRuns</dt><dd>-0.97394054511287</dd><dt>CRBI</dt><dd>-0.600397639660946</dd><dt>CWalks</dt><dd>0.337842206934145</dd><dt>LeagueN</dt><dd>119.143463714458</dd><dt>DivisionW</dt><dd>-144.085306139926</dd><dt>PutOuts</dt><dd>0.197630005419203</dd><dt>Assists</dt><dd>0.680420043718981</dd><dt>Errors</dt><dd>-4.7127879020992</dd><dt>NewLeagueN</dt><dd>-71.0898913709107</dd></dl>\n"
      ],
      "text/latex": [
       "\\begin{description*}\n",
       "\\item[(Intercept)] 274.020099411181\n",
       "\\item[AtBat] -0.352190040359275\n",
       "\\item[Hits] -1.63713831624211\n",
       "\\item[HmRun] 5.81466916444909\n",
       "\\item[Runs] 1.54233614804138\n",
       "\\item[RBI] 1.12418373819325\n",
       "\\item[Walks] 3.72884063254243\n",
       "\\item[Years] -16.3795195276087\n",
       "\\item[CAtBat] -0.641123531289685\n",
       "\\item[CHits] 3.16294442513075\n",
       "\\item[CHmRun] 3.40052810127095\n",
       "\\item[CRuns] -0.97394054511287\n",
       "\\item[CRBI] -0.600397639660946\n",
       "\\item[CWalks] 0.337842206934145\n",
       "\\item[LeagueN] 119.143463714458\n",
       "\\item[DivisionW] -144.085306139926\n",
       "\\item[PutOuts] 0.197630005419203\n",
       "\\item[Assists] 0.680420043718981\n",
       "\\item[Errors] -4.7127879020992\n",
       "\\item[NewLeagueN] -71.0898913709107\n",
       "\\end{description*}\n"
      ],
      "text/markdown": [
       "(Intercept)\n",
       ":   274.020099411181AtBat\n",
       ":   -0.352190040359275Hits\n",
       ":   -1.63713831624211HmRun\n",
       ":   5.81466916444909Runs\n",
       ":   1.54233614804138RBI\n",
       ":   1.12418373819325Walks\n",
       ":   3.72884063254243Years\n",
       ":   -16.3795195276087CAtBat\n",
       ":   -0.641123531289685CHits\n",
       ":   3.16294442513075CHmRun\n",
       ":   3.40052810127095CRuns\n",
       ":   -0.97394054511287CRBI\n",
       ":   -0.600397639660946CWalks\n",
       ":   0.337842206934145LeagueN\n",
       ":   119.143463714458DivisionW\n",
       ":   -144.085306139926PutOuts\n",
       ":   0.197630005419203Assists\n",
       ":   0.680420043718981Errors\n",
       ":   -4.7127879020992NewLeagueN\n",
       ":   -71.0898913709107\n",
       "\n"
      ],
      "text/plain": [
       " (Intercept)        AtBat         Hits        HmRun         Runs          RBI \n",
       " 274.0200994   -0.3521900   -1.6371383    5.8146692    1.5423361    1.1241837 \n",
       "       Walks        Years       CAtBat        CHits       CHmRun        CRuns \n",
       "   3.7288406  -16.3795195   -0.6411235    3.1629444    3.4005281   -0.9739405 \n",
       "        CRBI       CWalks      LeagueN    DivisionW      PutOuts      Assists \n",
       "  -0.6003976    0.3378422  119.1434637 -144.0853061    0.1976300    0.6804200 \n",
       "      Errors   NewLeagueN \n",
       "  -4.7127879  -71.0898914 "
      ]
     },
     "metadata": {},
     "output_type": "display_data"
    }
   ],
   "source": [
    "lm(y~x, subset = train)\n",
    "predict(ridge.mod, s = 0, exact = T, type = \"coefficients\", x = x[train,], y = y[train])[1:20,]"
   ]
  },
  {
   "cell_type": "markdown",
   "id": "18998861-8143-497b-ad69-a54e54a11bdb",
   "metadata": {},
   "source": [
    "In genral, if we want to fit a (unpenalized) least squares model, then we should use the `lm()` function, since that function provides more useful outputs, such as standard errors and p-values for the coefficients.  \n",
    "\n",
    "In general, instead of arbitrarily choosing $\\lambda=4$, it would be better to use cross-valiation to choose the tuning paramter $\\lambda$. We can do this using the built-in cross-validation function, `cv.glmnet()`. By default, the function perform ten-fold cross-validation, though this can be changed using the argument `nfolds`. Note that we set a random seed first so our results will be reproducible, since the choice of the cross-valiation folds is random."
   ]
  },
  {
   "cell_type": "code",
   "execution_count": 18,
   "id": "103eb061-5077-4042-9c60-e5615703047d",
   "metadata": {},
   "outputs": [
    {
     "data": {
      "text/html": [
       "326.082786511725"
      ],
      "text/latex": [
       "326.082786511725"
      ],
      "text/markdown": [
       "326.082786511725"
      ],
      "text/plain": [
       "[1] 326.0828"
      ]
     },
     "metadata": {},
     "output_type": "display_data"
    },
    {
     "data": {
      "image/png": "[encoded data removed]",
      "text/plain": [
       "plot without title"
      ]
     },
     "metadata": {
      "image/png": {
       "height": 420,
       "width": 420
      }
     },
     "output_type": "display_data"
    }
   ],
   "source": [
    "set.seed(1)\n",
    "cv.out <- cv.glmnet(x[train,], y[train], alpha = 0)\n",
    "plot(cv.out)\n",
    "bestlam <- cv.out$lambda.min\n",
    "bestlam"
   ]
  },
  {
   "cell_type": "markdown",
   "id": "51222758-a3ab-4997-aa13-7866e9207780",
   "metadata": {},
   "source": [
    "Therefore, we see that the value of $\\lambda$ that results in the smallest cross-validation error is $326$. What is the test MSE associated with this value of $\\lambda$?"
   ]
  },
  {
   "cell_type": "code",
   "execution_count": 19,
   "id": "8dbc33c0-9c75-41d1-ad64-b4a09639b49f",
   "metadata": {},
   "outputs": [
    {
     "data": {
      "text/html": [
       "139856.643477362"
      ],
      "text/latex": [
       "139856.643477362"
      ],
      "text/markdown": [
       "139856.643477362"
      ],
      "text/plain": [
       "[1] 139856.6"
      ]
     },
     "metadata": {},
     "output_type": "display_data"
    }
   ],
   "source": [
    "ridge.pred <- predict(ridge.mod, s = bestlam, newx = x[test,])\n",
    "mean((ridge.pred - y.test)^2)"
   ]
  },
  {
   "cell_type": "markdown",
   "id": "5a842368-2ada-48bf-bebc-23ee46402b49",
   "metadata": {},
   "source": [
    "This represents a further improvement over the test MSE that we got using $\\lambda=4$. Finally, we refit our ridge regression model on the full data set, using the value $\\lambda$ chosen by cross-validation, and examine the coefficient estimates."
   ]
  },
  {
   "cell_type": "code",
   "execution_count": 20,
   "id": "415f27d7-7c13-4401-8878-9d21c0ca10d0",
   "metadata": {},
   "outputs": [
    {
     "data": {
      "text/html": [
       "<style>\n",
       ".dl-inline {width: auto; margin:0; padding: 0}\n",
       ".dl-inline>dt, .dl-inline>dd {float: none; width: auto; display: inline-block}\n",
       ".dl-inline>dt::after {content: \":\\0020\"; padding-right: .5ex}\n",
       ".dl-inline>dt:not(:first-of-type) {padding-left: .5ex}\n",
       "</style><dl class=dl-inline><dt>(Intercept)</dt><dd>15.443831197812</dd><dt>AtBat</dt><dd>0.0771554743847953</dd><dt>Hits</dt><dd>0.859115815939879</dd><dt>HmRun</dt><dd>0.601031063576297</dd><dt>Runs</dt><dd>1.06369006736739</dd><dt>RBI</dt><dd>0.879361053371413</dd><dt>Walks</dt><dd>1.62444616530649</dd><dt>Years</dt><dd>1.35254778033279</dd><dt>CAtBat</dt><dd>0.0113499915103999</dd><dt>CHits</dt><dd>0.0574665440609397</dd><dt>CHmRun</dt><dd>0.406801567085269</dd><dt>CRuns</dt><dd>0.114562244498519</dd><dt>CRBI</dt><dd>0.121165038074432</dd><dt>CWalks</dt><dd>0.0529920196388892</dd><dt>LeagueN</dt><dd>22.091431966137</dd><dt>DivisionW</dt><dd>-79.0403265601878</dd><dt>PutOuts</dt><dd>0.166199027863528</dd><dt>Assists</dt><dd>0.0294194958898915</dd><dt>Errors</dt><dd>-1.36092945499973</dd><dt>NewLeagueN</dt><dd>9.12487765463168</dd></dl>\n"
      ],
      "text/latex": [
       "\\begin{description*}\n",
       "\\item[(Intercept)] 15.443831197812\n",
       "\\item[AtBat] 0.0771554743847953\n",
       "\\item[Hits] 0.859115815939879\n",
       "\\item[HmRun] 0.601031063576297\n",
       "\\item[Runs] 1.06369006736739\n",
       "\\item[RBI] 0.879361053371413\n",
       "\\item[Walks] 1.62444616530649\n",
       "\\item[Years] 1.35254778033279\n",
       "\\item[CAtBat] 0.0113499915103999\n",
       "\\item[CHits] 0.0574665440609397\n",
       "\\item[CHmRun] 0.406801567085269\n",
       "\\item[CRuns] 0.114562244498519\n",
       "\\item[CRBI] 0.121165038074432\n",
       "\\item[CWalks] 0.0529920196388892\n",
       "\\item[LeagueN] 22.091431966137\n",
       "\\item[DivisionW] -79.0403265601878\n",
       "\\item[PutOuts] 0.166199027863528\n",
       "\\item[Assists] 0.0294194958898915\n",
       "\\item[Errors] -1.36092945499973\n",
       "\\item[NewLeagueN] 9.12487765463168\n",
       "\\end{description*}\n"
      ],
      "text/markdown": [
       "(Intercept)\n",
       ":   15.443831197812AtBat\n",
       ":   0.0771554743847953Hits\n",
       ":   0.859115815939879HmRun\n",
       ":   0.601031063576297Runs\n",
       ":   1.06369006736739RBI\n",
       ":   0.879361053371413Walks\n",
       ":   1.62444616530649Years\n",
       ":   1.35254778033279CAtBat\n",
       ":   0.0113499915103999CHits\n",
       ":   0.0574665440609397CHmRun\n",
       ":   0.406801567085269CRuns\n",
       ":   0.114562244498519CRBI\n",
       ":   0.121165038074432CWalks\n",
       ":   0.0529920196388892LeagueN\n",
       ":   22.091431966137DivisionW\n",
       ":   -79.0403265601878PutOuts\n",
       ":   0.166199027863528Assists\n",
       ":   0.0294194958898915Errors\n",
       ":   -1.36092945499973NewLeagueN\n",
       ":   9.12487765463168\n",
       "\n"
      ],
      "text/plain": [
       " (Intercept)        AtBat         Hits        HmRun         Runs          RBI \n",
       " 15.44383120   0.07715547   0.85911582   0.60103106   1.06369007   0.87936105 \n",
       "       Walks        Years       CAtBat        CHits       CHmRun        CRuns \n",
       "  1.62444617   1.35254778   0.01134999   0.05746654   0.40680157   0.11456224 \n",
       "        CRBI       CWalks      LeagueN    DivisionW      PutOuts      Assists \n",
       "  0.12116504   0.05299202  22.09143197 -79.04032656   0.16619903   0.02941950 \n",
       "      Errors   NewLeagueN \n",
       " -1.36092945   9.12487765 "
      ]
     },
     "metadata": {},
     "output_type": "display_data"
    }
   ],
   "source": [
    "out <- glmnet(x, y, alpha = 0)\n",
    "predict(out, type = \"coefficients\", s = bestlam)[1:20,]"
   ]
  },
  {
   "cell_type": "markdown",
   "id": "1fb143d4-12ed-4af6-9bff-315add152394",
   "metadata": {},
   "source": [
    "As expected, none of the coefficients are zero&mdash;ridge regression does not perform variable selection!"
   ]
  },
  {
   "cell_type": "markdown",
   "id": "a85555b7-233a-4bf1-8375-e9e63e983ee4",
   "metadata": {},
   "source": [
    "## The Lasso\n",
    "We saw that ridge regression with a wise choice of $\\lambda$ can outperform least squares as well as the null model on the `Hitters` data set. We now ask whether the lasso can yield either a more accurate or a more interpretable model than ridge regression. In order to fit a lasso model, we once again use the `glmnet()` function; however, this time we use the argument `alpha=1`. Other than that change, we proceed just as we did in fitting a ridge model."
   ]
  },
  {
   "cell_type": "code",
   "execution_count": 21,
   "id": "767494ce-6629-4634-8e5d-bb076d5fa06e",
   "metadata": {},
   "outputs": [
    {
     "name": "stderr",
     "output_type": "stream",
     "text": [
      "Warning message in regularize.values(x, y, ties, missing(ties), na.rm = na.rm):\n",
      "“collapsing to unique 'x' values”\n"
     ]
    },
    {
     "data": {
      "image/png": "[encoded data removed]",
      "text/plain": [
       "plot without title"
      ]
     },
     "metadata": {
      "image/png": {
       "height": 420,
       "width": 420
      }
     },
     "output_type": "display_data"
    }
   ],
   "source": [
    "lasso.mod <- glmnet(x[train,], y[train], alpha = 1, lambda = grid)\n",
    "plot(lasso.mod)"
   ]
  },
  {
   "cell_type": "markdown",
   "id": "bb6108cb-43ee-4f03-8945-2513a2a54387",
   "metadata": {},
   "source": [
    "We can see from the coefficient plot that depending on the choice of tuning paramter, some of the coefficients will be exactly equal to zero. We now perform cross-validation and compute the associated test error."
   ]
  },
  {
   "cell_type": "code",
   "execution_count": 22,
   "id": "3366ee09-495f-4028-82bc-acf6ad0619ff",
   "metadata": {},
   "outputs": [
    {
     "data": {
      "image/png": "[encoded data removed]",
      "text/plain": [
       "plot without title"
      ]
     },
     "metadata": {
      "image/png": {
       "height": 420,
       "width": 420
      }
     },
     "output_type": "display_data"
    }
   ],
   "source": [
    "set.seed(1)\n",
    "cv.out <- cv.glmnet(x[train,], y[train], alpha = 1)\n",
    "plot(cv.out)"
   ]
  },
  {
   "cell_type": "code",
   "execution_count": 23,
   "id": "363f14fe-c513-4bda-a902-11d1cce7ff92",
   "metadata": {},
   "outputs": [
    {
     "data": {
      "text/html": [
       "143673.618543046"
      ],
      "text/latex": [
       "143673.618543046"
      ],
      "text/markdown": [
       "143673.618543046"
      ],
      "text/plain": [
       "[1] 143673.6"
      ]
     },
     "metadata": {},
     "output_type": "display_data"
    }
   ],
   "source": [
    "bestlam <- cv.out$lambda.min\n",
    "lasso.pred <- predict(lasso.mod, s = bestlam, newx = x[test,])\n",
    "mean((lasso.pred - y.test)^2)"
   ]
  },
  {
   "cell_type": "markdown",
   "id": "b534e9e5-d7c9-4c87-91be-736e78415e39",
   "metadata": {},
   "source": [
    "This is substantially lower than the test set MSE of the null model and of least squares, and very similar to the test MSE of ridge regression with $\\lambda$ chosen by cross-validation.  \n",
    "\n",
    "However, the lasso has a substantial advantage over ridge regression in that the resulting coefficient estimates are sparse. Here we see that $8$ of the $19$ coefficient estimates are exactly zero. So the lasso model with $\\lambda$ chosen by cross-validation contains only eleven variables."
   ]
  },
  {
   "cell_type": "code",
   "execution_count": 24,
   "id": "3a72d6b3-c80c-48f2-8959-3ca75745c353",
   "metadata": {},
   "outputs": [
    {
     "data": {
      "text/html": [
       "<style>\n",
       ".dl-inline {width: auto; margin:0; padding: 0}\n",
       ".dl-inline>dt, .dl-inline>dd {float: none; width: auto; display: inline-block}\n",
       ".dl-inline>dt::after {content: \":\\0020\"; padding-right: .5ex}\n",
       ".dl-inline>dt:not(:first-of-type) {padding-left: .5ex}\n",
       "</style><dl class=dl-inline><dt>(Intercept)</dt><dd>1.27479059110101</dd><dt>AtBat</dt><dd>-0.0549714273315139</dd><dt>Hits</dt><dd>2.18034583361293</dd><dt>HmRun</dt><dd>0</dd><dt>Runs</dt><dd>0</dd><dt>RBI</dt><dd>0</dd><dt>Walks</dt><dd>2.29192406458188</dd><dt>Years</dt><dd>-0.338061091665017</dd><dt>CAtBat</dt><dd>0</dd><dt>CHits</dt><dd>0</dd><dt>CHmRun</dt><dd>0.0282501287940404</dd><dt>CRuns</dt><dd>0.216283849067602</dd><dt>CRBI</dt><dd>0.41712536764542</dd><dt>CWalks</dt><dd>0</dd><dt>LeagueN</dt><dd>20.2861502310741</dd><dt>DivisionW</dt><dd>-116.167558696372</dd><dt>PutOuts</dt><dd>0.237523845868754</dd><dt>Assists</dt><dd>0</dd><dt>Errors</dt><dd>-0.856291484604434</dd><dt>NewLeagueN</dt><dd>0</dd></dl>\n"
      ],
      "text/latex": [
       "\\begin{description*}\n",
       "\\item[(Intercept)] 1.27479059110101\n",
       "\\item[AtBat] -0.0549714273315139\n",
       "\\item[Hits] 2.18034583361293\n",
       "\\item[HmRun] 0\n",
       "\\item[Runs] 0\n",
       "\\item[RBI] 0\n",
       "\\item[Walks] 2.29192406458188\n",
       "\\item[Years] -0.338061091665017\n",
       "\\item[CAtBat] 0\n",
       "\\item[CHits] 0\n",
       "\\item[CHmRun] 0.0282501287940404\n",
       "\\item[CRuns] 0.216283849067602\n",
       "\\item[CRBI] 0.41712536764542\n",
       "\\item[CWalks] 0\n",
       "\\item[LeagueN] 20.2861502310741\n",
       "\\item[DivisionW] -116.167558696372\n",
       "\\item[PutOuts] 0.237523845868754\n",
       "\\item[Assists] 0\n",
       "\\item[Errors] -0.856291484604434\n",
       "\\item[NewLeagueN] 0\n",
       "\\end{description*}\n"
      ],
      "text/markdown": [
       "(Intercept)\n",
       ":   1.27479059110101AtBat\n",
       ":   -0.0549714273315139Hits\n",
       ":   2.18034583361293HmRun\n",
       ":   0Runs\n",
       ":   0RBI\n",
       ":   0Walks\n",
       ":   2.29192406458188Years\n",
       ":   -0.338061091665017CAtBat\n",
       ":   0CHits\n",
       ":   0CHmRun\n",
       ":   0.0282501287940404CRuns\n",
       ":   0.216283849067602CRBI\n",
       ":   0.41712536764542CWalks\n",
       ":   0LeagueN\n",
       ":   20.2861502310741DivisionW\n",
       ":   -116.167558696372PutOuts\n",
       ":   0.237523845868754Assists\n",
       ":   0Errors\n",
       ":   -0.856291484604434NewLeagueN\n",
       ":   0\n",
       "\n"
      ],
      "text/plain": [
       "  (Intercept)         AtBat          Hits         HmRun          Runs \n",
       "   1.27479059   -0.05497143    2.18034583    0.00000000    0.00000000 \n",
       "          RBI         Walks         Years        CAtBat         CHits \n",
       "   0.00000000    2.29192406   -0.33806109    0.00000000    0.00000000 \n",
       "       CHmRun         CRuns          CRBI        CWalks       LeagueN \n",
       "   0.02825013    0.21628385    0.41712537    0.00000000   20.28615023 \n",
       "    DivisionW       PutOuts       Assists        Errors    NewLeagueN \n",
       "-116.16755870    0.23752385    0.00000000   -0.85629148    0.00000000 "
      ]
     },
     "metadata": {},
     "output_type": "display_data"
    }
   ],
   "source": [
    "out <- glmnet(x, y, alpha = 1, lambda = grid)\n",
    "lasso.coef <- predict(out, type = \"coefficients\", s = bestlam)[1:20,]\n",
    "lasso.coef"
   ]
  }
 ],
 "metadata": {
  "kernelspec": {
   "display_name": "R",
   "language": "R",
   "name": "ir"
  },
  "language_info": {
   "codemirror_mode": "r",
   "file_extension": ".r",
   "mimetype": "text/x-r-source",
   "name": "R",
   "pygments_lexer": "r",
   "version": "4.3.1"
  }
 },
 "nbformat": 4,
 "nbformat_minor": 5
}
